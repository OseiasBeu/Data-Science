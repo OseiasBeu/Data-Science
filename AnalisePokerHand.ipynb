{
  "nbformat": 4,
  "nbformat_minor": 0,
  "metadata": {
    "kernelspec": {
      "display_name": "Python 3.7.6 64-bit",
      "language": "python",
      "name": "python37664bit2226418ad3cb416fabee7c0de69e3ef1"
    },
    "language_info": {
      "codemirror_mode": {
        "name": "ipython",
        "version": 3
      },
      "file_extension": ".py",
      "mimetype": "text/x-python",
      "name": "python",
      "nbconvert_exporter": "python",
      "pygments_lexer": "ipython3",
      "version": "3.7.7"
    },
    "colab": {
      "name": "AnalisePokerHand.ipynb",
      "provenance": [],
      "collapsed_sections": [],
      "include_colab_link": true
    }
  },
  "cells": [
    {
      "cell_type": "markdown",
      "metadata": {
        "id": "view-in-github",
        "colab_type": "text"
      },
      "source": [
        "<a href=\"https://colab.research.google.com/github/OseiasBeu/Data-Science/blob/master/AnalisePokerHand.ipynb\" target=\"_parent\"><img src=\"https://colab.research.google.com/assets/colab-badge.svg\" alt=\"Open In Colab\"/></a>"
      ]
    },
    {
      "cell_type": "markdown",
      "metadata": {
        "id": "PTDFtI0R_6Xp",
        "colab_type": "text"
      },
      "source": [
        "# **Analisando Mãos de Poker**\n",
        "![alt text](https://img.over-blog-kiwi.com/3/25/18/80/20190718/ob_1064c9_texas-web-banner.png)"
      ]
    },
    {
      "cell_type": "markdown",
      "metadata": {
        "id": "zw2HOw15-NGc",
        "colab_type": "text"
      },
      "source": [
        "---------------------------------------------------------------------------------------\n",
        "### Informações do conjunto de dados:\n",
        "---------------------------------------------------------------------------------------\n",
        "\n",
        "Cada registro é um exemplo de uma mão composta por cinco cartas de baralho retiradas de um baralho padrão de 52. Cada carta é descrita usando dois atributos (naipe e patente), para um total de 10 atributos preditivos(***mãos do poker***). Há um atributo de classe que descreve a \"mão de pôquer\". A ordem das cartas é importante, e é por isso que existem 480 mãos Royal Flush possíveis em comparação com 4.\n",
        "\n",
        "---------------------------------------------------------------------------------------"
      ]
    },
    {
      "cell_type": "markdown",
      "metadata": {
        "id": "aE8GR3yS-NGc",
        "colab_type": "text"
      },
      "source": [
        "---------------------------------------------------------------------------------------\n",
        "### Informações sobre atributos:\n",
        "---------------------------------------------------------------------------------------\n",
        "\n",
        "|   ID   |      Descrição do ID      |                       Descrição da Posição                      |\n",
        "|:------:|:-------------------------:|:---------------------------------------------------------------:|\n",
        "| S1     | \"Naipe da carta nº 1\"     | Ordinal (1-4) representando {Copas, espadas, diamantes, clubes} |\n",
        "| C1     | \"Posição da carta nº 1\"   | Numérica (1-13) representando (Ás, 2, 3, ..., Rainha, Rei)      |\n",
        "| S2     | \"Naipe da carta nº 2\"     | Ordinal (1-4) representando {Copas, espadas, diamantes, clubes} |\n",
        "| C2     | \"Posição da carta nº 2\"   | Numérica (1-13) representando (Ás, 2, 3, ..., rainha, rei)      |\n",
        "| S3     | \"Naipe da carta nº 3\"     | Ordinal (1-4) representando {Copas, espadas, diamantes, clubes} |\n",
        "| C3     | \"Posição da carta nº 3\"   | Numérico (1-13) representando (Ás, 2, 3, ..., Rainha, Rei)      |\n",
        "| S4     | \"Naipe da carta nº 4\"     | Ordinal (1-4) representando {Copas, Espadas, Diamantes, Clubes} |\n",
        "| C4     | \"Posição do cartão nº 4\"  | Numérico (1-13) representando (Ás, 2, 3, ..., Rainha, Rei)      |\n",
        "| S5     | \"Naipe da carta nº 5\"     | Ordinal (1-4) representando {Copas, Espadas, Diamantes, Paus}   |\n",
        "| C5     | \"Posição da carta nº 5\"   | Numérica (1-13) representando (Ás, 2, 3, ..., Rainha, Rei)      |\n",
        "| CLASSE | CLASSE \"Mão de Pôquer\"    | Ordinal (0-9)                                                   |\n",
        "|        |                           |                                                                 |\n",
        "\n",
        "\n",
        "---------------------------------------------------------------------------------------"
      ]
    },
    {
      "cell_type": "markdown",
      "metadata": {
        "id": "JMY7wsWW-NGd",
        "colab_type": "text"
      },
      "source": [
        "---------------------------------------------------------------------------------------\n",
        "### Classes de mãos no poker:\n",
        "---------------------------------------------------------------------------------------\n",
        "\n",
        "O que é uma ***mão de pôquer***? No pôquer, os jogadores estruturam conjuntos de cinco cartas, chamadas mãos, de acordo com os princípios do jogo. Cada mão tem uma posição, que é vista contra as posições de mãos diferentes, interessando-se pelo impasse para escolher quem ganha o pote."
      ]
    },
    {
      "cell_type": "markdown",
      "metadata": {
        "id": "YHl9JfMQ-NGd",
        "colab_type": "text"
      },
      "source": [
        "---------------------------------------------------------------------------------------\n",
        "### Descrição das classes de mãos:\n",
        "---------------------------------------------------------------------------------------\n",
        "\n",
        "\n",
        "\n",
        "| ID da Mão |   Nome da Mão   |                     Descrição da mão                    |   |   |\n",
        "|:---------:|:---------------:|:-------------------------------------------------------:|---|---|\n",
        "| 0         | Nothing in hand | Não é uma mão de pôquer reconhecida                     |   |   |\n",
        "| 1         | One pair        | Um par de classificações iguais em cinco cartas         |   |   |\n",
        "| 2         | Two pairs       | Dois pares de classificações iguais em cinco cartas     |   |   |\n",
        "| 3         | Three of a kind | Três filas iguais em cinco cartas                       |   |   |\n",
        "| 4         | Straight        | Cinco cartas, seqüencialmente classificadas sem lacunas |   |   |\n",
        "| 5         | Flush           | Cinco cartas do mesmo naipe                             |   |   |\n",
        "| 6         | Full house      | Par + classificação diferente três do mesmo tipo        |   |   |\n",
        "| 7         | Four of a kind  | Quatro posições iguais em cinco cartas                  |   |   |\n",
        "| 8         | Straight flush  | Straight + flush                                        |   |   |\n",
        "| 9         | Royal flush     | {Ás, Rei, Dama, Valete, Dez} + flush                    |   |   |\n",
        "|           |                 |                                                         |   |   |\n",
        "\n",
        "\n",
        "---------------------------------------------------------------------------------------"
      ]
    },
    {
      "cell_type": "code",
      "metadata": {
        "id": "wWcgNZaw-NGe",
        "colab_type": "code",
        "colab": {}
      },
      "source": [
        "import pandas as pd \n",
        "import matplotlib.pyplot as plt\n",
        "import math"
      ],
      "execution_count": 0,
      "outputs": []
    },
    {
      "cell_type": "code",
      "metadata": {
        "id": "K3rQTI1X-NGg",
        "colab_type": "code",
        "outputId": "ff178142-8a71-4ce5-d782-88f21f52812a",
        "colab": {
          "base_uri": "https://localhost:8080/",
          "height": 221
        }
      },
      "source": [
        "data_train=pd.read_csv('/content/poker-hand-training-true.data',header=None)\n",
        "data_test = pd.read_csv('/content/poker-hand-testing.data',header=None)\n",
        "# data_class = pd.read_csv('/home/oseiasbeu/Documents/MBA_PYTHON/TrabalhoFinal/Poker/tabelaDeClassificacao.csv',delimiter=';')\n",
        "col=['Suit of card #1','Rank of card #1','Suit of card #2','Rank of card #2','Suit of card #3','Rank of card #3','Suit of card #4','Rank of card #4','Suit of card #5','Rank of card 5','Poker Hand']\n",
        "data_train.columns=col\n",
        "data_test.columns=col\n",
        "data_test.head()"
      ],
      "execution_count": 9,
      "outputs": [
        {
          "output_type": "execute_result",
          "data": {
            "text/html": [
              "<div>\n",
              "<style scoped>\n",
              "    .dataframe tbody tr th:only-of-type {\n",
              "        vertical-align: middle;\n",
              "    }\n",
              "\n",
              "    .dataframe tbody tr th {\n",
              "        vertical-align: top;\n",
              "    }\n",
              "\n",
              "    .dataframe thead th {\n",
              "        text-align: right;\n",
              "    }\n",
              "</style>\n",
              "<table border=\"1\" class=\"dataframe\">\n",
              "  <thead>\n",
              "    <tr style=\"text-align: right;\">\n",
              "      <th></th>\n",
              "      <th>Suit of card #1</th>\n",
              "      <th>Rank of card #1</th>\n",
              "      <th>Suit of card #2</th>\n",
              "      <th>Rank of card #2</th>\n",
              "      <th>Suit of card #3</th>\n",
              "      <th>Rank of card #3</th>\n",
              "      <th>Suit of card #4</th>\n",
              "      <th>Rank of card #4</th>\n",
              "      <th>Suit of card #5</th>\n",
              "      <th>Rank of card 5</th>\n",
              "      <th>Poker Hand</th>\n",
              "    </tr>\n",
              "  </thead>\n",
              "  <tbody>\n",
              "    <tr>\n",
              "      <th>0</th>\n",
              "      <td>1</td>\n",
              "      <td>1</td>\n",
              "      <td>1</td>\n",
              "      <td>13</td>\n",
              "      <td>2</td>\n",
              "      <td>4</td>\n",
              "      <td>2</td>\n",
              "      <td>3</td>\n",
              "      <td>1</td>\n",
              "      <td>12</td>\n",
              "      <td>0</td>\n",
              "    </tr>\n",
              "    <tr>\n",
              "      <th>1</th>\n",
              "      <td>3</td>\n",
              "      <td>12</td>\n",
              "      <td>3</td>\n",
              "      <td>2</td>\n",
              "      <td>3</td>\n",
              "      <td>11</td>\n",
              "      <td>4</td>\n",
              "      <td>5</td>\n",
              "      <td>2</td>\n",
              "      <td>5</td>\n",
              "      <td>1</td>\n",
              "    </tr>\n",
              "    <tr>\n",
              "      <th>2</th>\n",
              "      <td>1</td>\n",
              "      <td>9</td>\n",
              "      <td>4</td>\n",
              "      <td>6</td>\n",
              "      <td>1</td>\n",
              "      <td>4</td>\n",
              "      <td>3</td>\n",
              "      <td>2</td>\n",
              "      <td>3</td>\n",
              "      <td>9</td>\n",
              "      <td>1</td>\n",
              "    </tr>\n",
              "    <tr>\n",
              "      <th>3</th>\n",
              "      <td>1</td>\n",
              "      <td>4</td>\n",
              "      <td>3</td>\n",
              "      <td>13</td>\n",
              "      <td>2</td>\n",
              "      <td>13</td>\n",
              "      <td>2</td>\n",
              "      <td>1</td>\n",
              "      <td>3</td>\n",
              "      <td>6</td>\n",
              "      <td>1</td>\n",
              "    </tr>\n",
              "    <tr>\n",
              "      <th>4</th>\n",
              "      <td>3</td>\n",
              "      <td>10</td>\n",
              "      <td>2</td>\n",
              "      <td>7</td>\n",
              "      <td>1</td>\n",
              "      <td>2</td>\n",
              "      <td>2</td>\n",
              "      <td>11</td>\n",
              "      <td>4</td>\n",
              "      <td>9</td>\n",
              "      <td>0</td>\n",
              "    </tr>\n",
              "  </tbody>\n",
              "</table>\n",
              "</div>"
            ],
            "text/plain": [
              "   Suit of card #1  Rank of card #1  ...  Rank of card 5  Poker Hand\n",
              "0                1                1  ...              12           0\n",
              "1                3               12  ...               5           1\n",
              "2                1                9  ...               9           1\n",
              "3                1                4  ...               6           1\n",
              "4                3               10  ...               9           0\n",
              "\n",
              "[5 rows x 11 columns]"
            ]
          },
          "metadata": {
            "tags": []
          },
          "execution_count": 9
        }
      ]
    },
    {
      "cell_type": "markdown",
      "metadata": {
        "id": "PVpunqjD-NGj",
        "colab_type": "text"
      },
      "source": [
        "#### Verificando quantas linhas e colunas nosso dataset possui:"
      ]
    },
    {
      "cell_type": "code",
      "metadata": {
        "id": "2Wny1UGH-NGk",
        "colab_type": "code",
        "outputId": "ba9a43e0-2a65-4ddf-ae74-195ae48819bc",
        "colab": {
          "base_uri": "https://localhost:8080/",
          "height": 34
        }
      },
      "source": [
        "data_test.shape"
      ],
      "execution_count": 10,
      "outputs": [
        {
          "output_type": "execute_result",
          "data": {
            "text/plain": [
              "(1000000, 11)"
            ]
          },
          "metadata": {
            "tags": []
          },
          "execution_count": 10
        }
      ]
    },
    {
      "cell_type": "markdown",
      "metadata": {
        "id": "cN98tsCn-NGn",
        "colab_type": "text"
      },
      "source": [
        "#### Extraindo informações sobre o dataset"
      ]
    },
    {
      "cell_type": "code",
      "metadata": {
        "id": "rqALjf9W-NGo",
        "colab_type": "code",
        "outputId": "23710f56-c08d-4ea7-fde3-7bd8e93b3425",
        "colab": {
          "base_uri": "https://localhost:8080/",
          "height": 323
        }
      },
      "source": [
        "data_test.info()"
      ],
      "execution_count": 11,
      "outputs": [
        {
          "output_type": "stream",
          "text": [
            "<class 'pandas.core.frame.DataFrame'>\n",
            "RangeIndex: 1000000 entries, 0 to 999999\n",
            "Data columns (total 11 columns):\n",
            " #   Column           Non-Null Count    Dtype\n",
            "---  ------           --------------    -----\n",
            " 0   Suit of card #1  1000000 non-null  int64\n",
            " 1   Rank of card #1  1000000 non-null  int64\n",
            " 2   Suit of card #2  1000000 non-null  int64\n",
            " 3   Rank of card #2  1000000 non-null  int64\n",
            " 4   Suit of card #3  1000000 non-null  int64\n",
            " 5   Rank of card #3  1000000 non-null  int64\n",
            " 6   Suit of card #4  1000000 non-null  int64\n",
            " 7   Rank of card #4  1000000 non-null  int64\n",
            " 8   Suit of card #5  1000000 non-null  int64\n",
            " 9   Rank of card 5   1000000 non-null  int64\n",
            " 10  Poker Hand       1000000 non-null  int64\n",
            "dtypes: int64(11)\n",
            "memory usage: 83.9 MB\n"
          ],
          "name": "stdout"
        }
      ]
    },
    {
      "cell_type": "markdown",
      "metadata": {
        "id": "PmmhzVsP-NGq",
        "colab_type": "text"
      },
      "source": [
        "#### Informções extraídas: \n",
        "- Temos 1 milhão de linhas;\n",
        "- 11 colunas;\n",
        "- Nenhum valor nulo;\n",
        "- Temos apenas um tipo de dado;"
      ]
    },
    {
      "cell_type": "markdown",
      "metadata": {
        "id": "Gt6dJY8s-NGr",
        "colab_type": "text"
      },
      "source": [
        "#### Estatística Descritiva:"
      ]
    },
    {
      "cell_type": "code",
      "metadata": {
        "id": "ZmHhWaOR-NGr",
        "colab_type": "code",
        "outputId": "539c7936-64e7-4b0f-8378-8d64f378d9af",
        "colab": {
          "base_uri": "https://localhost:8080/",
          "height": 334
        }
      },
      "source": [
        "data_test.describe()"
      ],
      "execution_count": 12,
      "outputs": [
        {
          "output_type": "execute_result",
          "data": {
            "text/html": [
              "<div>\n",
              "<style scoped>\n",
              "    .dataframe tbody tr th:only-of-type {\n",
              "        vertical-align: middle;\n",
              "    }\n",
              "\n",
              "    .dataframe tbody tr th {\n",
              "        vertical-align: top;\n",
              "    }\n",
              "\n",
              "    .dataframe thead th {\n",
              "        text-align: right;\n",
              "    }\n",
              "</style>\n",
              "<table border=\"1\" class=\"dataframe\">\n",
              "  <thead>\n",
              "    <tr style=\"text-align: right;\">\n",
              "      <th></th>\n",
              "      <th>Suit of card #1</th>\n",
              "      <th>Rank of card #1</th>\n",
              "      <th>Suit of card #2</th>\n",
              "      <th>Rank of card #2</th>\n",
              "      <th>Suit of card #3</th>\n",
              "      <th>Rank of card #3</th>\n",
              "      <th>Suit of card #4</th>\n",
              "      <th>Rank of card #4</th>\n",
              "      <th>Suit of card #5</th>\n",
              "      <th>Rank of card 5</th>\n",
              "      <th>Poker Hand</th>\n",
              "    </tr>\n",
              "  </thead>\n",
              "  <tbody>\n",
              "    <tr>\n",
              "      <th>count</th>\n",
              "      <td>1000000.000000</td>\n",
              "      <td>1000000.000000</td>\n",
              "      <td>1000000.000000</td>\n",
              "      <td>1000000.000000</td>\n",
              "      <td>1000000.000000</td>\n",
              "      <td>1000000.000000</td>\n",
              "      <td>1000000.000000</td>\n",
              "      <td>1000000.000000</td>\n",
              "      <td>1000000.000000</td>\n",
              "      <td>1000000.000000</td>\n",
              "      <td>1000000.000000</td>\n",
              "    </tr>\n",
              "    <tr>\n",
              "      <th>mean</th>\n",
              "      <td>2.500493</td>\n",
              "      <td>6.997927</td>\n",
              "      <td>2.499894</td>\n",
              "      <td>7.006097</td>\n",
              "      <td>2.500871</td>\n",
              "      <td>6.998873</td>\n",
              "      <td>2.500393</td>\n",
              "      <td>7.002298</td>\n",
              "      <td>2.499451</td>\n",
              "      <td>6.989481</td>\n",
              "      <td>0.616902</td>\n",
              "    </tr>\n",
              "    <tr>\n",
              "      <th>std</th>\n",
              "      <td>1.117768</td>\n",
              "      <td>3.743374</td>\n",
              "      <td>1.118568</td>\n",
              "      <td>3.743481</td>\n",
              "      <td>1.118225</td>\n",
              "      <td>3.741890</td>\n",
              "      <td>1.117245</td>\n",
              "      <td>3.741270</td>\n",
              "      <td>1.118948</td>\n",
              "      <td>3.739894</td>\n",
              "      <td>0.773377</td>\n",
              "    </tr>\n",
              "    <tr>\n",
              "      <th>min</th>\n",
              "      <td>1.000000</td>\n",
              "      <td>1.000000</td>\n",
              "      <td>1.000000</td>\n",
              "      <td>1.000000</td>\n",
              "      <td>1.000000</td>\n",
              "      <td>1.000000</td>\n",
              "      <td>1.000000</td>\n",
              "      <td>1.000000</td>\n",
              "      <td>1.000000</td>\n",
              "      <td>1.000000</td>\n",
              "      <td>0.000000</td>\n",
              "    </tr>\n",
              "    <tr>\n",
              "      <th>25%</th>\n",
              "      <td>2.000000</td>\n",
              "      <td>4.000000</td>\n",
              "      <td>1.000000</td>\n",
              "      <td>4.000000</td>\n",
              "      <td>1.000000</td>\n",
              "      <td>4.000000</td>\n",
              "      <td>2.000000</td>\n",
              "      <td>4.000000</td>\n",
              "      <td>1.000000</td>\n",
              "      <td>4.000000</td>\n",
              "      <td>0.000000</td>\n",
              "    </tr>\n",
              "    <tr>\n",
              "      <th>50%</th>\n",
              "      <td>3.000000</td>\n",
              "      <td>7.000000</td>\n",
              "      <td>3.000000</td>\n",
              "      <td>7.000000</td>\n",
              "      <td>3.000000</td>\n",
              "      <td>7.000000</td>\n",
              "      <td>3.000000</td>\n",
              "      <td>7.000000</td>\n",
              "      <td>2.000000</td>\n",
              "      <td>7.000000</td>\n",
              "      <td>0.000000</td>\n",
              "    </tr>\n",
              "    <tr>\n",
              "      <th>75%</th>\n",
              "      <td>3.000000</td>\n",
              "      <td>10.000000</td>\n",
              "      <td>4.000000</td>\n",
              "      <td>10.000000</td>\n",
              "      <td>4.000000</td>\n",
              "      <td>10.000000</td>\n",
              "      <td>3.000000</td>\n",
              "      <td>10.000000</td>\n",
              "      <td>4.000000</td>\n",
              "      <td>10.000000</td>\n",
              "      <td>1.000000</td>\n",
              "    </tr>\n",
              "    <tr>\n",
              "      <th>max</th>\n",
              "      <td>4.000000</td>\n",
              "      <td>13.000000</td>\n",
              "      <td>4.000000</td>\n",
              "      <td>13.000000</td>\n",
              "      <td>4.000000</td>\n",
              "      <td>13.000000</td>\n",
              "      <td>4.000000</td>\n",
              "      <td>13.000000</td>\n",
              "      <td>4.000000</td>\n",
              "      <td>13.000000</td>\n",
              "      <td>9.000000</td>\n",
              "    </tr>\n",
              "  </tbody>\n",
              "</table>\n",
              "</div>"
            ],
            "text/plain": [
              "       Suit of card #1  Rank of card #1  ...  Rank of card 5      Poker Hand\n",
              "count   1000000.000000   1000000.000000  ...  1000000.000000  1000000.000000\n",
              "mean          2.500493         6.997927  ...        6.989481        0.616902\n",
              "std           1.117768         3.743374  ...        3.739894        0.773377\n",
              "min           1.000000         1.000000  ...        1.000000        0.000000\n",
              "25%           2.000000         4.000000  ...        4.000000        0.000000\n",
              "50%           3.000000         7.000000  ...        7.000000        0.000000\n",
              "75%           3.000000        10.000000  ...       10.000000        1.000000\n",
              "max           4.000000        13.000000  ...       13.000000        9.000000\n",
              "\n",
              "[8 rows x 11 columns]"
            ]
          },
          "metadata": {
            "tags": []
          },
          "execution_count": 12
        }
      ]
    },
    {
      "cell_type": "markdown",
      "metadata": {
        "id": "gB2oQYN6-NGu",
        "colab_type": "text"
      },
      "source": [
        "##### Média de mãos:"
      ]
    },
    {
      "cell_type": "code",
      "metadata": {
        "id": "eleryq9v-NGv",
        "colab_type": "code",
        "outputId": "2032cb15-b324-4e32-dc0f-b6abe14399d9",
        "colab": {
          "base_uri": "https://localhost:8080/",
          "height": 34
        }
      },
      "source": [
        "data_test['Poker Hand'].mean()"
      ],
      "execution_count": 13,
      "outputs": [
        {
          "output_type": "execute_result",
          "data": {
            "text/plain": [
              "0.616902"
            ]
          },
          "metadata": {
            "tags": []
          },
          "execution_count": 13
        }
      ]
    },
    {
      "cell_type": "markdown",
      "metadata": {
        "id": "Y1MeVhgj-NGx",
        "colab_type": "text"
      },
      "source": [
        "##### Mediana de Mãos: "
      ]
    },
    {
      "cell_type": "code",
      "metadata": {
        "id": "lEhPil2S-NGx",
        "colab_type": "code",
        "outputId": "1ef3f587-9887-4a31-cca2-b5119e9eea01",
        "colab": {
          "base_uri": "https://localhost:8080/",
          "height": 34
        }
      },
      "source": [
        "data_test['Poker Hand'].median() "
      ],
      "execution_count": 14,
      "outputs": [
        {
          "output_type": "execute_result",
          "data": {
            "text/plain": [
              "0.0"
            ]
          },
          "metadata": {
            "tags": []
          },
          "execution_count": 14
        }
      ]
    },
    {
      "cell_type": "markdown",
      "metadata": {
        "id": "VqIL3Ska-NG0",
        "colab_type": "text"
      },
      "source": [
        "##### Moda:"
      ]
    },
    {
      "cell_type": "code",
      "metadata": {
        "id": "LwaUGB7w-NG0",
        "colab_type": "code",
        "outputId": "f905e71d-2284-4060-caf2-eb74018a41e9",
        "colab": {
          "base_uri": "https://localhost:8080/",
          "height": 51
        }
      },
      "source": [
        "data_test['Poker Hand'].mode() "
      ],
      "execution_count": 15,
      "outputs": [
        {
          "output_type": "execute_result",
          "data": {
            "text/plain": [
              "0    0\n",
              "dtype: int64"
            ]
          },
          "metadata": {
            "tags": []
          },
          "execution_count": 15
        }
      ]
    },
    {
      "cell_type": "markdown",
      "metadata": {
        "id": "obIlkgqE-NG3",
        "colab_type": "text"
      },
      "source": [
        "O a mediada e a moda da classificação de jogadas é zero, significa que em ***1 milhão de rodadas*** a mão que mais sai é a mais fraca (0 = Nada na mão)"
      ]
    },
    {
      "cell_type": "markdown",
      "metadata": {
        "id": "ymvc0SUX-NG3",
        "colab_type": "text"
      },
      "source": [
        "##### Variância e desvio Padrão:"
      ]
    },
    {
      "cell_type": "code",
      "metadata": {
        "id": "Ck1nIccR-NG4",
        "colab_type": "code",
        "outputId": "5b66dcd3-e610-4dde-fff6-55ba0c1b8747",
        "colab": {
          "base_uri": "https://localhost:8080/",
          "height": 51
        }
      },
      "source": [
        "print(data_test['Poker Hand'].var())\n",
        "print(data_test['Poker Hand'].std())"
      ],
      "execution_count": 16,
      "outputs": [
        {
          "output_type": "stream",
          "text": [
            "0.598112520505389\n",
            "0.7733773467754205\n"
          ],
          "name": "stdout"
        }
      ]
    },
    {
      "cell_type": "markdown",
      "metadata": {
        "id": "qMCikUU5-NG6",
        "colab_type": "text"
      },
      "source": [
        "O desvio padrão ***não*** está longe de zero, o que significa que em ***1 milhão de rodadas*** as chances de tirar uma mão maior são pequenas."
      ]
    },
    {
      "cell_type": "code",
      "metadata": {
        "id": "RC1nVs-6Ac75",
        "colab_type": "code",
        "colab": {
          "base_uri": "https://localhost:8080/",
          "height": 296
        },
        "outputId": "8d9ee88d-cfa2-4e90-c646-45211f6ff1d1"
      },
      "source": [
        "# data_test['Poker Hand'].groupby()skew().plot(kind=\"bar\")\n",
        "data_test.groupby(['Poker Hand']).skew().plot()"
      ],
      "execution_count": 45,
      "outputs": [
        {
          "output_type": "execute_result",
          "data": {
            "text/plain": [
              "<matplotlib.axes._subplots.AxesSubplot at 0x7f5ab292d4e0>"
            ]
          },
          "metadata": {
            "tags": []
          },
          "execution_count": 45
        },
        {
          "output_type": "display_data",
          "data": {
            "image/png": "[encoded data removed]",
            "text/plain": [
              "<Figure size 432x288 with 1 Axes>"
            ]
          },
          "metadata": {
            "tags": [],
            "needs_background": "light"
          }
        }
      ]
    },
    {
      "cell_type": "markdown",
      "metadata": {
        "id": "P7_3JESRCLAM",
        "colab_type": "text"
      },
      "source": [
        "Com valores acima de zero podemos dizer que existe uma assimetria positiva."
      ]
    },
    {
      "cell_type": "markdown",
      "metadata": {
        "id": "5eGFXJ6--NG6",
        "colab_type": "text"
      },
      "source": [
        "#### Verificando a Tabela de classificação:"
      ]
    },
    {
      "cell_type": "markdown",
      "metadata": {
        "id": "Y_L64VqU-NG7",
        "colab_type": "text"
      },
      "source": [
        "##### Contando quantas mãos temos de menor classificação:"
      ]
    },
    {
      "cell_type": "code",
      "metadata": {
        "id": "CQ7wn5tO-NG7",
        "colab_type": "code",
        "outputId": "2378d2b6-71b0-4712-facb-f1a21ff135d0",
        "colab": {
          "base_uri": "https://localhost:8080/",
          "height": 34
        }
      },
      "source": [
        "data_test['Poker Hand'][data_test['Poker Hand'] == 1].count()"
      ],
      "execution_count": 18,
      "outputs": [
        {
          "output_type": "execute_result",
          "data": {
            "text/plain": [
              "422498"
            ]
          },
          "metadata": {
            "tags": []
          },
          "execution_count": 18
        }
      ]
    },
    {
      "cell_type": "code",
      "metadata": {
        "id": "Q8nEmjo9-NG9",
        "colab_type": "code",
        "outputId": "ceca6b04-41fd-45e2-9a39-15ca30d5a535",
        "colab": {
          "base_uri": "https://localhost:8080/",
          "height": 34
        }
      },
      "source": [
        "data_test['Poker Hand'][data_test['Poker Hand'] == 0].count()"
      ],
      "execution_count": 19,
      "outputs": [
        {
          "output_type": "execute_result",
          "data": {
            "text/plain": [
              "501209"
            ]
          },
          "metadata": {
            "tags": []
          },
          "execution_count": 19
        }
      ]
    },
    {
      "cell_type": "markdown",
      "metadata": {
        "id": "4UftOZRo-NHB",
        "colab_type": "text"
      },
      "source": [
        "#### Agrupando todas as mãos do dataSet:"
      ]
    },
    {
      "cell_type": "code",
      "metadata": {
        "id": "roj9pyRS-NHC",
        "colab_type": "code",
        "outputId": "c7f379d7-5dc9-4d8b-9eff-f3bce06c2362",
        "colab": {
          "base_uri": "https://localhost:8080/",
          "height": 221
        }
      },
      "source": [
        "groupHand = data_test.groupby(['Poker Hand'])['Poker Hand'].count() \n",
        "groupHand"
      ],
      "execution_count": 20,
      "outputs": [
        {
          "output_type": "execute_result",
          "data": {
            "text/plain": [
              "Poker Hand\n",
              "0    501209\n",
              "1    422498\n",
              "2     47622\n",
              "3     21121\n",
              "4      3885\n",
              "5      1996\n",
              "6      1424\n",
              "7       230\n",
              "8        12\n",
              "9         3\n",
              "Name: Poker Hand, dtype: int64"
            ]
          },
          "metadata": {
            "tags": []
          },
          "execution_count": 20
        }
      ]
    },
    {
      "cell_type": "markdown",
      "metadata": {
        "id": "zQjNgsB0-NHF",
        "colab_type": "text"
      },
      "source": [
        "Dessa forma vemos que as chances de sair com a mão mais forte são de 3 em ***1 Milhão***."
      ]
    },
    {
      "cell_type": "code",
      "metadata": {
        "id": "rpBQh7dN-NHF",
        "colab_type": "code",
        "outputId": "bfa1e107-9027-403a-f92c-4c81878fa5ef",
        "colab": {
          "base_uri": "https://localhost:8080/",
          "height": 551
        }
      },
      "source": [
        "labels = ['Nada na mão','Um par','Dois pares','Trinca','Straight','Flush','Full house','Quadra','Straight flush','Royal flush']\n",
        "fig1, ax1 = plt.subplots(figsize=(8,7))\n",
        "fig1.subplots_adjust(0.3,0,1,1)\n",
        "explode = (0.0,0.0,0.0,0.1,0.1,0.1,0.1,0.1,0.1,0.1)\n",
        "ax1.pie(groupHand,explode=explode, autopct='%0.1f%%',frame=False,shadow=True, startangle=90) #radius=180000,autopct='%0.01f%%'\n",
        "\n",
        "total = sum(groupHand)\n",
        "ax1.legend(  \n",
        "           title='Mãos de poker',\n",
        "           loc = 'upper left',\n",
        "           labels=['%s, %1.10f%%' % (l, (float(s) / total) * 100) for l, s in zip(labels, groupHand)],\n",
        "           bbox_to_anchor=(0.0, 1),\n",
        "    prop={'size': 13},\n",
        "          bbox_transform=fig1.transFigure)\n",
        "ax1.axis('equal')\n",
        "plt.xticks(fontsize=1)\n",
        "ax1.set_title('Percentual de Mãos:')\n",
        "\n",
        "plt.show()"
      ],
      "execution_count": 21,
      "outputs": [
        {
          "output_type": "display_data",
          "data": {
            "image/png": "[encoded data removed]",
            "text/plain": [
              "<Figure size 576x504 with 1 Axes>"
            ]
          },
          "metadata": {
            "tags": []
          }
        }
      ]
    },
    {
      "cell_type": "markdown",
      "metadata": {
        "id": "YoKoOgxs-NHI",
        "colab_type": "text"
      },
      "source": [
        "##### Tablea de distribuição de frequência:"
      ]
    },
    {
      "cell_type": "code",
      "metadata": {
        "id": "6ykaySur-NHI",
        "colab_type": "code",
        "outputId": "1f371476-035d-41c7-c0b9-3474494dce0c",
        "colab": {
          "base_uri": "https://localhost:8080/",
          "height": 204
        }
      },
      "source": [
        "#1 -Ordenando o dataframe\n",
        "df_pokerHand = data_test['Poker Hand']\n",
        "df_pokerHand.sort_values(ascending=True)\n",
        "\n",
        "#2 - Calculando a amplitude\n",
        "# Amplitude dos dados = Valor maior dos registros - menor valor\n",
        "at = df_pokerHand.max() - df_pokerHand.min()\n",
        "\n",
        "\n",
        "#3 - Calculando a classe da amplitude \n",
        "# Lembrando que k = raiz quadrada do total de registros/amostras\n",
        "k = math.sqrt(len(df_pokerHand))\n",
        "# O valor de amplitude de classe pode ser arredondado para um número inteiro, geralmente para facilitar a interpretação da tabela.\n",
        "h = at/k \n",
        "h = math.ceil(h)\n",
        "\n",
        "# 4 - Gerando a tabela de frequência\n",
        "frequencias = []\n",
        "\n",
        "# Menor valor da série\n",
        "menor = round(df_pokerHand.min(),1)\n",
        "\n",
        "# Menor valor somado a amplitude\n",
        "menor_amp = round(menor+h,1)\n",
        "\n",
        "valor = menor\n",
        "while valor < df_pokerHand.max():\n",
        "    frequencias.append('{} - {}'.format(round(valor,1),round(valor+h,1)))\n",
        "    valor += h\n",
        "\n",
        "# 5 - Distribuição de frequências\n",
        "freq_abs = pd.cut(df_pokerHand,len(frequencias),labels=frequencias, duplicates='drop') # Discretização dos valores em k faixas, rotuladas pela lista criada anteriormente\n",
        "print(frequencias)\n",
        "print(pd.value_counts(freq_abs))\n"
      ],
      "execution_count": 22,
      "outputs": [
        {
          "output_type": "stream",
          "text": [
            "['0 - 1', '1 - 2', '2 - 3', '3 - 4', '4 - 5', '5 - 6', '6 - 7', '7 - 8', '8 - 9']\n",
            "0 - 1    923707\n",
            "1 - 2     47622\n",
            "2 - 3     21121\n",
            "3 - 4      3885\n",
            "4 - 5      1996\n",
            "5 - 6      1424\n",
            "6 - 7       230\n",
            "7 - 8        12\n",
            "8 - 9         3\n",
            "Name: Poker Hand, dtype: int64\n"
          ],
          "name": "stdout"
        }
      ]
    },
    {
      "cell_type": "code",
      "metadata": {
        "id": "YQu__TYo-NHK",
        "colab_type": "code",
        "outputId": "70a82a4d-101d-42f7-fa7e-1cd6836fb2e5",
        "colab": {
          "base_uri": "https://localhost:8080/",
          "height": 533
        }
      },
      "source": [
        "labels = ['Nada na mão','Um par','Dois pares','Trinca','Straight','Flush','Full house','Quadra','Straight flush','Royal flush']\n",
        "data_test.hist(column='Poker Hand',grid=True, figsize=(12,8), color='#86bf91', zorder=2, rwidth=0.9)"
      ],
      "execution_count": 23,
      "outputs": [
        {
          "output_type": "execute_result",
          "data": {
            "text/plain": [
              "array([[<matplotlib.axes._subplots.AxesSubplot object at 0x7f5b08754780>]],\n",
              "      dtype=object)"
            ]
          },
          "metadata": {
            "tags": []
          },
          "execution_count": 23
        },
        {
          "output_type": "display_data",
          "data": {
            "image/png": "[encoded data removed]",
            "text/plain": [
              "<Figure size 864x576 with 1 Axes>"
            ]
          },
          "metadata": {
            "tags": [],
            "needs_background": "light"
          }
        }
      ]
    },
    {
      "cell_type": "code",
      "metadata": {
        "id": "27ZZmlIu-NHM",
        "colab_type": "code",
        "colab": {}
      },
      "source": [
        "y_train=data_train['Poker Hand']\n",
        "y_test=data_test['Poker Hand']\n",
        "y_train=pd.get_dummies(y_train)\n",
        "y_test=pd.get_dummies(y_test)"
      ],
      "execution_count": 0,
      "outputs": []
    },
    {
      "cell_type": "code",
      "metadata": {
        "id": "Rr9fuS7e-NHO",
        "colab_type": "code",
        "colab": {}
      },
      "source": [
        "x_train=data_train.drop('Poker Hand',axis=1)\n",
        "x_test=data_test.drop('Poker Hand',axis=1)"
      ],
      "execution_count": 0,
      "outputs": []
    },
    {
      "cell_type": "code",
      "metadata": {
        "id": "gz6rxGIh-NHS",
        "colab_type": "code",
        "outputId": "8b22febf-a57c-4b22-b894-0f42121b4b1e",
        "colab": {
          "base_uri": "https://localhost:8080/",
          "height": 51
        }
      },
      "source": [
        "print('Shape of Training Set:',x_train.shape)\n",
        "print('Shape of Testing Set:',x_test.shape)"
      ],
      "execution_count": 26,
      "outputs": [
        {
          "output_type": "stream",
          "text": [
            "Shape of Training Set: (25010, 10)\n",
            "Shape of Testing Set: (1000000, 10)\n"
          ],
          "name": "stdout"
        }
      ]
    },
    {
      "cell_type": "markdown",
      "metadata": {
        "id": "hZ0UCrmw-NHU",
        "colab_type": "text"
      },
      "source": [
        "---------------------------------------------------------------------------------------\n",
        "### REDE NEURAL\n",
        "---------------------------------------------------------------------------------------"
      ]
    },
    {
      "cell_type": "code",
      "metadata": {
        "id": "DOhVzMVV-NHU",
        "colab_type": "code",
        "outputId": "a4e9ca58-aa37-4bdb-f0f3-58a210a9e1c9",
        "colab": {
          "base_uri": "https://localhost:8080/",
          "height": 34
        }
      },
      "source": [
        "import keras\n",
        "from keras.models import Sequential\n",
        "from keras.layers import Dense, Dropout, Activation\n",
        "from keras.optimizers import SGD\n",
        "from keras import regularizers"
      ],
      "execution_count": 27,
      "outputs": [
        {
          "output_type": "stream",
          "text": [
            "Using TensorFlow backend.\n"
          ],
          "name": "stderr"
        }
      ]
    },
    {
      "cell_type": "code",
      "metadata": {
        "id": "pGnG4nv7-NHW",
        "colab_type": "code",
        "outputId": "06fc6776-91b4-43fe-bd10-e338a1375441",
        "colab": {
          "base_uri": "https://localhost:8080/",
          "height": 411
        }
      },
      "source": [
        "model = Sequential()\n",
        "model.add(Dense(15, activation='relu', input_dim=10))\n",
        "model.add(Dense(10, activation='relu'))\n",
        "model.add(Dense(10, activation='softmax'))\n",
        "model.compile(loss='binary_crossentropy',\n",
        "              optimizer='adam',\n",
        "              metrics=['accuracy'])\n",
        "history = model.fit(x_train, y_train, epochs = 10, batch_size = 256, verbose=1,validation_data=(x_test,y_test),shuffle=True)\n",
        "score = model.evaluate(x_test, y_test, batch_size=256)"
      ],
      "execution_count": 28,
      "outputs": [
        {
          "output_type": "stream",
          "text": [
            "Train on 25010 samples, validate on 1000000 samples\n",
            "Epoch 1/10\n",
            "25010/25010 [==============================] - 4s 162us/step - loss: 0.2312 - accuracy: 0.8976 - val_loss: 0.1897 - val_accuracy: 0.8993\n",
            "Epoch 2/10\n",
            "25010/25010 [==============================] - 4s 148us/step - loss: 0.1835 - accuracy: 0.8993 - val_loss: 0.1787 - val_accuracy: 0.9012\n",
            "Epoch 3/10\n",
            "25010/25010 [==============================] - 4s 148us/step - loss: 0.1775 - accuracy: 0.9013 - val_loss: 0.1756 - val_accuracy: 0.9021\n",
            "Epoch 4/10\n",
            "25010/25010 [==============================] - 4s 155us/step - loss: 0.1752 - accuracy: 0.9025 - val_loss: 0.1743 - val_accuracy: 0.9046\n",
            "Epoch 5/10\n",
            "25010/25010 [==============================] - 4s 149us/step - loss: 0.1742 - accuracy: 0.9036 - val_loss: 0.1734 - val_accuracy: 0.9052\n",
            "Epoch 6/10\n",
            "25010/25010 [==============================] - 4s 145us/step - loss: 0.1737 - accuracy: 0.9039 - val_loss: 0.1729 - val_accuracy: 0.9055\n",
            "Epoch 7/10\n",
            "25010/25010 [==============================] - 4s 149us/step - loss: 0.1731 - accuracy: 0.9047 - val_loss: 0.1724 - val_accuracy: 0.9053\n",
            "Epoch 8/10\n",
            "25010/25010 [==============================] - 4s 154us/step - loss: 0.1727 - accuracy: 0.9053 - val_loss: 0.1722 - val_accuracy: 0.9048\n",
            "Epoch 9/10\n",
            "25010/25010 [==============================] - 4s 149us/step - loss: 0.1724 - accuracy: 0.9058 - val_loss: 0.1717 - val_accuracy: 0.9063\n",
            "Epoch 10/10\n",
            "25010/25010 [==============================] - 4s 146us/step - loss: 0.1721 - accuracy: 0.9062 - val_loss: 0.1720 - val_accuracy: 0.9064\n",
            "1000000/1000000 [==============================] - 3s 3us/step\n"
          ],
          "name": "stdout"
        }
      ]
    },
    {
      "cell_type": "markdown",
      "metadata": {
        "id": "-I0dwAUd-NHZ",
        "colab_type": "text"
      },
      "source": [
        "---------------------------------------------------------------------------------------\n",
        "##### A precisão da validação está chegando a pelo menos 90,04%.\n",
        "---------------------------------------------------------------------------------------"
      ]
    },
    {
      "cell_type": "code",
      "metadata": {
        "id": "g7glZHq0-NHZ",
        "colab_type": "code",
        "outputId": "2bd74afa-bf1e-4a7e-92a7-96ba2d0311e6",
        "colab": {
          "base_uri": "https://localhost:8080/",
          "height": 367
        }
      },
      "source": [
        "plt.figure(figsize=(15, 5))\n",
        "plt.subplot(1,2,1)\n",
        "plt.plot(history.history['accuracy'])\n",
        "plt.plot(history.history['val_accuracy'])\n",
        "plt.title('Model accuracy')\n",
        "plt.ylabel('Accuracy')\n",
        "plt.xlabel('Epoch')\n",
        "plt.legend(['Train', 'Test'], loc='upper left')\n",
        "plt.subplot(1,2,2)\n",
        "plt.plot(history.history['loss'])\n",
        "plt.plot(history.history['val_loss'])\n",
        "plt.title('Model loss')\n",
        "plt.ylabel('Loss')\n",
        "plt.xlabel('Epoch')\n",
        "plt.legend(['Train', 'Test'], loc='lower left')"
      ],
      "execution_count": 29,
      "outputs": [
        {
          "output_type": "execute_result",
          "data": {
            "text/plain": [
              "<matplotlib.legend.Legend at 0x7f5abf983e80>"
            ]
          },
          "metadata": {
            "tags": []
          },
          "execution_count": 29
        },
        {
          "output_type": "display_data",
          "data": {
            "image/png": "[encoded data removed]",
            "text/plain": [
              "<Figure size 1080x360 with 2 Axes>"
            ]
          },
          "metadata": {
            "tags": [],
            "needs_background": "light"
          }
        }
      ]
    },
    {
      "cell_type": "code",
      "metadata": {
        "id": "Vb2_Jrqv-NHb",
        "colab_type": "code",
        "colab": {}
      },
      "source": [
        "from sklearn import preprocessing\n",
        "le = preprocessing.LabelEncoder()\n",
        "y_train=le.fit_transform(data_train['Poker Hand'])\n",
        "y_test=le.transform(data_test['Poker Hand'])"
      ],
      "execution_count": 0,
      "outputs": []
    },
    {
      "cell_type": "markdown",
      "metadata": {
        "id": "WU8kzLkj-NHd",
        "colab_type": "text"
      },
      "source": [
        "-----------------------------------------------------------------------\n",
        "### REGRESSÃO LOGÍSTICA\n",
        "------------------------------------------------------------"
      ]
    },
    {
      "cell_type": "code",
      "metadata": {
        "id": "1xR6YZGZ-NHd",
        "colab_type": "code",
        "outputId": "158cb135-8ecb-4877-c5ce-b83b29156d2e",
        "colab": {
          "base_uri": "https://localhost:8080/",
          "height": 34
        }
      },
      "source": [
        "from sklearn.linear_model import LogisticRegression\n",
        "from sklearn.metrics import accuracy_score\n",
        "clf = LogisticRegression(random_state=0, solver='lbfgs',max_iter=100,multi_class='ovr').fit(x_train, y_train)\n",
        "y_pred=clf.predict(x_test)\n",
        "accuracy_score(y_pred,y_test)"
      ],
      "execution_count": 31,
      "outputs": [
        {
          "output_type": "execute_result",
          "data": {
            "text/plain": [
              "0.501209"
            ]
          },
          "metadata": {
            "tags": []
          },
          "execution_count": 31
        }
      ]
    },
    {
      "cell_type": "markdown",
      "metadata": {
        "id": "BBm57ZWX-NHf",
        "colab_type": "text"
      },
      "source": [
        "-----------------------------------------------------------------------\n",
        "### Árvore de Decisão\n",
        "------------------------------------------------------------"
      ]
    },
    {
      "cell_type": "code",
      "metadata": {
        "id": "5VvJMudL-NHf",
        "colab_type": "code",
        "outputId": "166f9757-ad8d-4e4d-f9aa-0d4285e8de13",
        "colab": {
          "base_uri": "https://localhost:8080/",
          "height": 34
        }
      },
      "source": [
        "from sklearn.tree import DecisionTreeClassifier\n",
        "decision_tree = DecisionTreeClassifier(random_state=0,max_depth = 2)\n",
        "decision_tree = decision_tree.fit(x_train,y_train)\n",
        "y_pred = decision_tree.predict(x_test)\n",
        "accuracy_score(y_pred,y_test)"
      ],
      "execution_count": 32,
      "outputs": [
        {
          "output_type": "execute_result",
          "data": {
            "text/plain": [
              "0.501209"
            ]
          },
          "metadata": {
            "tags": []
          },
          "execution_count": 32
        }
      ]
    },
    {
      "cell_type": "code",
      "metadata": {
        "id": "E-hNiXCx-NHi",
        "colab_type": "code",
        "colab": {}
      },
      "source": [
        "# from sklearn import svm\n",
        "# clf = svm.LinearSVC()\n",
        "# clf.fit(x_train,y_train) \n",
        "# y_pred = clf.predict(x_test)\n",
        "# accuracy_score(y_pred,y_test)"
      ],
      "execution_count": 0,
      "outputs": []
    },
    {
      "cell_type": "code",
      "metadata": {
        "id": "503rkuP4-NHk",
        "colab_type": "code",
        "colab": {}
      },
      "source": [
        "# profile = ProfileReport(data_test, title='Poker', explorative=True)\n",
        "# profile.to_notebook_iframe()"
      ],
      "execution_count": 0,
      "outputs": []
    },
    {
      "cell_type": "markdown",
      "metadata": {
        "id": "ghXl3EvK-NHl",
        "colab_type": "text"
      },
      "source": [
        "\n"
      ]
    },
    {
      "cell_type": "code",
      "metadata": {
        "id": "ivuwP3J_-NHm",
        "colab_type": "code",
        "colab": {}
      },
      "source": [
        ""
      ],
      "execution_count": 0,
      "outputs": []
    },
    {
      "cell_type": "code",
      "metadata": {
        "id": "5EEyyZC0-NHo",
        "colab_type": "code",
        "colab": {}
      },
      "source": [
        ""
      ],
      "execution_count": 0,
      "outputs": []
    }
  ]
}