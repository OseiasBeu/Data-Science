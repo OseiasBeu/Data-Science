{
  "nbformat": 4,
  "nbformat_minor": 0,
  "metadata": {
    "colab": {
      "name": "suicidio.ipynb",
      "provenance": [],
      "collapsed_sections": [],
      "include_colab_link": true
    },
    "kernelspec": {
      "name": "python3",
      "display_name": "Python 3"
    }
  },
  "cells": [
    {
      "cell_type": "markdown",
      "metadata": {
        "id": "view-in-github",
        "colab_type": "text"
      },
      "source": [
        "<a href=\"https://colab.research.google.com/github/OseiasBeu/Data-Science/blob/master/suicidio.ipynb\" target=\"_parent\"><img src=\"https://colab.research.google.com/assets/colab-badge.svg\" alt=\"Open In Colab\"/></a>"
      ]
    },
    {
      "cell_type": "markdown",
      "metadata": {
        "id": "zLNoUaB_R4-f",
        "colab_type": "text"
      },
      "source": [
        "# Análise da taxa de suicídio\n",
        "\n",
        "Todos os anos, mais de 12 mil pessoas tiram suas próprias vidas no Brasil. Em um cenário mundial, esse número ultrapassa 1 milhão de pessoas, levando o suicídio a ser considerado um problema de saúde pública.\n",
        "\n",
        "Para você ter noção da dimensão desses números, saiba que [o suicídio tem uma taxa maior do que vítimas de AIDS e da maioria dos tipos de câncer](https://pt.wikipedia.org/wiki/Setembro_Amarelo). Segundo a Organização Mundial da Saúde (OMS), o Brasil ocupa o oitavo lugar no número de suicídios no mundo: São 32 brasileiros por dia.\n",
        "\n",
        "\n",
        "O intuido desse pequeno artigo é ser uma pequena contribuição que visa ajudar a entender a extensão desse problema no Brasil, além de incentivar o Setembro Amarelo dentro da comunidade Python e Data Science.\n"
      ]
    },
    {
      "cell_type": "markdown",
      "metadata": {
        "id": "E1si-OwNZuNI",
        "colab_type": "text"
      },
      "source": [
        "## Descrição dos dados sobre suicídio\n",
        "\n",
        "O melhor conjunto de dados sobre suicidio [está hospedado nesta página](https://www.kaggle.com/russellyates88/suicide-rates-overview-1985-to-2016), e traz informações sobre vários países. O *dataset* contempla o período entre os anos de 1985 e 2016.\n",
        "\n",
        "Esse *dataset*, na verdade, é um compilado de outros 4 *datasets*. A pessoa que disponibilizou o mesmo fez um grande trabalho de limpeza e padronização. Caso você deseje tenha interesse em conhecer as fontes que deram origem a este único arquivo, são elas:\n",
        "\n",
        "* [United Nations Development Program. (2018). Human development index - HDI.](http://hdr.undp.org/en/indicators/137506)\n",
        "* [World Bank. (2018). World development indicators: GDP (current US$) by country:1985 to 2016.](http://databank.worldbank.org/data/source/world-development-indicators#)\n",
        "* [Suicide in the Twenty-First Century (Szamil, 2017).](https://www.kaggle.com/szamil/suicide-in-the-twenty-first-century/notebook)\n",
        "* [World Health Organization. (2018). Suicide prevention.](http://www.who.int/mental_health/suicide-prevention/en/)"
      ]
    },
    {
      "cell_type": "code",
      "metadata": {
        "id": "JX-dbWTb-E5f",
        "colab_type": "code",
        "colab": {}
      },
      "source": [
        "# importar pacotes necessários\n",
        "import numpy as np\n",
        "import pandas as pd\n",
        "import matplotlib.pyplot as plt\n",
        "import seaborn as sns\n",
        "%matplotlib inline"
      ],
      "execution_count": 0,
      "outputs": []
    },
    {
      "cell_type": "code",
      "metadata": {
        "id": "07Wbf53k-PN_",
        "colab_type": "code",
        "colab": {}
      },
      "source": [
        "# importar os dados sobre suicídio para um DataFrame\n",
        "df = pd.read_csv(\"https://raw.githubusercontent.com/OseiasBeu/Data-Science/master/DataSets/suicide_rates.csv\")"
      ],
      "execution_count": 0,
      "outputs": []
    },
    {
      "cell_type": "markdown",
      "metadata": {
        "id": "UVU0wYVcFFEP",
        "colab_type": "text"
      },
      "source": [
        "### Dicionário de Variáveis\n",
        "\n",
        "Esse arquivo *csv* possui 12 colunas. São elas:\n",
        "\n",
        "* **country:** país onde os dados foram registrados\n",
        "  * 101 países\n",
        "* **year:** ano em que os dados foram registrados\n",
        "  * 1987 a 2016\n",
        "* **sex:** sexo considerado no registro\n",
        "  * *male* - masculino\n",
        "  * *female* - feminino\n",
        "* **age**: faixa etária considerada\n",
        "  * 5-14 anos\n",
        "  * 15-24 anos\n",
        "  * 25-34 anos\n",
        "  * 35-54 anos\n",
        "  * 55-74 anos\n",
        "  * 75+ anos\n",
        "* **suicides_no:** número de suicídios\n",
        "* **population:** população para o grupo\n",
        "* **suicides/100k pop:** número de suicídios por 100 mil habitantes\n",
        "* **country_year:** identificador contendo `country` + `year`\n",
        "* **HDI for year:** Índice de Desenvolvimento Humano (IDH) para o ano\n",
        "* **gdp_for_year:** Produto Interno Bruto (PIB) para o ano\n",
        "* **gdp_per_capita:** Produto Interno Bruto (PIB) per capita"
      ]
    },
    {
      "cell_type": "markdown",
      "metadata": {
        "id": "Jj1Aiqxlc3uR",
        "colab_type": "text"
      },
      "source": [
        "## Análise Exploratória dos Dados\n",
        "\n",
        "Como mencionei acima, este arquivo recebeu um tratamento anterior que facilitará muito a nossa análise.\n",
        "\n",
        "O conjunto de dados contém 27.820 linhas e 12 colunas. Como você pode ver abaixo, os dados podem ser agrupados por vários critérios como país, ano, sexo e idade."
      ]
    },
    {
      "cell_type": "code",
      "metadata": {
        "id": "jytGO2md-dNH",
        "colab_type": "code",
        "outputId": "e2c8ad0a-75ac-444b-86ca-db879fb4d82c",
        "colab": {
          "base_uri": "https://localhost:8080/",
          "height": 221
        }
      },
      "source": [
        "# ver o formato do DataFrame\n",
        "print(\"Formato do DataFrame: \", df.shape)\n",
        "\n",
        "# ver as 5 primeiras entradas dos dataset\n",
        "df.head()"
      ],
      "execution_count": 26,
      "outputs": [
        {
          "output_type": "stream",
          "text": [
            "Formato do DataFrame:  (27820, 12)\n"
          ],
          "name": "stdout"
        },
        {
          "output_type": "execute_result",
          "data": {
            "text/html": [
              "<div>\n",
              "<style scoped>\n",
              "    .dataframe tbody tr th:only-of-type {\n",
              "        vertical-align: middle;\n",
              "    }\n",
              "\n",
              "    .dataframe tbody tr th {\n",
              "        vertical-align: top;\n",
              "    }\n",
              "\n",
              "    .dataframe thead th {\n",
              "        text-align: right;\n",
              "    }\n",
              "</style>\n",
              "<table border=\"1\" class=\"dataframe\">\n",
              "  <thead>\n",
              "    <tr style=\"text-align: right;\">\n",
              "      <th></th>\n",
              "      <th>country</th>\n",
              "      <th>year</th>\n",
              "      <th>sex</th>\n",
              "      <th>age</th>\n",
              "      <th>suicides_no</th>\n",
              "      <th>population</th>\n",
              "      <th>suicides/100k pop</th>\n",
              "      <th>country-year</th>\n",
              "      <th>HDI for year</th>\n",
              "      <th>gdp_for_year ($)</th>\n",
              "      <th>gdp_per_capita ($)</th>\n",
              "      <th>generation</th>\n",
              "    </tr>\n",
              "  </thead>\n",
              "  <tbody>\n",
              "    <tr>\n",
              "      <th>0</th>\n",
              "      <td>Albania</td>\n",
              "      <td>1987</td>\n",
              "      <td>male</td>\n",
              "      <td>15-24 years</td>\n",
              "      <td>21</td>\n",
              "      <td>312900</td>\n",
              "      <td>6.71</td>\n",
              "      <td>Albania1987</td>\n",
              "      <td>NaN</td>\n",
              "      <td>2,156,624,900</td>\n",
              "      <td>796</td>\n",
              "      <td>Generation X</td>\n",
              "    </tr>\n",
              "    <tr>\n",
              "      <th>1</th>\n",
              "      <td>Albania</td>\n",
              "      <td>1987</td>\n",
              "      <td>male</td>\n",
              "      <td>35-54 years</td>\n",
              "      <td>16</td>\n",
              "      <td>308000</td>\n",
              "      <td>5.19</td>\n",
              "      <td>Albania1987</td>\n",
              "      <td>NaN</td>\n",
              "      <td>2,156,624,900</td>\n",
              "      <td>796</td>\n",
              "      <td>Silent</td>\n",
              "    </tr>\n",
              "    <tr>\n",
              "      <th>2</th>\n",
              "      <td>Albania</td>\n",
              "      <td>1987</td>\n",
              "      <td>female</td>\n",
              "      <td>15-24 years</td>\n",
              "      <td>14</td>\n",
              "      <td>289700</td>\n",
              "      <td>4.83</td>\n",
              "      <td>Albania1987</td>\n",
              "      <td>NaN</td>\n",
              "      <td>2,156,624,900</td>\n",
              "      <td>796</td>\n",
              "      <td>Generation X</td>\n",
              "    </tr>\n",
              "    <tr>\n",
              "      <th>3</th>\n",
              "      <td>Albania</td>\n",
              "      <td>1987</td>\n",
              "      <td>male</td>\n",
              "      <td>75+ years</td>\n",
              "      <td>1</td>\n",
              "      <td>21800</td>\n",
              "      <td>4.59</td>\n",
              "      <td>Albania1987</td>\n",
              "      <td>NaN</td>\n",
              "      <td>2,156,624,900</td>\n",
              "      <td>796</td>\n",
              "      <td>G.I. Generation</td>\n",
              "    </tr>\n",
              "    <tr>\n",
              "      <th>4</th>\n",
              "      <td>Albania</td>\n",
              "      <td>1987</td>\n",
              "      <td>male</td>\n",
              "      <td>25-34 years</td>\n",
              "      <td>9</td>\n",
              "      <td>274300</td>\n",
              "      <td>3.28</td>\n",
              "      <td>Albania1987</td>\n",
              "      <td>NaN</td>\n",
              "      <td>2,156,624,900</td>\n",
              "      <td>796</td>\n",
              "      <td>Boomers</td>\n",
              "    </tr>\n",
              "  </tbody>\n",
              "</table>\n",
              "</div>"
            ],
            "text/plain": [
              "   country  year  ... gdp_per_capita ($)       generation\n",
              "0  Albania  1987  ...                796     Generation X\n",
              "1  Albania  1987  ...                796           Silent\n",
              "2  Albania  1987  ...                796     Generation X\n",
              "3  Albania  1987  ...                796  G.I. Generation\n",
              "4  Albania  1987  ...                796          Boomers\n",
              "\n",
              "[5 rows x 12 columns]"
            ]
          },
          "metadata": {
            "tags": []
          },
          "execution_count": 26
        }
      ]
    },
    {
      "cell_type": "markdown",
      "metadata": {
        "id": "Z_JKgWqKeYm5",
        "colab_type": "text"
      },
      "source": [
        "A primeira coisa que eu quero fazer é criar um *DataFrame* contendo apenas as informações relacionadas ao Brasil e um outro contendo informações relacionadas a Russia.\n"
      ]
    },
    {
      "cell_type": "code",
      "metadata": {
        "id": "4oisAgzrevf2",
        "colab_type": "code",
        "outputId": "e1a72304-9b37-493b-ab48-68e70825d245",
        "colab": {
          "base_uri": "https://localhost:8080/",
          "height": 238
        }
      },
      "source": [
        "# extrair apenas os dados relativos ao Brasil\n",
        "df_brasil = df[df.country == \"Brazil\"].copy()\n",
        "df_russian = df[df.country == \"Russian Federation\"].copy()\n",
        "\n",
        "\n",
        "# ver o formato do novo DataFrame\n",
        "print(\"Formato do DataFrame brasil: \", df_brasil.shape)\n",
        "print(\"Formato do DataFrame russian: \", df_russian.shape)\n",
        "\n",
        "# exibir as 5 primeiras entradas do novo DataFrame\n",
        "df_brasil.head()"
      ],
      "execution_count": 106,
      "outputs": [
        {
          "output_type": "stream",
          "text": [
            "Formato do DataFrame brasil:  (372, 12)\n",
            "Formato do DataFrame russian:  (324, 12)\n"
          ],
          "name": "stdout"
        },
        {
          "output_type": "execute_result",
          "data": {
            "text/html": [
              "<div>\n",
              "<style scoped>\n",
              "    .dataframe tbody tr th:only-of-type {\n",
              "        vertical-align: middle;\n",
              "    }\n",
              "\n",
              "    .dataframe tbody tr th {\n",
              "        vertical-align: top;\n",
              "    }\n",
              "\n",
              "    .dataframe thead th {\n",
              "        text-align: right;\n",
              "    }\n",
              "</style>\n",
              "<table border=\"1\" class=\"dataframe\">\n",
              "  <thead>\n",
              "    <tr style=\"text-align: right;\">\n",
              "      <th></th>\n",
              "      <th>country</th>\n",
              "      <th>year</th>\n",
              "      <th>sex</th>\n",
              "      <th>age</th>\n",
              "      <th>suicides_no</th>\n",
              "      <th>population</th>\n",
              "      <th>suicides/100k pop</th>\n",
              "      <th>country-year</th>\n",
              "      <th>HDI for year</th>\n",
              "      <th>gdp_for_year ($)</th>\n",
              "      <th>gdp_per_capita ($)</th>\n",
              "      <th>generation</th>\n",
              "    </tr>\n",
              "  </thead>\n",
              "  <tbody>\n",
              "    <tr>\n",
              "      <th>4172</th>\n",
              "      <td>Brazil</td>\n",
              "      <td>1985</td>\n",
              "      <td>male</td>\n",
              "      <td>75+ years</td>\n",
              "      <td>129</td>\n",
              "      <td>840300</td>\n",
              "      <td>15.35</td>\n",
              "      <td>Brazil1985</td>\n",
              "      <td>0.576</td>\n",
              "      <td>222,942,790,435</td>\n",
              "      <td>1898</td>\n",
              "      <td>G.I. Generation</td>\n",
              "    </tr>\n",
              "    <tr>\n",
              "      <th>4173</th>\n",
              "      <td>Brazil</td>\n",
              "      <td>1985</td>\n",
              "      <td>male</td>\n",
              "      <td>55-74 years</td>\n",
              "      <td>535</td>\n",
              "      <td>5364900</td>\n",
              "      <td>9.97</td>\n",
              "      <td>Brazil1985</td>\n",
              "      <td>0.576</td>\n",
              "      <td>222,942,790,435</td>\n",
              "      <td>1898</td>\n",
              "      <td>G.I. Generation</td>\n",
              "    </tr>\n",
              "    <tr>\n",
              "      <th>4174</th>\n",
              "      <td>Brazil</td>\n",
              "      <td>1985</td>\n",
              "      <td>male</td>\n",
              "      <td>35-54 years</td>\n",
              "      <td>1011</td>\n",
              "      <td>11986300</td>\n",
              "      <td>8.43</td>\n",
              "      <td>Brazil1985</td>\n",
              "      <td>0.576</td>\n",
              "      <td>222,942,790,435</td>\n",
              "      <td>1898</td>\n",
              "      <td>Silent</td>\n",
              "    </tr>\n",
              "    <tr>\n",
              "      <th>4175</th>\n",
              "      <td>Brazil</td>\n",
              "      <td>1985</td>\n",
              "      <td>male</td>\n",
              "      <td>25-34 years</td>\n",
              "      <td>791</td>\n",
              "      <td>10762900</td>\n",
              "      <td>7.35</td>\n",
              "      <td>Brazil1985</td>\n",
              "      <td>0.576</td>\n",
              "      <td>222,942,790,435</td>\n",
              "      <td>1898</td>\n",
              "      <td>Boomers</td>\n",
              "    </tr>\n",
              "    <tr>\n",
              "      <th>4176</th>\n",
              "      <td>Brazil</td>\n",
              "      <td>1985</td>\n",
              "      <td>male</td>\n",
              "      <td>15-24 years</td>\n",
              "      <td>661</td>\n",
              "      <td>13834000</td>\n",
              "      <td>4.78</td>\n",
              "      <td>Brazil1985</td>\n",
              "      <td>0.576</td>\n",
              "      <td>222,942,790,435</td>\n",
              "      <td>1898</td>\n",
              "      <td>Generation X</td>\n",
              "    </tr>\n",
              "  </tbody>\n",
              "</table>\n",
              "</div>"
            ],
            "text/plain": [
              "     country  year  ... gdp_per_capita ($)       generation\n",
              "4172  Brazil  1985  ...               1898  G.I. Generation\n",
              "4173  Brazil  1985  ...               1898  G.I. Generation\n",
              "4174  Brazil  1985  ...               1898           Silent\n",
              "4175  Brazil  1985  ...               1898          Boomers\n",
              "4176  Brazil  1985  ...               1898     Generation X\n",
              "\n",
              "[5 rows x 12 columns]"
            ]
          },
          "metadata": {
            "tags": []
          },
          "execution_count": 106
        }
      ]
    },
    {
      "cell_type": "markdown",
      "metadata": {
        "id": "HNQ_DlMSt1sS",
        "colab_type": "text"
      },
      "source": [
        "Agrupando por pais e fazendo a contagem de suicídio temos uma pequena lista com os paises com maior taxa de mortes nos últimos anos e vemos que o Brasil está entres os 10 paises com maior número de mortes do mundo:\n"
      ]
    },
    {
      "cell_type": "code",
      "metadata": {
        "id": "GQUj8m-Tn64O",
        "colab_type": "code",
        "colab": {
          "base_uri": "https://localhost:8080/",
          "height": 221
        },
        "outputId": "764e0247-df23-426b-f99a-47d908436a4d"
      },
      "source": [
        "# df.country[df['suicides_no'].sum()].head(19)\n",
        "df.groupby('country').suicides_no.sum().sort_values(ascending=False).head(10)"
      ],
      "execution_count": 102,
      "outputs": [
        {
          "output_type": "execute_result",
          "data": {
            "text/plain": [
              "country\n",
              "Russian Federation    1209742\n",
              "United States         1034013\n",
              "Japan                  806902\n",
              "France                 329127\n",
              "Ukraine                319950\n",
              "Germany                291262\n",
              "Republic of Korea      261730\n",
              "Brazil                 226613\n",
              "Poland                 139098\n",
              "United Kingdom         136805\n",
              "Name: suicides_no, dtype: int64"
            ]
          },
          "metadata": {
            "tags": []
          },
          "execution_count": 102
        }
      ]
    },
    {
      "cell_type": "markdown",
      "metadata": {
        "id": "KqHJi4jBHDqt",
        "colab_type": "text"
      },
      "source": [
        "Para ter uma noção da integridade dos dados, vou verificar isoladamente os *DataFrames* da Russia por ter o maior número de mortes no mundo, Brasil e o Mundial.É importante que eles sejam similares e estatisticamente representativas.\n",
        "\n",
        "Como você vê abaixo, a porcentagem de valores ausentes referentes ao IDH torna inviável o uso dessa variável. Caso se desejasse realmente usar, seria necessária uma etapa de coleta de dados a partir de outras fontes."
      ]
    },
    {
      "cell_type": "code",
      "metadata": {
        "id": "m0HS6gfPHXp1",
        "colab_type": "code",
        "outputId": "eb3522b9-b1b4-4f45-9492-b45e153e18d1",
        "colab": {
          "base_uri": "https://localhost:8080/",
          "height": 833
        }
      },
      "source": [
        "# valores ausentes nos dados mundiais\n",
        "print(\"--> Mundial:\")\n",
        "display(df.isnull().sum())\n",
        "\n",
        "print(\"\\n\", \"--.\" * 10, \"\\n\")\n",
        "\n",
        "# velores ausentes nos dados do Brasil\n",
        "print(\"--> Brasil:\")\n",
        "display(df_brasil.isnull().sum())\n",
        "\n",
        "print(\"\\n\", \"--.\" * 10, \"\\n\")\n",
        "\n",
        "# velores ausentes nos dados da Russia\n",
        "print(\"--> Russia:\")\n",
        "display(df_russian.isnull().sum())\n"
      ],
      "execution_count": 107,
      "outputs": [
        {
          "output_type": "stream",
          "text": [
            "--> Mundial:\n"
          ],
          "name": "stdout"
        },
        {
          "output_type": "display_data",
          "data": {
            "text/plain": [
              "country                   0\n",
              "year                      0\n",
              "sex                       0\n",
              "age                       0\n",
              "suicides_no               0\n",
              "population                0\n",
              "suicides/100k pop         0\n",
              "country-year              0\n",
              "HDI for year          19456\n",
              " gdp_for_year ($)         0\n",
              "gdp_per_capita ($)        0\n",
              "generation                0\n",
              "dtype: int64"
            ]
          },
          "metadata": {
            "tags": []
          }
        },
        {
          "output_type": "stream",
          "text": [
            "\n",
            " --.--.--.--.--.--.--.--.--.--. \n",
            "\n",
            "--> Brasil:\n"
          ],
          "name": "stdout"
        },
        {
          "output_type": "display_data",
          "data": {
            "text/plain": [
              "country                 0\n",
              "year                    0\n",
              "sex                     0\n",
              "age                     0\n",
              "suicides_no             0\n",
              "population              0\n",
              "suicides/100k pop       0\n",
              "country-year            0\n",
              "HDI for year          252\n",
              " gdp_for_year ($)       0\n",
              "gdp_per_capita ($)      0\n",
              "generation              0\n",
              "dtype: int64"
            ]
          },
          "metadata": {
            "tags": []
          }
        },
        {
          "output_type": "stream",
          "text": [
            "\n",
            " --.--.--.--.--.--.--.--.--.--. \n",
            "\n",
            "--> Russia:\n"
          ],
          "name": "stdout"
        },
        {
          "output_type": "display_data",
          "data": {
            "text/plain": [
              "country                 0\n",
              "year                    0\n",
              "sex                     0\n",
              "age                     0\n",
              "suicides_no             0\n",
              "population              0\n",
              "suicides/100k pop       0\n",
              "country-year            0\n",
              "HDI for year          324\n",
              " gdp_for_year ($)       0\n",
              "gdp_per_capita ($)      0\n",
              "generation              0\n",
              "dtype: int64"
            ]
          },
          "metadata": {
            "tags": []
          }
        }
      ]
    },
    {
      "cell_type": "markdown",
      "metadata": {
        "id": "WmHM3UDsLtBX",
        "colab_type": "text"
      },
      "source": [
        "### Tendência da taxa de suicídio:\n"
      ]
    },
    {
      "cell_type": "markdown",
      "metadata": {
        "id": "7jfaSCv2IzFZ",
        "colab_type": "text"
      },
      "source": [
        "A primeira comparação diz respeito ao número de suicídios cometidos por 100 mil habitantes no Brasil, Russia e a tendência do gráfico em relação à taxa mundial.\n",
        "\n",
        "Para ver a tendência, é melhor sempre usar essa relação por 100 mil, pois a população do país cresceu muito de 1985 para 2015. Se formos comparar em termos absolutos, poderemos tirar conclusões erradas ou distorcidas."
      ]
    },
    {
      "cell_type": "code",
      "metadata": {
        "id": "OLi25tlnKS-m",
        "colab_type": "code",
        "outputId": "85a21130-788c-419e-91b5-264a745eaaca",
        "colab": {
          "base_uri": "https://localhost:8080/",
          "height": 265
        }
      },
      "source": [
        "# pegar a media mundial e do Brasil em suicidios\n",
        "years = df_brasil.year.unique()    # pegar os anos para o eixo x\n",
        "years2 = df_russian.year.unique()    # pegar os anos para o eixo x\n",
        "# years2 = df_japan.year.unique()    # pegar os anos para o eixo x\n",
        "# years3 = df_Portugal.year.unique()    # pegar os anos para o eixo x\n",
        "# suicides_brasil_mean = df_brasil.groupby('year')['suicides/100k pop'].mean()\n",
        "# suicides_portugal_mean = df_Portugal.groupby('year')['suicides/100k pop'].mean()\n",
        "# suicides_japan_mean = df_japan.groupby('year')['suicides/100k pop'].mean()\n",
        "suicides_russian_mean = df_russian.groupby('year')['suicides/100k pop'].mean()\n",
        "suicides_world_mean = df.groupby('year')['suicides/100k pop'].mean()\n",
        "\n",
        "# como o Brasil nao tem 2016, vou eliminar do dataframe mundial essa entrada\n",
        "suicides_world_mean.drop(2016, inplace=True)\n",
        "# suicides_japan_mean.drop(2016, inplace=True)\n",
        "# suicides_portugal_mean .drop(2016, inplace=True)\n",
        "\n",
        "# plotar lineplot comparativo entre Brasil e Mundo\n",
        "ax = sns.lineplot(x=years, y=suicides_brasil_mean, label='Brasil')\n",
        "ax = sns.lineplot(x=years2, y=suicides_russian_mean, label='Russia')\n",
        "# ax = sns.lineplot(x=years2, y=suicides_japan_mean, label='Japan')\n",
        "# ax = sns.lineplot(x=years3, y=suicides_portugal_mean, label='Portugal')\n",
        "ax = sns.lineplot(x=years, y=suicides_world_mean, label='Mundo')\n",
        "plt.legend(title=\"Taxa de suicídio\")\n",
        "plt.show()"
      ],
      "execution_count": 110,
      "outputs": [
        {
          "output_type": "display_data",
          "data": {
            "image/png": "[encoded data removed]",
            "text/plain": [
              "<Figure size 432x288 with 1 Axes>"
            ]
          },
          "metadata": {
            "tags": [],
            "needs_background": "light"
          }
        }
      ]
    },
    {
      "cell_type": "markdown",
      "metadata": {
        "id": "n99JaHjAK8Az",
        "colab_type": "text"
      },
      "source": [
        "Uma coisa que é facilmente percebida no gráfico acima é que apesar da taxa de suicídios no Brasil ser menor que a média mundial, ela vem crescendo constantemente ao longo de 30 anos enquanto a da Russia, embora esteja bem acima da média mundial, vem diminuindo ao longo dos anos.\n",
        "\n",
        "A linha laranja teve um pico por volta de 1995, porém reverteu o *slope* e vem caindo ano após ano. Já a linha azul (Brasil) tem um *slope* positivo praticamente ao longo de todo o período analisado."
      ]
    },
    {
      "cell_type": "markdown",
      "metadata": {
        "id": "YPU1kfEVK8sm",
        "colab_type": "text"
      },
      "source": [
        "### Faixa etária com maior índice de suícidio\n",
        "\n",
        "Abaixo, eu criei uma tabela dinâmica (*pivot table*) para analisar as 6 faixas etárias em função do ano e do número de suicídios por 100 mil habitantes. \n",
        "\n",
        "O objetivo aqui é identificar qual a faixa etária que tem a maior representatividade entre aqueles que tiram a própria vida, e identificar se houve alguma mudança no perfil ao longo de 30 anos."
      ]
    },
    {
      "cell_type": "code",
      "metadata": {
        "id": "IR_nZc7bG01Q",
        "colab_type": "code",
        "outputId": "447f6ad7-5303-4a90-db2e-f10a49edfe4e",
        "colab": {
          "base_uri": "https://localhost:8080/",
          "height": 323
        }
      },
      "source": [
        "# criar uma tabela dinâmica\n",
        "table = pd.pivot_table(df_brasil, values='suicides_no', index=['year'], columns=['age'])\n",
        "table2 = pd.pivot_table(df_russian, values='suicides_no', index=['year'], columns=['age'])\n",
        "\n",
        "# reordenar as tableas para deixar em ordem crescente\n",
        "column_order = ['5-14 years', '15-24 years', '25-34 years', '35-54 years', '55-74 years', '75+ years']\n",
        "table = table.reindex(column_order, axis=1)\n",
        "table2 = table2.reindex(column_order, axis=1)\n",
        "\n",
        "# ver as 5 primeiras entradas da pivot table\n",
        "print('------------------Brasil------------------')\n",
        "print(table.head())\n",
        "\n",
        "print('\\n\\n------------------Russia------------------')\n",
        "print(table2.head())"
      ],
      "execution_count": 113,
      "outputs": [
        {
          "output_type": "stream",
          "text": [
            "------------------Brasil------------------\n",
            "age   5-14 years  15-24 years  25-34 years  35-54 years  55-74 years  75+ years\n",
            "year                                                                           \n",
            "1985        38.0        470.5        530.0        653.5        341.5       80.5\n",
            "1986        31.0        508.0        505.5        651.0        372.0       68.0\n",
            "1987        33.5        502.0        565.5        724.5        422.0       88.5\n",
            "1988        30.0        472.0        557.5        724.0        356.0       93.5\n",
            "1989        31.5        491.5        569.0        692.5        354.5       92.5\n",
            "\n",
            "\n",
            "------------------Russia------------------\n",
            "age   5-14 years  15-24 years  25-34 years  35-54 years  55-74 years  75+ years\n",
            "year                                                                           \n",
            "1989       155.5       1604.5       3841.5       7178.0       4646.0     1535.0\n",
            "1990       156.0       1757.5       3889.0       7492.0       4732.5     1487.0\n",
            "1991       181.5       1813.0       3894.5       7587.5       4746.0     1418.0\n",
            "1992       197.0       2075.5       4474.0       9296.0       5573.5     1345.5\n",
            "1993       215.0       2566.0       5241.0      11709.5       6775.5     1416.0\n"
          ],
          "name": "stdout"
        }
      ]
    },
    {
      "cell_type": "code",
      "metadata": {
        "id": "AZ8UuFqZLi5T",
        "colab_type": "code",
        "outputId": "740383e7-2cbc-44fb-c7c7-ce46c4352128",
        "colab": {
          "base_uri": "https://localhost:8080/",
          "height": 512
        }
      },
      "source": [
        "# plotar a pivot table das faixas etárias para o Brasil\n",
        "table.plot.bar(stacked=True, figsize=(16,8))\n",
        "plt.legend(title=\"Idade - Brasil\");"
      ],
      "execution_count": 117,
      "outputs": [
        {
          "output_type": "display_data",
          "data": {
            "image/png": "[encoded data removed]",
            "text/plain": [
              "<Figure size 1152x576 with 1 Axes>"
            ]
          },
          "metadata": {
            "tags": [],
            "needs_background": "light"
          }
        }
      ]
    },
    {
      "cell_type": "markdown",
      "metadata": {
        "id": "6B1ughmpLium",
        "colab_type": "text"
      },
      "source": [
        "Mesmo visualmente, para o Brasil é fácil identificar que o grupo de pessoas que mais cometem suicídio está entre 35-54 anos. Em segundo lugar, estão pessoas entre 25-34 anos de idade.\n",
        "\n",
        "Juntos, esses dois grupos correspondem a quase 60% dos registros do banco de dados."
      ]
    },
    {
      "cell_type": "code",
      "metadata": {
        "id": "XjVMn7sD1ggJ",
        "colab_type": "code",
        "colab": {
          "base_uri": "https://localhost:8080/",
          "height": 512
        },
        "outputId": "9e82968a-6f13-407c-e39c-c9c9065d8cc3"
      },
      "source": [
        "# plotar a pivot table das faixas etárias para a Russia\n",
        "table2.plot.bar(stacked=True, figsize=(16,8))\n",
        "plt.legend(title=\"Idade - Russia\");"
      ],
      "execution_count": 116,
      "outputs": [
        {
          "output_type": "display_data",
          "data": {
            "image/png": "[encoded data removed]",
            "text/plain": [
              "<Figure size 1152x576 with 1 Axes>"
            ]
          },
          "metadata": {
            "tags": [],
            "needs_background": "light"
          }
        }
      ]
    },
    {
      "cell_type": "markdown",
      "metadata": {
        "id": "lO0Z6Naz2EKb",
        "colab_type": "text"
      },
      "source": [
        "Para a Russia, como já vimos anteriormente, houve um pico em 1994-95 e a taxa de mortes vem reduzindo ao longo dos últimos 30 anos. E visualmente, também podemos notar que a média do número de mortes entre 55-74 anos de idade tem quase que a mesma quantidade desde 1989.\n",
        "Aqui, podemos identificar que o grupo de pessoas que mais cometem suicídio está entre 35-54 anos. Em segundo lugar, estão pessoas entre 15-24 anos de idade."
      ]
    },
    {
      "cell_type": "code",
      "metadata": {
        "id": "QgIVvsPVMiH0",
        "colab_type": "code",
        "outputId": "584c6548-d39a-493a-a31c-e0076575f2f4",
        "colab": {
          "base_uri": "https://localhost:8080/",
          "height": 153
        }
      },
      "source": [
        "# estatística de suicídios por faixa etária\n",
        "print('Brasil')\n",
        "table[['25-34 years']].loc[2015]\n",
        "table.loc[2015] / table.loc[2015].sum()"
      ],
      "execution_count": 32,
      "outputs": [
        {
          "output_type": "execute_result",
          "data": {
            "text/plain": [
              "age\n",
              "5-14 years     0.012094\n",
              "15-24 years    0.159993\n",
              "25-34 years    0.211681\n",
              "35-54 years    0.371585\n",
              "55-74 years    0.194571\n",
              "75+ years      0.050076\n",
              "Name: 2015, dtype: float64"
            ]
          },
          "metadata": {
            "tags": []
          },
          "execution_count": 32
        }
      ]
    },
    {
      "cell_type": "markdown",
      "metadata": {
        "id": "fZHt72icN25_",
        "colab_type": "text"
      },
      "source": [
        "Um outro ponto que vale a pena ressaltar é o aumento de casos entre pessoas acima de 55 anos. Em 1985, as pessoas com mais idade representavam uma pequena fatia do número total.\n",
        "\n",
        "Entretanto, em 2015 é nítido que mesmo para pessoas acima de 75 anos houve um incremento significativo no número de suicídios.\n",
        "\n",
        "Para se inferir a causa dessa mudança de padrão, é necessário se avaliar mais profundamente questões que vão além dos números (como exemplo, fatores qualitativos, momento econômico do país e a cultura dominante de cada época)."
      ]
    },
    {
      "cell_type": "code",
      "metadata": {
        "id": "yNoS23fV3y-T",
        "colab_type": "code",
        "colab": {
          "base_uri": "https://localhost:8080/",
          "height": 170
        },
        "outputId": "6b41ab29-3d47-4516-cb72-9c10c4cd62b4"
      },
      "source": [
        "# estatística de suicídios por faixa etária\n",
        "print('BRussia')\n",
        "table2[['25-34 years']].loc[2015]\n",
        "table2.loc[2015] / table.loc[2015].sum()"
      ],
      "execution_count": 118,
      "outputs": [
        {
          "output_type": "stream",
          "text": [
            "BRussia\n"
          ],
          "name": "stdout"
        },
        {
          "output_type": "execute_result",
          "data": {
            "text/plain": [
              "age\n",
              "5-14 years     0.012183\n",
              "15-24 years    0.206575\n",
              "25-34 years    0.512765\n",
              "35-54 years    0.832124\n",
              "55-74 years    0.493147\n",
              "75+ years      0.221446\n",
              "Name: 2015, dtype: float64"
            ]
          },
          "metadata": {
            "tags": []
          },
          "execution_count": 118
        }
      ]
    },
    {
      "cell_type": "markdown",
      "metadata": {
        "id": "Lyrq8U0RDekZ",
        "colab_type": "text"
      },
      "source": [
        "### Taxa de suicídio entre homens e mulheres\n"
      ]
    },
    {
      "cell_type": "markdown",
      "metadata": {
        "id": "ABgm3pcgRZua",
        "colab_type": "text"
      },
      "source": [
        "Uma outra análise de grande importância é ver a porcentagem dos suicídios entre homens e mulheres.\n",
        "\n",
        "Analisando-se todo o período, o *dataset* utilizado mostrou que aproximadamente 78% dos casos foram cometidos por homens e 22% deles por mulheres. Optou-se por pegar a média dos 30 anos, pois não houve mudança significativa desse comportamento durante o período."
      ]
    },
    {
      "cell_type": "code",
      "metadata": {
        "id": "3-qsgukyP1MB",
        "colab_type": "code",
        "outputId": "f93779e8-bbe2-4c80-faaf-f5398c376c2f",
        "colab": {
          "base_uri": "https://localhost:8080/",
          "height": 248
        }
      },
      "source": [
        "# extrair valores entre homens e mulheres\n",
        "print('Brasil')\n",
        "homens_mulheres = df_brasil.groupby('sex').suicides_no.sum() / df_brasil.groupby('sex').suicides_no.sum().sum()\n",
        "\n",
        "# plotar o gráfico de pizza\n",
        "plt.pie(homens_mulheres, labels=['mulheres', 'homens'], autopct='%1.1f%%', shadow=True);"
      ],
      "execution_count": 33,
      "outputs": [
        {
          "output_type": "display_data",
          "data": {
            "image/png": "[encoded data removed]",
            "text/plain": [
              "<Figure size 432x288 with 1 Axes>"
            ]
          },
          "metadata": {
            "tags": []
          }
        }
      ]
    },
    {
      "cell_type": "code",
      "metadata": {
        "id": "akPnEdyr4JFB",
        "colab_type": "code",
        "colab": {
          "base_uri": "https://localhost:8080/",
          "height": 265
        },
        "outputId": "4eb5b49f-4d9d-42e3-b163-b165b849178a"
      },
      "source": [
        "# extrair valores entre homens e mulheres\n",
        "print('Brasil')\n",
        "homens_mulheres = df_russian.groupby('sex').suicides_no.sum() / df_russian.groupby('sex').suicides_no.sum().sum()\n",
        "\n",
        "# plotar o gráfico de pizza\n",
        "plt.pie(homens_mulheres, labels=['mulheres', 'homens'], autopct='%1.1f%%', shadow=True);"
      ],
      "execution_count": 120,
      "outputs": [
        {
          "output_type": "stream",
          "text": [
            "Brasil\n"
          ],
          "name": "stdout"
        },
        {
          "output_type": "display_data",
          "data": {
            "image/png": "[encoded data removed]",
            "text/plain": [
              "<Figure size 432x288 with 1 Axes>"
            ]
          },
          "metadata": {
            "tags": []
          }
        }
      ]
    },
    {
      "cell_type": "markdown",
      "metadata": {
        "id": "ixz-drYDQBwb",
        "colab_type": "text"
      },
      "source": [
        "### Correlações entre o PIB, IDH e número de suicídios\n",
        "\n",
        "Criando uma matriz de correlação e plotando um *heatmap*, infere-se que o aumento no PIB per capita não diminuiu o número de suicídios por 100 mil habitantes. Na verdade, ele se manteve estável, contrariando o senso comum da maioria das pessoas.\n",
        "\n",
        "Em relação ao IDH, como foi mencionado anteriormente, há muitos valores ausentes nas células, o que pode dar uma interpretação incorreta ou com viés.\n"
      ]
    },
    {
      "cell_type": "code",
      "metadata": {
        "id": "jcd0QdNySOVa",
        "colab_type": "code",
        "outputId": "c9fb44b0-2de4-4dc0-e89f-02df4262b57d",
        "colab": {
          "base_uri": "https://localhost:8080/",
          "height": 353
        }
      },
      "source": [
        "# plotar heatmap\n",
        "corr = df_brasil.corr()\n",
        "sns.heatmap(corr, cmap='RdBu', fmt='.2f', square=True, linecolor='white', annot=True);"
      ],
      "execution_count": 34,
      "outputs": [
        {
          "output_type": "display_data",
          "data": {
            "image/png": "[encoded data removed]",
            "text/plain": [
              "<Figure size 432x288 with 2 Axes>"
            ]
          },
          "metadata": {
            "tags": [],
            "needs_background": "light"
          }
        }
      ]
    },
    {
      "cell_type": "markdown",
      "metadata": {
        "id": "ddUo5jicTjaI",
        "colab_type": "text"
      },
      "source": [
        "## Prevenção do suicídio\n",
        "O conjunto de dados usado aqui é simplificado, porém ideal para uma abordagem inicial, para se criar uma consciência situacional a respeito do tema.\n",
        "\n",
        "Há diversas iniciativas dentro do campo da Inteligência Artificial visando não apenas a conscientização, mas também prevenção de suicídios. [Uma das mais populares diz respeito à análise de postagens em redes sociais](https://qz.com/1367197/machines-know-when-someones-about-to-attempt-suicide-how-should-we-use-that-information/), onde algoritmos de *Machine Learning* são capazes de identificar potenciais suicidas e alertar outras pessoas.\n",
        "\n",
        "Lembre-se que não é frescura e que ninguém está querendo aparecer. Na verdade, a gente nunca tem a mínima ideia do que a outra pessoa está passando. Qualquer atitude que você tenha que possa contribuir para a prevenção do suicídio, pode significar uma vida a mais ;)\n"
      ]
    }
  ]
}