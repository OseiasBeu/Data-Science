{
  "nbformat": 4,
  "nbformat_minor": 0,
  "metadata": {
    "colab": {
      "name": "Bases_doenças_no_coração.ipynb",
      "provenance": [],
      "authorship_tag": "ABX9TyN5BOYPbkMZgW9Rr2R/qedE",
      "include_colab_link": true
    },
    "kernelspec": {
      "name": "python3",
      "display_name": "Python 3"
    },
    "language_info": {
      "name": "python"
    }
  },
  "cells": [
    {
      "cell_type": "markdown",
      "metadata": {
        "id": "view-in-github",
        "colab_type": "text"
      },
      "source": [
        "<a href=\"https://colab.research.google.com/github/OseiasBeu/Data-Science/blob/master/Bases_doen%C3%A7as_no_cora%C3%A7%C3%A3o.ipynb\" target=\"_parent\"><img src=\"https://colab.research.google.com/assets/colab-badge.svg\" alt=\"Open In Colab\"/></a>"
      ]
    },
    {
      "cell_type": "code",
      "metadata": {
        "id": "Jvd5zxMGadyD"
      },
      "source": [
        "import pandas as pd \n",
        "import numpy as np\n",
        "import matplotlib.pyplot as plt\n",
        "import seaborn as sns"
      ],
      "execution_count": 1,
      "outputs": []
    },
    {
      "cell_type": "code",
      "metadata": {
        "colab": {
          "base_uri": "https://localhost:8080/",
          "height": 204
        },
        "id": "rK7f-Npgcx_o",
        "outputId": "7ab9f6a2-5299-4870-a258-cb84a0eb191b"
      },
      "source": [
        "dados = pd.read_csv('https://raw.githubusercontent.com/OseiasBeu/Data-Science/master/DataSets/framingham.csv')\n",
        "dados.head()"
      ],
      "execution_count": 3,
      "outputs": [
        {
          "output_type": "execute_result",
          "data": {
            "text/html": [
              "<div>\n",
              "<style scoped>\n",
              "    .dataframe tbody tr th:only-of-type {\n",
              "        vertical-align: middle;\n",
              "    }\n",
              "\n",
              "    .dataframe tbody tr th {\n",
              "        vertical-align: top;\n",
              "    }\n",
              "\n",
              "    .dataframe thead th {\n",
              "        text-align: right;\n",
              "    }\n",
              "</style>\n",
              "<table border=\"1\" class=\"dataframe\">\n",
              "  <thead>\n",
              "    <tr style=\"text-align: right;\">\n",
              "      <th></th>\n",
              "      <th>male</th>\n",
              "      <th>age</th>\n",
              "      <th>education</th>\n",
              "      <th>currentSmoker</th>\n",
              "      <th>cigsPerDay</th>\n",
              "      <th>BPMeds</th>\n",
              "      <th>prevalentStroke</th>\n",
              "      <th>prevalentHyp</th>\n",
              "      <th>diabetes</th>\n",
              "      <th>totChol</th>\n",
              "      <th>sysBP</th>\n",
              "      <th>diaBP</th>\n",
              "      <th>BMI</th>\n",
              "      <th>heartRate</th>\n",
              "      <th>glucose</th>\n",
              "      <th>TenYearCHD</th>\n",
              "    </tr>\n",
              "  </thead>\n",
              "  <tbody>\n",
              "    <tr>\n",
              "      <th>0</th>\n",
              "      <td>1</td>\n",
              "      <td>39</td>\n",
              "      <td>4.0</td>\n",
              "      <td>0</td>\n",
              "      <td>0.0</td>\n",
              "      <td>0.0</td>\n",
              "      <td>0</td>\n",
              "      <td>0</td>\n",
              "      <td>0</td>\n",
              "      <td>195.0</td>\n",
              "      <td>106.0</td>\n",
              "      <td>70.0</td>\n",
              "      <td>26.97</td>\n",
              "      <td>80.0</td>\n",
              "      <td>77.0</td>\n",
              "      <td>0</td>\n",
              "    </tr>\n",
              "    <tr>\n",
              "      <th>1</th>\n",
              "      <td>0</td>\n",
              "      <td>46</td>\n",
              "      <td>2.0</td>\n",
              "      <td>0</td>\n",
              "      <td>0.0</td>\n",
              "      <td>0.0</td>\n",
              "      <td>0</td>\n",
              "      <td>0</td>\n",
              "      <td>0</td>\n",
              "      <td>250.0</td>\n",
              "      <td>121.0</td>\n",
              "      <td>81.0</td>\n",
              "      <td>28.73</td>\n",
              "      <td>95.0</td>\n",
              "      <td>76.0</td>\n",
              "      <td>0</td>\n",
              "    </tr>\n",
              "    <tr>\n",
              "      <th>2</th>\n",
              "      <td>1</td>\n",
              "      <td>48</td>\n",
              "      <td>1.0</td>\n",
              "      <td>1</td>\n",
              "      <td>20.0</td>\n",
              "      <td>0.0</td>\n",
              "      <td>0</td>\n",
              "      <td>0</td>\n",
              "      <td>0</td>\n",
              "      <td>245.0</td>\n",
              "      <td>127.5</td>\n",
              "      <td>80.0</td>\n",
              "      <td>25.34</td>\n",
              "      <td>75.0</td>\n",
              "      <td>70.0</td>\n",
              "      <td>0</td>\n",
              "    </tr>\n",
              "    <tr>\n",
              "      <th>3</th>\n",
              "      <td>0</td>\n",
              "      <td>61</td>\n",
              "      <td>3.0</td>\n",
              "      <td>1</td>\n",
              "      <td>30.0</td>\n",
              "      <td>0.0</td>\n",
              "      <td>0</td>\n",
              "      <td>1</td>\n",
              "      <td>0</td>\n",
              "      <td>225.0</td>\n",
              "      <td>150.0</td>\n",
              "      <td>95.0</td>\n",
              "      <td>28.58</td>\n",
              "      <td>65.0</td>\n",
              "      <td>103.0</td>\n",
              "      <td>1</td>\n",
              "    </tr>\n",
              "    <tr>\n",
              "      <th>4</th>\n",
              "      <td>0</td>\n",
              "      <td>46</td>\n",
              "      <td>3.0</td>\n",
              "      <td>1</td>\n",
              "      <td>23.0</td>\n",
              "      <td>0.0</td>\n",
              "      <td>0</td>\n",
              "      <td>0</td>\n",
              "      <td>0</td>\n",
              "      <td>285.0</td>\n",
              "      <td>130.0</td>\n",
              "      <td>84.0</td>\n",
              "      <td>23.10</td>\n",
              "      <td>85.0</td>\n",
              "      <td>85.0</td>\n",
              "      <td>0</td>\n",
              "    </tr>\n",
              "  </tbody>\n",
              "</table>\n",
              "</div>"
            ],
            "text/plain": [
              "   male  age  education  currentSmoker  ...    BMI  heartRate  glucose  TenYearCHD\n",
              "0     1   39        4.0              0  ...  26.97       80.0     77.0           0\n",
              "1     0   46        2.0              0  ...  28.73       95.0     76.0           0\n",
              "2     1   48        1.0              1  ...  25.34       75.0     70.0           0\n",
              "3     0   61        3.0              1  ...  28.58       65.0    103.0           1\n",
              "4     0   46        3.0              1  ...  23.10       85.0     85.0           0\n",
              "\n",
              "[5 rows x 16 columns]"
            ]
          },
          "metadata": {
            "tags": []
          },
          "execution_count": 3
        }
      ]
    },
    {
      "cell_type": "markdown",
      "metadata": {
        "id": "Vp6HNru3dBcw"
      },
      "source": [
        "#Informações do Dataset:\n",
        "* male: 1 = homem, 0 = mulher  > variável categórica\n",
        "* age: idade (variável contínua)\n",
        "* educação: nível educacional (variável categórica)\n",
        "* currentSmoker: 1 = fumante, 0 = não fumante (variável categórica)\n",
        "* cigsPerDay: quantidade de cigarros por dia (variável contínua)\n",
        "* BPMeds: 1= paciente toma medicamentos para pressão, 0=não toma medicamentos(variável categórica)\n",
        "* prevalentStroke: 1 = paciente teve derrame, 0 = não teve (variável categórica)\n",
        "* prevalentHyp: 1= hipertenso, 0 = não hipertenso (variável categórica)\n",
        "* diabetes: 1= tem diabetes, 0 = não tem (variável categórica)\n",
        "* totChol: colesterol total (variável contínua)\n",
        "* sysBP: pressão sanguínea diastólica (variável contínua)\n",
        "* diaBP: pressão sanguínea diastólica (variável contínua)\n",
        "* BMI: Indice de massa corporal (variável contínua)\n",
        "* heartRate: batimento cardíaco (variável contínua)\n",
        "* glucose: glicose (variável contínua)\n",
        "* TenYearCHD: 1 = terá problema, 0 = não terá (variável categórica)"
      ]
    },
    {
      "cell_type": "markdown",
      "metadata": {
        "id": "320tF7QlfvMG"
      },
      "source": [
        "# Fazendo Analise exploratória:"
      ]
    },
    {
      "cell_type": "markdown",
      "metadata": {
        "id": "nF6wzTXmf2nx"
      },
      "source": [
        "* Observando a ausência de valores nas variáveis. "
      ]
    },
    {
      "cell_type": "code",
      "metadata": {
        "colab": {
          "base_uri": "https://localhost:8080/"
        },
        "id": "_b4EtVe1fU-Z",
        "outputId": "2b44fc9e-20d0-41d4-c9c7-00afd1f7067e"
      },
      "source": [
        "dados.info()"
      ],
      "execution_count": 4,
      "outputs": [
        {
          "output_type": "stream",
          "text": [
            "<class 'pandas.core.frame.DataFrame'>\n",
            "RangeIndex: 4240 entries, 0 to 4239\n",
            "Data columns (total 16 columns):\n",
            " #   Column           Non-Null Count  Dtype  \n",
            "---  ------           --------------  -----  \n",
            " 0   male             4240 non-null   int64  \n",
            " 1   age              4240 non-null   int64  \n",
            " 2   education        4135 non-null   float64\n",
            " 3   currentSmoker    4240 non-null   int64  \n",
            " 4   cigsPerDay       4211 non-null   float64\n",
            " 5   BPMeds           4187 non-null   float64\n",
            " 6   prevalentStroke  4240 non-null   int64  \n",
            " 7   prevalentHyp     4240 non-null   int64  \n",
            " 8   diabetes         4240 non-null   int64  \n",
            " 9   totChol          4190 non-null   float64\n",
            " 10  sysBP            4240 non-null   float64\n",
            " 11  diaBP            4240 non-null   float64\n",
            " 12  BMI              4221 non-null   float64\n",
            " 13  heartRate        4239 non-null   float64\n",
            " 14  glucose          3852 non-null   float64\n",
            " 15  TenYearCHD       4240 non-null   int64  \n",
            "dtypes: float64(9), int64(7)\n",
            "memory usage: 530.1 KB\n"
          ],
          "name": "stdout"
        }
      ]
    },
    {
      "cell_type": "markdown",
      "metadata": {
        "id": "f96rTrwhg3vC"
      },
      "source": [
        "* Verificando a quantidade de valores do tipo NaN"
      ]
    },
    {
      "cell_type": "code",
      "metadata": {
        "colab": {
          "base_uri": "https://localhost:8080/"
        },
        "id": "92UEw5dOftl5",
        "outputId": "8bbb3886-af77-4bf5-9b81-f5608feba4c6"
      },
      "source": [
        "dados.isna().sum()"
      ],
      "execution_count": 5,
      "outputs": [
        {
          "output_type": "execute_result",
          "data": {
            "text/plain": [
              "male                 0\n",
              "age                  0\n",
              "education          105\n",
              "currentSmoker        0\n",
              "cigsPerDay          29\n",
              "BPMeds              53\n",
              "prevalentStroke      0\n",
              "prevalentHyp         0\n",
              "diabetes             0\n",
              "totChol             50\n",
              "sysBP                0\n",
              "diaBP                0\n",
              "BMI                 19\n",
              "heartRate            1\n",
              "glucose            388\n",
              "TenYearCHD           0\n",
              "dtype: int64"
            ]
          },
          "metadata": {
            "tags": []
          },
          "execution_count": 5
        }
      ]
    },
    {
      "cell_type": "markdown",
      "metadata": {
        "id": "01FRSpd3gOVu"
      },
      "source": [
        "A glicose é a variável com maior quantidade de valores ausêntes. Em relação a quantidade total de valores, podemos remover todos estes casos."
      ]
    },
    {
      "cell_type": "code",
      "metadata": {
        "id": "ZWxbbT9IgZRX"
      },
      "source": [
        "dados = dados.dropna()"
      ],
      "execution_count": 6,
      "outputs": []
    },
    {
      "cell_type": "code",
      "metadata": {
        "colab": {
          "base_uri": "https://localhost:8080/"
        },
        "id": "sdPijASTgs1p",
        "outputId": "f2291da9-0941-45dc-8629-157e756b44d0"
      },
      "source": [
        "dados.isna().sum()"
      ],
      "execution_count": 7,
      "outputs": [
        {
          "output_type": "execute_result",
          "data": {
            "text/plain": [
              "male               0\n",
              "age                0\n",
              "education          0\n",
              "currentSmoker      0\n",
              "cigsPerDay         0\n",
              "BPMeds             0\n",
              "prevalentStroke    0\n",
              "prevalentHyp       0\n",
              "diabetes           0\n",
              "totChol            0\n",
              "sysBP              0\n",
              "diaBP              0\n",
              "BMI                0\n",
              "heartRate          0\n",
              "glucose            0\n",
              "TenYearCHD         0\n",
              "dtype: int64"
            ]
          },
          "metadata": {
            "tags": []
          },
          "execution_count": 7
        }
      ]
    },
    {
      "cell_type": "markdown",
      "metadata": {
        "id": "DhgffPa6hAkt"
      },
      "source": [
        "* Verificando a distribuição dos dados:"
      ]
    },
    {
      "cell_type": "code",
      "metadata": {
        "colab": {
          "base_uri": "https://localhost:8080/",
          "height": 1000
        },
        "id": "9THjtyd5hDeH",
        "outputId": "4719d2b8-fe90-4416-8075-0cd4b57f4fe9"
      },
      "source": [
        "fig = plt.figure(figsize = (15,20))\n",
        "ax = fig.gca()\n",
        "dados.hist(ax=ax)"
      ],
      "execution_count": 8,
      "outputs": [
        {
          "output_type": "stream",
          "text": [
            "/usr/local/lib/python3.7/dist-packages/ipykernel_launcher.py:3: UserWarning: To output multiple subplots, the figure containing the passed axes is being cleared\n",
            "  This is separate from the ipykernel package so we can avoid doing imports until\n"
          ],
          "name": "stderr"
        },
        {
          "output_type": "execute_result",
          "data": {
            "text/plain": [
              "array([[<matplotlib.axes._subplots.AxesSubplot object at 0x7f071cbb3510>,\n",
              "        <matplotlib.axes._subplots.AxesSubplot object at 0x7f071a975b10>,\n",
              "        <matplotlib.axes._subplots.AxesSubplot object at 0x7f071ab32110>,\n",
              "        <matplotlib.axes._subplots.AxesSubplot object at 0x7f071a8d8ad0>],\n",
              "       [<matplotlib.axes._subplots.AxesSubplot object at 0x7f071a894190>,\n",
              "        <matplotlib.axes._subplots.AxesSubplot object at 0x7f071a8c2810>,\n",
              "        <matplotlib.axes._subplots.AxesSubplot object at 0x7f071a872e90>,\n",
              "        <matplotlib.axes._subplots.AxesSubplot object at 0x7f071a836550>],\n",
              "       [<matplotlib.axes._subplots.AxesSubplot object at 0x7f071a83e7d0>,\n",
              "        <matplotlib.axes._subplots.AxesSubplot object at 0x7f071a7f5ed0>,\n",
              "        <matplotlib.axes._subplots.AxesSubplot object at 0x7f071a761890>,\n",
              "        <matplotlib.axes._subplots.AxesSubplot object at 0x7f071a716f10>],\n",
              "       [<matplotlib.axes._subplots.AxesSubplot object at 0x7f071a6da5d0>,\n",
              "        <matplotlib.axes._subplots.AxesSubplot object at 0x7f071a70fc50>,\n",
              "        <matplotlib.axes._subplots.AxesSubplot object at 0x7f071a6d1310>,\n",
              "        <matplotlib.axes._subplots.AxesSubplot object at 0x7f071a687990>]],\n",
              "      dtype=object)"
            ]
          },
          "metadata": {
            "tags": []
          },
          "execution_count": 8
        },
        {
          "output_type": "display_data",
          "data": {
            "image/png": "[encoded data removed]",
            "text/plain": [
              "<Figure size 1080x1440 with 16 Axes>"
            ]
          },
          "metadata": {
            "tags": [],
            "needs_background": "light"
          }
        }
      ]
    },
    {
      "cell_type": "markdown",
      "metadata": {
        "id": "4zFEudxWhaBV"
      },
      "source": [
        "* Verificando a correlação entre as variáveis:"
      ]
    },
    {
      "cell_type": "code",
      "metadata": {
        "id": "iYOxqxg4heFg"
      },
      "source": [
        "correlacao = dados.corr()"
      ],
      "execution_count": 9,
      "outputs": []
    },
    {
      "cell_type": "code",
      "metadata": {
        "colab": {
          "base_uri": "https://localhost:8080/",
          "height": 355
        },
        "id": "wRPhbfp6hjqB",
        "outputId": "75a14972-8c6c-4805-a518-354831b4f10d"
      },
      "source": [
        "sns.heatmap(correlacao)"
      ],
      "execution_count": 10,
      "outputs": [
        {
          "output_type": "execute_result",
          "data": {
            "text/plain": [
              "<matplotlib.axes._subplots.AxesSubplot at 0x7f07184678d0>"
            ]
          },
          "metadata": {
            "tags": []
          },
          "execution_count": 10
        },
        {
          "output_type": "display_data",
          "data": {
            "image/png": "[encoded data removed]",
            "text/plain": [
              "<Figure size 432x288 with 2 Axes>"
            ]
          },
          "metadata": {
            "tags": [],
            "needs_background": "light"
          }
        }
      ]
    },
    {
      "cell_type": "markdown",
      "metadata": {
        "id": "0iEZr1ZYh6rz"
      },
      "source": [
        "O grau de escolaridade da pessoa não é um fator importante uma vez que depende do entendimento médico."
      ]
    },
    {
      "cell_type": "code",
      "metadata": {
        "id": "iCQ1Tz_IhnRx"
      },
      "source": [
        "dados = dados.drop('education',axis=1)"
      ],
      "execution_count": 11,
      "outputs": []
    },
    {
      "cell_type": "markdown",
      "metadata": {
        "id": "1AdYJv1wiLDa"
      },
      "source": [
        "* Normalizando os dados de algumas colunas:"
      ]
    },
    {
      "cell_type": "code",
      "metadata": {
        "id": "YC4ro3V1iOno"
      },
      "source": [
        "colunas = ['age','cigsPerDay','totChol','sysBP','diaBP','BMI','heartRate','glucose']"
      ],
      "execution_count": 12,
      "outputs": []
    },
    {
      "cell_type": "code",
      "metadata": {
        "id": "dgO8vFTKi9Np"
      },
      "source": [
        "from sklearn.preprocessing import MinMaxScaler"
      ],
      "execution_count": 13,
      "outputs": []
    },
    {
      "cell_type": "code",
      "metadata": {
        "id": "6_aJPMymjA0p"
      },
      "source": [
        "normalizador = MinMaxScaler(feature_range=(0,1))"
      ],
      "execution_count": 14,
      "outputs": []
    },
    {
      "cell_type": "code",
      "metadata": {
        "id": "BAnwlzbkjFzJ"
      },
      "source": [
        "dados[colunas]= normalizador.fit_transform(dados[colunas])"
      ],
      "execution_count": 15,
      "outputs": []
    },
    {
      "cell_type": "code",
      "metadata": {
        "colab": {
          "base_uri": "https://localhost:8080/",
          "height": 224
        },
        "id": "CuLeOCFsjLNp",
        "outputId": "7dafb37d-ee08-46e3-fb2f-ba04335a98b8"
      },
      "source": [
        "dados.head()"
      ],
      "execution_count": 16,
      "outputs": [
        {
          "output_type": "execute_result",
          "data": {
            "text/html": [
              "<div>\n",
              "<style scoped>\n",
              "    .dataframe tbody tr th:only-of-type {\n",
              "        vertical-align: middle;\n",
              "    }\n",
              "\n",
              "    .dataframe tbody tr th {\n",
              "        vertical-align: top;\n",
              "    }\n",
              "\n",
              "    .dataframe thead th {\n",
              "        text-align: right;\n",
              "    }\n",
              "</style>\n",
              "<table border=\"1\" class=\"dataframe\">\n",
              "  <thead>\n",
              "    <tr style=\"text-align: right;\">\n",
              "      <th></th>\n",
              "      <th>male</th>\n",
              "      <th>age</th>\n",
              "      <th>currentSmoker</th>\n",
              "      <th>cigsPerDay</th>\n",
              "      <th>BPMeds</th>\n",
              "      <th>prevalentStroke</th>\n",
              "      <th>prevalentHyp</th>\n",
              "      <th>diabetes</th>\n",
              "      <th>totChol</th>\n",
              "      <th>sysBP</th>\n",
              "      <th>diaBP</th>\n",
              "      <th>BMI</th>\n",
              "      <th>heartRate</th>\n",
              "      <th>glucose</th>\n",
              "      <th>TenYearCHD</th>\n",
              "    </tr>\n",
              "  </thead>\n",
              "  <tbody>\n",
              "    <tr>\n",
              "      <th>0</th>\n",
              "      <td>1</td>\n",
              "      <td>0.184211</td>\n",
              "      <td>0</td>\n",
              "      <td>0.000000</td>\n",
              "      <td>0.0</td>\n",
              "      <td>0</td>\n",
              "      <td>0</td>\n",
              "      <td>0</td>\n",
              "      <td>0.168378</td>\n",
              "      <td>0.106383</td>\n",
              "      <td>0.232804</td>\n",
              "      <td>0.277024</td>\n",
              "      <td>0.363636</td>\n",
              "      <td>0.104520</td>\n",
              "      <td>0</td>\n",
              "    </tr>\n",
              "    <tr>\n",
              "      <th>1</th>\n",
              "      <td>0</td>\n",
              "      <td>0.368421</td>\n",
              "      <td>0</td>\n",
              "      <td>0.000000</td>\n",
              "      <td>0.0</td>\n",
              "      <td>0</td>\n",
              "      <td>0</td>\n",
              "      <td>0</td>\n",
              "      <td>0.281314</td>\n",
              "      <td>0.177305</td>\n",
              "      <td>0.349206</td>\n",
              "      <td>0.319680</td>\n",
              "      <td>0.515152</td>\n",
              "      <td>0.101695</td>\n",
              "      <td>0</td>\n",
              "    </tr>\n",
              "    <tr>\n",
              "      <th>2</th>\n",
              "      <td>1</td>\n",
              "      <td>0.421053</td>\n",
              "      <td>1</td>\n",
              "      <td>0.285714</td>\n",
              "      <td>0.0</td>\n",
              "      <td>0</td>\n",
              "      <td>0</td>\n",
              "      <td>0</td>\n",
              "      <td>0.271047</td>\n",
              "      <td>0.208038</td>\n",
              "      <td>0.338624</td>\n",
              "      <td>0.237518</td>\n",
              "      <td>0.313131</td>\n",
              "      <td>0.084746</td>\n",
              "      <td>0</td>\n",
              "    </tr>\n",
              "    <tr>\n",
              "      <th>3</th>\n",
              "      <td>0</td>\n",
              "      <td>0.763158</td>\n",
              "      <td>1</td>\n",
              "      <td>0.428571</td>\n",
              "      <td>0.0</td>\n",
              "      <td>0</td>\n",
              "      <td>1</td>\n",
              "      <td>0</td>\n",
              "      <td>0.229979</td>\n",
              "      <td>0.314421</td>\n",
              "      <td>0.497354</td>\n",
              "      <td>0.316045</td>\n",
              "      <td>0.212121</td>\n",
              "      <td>0.177966</td>\n",
              "      <td>1</td>\n",
              "    </tr>\n",
              "    <tr>\n",
              "      <th>4</th>\n",
              "      <td>0</td>\n",
              "      <td>0.368421</td>\n",
              "      <td>1</td>\n",
              "      <td>0.328571</td>\n",
              "      <td>0.0</td>\n",
              "      <td>0</td>\n",
              "      <td>0</td>\n",
              "      <td>0</td>\n",
              "      <td>0.353183</td>\n",
              "      <td>0.219858</td>\n",
              "      <td>0.380952</td>\n",
              "      <td>0.183228</td>\n",
              "      <td>0.414141</td>\n",
              "      <td>0.127119</td>\n",
              "      <td>0</td>\n",
              "    </tr>\n",
              "  </tbody>\n",
              "</table>\n",
              "</div>"
            ],
            "text/plain": [
              "   male       age  currentSmoker  ...  heartRate   glucose  TenYearCHD\n",
              "0     1  0.184211              0  ...   0.363636  0.104520           0\n",
              "1     0  0.368421              0  ...   0.515152  0.101695           0\n",
              "2     1  0.421053              1  ...   0.313131  0.084746           0\n",
              "3     0  0.763158              1  ...   0.212121  0.177966           1\n",
              "4     0  0.368421              1  ...   0.414141  0.127119           0\n",
              "\n",
              "[5 rows x 15 columns]"
            ]
          },
          "metadata": {
            "tags": []
          },
          "execution_count": 16
        }
      ]
    },
    {
      "cell_type": "markdown",
      "metadata": {
        "id": "qNA7cgf1jfKY"
      },
      "source": [
        "* Verificando se a amostra está balanceada:"
      ]
    },
    {
      "cell_type": "code",
      "metadata": {
        "colab": {
          "base_uri": "https://localhost:8080/",
          "height": 296
        },
        "id": "d7NSh9YQjjFS",
        "outputId": "cd4b7be0-d13e-4cdc-c0c3-9ef0b8ec7583"
      },
      "source": [
        "sns.countplot(x='TenYearCHD',data=dados)"
      ],
      "execution_count": 17,
      "outputs": [
        {
          "output_type": "execute_result",
          "data": {
            "text/plain": [
              "<matplotlib.axes._subplots.AxesSubplot at 0x7f070a781610>"
            ]
          },
          "metadata": {
            "tags": []
          },
          "execution_count": 17
        },
        {
          "output_type": "display_data",
          "data": {
            "image/png": "[encoded data removed]",
            "text/plain": [
              "<Figure size 432x288 with 1 Axes>"
            ]
          },
          "metadata": {
            "tags": [],
            "needs_background": "light"
          }
        }
      ]
    },
    {
      "cell_type": "markdown",
      "metadata": {
        "id": "GpopjAGBj3c_"
      },
      "source": [
        "Este gráfico nos dia que existem muito menos casos de pessoas que poderão ter alguma doença no coração. Esté fato nos diz que a amostra está totalmente desbalanceada."
      ]
    },
    {
      "cell_type": "markdown",
      "metadata": {
        "id": "CDwZvr-qkkN0"
      },
      "source": [
        "* Contagem de cada classe:"
      ]
    },
    {
      "cell_type": "code",
      "metadata": {
        "id": "EOIjVXWUkB5Z"
      },
      "source": [
        "contagem = dados['TenYearCHD'].value_counts()"
      ],
      "execution_count": 18,
      "outputs": []
    },
    {
      "cell_type": "code",
      "metadata": {
        "colab": {
          "base_uri": "https://localhost:8080/"
        },
        "id": "_f5i98VEks1q",
        "outputId": "bdb07368-ac4b-48bc-9d95-4a2b1b21908d"
      },
      "source": [
        "print('Classe 0 = ', contagem[0])\n",
        "print('Classe 1 = ', contagem[1])"
      ],
      "execution_count": 19,
      "outputs": [
        {
          "output_type": "stream",
          "text": [
            "Classe 0 =  3101\n",
            "Classe 1 =  557\n"
          ],
          "name": "stdout"
        }
      ]
    },
    {
      "cell_type": "markdown",
      "metadata": {
        "id": "atPyBQpOk_sI"
      },
      "source": [
        "Para balancear a amostra vou selecionar aleatóriamente 557 casos da classe 0"
      ]
    },
    {
      "cell_type": "code",
      "metadata": {
        "id": "9vr5Fhdek1xK"
      },
      "source": [
        "dados_1 = dados[dados['TenYearCHD']==1]\n",
        "dados_0 = dados[dados['TenYearCHD']==0]"
      ],
      "execution_count": 20,
      "outputs": []
    },
    {
      "cell_type": "code",
      "metadata": {
        "id": "r0f97dxGlQUq"
      },
      "source": [
        "dados_0_novo = dados_0.sample(n=contagem[1],random_state=42)"
      ],
      "execution_count": 21,
      "outputs": []
    },
    {
      "cell_type": "markdown",
      "metadata": {
        "id": "B0JCPXFwlgjZ"
      },
      "source": [
        "* Concatenando ambos os casos:"
      ]
    },
    {
      "cell_type": "code",
      "metadata": {
        "id": "fDoEFw4vljgq"
      },
      "source": [
        "dados = pd.concat([dados_0_novo,dados_1])"
      ],
      "execution_count": 22,
      "outputs": []
    },
    {
      "cell_type": "markdown",
      "metadata": {
        "id": "gzYSh9dFl8Zc"
      },
      "source": [
        "* Verificando novamente a contagem de cada caso:"
      ]
    },
    {
      "cell_type": "code",
      "metadata": {
        "colab": {
          "base_uri": "https://localhost:8080/"
        },
        "id": "eVw--vtEmCJ5",
        "outputId": "b8b2b09f-1e3d-4040-f99e-a96ab210e0ef"
      },
      "source": [
        "contagem = dados['TenYearCHD'].value_counts()\n",
        "print('Classe 0 = ', contagem[0])\n",
        "print('Classe 1 = ', contagem[1])"
      ],
      "execution_count": 23,
      "outputs": [
        {
          "output_type": "stream",
          "text": [
            "Classe 0 =  557\n",
            "Classe 1 =  557\n"
          ],
          "name": "stdout"
        }
      ]
    },
    {
      "cell_type": "markdown",
      "metadata": {
        "id": "xStCBTlNmOyX"
      },
      "source": [
        "* Determinando as variáveis X e Y:"
      ]
    },
    {
      "cell_type": "code",
      "metadata": {
        "id": "Hob2e2WUmSPx"
      },
      "source": [
        "X = dados.drop('TenYearCHD', axis=1).values\n",
        "Y = dados['TenYearCHD'].values"
      ],
      "execution_count": 25,
      "outputs": []
    },
    {
      "cell_type": "markdown",
      "metadata": {
        "id": "OIhdnviamuly"
      },
      "source": [
        "* Separando em amostra de treino e teste:"
      ]
    },
    {
      "cell_type": "code",
      "metadata": {
        "id": "xS0Z_CZGmfMJ"
      },
      "source": [
        "from sklearn.model_selection import train_test_split"
      ],
      "execution_count": 26,
      "outputs": []
    },
    {
      "cell_type": "code",
      "metadata": {
        "id": "io1YJLxxm-sD"
      },
      "source": [
        "X_treino, X_teste, Y_treino, Y_teste = train_test_split(X,Y,test_size=0.25,random_state=0)"
      ],
      "execution_count": 27,
      "outputs": []
    },
    {
      "cell_type": "markdown",
      "metadata": {
        "id": "A4wuN_ornZZF"
      },
      "source": [
        "* Criando modelo de regressão logística:"
      ]
    },
    {
      "cell_type": "code",
      "metadata": {
        "id": "ZpIC4yZ1nYOC"
      },
      "source": [
        "from sklearn.linear_model import LogisticRegression"
      ],
      "execution_count": 28,
      "outputs": []
    },
    {
      "cell_type": "code",
      "metadata": {
        "id": "eC3jzH8GnkQD"
      },
      "source": [
        "modelo = LogisticRegression()"
      ],
      "execution_count": 29,
      "outputs": []
    },
    {
      "cell_type": "code",
      "metadata": {
        "colab": {
          "base_uri": "https://localhost:8080/"
        },
        "id": "KpCRGcWxnmX6",
        "outputId": "12ab944d-78d8-437e-d5d4-f10769ee9147"
      },
      "source": [
        "modelo.fit(X_treino,Y_treino)"
      ],
      "execution_count": 30,
      "outputs": [
        {
          "output_type": "execute_result",
          "data": {
            "text/plain": [
              "LogisticRegression(C=1.0, class_weight=None, dual=False, fit_intercept=True,\n",
              "                   intercept_scaling=1, l1_ratio=None, max_iter=100,\n",
              "                   multi_class='auto', n_jobs=None, penalty='l2',\n",
              "                   random_state=None, solver='lbfgs', tol=0.0001, verbose=0,\n",
              "                   warm_start=False)"
            ]
          },
          "metadata": {
            "tags": []
          },
          "execution_count": 30
        }
      ]
    },
    {
      "cell_type": "markdown",
      "metadata": {
        "id": "7G2bHvH0n4iI"
      },
      "source": [
        "* Realizando previsão na amostra de teste:"
      ]
    },
    {
      "cell_type": "code",
      "metadata": {
        "id": "aEIGp640nq2D"
      },
      "source": [
        "Y_previsto = modelo.predict(X_teste)"
      ],
      "execution_count": 31,
      "outputs": []
    },
    {
      "cell_type": "markdown",
      "metadata": {
        "id": "aJfPJFltoEXD"
      },
      "source": [
        "* Criando uma matriz de confusão:"
      ]
    },
    {
      "cell_type": "code",
      "metadata": {
        "id": "o4GY6q28oDQa"
      },
      "source": [
        "from sklearn.metrics import confusion_matrix"
      ],
      "execution_count": 32,
      "outputs": []
    },
    {
      "cell_type": "code",
      "metadata": {
        "colab": {
          "base_uri": "https://localhost:8080/"
        },
        "id": "GigjQrEyogOD",
        "outputId": "6d2447dc-b8ce-4a3c-d7c8-64552f4c26ee"
      },
      "source": [
        "cm = confusion_matrix(Y_teste, Y_previsto)\n",
        "cm"
      ],
      "execution_count": 33,
      "outputs": [
        {
          "output_type": "execute_result",
          "data": {
            "text/plain": [
              "array([[ 84,  37],\n",
              "       [ 51, 107]])"
            ]
          },
          "metadata": {
            "tags": []
          },
          "execution_count": 33
        }
      ]
    },
    {
      "cell_type": "code",
      "metadata": {
        "colab": {
          "base_uri": "https://localhost:8080/",
          "height": 282
        },
        "id": "xBCRfcBPolnS",
        "outputId": "9a61e4d8-919b-4f93-c3e2-804012978b16"
      },
      "source": [
        "sns.heatmap(cm, annot=True, fmt=\"d\")"
      ],
      "execution_count": 34,
      "outputs": [
        {
          "output_type": "execute_result",
          "data": {
            "text/plain": [
              "<matplotlib.axes._subplots.AxesSubplot at 0x7f0707fd1490>"
            ]
          },
          "metadata": {
            "tags": []
          },
          "execution_count": 34
        },
        {
          "output_type": "display_data",
          "data": {
            "image/png": "[encoded data removed]",
            "text/plain": [
              "<Figure size 432x288 with 2 Axes>"
            ]
          },
          "metadata": {
            "tags": [],
            "needs_background": "light"
          }
        }
      ]
    },
    {
      "cell_type": "markdown",
      "metadata": {
        "id": "Uj5rQOvCpA9o"
      },
      "source": [
        "* Calculando as métricas do modelo:"
      ]
    },
    {
      "cell_type": "code",
      "metadata": {
        "id": "CkC_fgCYozFr"
      },
      "source": [
        "from sklearn.metrics import classification_report,f1_score,precision_score, recall_score,accuracy_score, average_precision_score"
      ],
      "execution_count": 43,
      "outputs": []
    },
    {
      "cell_type": "markdown",
      "metadata": {
        "id": "EGmGRepLphka"
      },
      "source": [
        "* Relatório de classificação:"
      ]
    },
    {
      "cell_type": "code",
      "metadata": {
        "colab": {
          "base_uri": "https://localhost:8080/"
        },
        "id": "8WOzn0VYpdKT",
        "outputId": "d020c9ad-e7d5-4963-b15b-a140e628abbe"
      },
      "source": [
        "cr = classification_report(Y_teste,Y_previsto,labels=[0,1])\n",
        "print(cr)"
      ],
      "execution_count": 40,
      "outputs": [
        {
          "output_type": "stream",
          "text": [
            "              precision    recall  f1-score   support\n",
            "\n",
            "           0       0.62      0.69      0.66       121\n",
            "           1       0.74      0.68      0.71       158\n",
            "\n",
            "    accuracy                           0.68       279\n",
            "   macro avg       0.68      0.69      0.68       279\n",
            "weighted avg       0.69      0.68      0.69       279\n",
            "\n"
          ],
          "name": "stdout"
        }
      ]
    },
    {
      "cell_type": "markdown",
      "metadata": {
        "id": "xzmDjvtGps46"
      },
      "source": [
        "F1-Score:"
      ]
    },
    {
      "cell_type": "code",
      "metadata": {
        "colab": {
          "base_uri": "https://localhost:8080/"
        },
        "id": "BcJtFU_dprwb",
        "outputId": "0d41bdee-c621-45f9-f8fd-2c683f1a0c9b"
      },
      "source": [
        "f1 = f1_score(Y_teste,Y_previsto)\n",
        "print(\"F1 Score = {:0.2f}%\".format(f1*100))"
      ],
      "execution_count": 38,
      "outputs": [
        {
          "output_type": "stream",
          "text": [
            "F1 Score = 70.86%\n"
          ],
          "name": "stdout"
        }
      ]
    },
    {
      "cell_type": "markdown",
      "metadata": {
        "id": "UVJwvTMcp9d5"
      },
      "source": [
        "* Precision Score:"
      ]
    },
    {
      "cell_type": "code",
      "metadata": {
        "colab": {
          "base_uri": "https://localhost:8080/"
        },
        "id": "AYq7JvFMp8Yi",
        "outputId": "c511178b-f071-4ba4-d97a-e0483a806381"
      },
      "source": [
        "precisao = precision_score(Y_teste,Y_previsto)\n",
        "print('Precision Score = {:0.2f}% '.format(precisao*100))"
      ],
      "execution_count": 41,
      "outputs": [
        {
          "output_type": "stream",
          "text": [
            "Precision Score = 74.31% \n"
          ],
          "name": "stdout"
        }
      ]
    },
    {
      "cell_type": "markdown",
      "metadata": {
        "id": "pU5MUy0hqm_3"
      },
      "source": [
        "Avarage Precision Score"
      ]
    },
    {
      "cell_type": "code",
      "metadata": {
        "colab": {
          "base_uri": "https://localhost:8080/"
        },
        "id": "IooF3jvpqljT",
        "outputId": "312487a1-2d6b-436c-96e7-2b04dac6356d"
      },
      "source": [
        "avg_precision = average_precision_score(Y_teste, Y_previsto)\n",
        "print('Averaged Precision Score = {:0.2f}%'.format(avg_precision*100))"
      ],
      "execution_count": 44,
      "outputs": [
        {
          "output_type": "stream",
          "text": [
            "Averaged Precision Score = 68.60%\n"
          ],
          "name": "stdout"
        }
      ]
    },
    {
      "cell_type": "markdown",
      "metadata": {
        "id": "Cok23wGXrUJb"
      },
      "source": [
        "* Recall score"
      ]
    },
    {
      "cell_type": "code",
      "metadata": {
        "colab": {
          "base_uri": "https://localhost:8080/"
        },
        "id": "fTTRBXoqrGBT",
        "outputId": "3e9e23d1-bfab-4fae-ba2b-527b58ab99d1"
      },
      "source": [
        "rec = recall_score(Y_teste, Y_previsto)\n",
        "print(\"Recal Score = {:0.2f}%\".format(rec*100))"
      ],
      "execution_count": 45,
      "outputs": [
        {
          "output_type": "stream",
          "text": [
            "Recal Score = 67.72%\n"
          ],
          "name": "stdout"
        }
      ]
    },
    {
      "cell_type": "markdown",
      "metadata": {
        "id": "UnnbSmFHrzTH"
      },
      "source": [
        "* Accuracy Score:"
      ]
    },
    {
      "cell_type": "code",
      "metadata": {
        "colab": {
          "base_uri": "https://localhost:8080/"
        },
        "id": "5vyLoqutrw1j",
        "outputId": "c43fda2d-f7f7-4a3b-a2fe-25f40331e8af"
      },
      "source": [
        "acc = accuracy_score(Y_teste,Y_previsto)\n",
        "print(\"Accuracy Score = {:0.2f}%\".format(acc*100))"
      ],
      "execution_count": 46,
      "outputs": [
        {
          "output_type": "stream",
          "text": [
            "Accuracy Score = 68.46%\n"
          ],
          "name": "stdout"
        }
      ]
    },
    {
      "cell_type": "markdown",
      "metadata": {
        "id": "UvmUDInNskno"
      },
      "source": [
        "o modelo atual não apresentou uma boa precisão indicando que este não seja o melhor modelo para esta situação devendo ser modificado. (e.g KNN, SVM, Decision Tree, Random Forest) ou que os parâmetros do modelo de regressão logistíca precisam ser ajustados."
      ]
    },
    {
      "cell_type": "markdown",
      "metadata": {
        "id": "ht6o0hCXs-2U"
      },
      "source": [
        "# Curva ROC"
      ]
    },
    {
      "cell_type": "code",
      "metadata": {
        "id": "pWoo6ohPsja-"
      },
      "source": [
        "from sklearn.metrics import roc_curve, roc_auc_score"
      ],
      "execution_count": 47,
      "outputs": []
    },
    {
      "cell_type": "code",
      "metadata": {
        "colab": {
          "base_uri": "https://localhost:8080/"
        },
        "id": "JjWidRaotHGc",
        "outputId": "a97a3c77-7644-40fd-fce5-7bc4d3233fdb"
      },
      "source": [
        "roc_score = roc_auc_score(Y_teste, Y_previsto)\n",
        "print(\"ROC score = {:0.2f}%\".format(roc_score*100))"
      ],
      "execution_count": 48,
      "outputs": [
        {
          "output_type": "stream",
          "text": [
            "ROC score = 68.57%\n"
          ],
          "name": "stdout"
        }
      ]
    },
    {
      "cell_type": "code",
      "metadata": {
        "id": "6EJp6xW1tgwE"
      },
      "source": [
        "roc_fpr, roc_tpr, _ = roc_curve(Y_teste,Y_previsto)"
      ],
      "execution_count": 51,
      "outputs": []
    },
    {
      "cell_type": "code",
      "metadata": {
        "colab": {
          "base_uri": "https://localhost:8080/",
          "height": 296
        },
        "id": "tZJVRPlPtqGk",
        "outputId": "50e3ed60-afa4-4614-a311-133b0ea735ac"
      },
      "source": [
        "plt.plot(roc_fpr, roc_tpr, linestyle='--')\n",
        "plt.xlabel('False Positive Rate')\n",
        "plt.ylabel('True Positive Rate')"
      ],
      "execution_count": 52,
      "outputs": [
        {
          "output_type": "execute_result",
          "data": {
            "text/plain": [
              "Text(0, 0.5, 'True Positive Rate')"
            ]
          },
          "metadata": {
            "tags": []
          },
          "execution_count": 52
        },
        {
          "output_type": "display_data",
          "data": {
            "image/png": "[encoded data removed]",
            "text/plain": [
              "<Figure size 432x288 with 1 Axes>"
            ]
          },
          "metadata": {
            "tags": [],
            "needs_background": "light"
          }
        }
      ]
    },
    {
      "cell_type": "markdown",
      "metadata": {
        "id": "UkwcL7Ibu_Fr"
      },
      "source": [
        "# Curva Precision-Recall"
      ]
    },
    {
      "cell_type": "code",
      "metadata": {
        "id": "_ilIGie2us6s"
      },
      "source": [
        "from sklearn.metrics import precision_recall_curve,auc"
      ],
      "execution_count": 53,
      "outputs": []
    },
    {
      "cell_type": "code",
      "metadata": {
        "id": "vHrBmARTvHM8"
      },
      "source": [
        "lr_precision, lr_recall, _ = precision_recall_curve(Y_teste,Y_previsto)\n",
        "lr_auc = auc(lr_recall,lr_precision)"
      ],
      "execution_count": 54,
      "outputs": []
    },
    {
      "cell_type": "code",
      "metadata": {
        "colab": {
          "base_uri": "https://localhost:8080/"
        },
        "id": "hDGDZZZ-vYzU",
        "outputId": "408ccce4-3b8c-4993-a2aa-8b77fb977e1e"
      },
      "source": [
        "print(\"AUC score = {:0.2f}%\".format(lr_auc*100))"
      ],
      "execution_count": 55,
      "outputs": [
        {
          "output_type": "stream",
          "text": [
            "AUC score = 80.15%\n"
          ],
          "name": "stdout"
        }
      ]
    },
    {
      "cell_type": "code",
      "metadata": {
        "colab": {
          "base_uri": "https://localhost:8080/",
          "height": 296
        },
        "id": "7NMVFGEGvloc",
        "outputId": "3b757e56-cdf4-4b6a-8bce-ad7dbbe843df"
      },
      "source": [
        "plt.plot(lr_recall,lr_precision)\n",
        "plt.xlabel('Recall')\n",
        "plt.ylabel('Precision')"
      ],
      "execution_count": 56,
      "outputs": [
        {
          "output_type": "execute_result",
          "data": {
            "text/plain": [
              "Text(0, 0.5, 'Precision')"
            ]
          },
          "metadata": {
            "tags": []
          },
          "execution_count": 56
        },
        {
          "output_type": "display_data",
          "data": {
            "image/png": "[encoded data removed]",
            "text/plain": [
              "<Figure size 432x288 with 1 Axes>"
            ]
          },
          "metadata": {
            "tags": [],
            "needs_background": "light"
          }
        }
      ]
    }
  ]
}