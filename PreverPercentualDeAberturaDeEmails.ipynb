{
  "nbformat": 4,
  "nbformat_minor": 0,
  "metadata": {
    "colab": {
      "name": "PreverPercentualDeAberturaDeEmails.ipynb",
      "provenance": [],
      "collapsed_sections": [],
      "authorship_tag": "ABX9TyOF7/0K8xfgDotYxx1PMZYu",
      "include_colab_link": true
    },
    "kernelspec": {
      "name": "python3",
      "display_name": "Python 3"
    },
    "language_info": {
      "name": "python"
    }
  },
  "cells": [
    {
      "cell_type": "markdown",
      "metadata": {
        "id": "view-in-github",
        "colab_type": "text"
      },
      "source": [
        "<a href=\"https://colab.research.google.com/github/OseiasBeu/Data-Science/blob/master/PreverPercentualDeAberturaDeEmails.ipynb\" target=\"_parent\"><img src=\"https://colab.research.google.com/assets/colab-badge.svg\" alt=\"Open In Colab\"/></a>"
      ]
    },
    {
      "cell_type": "markdown",
      "source": [
        "# Bibliotecas Utilizadas\n",
        "Sessão para importar as bibliotecas que utilizarei. "
      ],
      "metadata": {
        "id": "Tk1l8w0kOOHX"
      }
    },
    {
      "cell_type": "code",
      "source": [
        "!pip install graphviz==0.10\n",
        "!apt-get install graphviz"
      ],
      "metadata": {
        "colab": {
          "base_uri": "https://localhost:8080/"
        },
        "id": "kNOX_2ape1pQ",
        "outputId": "290e3c96-fdfd-4860-9bc3-47ea7e0b866b"
      },
      "execution_count": 168,
      "outputs": [
        {
          "output_type": "stream",
          "name": "stdout",
          "text": [
            "Looking in indexes: https://pypi.org/simple, https://us-python.pkg.dev/colab-wheels/public/simple/\n",
            "Collecting graphviz==0.10\n",
            "  Downloading graphviz-0.10-py2.py3-none-any.whl (16 kB)\n",
            "Installing collected packages: graphviz\n",
            "  Attempting uninstall: graphviz\n",
            "    Found existing installation: graphviz 0.10.1\n",
            "    Uninstalling graphviz-0.10.1:\n",
            "      Successfully uninstalled graphviz-0.10.1\n",
            "Successfully installed graphviz-0.10\n",
            "Reading package lists... Done\n",
            "Building dependency tree       \n",
            "Reading state information... Done\n",
            "graphviz is already the newest version (2.40.1-2).\n",
            "The following package was automatically installed and is no longer required:\n",
            "  libnvidia-common-460\n",
            "Use 'apt autoremove' to remove it.\n",
            "0 upgraded, 0 newly installed, 0 to remove and 49 not upgraded.\n"
          ]
        }
      ]
    },
    {
      "cell_type": "code",
      "source": [
        "from sklearn.tree import export_graphviz\n",
        "import  graphviz"
      ],
      "metadata": {
        "id": "VmY604a-e8TH"
      },
      "execution_count": 169,
      "outputs": []
    },
    {
      "cell_type": "code",
      "source": [
        "from google.oauth2 import service_account\n",
        "import pandas_gbq\n",
        "from sklearn.svm import LinearSVC\n",
        "from sklearn.model_selection import train_test_split\n",
        "from sklearn.metrics import accuracy_score\n",
        "from sklearn.linear_model import LogisticRegression\n",
        "import seaborn as sns\n",
        "import matplotlib.pyplot as plt\n",
        "import pandas as pd\n",
        "import numpy as np\n",
        "from sklearn.metrics import roc_auc_score, roc_curve, classification_report,accuracy_score, confusion_matrix, auc, precision_score, recall_score\n",
        "from sklearn.naive_bayes import BernoulliNB\n",
        "from sklearn.preprocessing import StandardScaler\n",
        "from sklearn.tree import DecisionTreeClassifier\n",
        "from sklearn.neighbors import KNeighborsClassifier\n",
        "import warnings\n",
        "warnings.filterwarnings(\"ignore\")"
      ],
      "metadata": {
        "id": "g-vzm81rOVdu"
      },
      "execution_count": 73,
      "outputs": []
    },
    {
      "cell_type": "markdown",
      "source": [
        "# Extração do Dataset"
      ],
      "metadata": {
        "id": "miC0C-3vNrs7"
      }
    },
    {
      "cell_type": "markdown",
      "source": [
        "### Primeira query:\n",
        "Essa query possui apenas as informações de entregabilidade."
      ],
      "metadata": {
        "id": "yOkNRv3-N2_i"
      }
    },
    {
      "cell_type": "code",
      "source": [
        "query_string = '''\n",
        "with baseEmail AS (\n",
        "SELECT \n",
        "SubscriberKey\n",
        ",Envios\n",
        ",Entregas\n",
        ",DomainSent\n",
        ",CASE\n",
        "  WHEN LOWER(DomainSent) LIKE '%gmail.com%' THEN 1\n",
        "  WHEN LOWER(DomainSent) LIKE '%outlook.com%' THEN 2\n",
        "  WHEN LOWER(DomainSent) LIKE '%hotmail.com%' THEN 3\n",
        "  WHEN LOWER(DomainSent) LIKE '%yahoo.com%' THEN 4\n",
        "  WHEN LOWER(DomainSent) LIKE '%uol.com%' THEN 5\n",
        "  WHEN LOWER(DomainSent) LIKE '%icloud%' THEN 6\n",
        "  WHEN LOWER(DomainSent) LIKE '%bol.com%' THEN 7\n",
        "  WHEN LOWER(DomainSent) LIKE '%ig.com%' THEN 8\n",
        "  WHEN LOWER(DomainSent) LIKE '%terra.com%' THEN 9\n",
        "  WHEN LOWER(DomainSent) LIKE '%live.com%' THEN 10\n",
        "  WHEN LOWER(DomainSent) LIKE '%msn.com%' THEN 11\n",
        "  WHEN LOWER(DomainSent) LIKE '%me.com%' THEN 12  \n",
        "  ELSE 0\n",
        "  END Domain_class\n",
        ",BU\n",
        ",Aberturas\n",
        "FROM crm-datamart-prd.auxiliares.BASE_EMAIL_SMS\n",
        "where status IN('active')\n",
        "and canal IN (\"Email\")\n",
        ") select * from baseEmail;\n",
        "'''"
      ],
      "metadata": {
        "id": "HfGWP5hYQ1un"
      },
      "execution_count": 2,
      "outputs": []
    },
    {
      "cell_type": "markdown",
      "source": [
        "### Segunda query:\n",
        "Nessa segunda query fiz o cruzamento com a dimensão paciente do datamart para conseguir idade, genero e o id_mdm."
      ],
      "metadata": {
        "id": "tVmoJLCcN77E"
      }
    },
    {
      "cell_type": "code",
      "source": [
        "query_string_v2 = '''\n",
        "with baseEmail AS (\n",
        "SELECT \n",
        "SubscriberKey\n",
        ",Envios\n",
        ",Entregas\n",
        ",DomainSent\n",
        ",CASE\n",
        "  WHEN LOWER(DomainSent) LIKE '%gmail.com%' THEN 1\n",
        "  WHEN LOWER(DomainSent) LIKE '%outlook.com%' THEN 2\n",
        "  WHEN LOWER(DomainSent) LIKE '%hotmail.com%' THEN 3\n",
        "  WHEN LOWER(DomainSent) LIKE '%yahoo.com%' THEN 4\n",
        "  WHEN LOWER(DomainSent) LIKE '%uol.com%' THEN 5\n",
        "  WHEN LOWER(DomainSent) LIKE '%icloud%' THEN 6\n",
        "  WHEN LOWER(DomainSent) LIKE '%bol.com%' THEN 7\n",
        "  WHEN LOWER(DomainSent) LIKE '%ig.com%' THEN 8\n",
        "  WHEN LOWER(DomainSent) LIKE '%terra.com%' THEN 9\n",
        "  WHEN LOWER(DomainSent) LIKE '%live.com%' THEN 10\n",
        "  WHEN LOWER(DomainSent) LIKE '%msn.com%' THEN 11\n",
        "  WHEN LOWER(DomainSent) LIKE '%me.com%' THEN 12  \n",
        "  ELSE 0\n",
        "  END Domain_class\n",
        ",BU\n",
        ",Aberturas\n",
        "FROM crm-datamart-prd.auxiliares.BASE_EMAIL_SMS\n",
        "where status IN('active')\n",
        "and canal IN (\"Email\")\n",
        ") select * from baseEmail\n",
        "JOIN   (select * from (\n",
        "          select distinct\n",
        "            mdm_people_id\n",
        "            ,patient_age\n",
        "            ,origin_gender\n",
        "            ,UPPER(SUBSTRING(REPLACE(origin_name, ' ', ''), 1, 15)) || concat(SUBSTR(cast(origin_birth_date as string),9,2), \"\", SUBSTR(cast(origin_birth_date as string),6,2), \"\", SUBSTR(cast(origin_birth_date as string),0,4)) as pacid\n",
        "            FROM   `interoper-dataplatform-prd.idd_bi_container_dimensions.idd_bi_dim_patient` \n",
        "        -- where UPPER(SUBSTRING(REPLACE(origin_name, ' ', ''), 1, 15)) || concat(SUBSTR(cast(origin_birth_date as string),9,2), \"\", SUBSTR(cast(origin_birth_date as string),6,2), \"\", SUBSTR(cast(origin_birth_date as string),0,4)) like 'FLAVIAMOREIRACO16081982'\n",
        "              WHERE mdm_people_id IS NOT null\n",
        "              AND origin_gender IS NOT null\n",
        "          ) AS dim_patient \n",
        "  )AS dim_patient\n",
        "  ON baseEmail.SubscriberKey = dim_patient.pacid \n",
        "'''"
      ],
      "metadata": {
        "id": "clTefCOgM0yv"
      },
      "execution_count": 3,
      "outputs": []
    },
    {
      "cell_type": "code",
      "execution_count": 4,
      "metadata": {
        "colab": {
          "base_uri": "https://localhost:8080/"
        },
        "id": "dS_EAVLW4aQJ",
        "outputId": "57b892df-b6cc-463c-babd-92222fd9cca1"
      },
      "outputs": [
        {
          "output_type": "stream",
          "name": "stderr",
          "text": [
            "Downloading: 100%|██████████| 1617269/1617269 [02:55<00:00, 9233.87rows/s]\n"
          ]
        }
      ],
      "source": [
        "from google.oauth2 import service_account\n",
        "import pandas_gbq\n",
        "\n",
        "def connectBigQuery(query):\n",
        "    # print(query)\n",
        "    key_path = \"/content/serviceAccount.json\"\n",
        "    credentials = service_account.Credentials.from_service_account_file(key_path)\n",
        "    # print(credentials)\n",
        "    df = pandas_gbq.read_gbq(query,project_id=credentials.project_id,credentials=credentials)\n",
        "    return df\n",
        "\n",
        "\n",
        "if __name__ == '__main__':\n",
        "    df = connectBigQuery(query_string_v2)\n",
        "    df.head(5)"
      ]
    },
    {
      "cell_type": "markdown",
      "source": [
        "### Removendo duplicidades com base no ID."
      ],
      "metadata": {
        "id": "AhxPNmdffYkR"
      }
    },
    {
      "cell_type": "code",
      "source": [
        "print(f'Quantidade de registros na extração: {df.shape}')\n",
        "df = df.drop_duplicates(subset=['mdm_people_id'])\n",
        "print(f'Quantidade de regsitros após a remoção de duplicidades: {df.shape}')"
      ],
      "metadata": {
        "colab": {
          "base_uri": "https://localhost:8080/"
        },
        "id": "b6Jt3kTPfEhq",
        "outputId": "60a9d716-48ff-4a42-940a-a1926e9276ee"
      },
      "execution_count": 5,
      "outputs": [
        {
          "output_type": "stream",
          "name": "stdout",
          "text": [
            "Quantidade de registros na extração: (1617269, 11)\n",
            "Quantidade de regsitros após a remoção de duplicidades: (725735, 11)\n"
          ]
        }
      ]
    },
    {
      "cell_type": "markdown",
      "source": [
        "# Analises descritivas"
      ],
      "metadata": {
        "id": "cdQWL4EsNv7y"
      }
    },
    {
      "cell_type": "markdown",
      "source": [
        "Informações básicas do dataset, como tipos de dados e contage mde valores não nulos"
      ],
      "metadata": {
        "id": "zJNPFtfVPM4g"
      }
    },
    {
      "cell_type": "code",
      "source": [
        "df.info()"
      ],
      "metadata": {
        "colab": {
          "base_uri": "https://localhost:8080/"
        },
        "id": "tePUbSKFOSaF",
        "outputId": "40a01eeb-0ce7-4be5-9ef0-d2385aabaf97"
      },
      "execution_count": 6,
      "outputs": [
        {
          "output_type": "stream",
          "name": "stdout",
          "text": [
            "<class 'pandas.core.frame.DataFrame'>\n",
            "Int64Index: 725735 entries, 0 to 1617266\n",
            "Data columns (total 11 columns):\n",
            " #   Column         Non-Null Count   Dtype \n",
            "---  ------         --------------   ----- \n",
            " 0   SubscriberKey  725735 non-null  object\n",
            " 1   Envios         725735 non-null  int64 \n",
            " 2   Entregas       725735 non-null  int64 \n",
            " 3   DomainSent     725735 non-null  object\n",
            " 4   Domain_class   725735 non-null  int64 \n",
            " 5   BU             725735 non-null  object\n",
            " 6   Aberturas      725735 non-null  int64 \n",
            " 7   mdm_people_id  725735 non-null  int64 \n",
            " 8   patient_age    725735 non-null  int64 \n",
            " 9   origin_gender  725735 non-null  object\n",
            " 10  pacid          725735 non-null  object\n",
            "dtypes: int64(6), object(5)\n",
            "memory usage: 66.4+ MB\n"
          ]
        }
      ]
    },
    {
      "cell_type": "markdown",
      "source": [
        "### Verificando features com valores nulos:\n",
        "Desse modo podemos identificar com quais tipos de dados estamos trabalhando e além disso, verificar se existem dados nulos dentro do nosso dataset. Com essa visão já podemos dizer que temos sim. Agora, vamos fazer uma contagem e identificar exatamente quais são esses caras."
      ],
      "metadata": {
        "id": "V5xBNMrkPDCC"
      }
    },
    {
      "cell_type": "code",
      "source": [
        "df.isnull().sum()"
      ],
      "metadata": {
        "colab": {
          "base_uri": "https://localhost:8080/"
        },
        "id": "suOCo2XrPHe_",
        "outputId": "67d8dcaa-59a2-439b-b467-aa547b3ae31d"
      },
      "execution_count": 7,
      "outputs": [
        {
          "output_type": "execute_result",
          "data": {
            "text/plain": [
              "SubscriberKey    0\n",
              "Envios           0\n",
              "Entregas         0\n",
              "DomainSent       0\n",
              "Domain_class     0\n",
              "BU               0\n",
              "Aberturas        0\n",
              "mdm_people_id    0\n",
              "patient_age      0\n",
              "origin_gender    0\n",
              "pacid            0\n",
              "dtype: int64"
            ]
          },
          "metadata": {},
          "execution_count": 7
        }
      ]
    },
    {
      "cell_type": "markdown",
      "source": [
        "### Estatísticas básicas do dataset"
      ],
      "metadata": {
        "id": "AhVB7XffPsTd"
      }
    },
    {
      "cell_type": "code",
      "source": [
        "df.describe()"
      ],
      "metadata": {
        "colab": {
          "base_uri": "https://localhost:8080/",
          "height": 0
        },
        "id": "CFEU3bVO8pFx",
        "outputId": "7bf7d7bb-ed6f-43f6-d534-7686e5e5d71c"
      },
      "execution_count": 8,
      "outputs": [
        {
          "output_type": "execute_result",
          "data": {
            "text/plain": [
              "         Envios       Entregas   Domain_class      Aberturas  mdm_people_id  \\\n",
              "count  725735.0  725735.000000  725735.000000  725735.000000   7.257350e+05   \n",
              "mean        1.0       0.989838       2.160317       0.228352   1.352645e+07   \n",
              "std         0.0       0.100294       1.746286       0.419771   8.505843e+06   \n",
              "min         1.0       0.000000       0.000000       0.000000   5.078200e+04   \n",
              "25%         1.0       1.000000       1.000000       0.000000   6.782033e+06   \n",
              "50%         1.0       1.000000       1.000000       0.000000   1.259325e+07   \n",
              "75%         1.0       1.000000       3.000000       0.000000   1.754821e+07   \n",
              "max         1.0       1.000000      12.000000       1.000000   3.430579e+07   \n",
              "\n",
              "         patient_age  \n",
              "count  725735.000000  \n",
              "mean       48.444598  \n",
              "std        13.491253  \n",
              "min         0.000000  \n",
              "25%        40.000000  \n",
              "50%        47.000000  \n",
              "75%        58.000000  \n",
              "max       122.000000  "
            ],
            "text/html": [
              "\n",
              "  <div id=\"df-ec5b7a9d-44d9-41de-bf39-b5c810294495\">\n",
              "    <div class=\"colab-df-container\">\n",
              "      <div>\n",
              "<style scoped>\n",
              "    .dataframe tbody tr th:only-of-type {\n",
              "        vertical-align: middle;\n",
              "    }\n",
              "\n",
              "    .dataframe tbody tr th {\n",
              "        vertical-align: top;\n",
              "    }\n",
              "\n",
              "    .dataframe thead th {\n",
              "        text-align: right;\n",
              "    }\n",
              "</style>\n",
              "<table border=\"1\" class=\"dataframe\">\n",
              "  <thead>\n",
              "    <tr style=\"text-align: right;\">\n",
              "      <th></th>\n",
              "      <th>Envios</th>\n",
              "      <th>Entregas</th>\n",
              "      <th>Domain_class</th>\n",
              "      <th>Aberturas</th>\n",
              "      <th>mdm_people_id</th>\n",
              "      <th>patient_age</th>\n",
              "    </tr>\n",
              "  </thead>\n",
              "  <tbody>\n",
              "    <tr>\n",
              "      <th>count</th>\n",
              "      <td>725735.0</td>\n",
              "      <td>725735.000000</td>\n",
              "      <td>725735.000000</td>\n",
              "      <td>725735.000000</td>\n",
              "      <td>7.257350e+05</td>\n",
              "      <td>725735.000000</td>\n",
              "    </tr>\n",
              "    <tr>\n",
              "      <th>mean</th>\n",
              "      <td>1.0</td>\n",
              "      <td>0.989838</td>\n",
              "      <td>2.160317</td>\n",
              "      <td>0.228352</td>\n",
              "      <td>1.352645e+07</td>\n",
              "      <td>48.444598</td>\n",
              "    </tr>\n",
              "    <tr>\n",
              "      <th>std</th>\n",
              "      <td>0.0</td>\n",
              "      <td>0.100294</td>\n",
              "      <td>1.746286</td>\n",
              "      <td>0.419771</td>\n",
              "      <td>8.505843e+06</td>\n",
              "      <td>13.491253</td>\n",
              "    </tr>\n",
              "    <tr>\n",
              "      <th>min</th>\n",
              "      <td>1.0</td>\n",
              "      <td>0.000000</td>\n",
              "      <td>0.000000</td>\n",
              "      <td>0.000000</td>\n",
              "      <td>5.078200e+04</td>\n",
              "      <td>0.000000</td>\n",
              "    </tr>\n",
              "    <tr>\n",
              "      <th>25%</th>\n",
              "      <td>1.0</td>\n",
              "      <td>1.000000</td>\n",
              "      <td>1.000000</td>\n",
              "      <td>0.000000</td>\n",
              "      <td>6.782033e+06</td>\n",
              "      <td>40.000000</td>\n",
              "    </tr>\n",
              "    <tr>\n",
              "      <th>50%</th>\n",
              "      <td>1.0</td>\n",
              "      <td>1.000000</td>\n",
              "      <td>1.000000</td>\n",
              "      <td>0.000000</td>\n",
              "      <td>1.259325e+07</td>\n",
              "      <td>47.000000</td>\n",
              "    </tr>\n",
              "    <tr>\n",
              "      <th>75%</th>\n",
              "      <td>1.0</td>\n",
              "      <td>1.000000</td>\n",
              "      <td>3.000000</td>\n",
              "      <td>0.000000</td>\n",
              "      <td>1.754821e+07</td>\n",
              "      <td>58.000000</td>\n",
              "    </tr>\n",
              "    <tr>\n",
              "      <th>max</th>\n",
              "      <td>1.0</td>\n",
              "      <td>1.000000</td>\n",
              "      <td>12.000000</td>\n",
              "      <td>1.000000</td>\n",
              "      <td>3.430579e+07</td>\n",
              "      <td>122.000000</td>\n",
              "    </tr>\n",
              "  </tbody>\n",
              "</table>\n",
              "</div>\n",
              "      <button class=\"colab-df-convert\" onclick=\"convertToInteractive('df-ec5b7a9d-44d9-41de-bf39-b5c810294495')\"\n",
              "              title=\"Convert this dataframe to an interactive table.\"\n",
              "              style=\"display:none;\">\n",
              "        \n",
              "  <svg xmlns=\"http://www.w3.org/2000/svg\" height=\"24px\"viewBox=\"0 0 24 24\"\n",
              "       width=\"24px\">\n",
              "    <path d=\"M0 0h24v24H0V0z\" fill=\"none\"/>\n",
              "    <path d=\"M18.56 5.44l.94 2.06.94-2.06 2.06-.94-2.06-.94-.94-2.06-.94 2.06-2.06.94zm-11 1L8.5 8.5l.94-2.06 2.06-.94-2.06-.94L8.5 2.5l-.94 2.06-2.06.94zm10 10l.94 2.06.94-2.06 2.06-.94-2.06-.94-.94-2.06-.94 2.06-2.06.94z\"/><path d=\"M17.41 7.96l-1.37-1.37c-.4-.4-.92-.59-1.43-.59-.52 0-1.04.2-1.43.59L10.3 9.45l-7.72 7.72c-.78.78-.78 2.05 0 2.83L4 21.41c.39.39.9.59 1.41.59.51 0 1.02-.2 1.41-.59l7.78-7.78 2.81-2.81c.8-.78.8-2.07 0-2.86zM5.41 20L4 18.59l7.72-7.72 1.47 1.35L5.41 20z\"/>\n",
              "  </svg>\n",
              "      </button>\n",
              "      \n",
              "  <style>\n",
              "    .colab-df-container {\n",
              "      display:flex;\n",
              "      flex-wrap:wrap;\n",
              "      gap: 12px;\n",
              "    }\n",
              "\n",
              "    .colab-df-convert {\n",
              "      background-color: #E8F0FE;\n",
              "      border: none;\n",
              "      border-radius: 50%;\n",
              "      cursor: pointer;\n",
              "      display: none;\n",
              "      fill: #1967D2;\n",
              "      height: 32px;\n",
              "      padding: 0 0 0 0;\n",
              "      width: 32px;\n",
              "    }\n",
              "\n",
              "    .colab-df-convert:hover {\n",
              "      background-color: #E2EBFA;\n",
              "      box-shadow: 0px 1px 2px rgba(60, 64, 67, 0.3), 0px 1px 3px 1px rgba(60, 64, 67, 0.15);\n",
              "      fill: #174EA6;\n",
              "    }\n",
              "\n",
              "    [theme=dark] .colab-df-convert {\n",
              "      background-color: #3B4455;\n",
              "      fill: #D2E3FC;\n",
              "    }\n",
              "\n",
              "    [theme=dark] .colab-df-convert:hover {\n",
              "      background-color: #434B5C;\n",
              "      box-shadow: 0px 1px 3px 1px rgba(0, 0, 0, 0.15);\n",
              "      filter: drop-shadow(0px 1px 2px rgba(0, 0, 0, 0.3));\n",
              "      fill: #FFFFFF;\n",
              "    }\n",
              "  </style>\n",
              "\n",
              "      <script>\n",
              "        const buttonEl =\n",
              "          document.querySelector('#df-ec5b7a9d-44d9-41de-bf39-b5c810294495 button.colab-df-convert');\n",
              "        buttonEl.style.display =\n",
              "          google.colab.kernel.accessAllowed ? 'block' : 'none';\n",
              "\n",
              "        async function convertToInteractive(key) {\n",
              "          const element = document.querySelector('#df-ec5b7a9d-44d9-41de-bf39-b5c810294495');\n",
              "          const dataTable =\n",
              "            await google.colab.kernel.invokeFunction('convertToInteractive',\n",
              "                                                     [key], {});\n",
              "          if (!dataTable) return;\n",
              "\n",
              "          const docLinkHtml = 'Like what you see? Visit the ' +\n",
              "            '<a target=\"_blank\" href=https://colab.research.google.com/notebooks/data_table.ipynb>data table notebook</a>'\n",
              "            + ' to learn more about interactive tables.';\n",
              "          element.innerHTML = '';\n",
              "          dataTable['output_type'] = 'display_data';\n",
              "          await google.colab.output.renderOutput(dataTable, element);\n",
              "          const docLink = document.createElement('div');\n",
              "          docLink.innerHTML = docLinkHtml;\n",
              "          element.appendChild(docLink);\n",
              "        }\n",
              "      </script>\n",
              "    </div>\n",
              "  </div>\n",
              "  "
            ]
          },
          "metadata": {},
          "execution_count": 8
        }
      ]
    },
    {
      "cell_type": "markdown",
      "source": [
        "### Média de idade do dataset"
      ],
      "metadata": {
        "id": "l1cVEDooQzVk"
      }
    },
    {
      "cell_type": "code",
      "source": [
        "df.patient_age.mean()"
      ],
      "metadata": {
        "colab": {
          "base_uri": "https://localhost:8080/"
        },
        "id": "kDeCgvSlQo1P",
        "outputId": "88ecf8d3-1ab5-444b-b018-99dcbecadaef"
      },
      "execution_count": 9,
      "outputs": [
        {
          "output_type": "execute_result",
          "data": {
            "text/plain": [
              "48.44459754593619"
            ]
          },
          "metadata": {},
          "execution_count": 9
        }
      ]
    },
    {
      "cell_type": "markdown",
      "source": [
        "### Agrupamentos de alguns campos:"
      ],
      "metadata": {
        "id": "gRK9uHJrPvkp"
      }
    },
    {
      "cell_type": "code",
      "source": [
        "df.groupby('Aberturas').count()"
      ],
      "metadata": {
        "colab": {
          "base_uri": "https://localhost:8080/",
          "height": 0
        },
        "id": "qnCodnyHesPy",
        "outputId": "9e95ba47-49e0-4ede-8f2f-c18c96ba6904"
      },
      "execution_count": 10,
      "outputs": [
        {
          "output_type": "execute_result",
          "data": {
            "text/plain": [
              "           SubscriberKey  Envios  Entregas  DomainSent  Domain_class      BU  \\\n",
              "Aberturas                                                                      \n",
              "0                 560012  560012    560012      560012        560012  560012   \n",
              "1                 165723  165723    165723      165723        165723  165723   \n",
              "\n",
              "           mdm_people_id  patient_age  origin_gender   pacid  \n",
              "Aberturas                                                     \n",
              "0                 560012       560012         560012  560012  \n",
              "1                 165723       165723         165723  165723  "
            ],
            "text/html": [
              "\n",
              "  <div id=\"df-0d204d4b-e6c6-47d3-8dfa-088a5d7c8abd\">\n",
              "    <div class=\"colab-df-container\">\n",
              "      <div>\n",
              "<style scoped>\n",
              "    .dataframe tbody tr th:only-of-type {\n",
              "        vertical-align: middle;\n",
              "    }\n",
              "\n",
              "    .dataframe tbody tr th {\n",
              "        vertical-align: top;\n",
              "    }\n",
              "\n",
              "    .dataframe thead th {\n",
              "        text-align: right;\n",
              "    }\n",
              "</style>\n",
              "<table border=\"1\" class=\"dataframe\">\n",
              "  <thead>\n",
              "    <tr style=\"text-align: right;\">\n",
              "      <th></th>\n",
              "      <th>SubscriberKey</th>\n",
              "      <th>Envios</th>\n",
              "      <th>Entregas</th>\n",
              "      <th>DomainSent</th>\n",
              "      <th>Domain_class</th>\n",
              "      <th>BU</th>\n",
              "      <th>mdm_people_id</th>\n",
              "      <th>patient_age</th>\n",
              "      <th>origin_gender</th>\n",
              "      <th>pacid</th>\n",
              "    </tr>\n",
              "    <tr>\n",
              "      <th>Aberturas</th>\n",
              "      <th></th>\n",
              "      <th></th>\n",
              "      <th></th>\n",
              "      <th></th>\n",
              "      <th></th>\n",
              "      <th></th>\n",
              "      <th></th>\n",
              "      <th></th>\n",
              "      <th></th>\n",
              "      <th></th>\n",
              "    </tr>\n",
              "  </thead>\n",
              "  <tbody>\n",
              "    <tr>\n",
              "      <th>0</th>\n",
              "      <td>560012</td>\n",
              "      <td>560012</td>\n",
              "      <td>560012</td>\n",
              "      <td>560012</td>\n",
              "      <td>560012</td>\n",
              "      <td>560012</td>\n",
              "      <td>560012</td>\n",
              "      <td>560012</td>\n",
              "      <td>560012</td>\n",
              "      <td>560012</td>\n",
              "    </tr>\n",
              "    <tr>\n",
              "      <th>1</th>\n",
              "      <td>165723</td>\n",
              "      <td>165723</td>\n",
              "      <td>165723</td>\n",
              "      <td>165723</td>\n",
              "      <td>165723</td>\n",
              "      <td>165723</td>\n",
              "      <td>165723</td>\n",
              "      <td>165723</td>\n",
              "      <td>165723</td>\n",
              "      <td>165723</td>\n",
              "    </tr>\n",
              "  </tbody>\n",
              "</table>\n",
              "</div>\n",
              "      <button class=\"colab-df-convert\" onclick=\"convertToInteractive('df-0d204d4b-e6c6-47d3-8dfa-088a5d7c8abd')\"\n",
              "              title=\"Convert this dataframe to an interactive table.\"\n",
              "              style=\"display:none;\">\n",
              "        \n",
              "  <svg xmlns=\"http://www.w3.org/2000/svg\" height=\"24px\"viewBox=\"0 0 24 24\"\n",
              "       width=\"24px\">\n",
              "    <path d=\"M0 0h24v24H0V0z\" fill=\"none\"/>\n",
              "    <path d=\"M18.56 5.44l.94 2.06.94-2.06 2.06-.94-2.06-.94-.94-2.06-.94 2.06-2.06.94zm-11 1L8.5 8.5l.94-2.06 2.06-.94-2.06-.94L8.5 2.5l-.94 2.06-2.06.94zm10 10l.94 2.06.94-2.06 2.06-.94-2.06-.94-.94-2.06-.94 2.06-2.06.94z\"/><path d=\"M17.41 7.96l-1.37-1.37c-.4-.4-.92-.59-1.43-.59-.52 0-1.04.2-1.43.59L10.3 9.45l-7.72 7.72c-.78.78-.78 2.05 0 2.83L4 21.41c.39.39.9.59 1.41.59.51 0 1.02-.2 1.41-.59l7.78-7.78 2.81-2.81c.8-.78.8-2.07 0-2.86zM5.41 20L4 18.59l7.72-7.72 1.47 1.35L5.41 20z\"/>\n",
              "  </svg>\n",
              "      </button>\n",
              "      \n",
              "  <style>\n",
              "    .colab-df-container {\n",
              "      display:flex;\n",
              "      flex-wrap:wrap;\n",
              "      gap: 12px;\n",
              "    }\n",
              "\n",
              "    .colab-df-convert {\n",
              "      background-color: #E8F0FE;\n",
              "      border: none;\n",
              "      border-radius: 50%;\n",
              "      cursor: pointer;\n",
              "      display: none;\n",
              "      fill: #1967D2;\n",
              "      height: 32px;\n",
              "      padding: 0 0 0 0;\n",
              "      width: 32px;\n",
              "    }\n",
              "\n",
              "    .colab-df-convert:hover {\n",
              "      background-color: #E2EBFA;\n",
              "      box-shadow: 0px 1px 2px rgba(60, 64, 67, 0.3), 0px 1px 3px 1px rgba(60, 64, 67, 0.15);\n",
              "      fill: #174EA6;\n",
              "    }\n",
              "\n",
              "    [theme=dark] .colab-df-convert {\n",
              "      background-color: #3B4455;\n",
              "      fill: #D2E3FC;\n",
              "    }\n",
              "\n",
              "    [theme=dark] .colab-df-convert:hover {\n",
              "      background-color: #434B5C;\n",
              "      box-shadow: 0px 1px 3px 1px rgba(0, 0, 0, 0.15);\n",
              "      filter: drop-shadow(0px 1px 2px rgba(0, 0, 0, 0.3));\n",
              "      fill: #FFFFFF;\n",
              "    }\n",
              "  </style>\n",
              "\n",
              "      <script>\n",
              "        const buttonEl =\n",
              "          document.querySelector('#df-0d204d4b-e6c6-47d3-8dfa-088a5d7c8abd button.colab-df-convert');\n",
              "        buttonEl.style.display =\n",
              "          google.colab.kernel.accessAllowed ? 'block' : 'none';\n",
              "\n",
              "        async function convertToInteractive(key) {\n",
              "          const element = document.querySelector('#df-0d204d4b-e6c6-47d3-8dfa-088a5d7c8abd');\n",
              "          const dataTable =\n",
              "            await google.colab.kernel.invokeFunction('convertToInteractive',\n",
              "                                                     [key], {});\n",
              "          if (!dataTable) return;\n",
              "\n",
              "          const docLinkHtml = 'Like what you see? Visit the ' +\n",
              "            '<a target=\"_blank\" href=https://colab.research.google.com/notebooks/data_table.ipynb>data table notebook</a>'\n",
              "            + ' to learn more about interactive tables.';\n",
              "          element.innerHTML = '';\n",
              "          dataTable['output_type'] = 'display_data';\n",
              "          await google.colab.output.renderOutput(dataTable, element);\n",
              "          const docLink = document.createElement('div');\n",
              "          docLink.innerHTML = docLinkHtml;\n",
              "          element.appendChild(docLink);\n",
              "        }\n",
              "      </script>\n",
              "    </div>\n",
              "  </div>\n",
              "  "
            ]
          },
          "metadata": {},
          "execution_count": 10
        }
      ]
    },
    {
      "cell_type": "code",
      "source": [
        "df.groupby('Envios').count()"
      ],
      "metadata": {
        "colab": {
          "base_uri": "https://localhost:8080/",
          "height": 0
        },
        "id": "i46MIzz-hwwu",
        "outputId": "f3b5085a-9d6c-4d0c-f4c0-d99d5fd624f8"
      },
      "execution_count": 11,
      "outputs": [
        {
          "output_type": "execute_result",
          "data": {
            "text/plain": [
              "        SubscriberKey  Entregas  DomainSent  Domain_class      BU  Aberturas  \\\n",
              "Envios                                                                         \n",
              "1              725735    725735      725735        725735  725735     725735   \n",
              "\n",
              "        mdm_people_id  patient_age  origin_gender   pacid  \n",
              "Envios                                                     \n",
              "1              725735       725735         725735  725735  "
            ],
            "text/html": [
              "\n",
              "  <div id=\"df-9a6bb47d-ae7c-4267-80af-20f02fb43497\">\n",
              "    <div class=\"colab-df-container\">\n",
              "      <div>\n",
              "<style scoped>\n",
              "    .dataframe tbody tr th:only-of-type {\n",
              "        vertical-align: middle;\n",
              "    }\n",
              "\n",
              "    .dataframe tbody tr th {\n",
              "        vertical-align: top;\n",
              "    }\n",
              "\n",
              "    .dataframe thead th {\n",
              "        text-align: right;\n",
              "    }\n",
              "</style>\n",
              "<table border=\"1\" class=\"dataframe\">\n",
              "  <thead>\n",
              "    <tr style=\"text-align: right;\">\n",
              "      <th></th>\n",
              "      <th>SubscriberKey</th>\n",
              "      <th>Entregas</th>\n",
              "      <th>DomainSent</th>\n",
              "      <th>Domain_class</th>\n",
              "      <th>BU</th>\n",
              "      <th>Aberturas</th>\n",
              "      <th>mdm_people_id</th>\n",
              "      <th>patient_age</th>\n",
              "      <th>origin_gender</th>\n",
              "      <th>pacid</th>\n",
              "    </tr>\n",
              "    <tr>\n",
              "      <th>Envios</th>\n",
              "      <th></th>\n",
              "      <th></th>\n",
              "      <th></th>\n",
              "      <th></th>\n",
              "      <th></th>\n",
              "      <th></th>\n",
              "      <th></th>\n",
              "      <th></th>\n",
              "      <th></th>\n",
              "      <th></th>\n",
              "    </tr>\n",
              "  </thead>\n",
              "  <tbody>\n",
              "    <tr>\n",
              "      <th>1</th>\n",
              "      <td>725735</td>\n",
              "      <td>725735</td>\n",
              "      <td>725735</td>\n",
              "      <td>725735</td>\n",
              "      <td>725735</td>\n",
              "      <td>725735</td>\n",
              "      <td>725735</td>\n",
              "      <td>725735</td>\n",
              "      <td>725735</td>\n",
              "      <td>725735</td>\n",
              "    </tr>\n",
              "  </tbody>\n",
              "</table>\n",
              "</div>\n",
              "      <button class=\"colab-df-convert\" onclick=\"convertToInteractive('df-9a6bb47d-ae7c-4267-80af-20f02fb43497')\"\n",
              "              title=\"Convert this dataframe to an interactive table.\"\n",
              "              style=\"display:none;\">\n",
              "        \n",
              "  <svg xmlns=\"http://www.w3.org/2000/svg\" height=\"24px\"viewBox=\"0 0 24 24\"\n",
              "       width=\"24px\">\n",
              "    <path d=\"M0 0h24v24H0V0z\" fill=\"none\"/>\n",
              "    <path d=\"M18.56 5.44l.94 2.06.94-2.06 2.06-.94-2.06-.94-.94-2.06-.94 2.06-2.06.94zm-11 1L8.5 8.5l.94-2.06 2.06-.94-2.06-.94L8.5 2.5l-.94 2.06-2.06.94zm10 10l.94 2.06.94-2.06 2.06-.94-2.06-.94-.94-2.06-.94 2.06-2.06.94z\"/><path d=\"M17.41 7.96l-1.37-1.37c-.4-.4-.92-.59-1.43-.59-.52 0-1.04.2-1.43.59L10.3 9.45l-7.72 7.72c-.78.78-.78 2.05 0 2.83L4 21.41c.39.39.9.59 1.41.59.51 0 1.02-.2 1.41-.59l7.78-7.78 2.81-2.81c.8-.78.8-2.07 0-2.86zM5.41 20L4 18.59l7.72-7.72 1.47 1.35L5.41 20z\"/>\n",
              "  </svg>\n",
              "      </button>\n",
              "      \n",
              "  <style>\n",
              "    .colab-df-container {\n",
              "      display:flex;\n",
              "      flex-wrap:wrap;\n",
              "      gap: 12px;\n",
              "    }\n",
              "\n",
              "    .colab-df-convert {\n",
              "      background-color: #E8F0FE;\n",
              "      border: none;\n",
              "      border-radius: 50%;\n",
              "      cursor: pointer;\n",
              "      display: none;\n",
              "      fill: #1967D2;\n",
              "      height: 32px;\n",
              "      padding: 0 0 0 0;\n",
              "      width: 32px;\n",
              "    }\n",
              "\n",
              "    .colab-df-convert:hover {\n",
              "      background-color: #E2EBFA;\n",
              "      box-shadow: 0px 1px 2px rgba(60, 64, 67, 0.3), 0px 1px 3px 1px rgba(60, 64, 67, 0.15);\n",
              "      fill: #174EA6;\n",
              "    }\n",
              "\n",
              "    [theme=dark] .colab-df-convert {\n",
              "      background-color: #3B4455;\n",
              "      fill: #D2E3FC;\n",
              "    }\n",
              "\n",
              "    [theme=dark] .colab-df-convert:hover {\n",
              "      background-color: #434B5C;\n",
              "      box-shadow: 0px 1px 3px 1px rgba(0, 0, 0, 0.15);\n",
              "      filter: drop-shadow(0px 1px 2px rgba(0, 0, 0, 0.3));\n",
              "      fill: #FFFFFF;\n",
              "    }\n",
              "  </style>\n",
              "\n",
              "      <script>\n",
              "        const buttonEl =\n",
              "          document.querySelector('#df-9a6bb47d-ae7c-4267-80af-20f02fb43497 button.colab-df-convert');\n",
              "        buttonEl.style.display =\n",
              "          google.colab.kernel.accessAllowed ? 'block' : 'none';\n",
              "\n",
              "        async function convertToInteractive(key) {\n",
              "          const element = document.querySelector('#df-9a6bb47d-ae7c-4267-80af-20f02fb43497');\n",
              "          const dataTable =\n",
              "            await google.colab.kernel.invokeFunction('convertToInteractive',\n",
              "                                                     [key], {});\n",
              "          if (!dataTable) return;\n",
              "\n",
              "          const docLinkHtml = 'Like what you see? Visit the ' +\n",
              "            '<a target=\"_blank\" href=https://colab.research.google.com/notebooks/data_table.ipynb>data table notebook</a>'\n",
              "            + ' to learn more about interactive tables.';\n",
              "          element.innerHTML = '';\n",
              "          dataTable['output_type'] = 'display_data';\n",
              "          await google.colab.output.renderOutput(dataTable, element);\n",
              "          const docLink = document.createElement('div');\n",
              "          docLink.innerHTML = docLinkHtml;\n",
              "          element.appendChild(docLink);\n",
              "        }\n",
              "      </script>\n",
              "    </div>\n",
              "  </div>\n",
              "  "
            ]
          },
          "metadata": {},
          "execution_count": 11
        }
      ]
    },
    {
      "cell_type": "code",
      "source": [
        "df.groupby('BU').sum()"
      ],
      "metadata": {
        "colab": {
          "base_uri": "https://localhost:8080/",
          "height": 0
        },
        "id": "srlzy18bh4_Z",
        "outputId": "39b3fe06-5519-4501-d3b4-810cdbff28d9"
      },
      "execution_count": 12,
      "outputs": [
        {
          "output_type": "execute_result",
          "data": {
            "text/plain": [
              "                        Envios  Entregas  Domain_class  Aberturas  \\\n",
              "BU                                                                  \n",
              "DASA - DELBONI AURIEMO  434802    428842        946673     115405   \n",
              "DASA - SP               290933    289518        621145      50318   \n",
              "\n",
              "                        mdm_people_id  patient_age  \n",
              "BU                                                  \n",
              "DASA - DELBONI AURIEMO  5640644300870     22602665  \n",
              "DASA - SP               4175976442951     12555275  "
            ],
            "text/html": [
              "\n",
              "  <div id=\"df-be830cb8-c391-4a24-848d-1018d59ae587\">\n",
              "    <div class=\"colab-df-container\">\n",
              "      <div>\n",
              "<style scoped>\n",
              "    .dataframe tbody tr th:only-of-type {\n",
              "        vertical-align: middle;\n",
              "    }\n",
              "\n",
              "    .dataframe tbody tr th {\n",
              "        vertical-align: top;\n",
              "    }\n",
              "\n",
              "    .dataframe thead th {\n",
              "        text-align: right;\n",
              "    }\n",
              "</style>\n",
              "<table border=\"1\" class=\"dataframe\">\n",
              "  <thead>\n",
              "    <tr style=\"text-align: right;\">\n",
              "      <th></th>\n",
              "      <th>Envios</th>\n",
              "      <th>Entregas</th>\n",
              "      <th>Domain_class</th>\n",
              "      <th>Aberturas</th>\n",
              "      <th>mdm_people_id</th>\n",
              "      <th>patient_age</th>\n",
              "    </tr>\n",
              "    <tr>\n",
              "      <th>BU</th>\n",
              "      <th></th>\n",
              "      <th></th>\n",
              "      <th></th>\n",
              "      <th></th>\n",
              "      <th></th>\n",
              "      <th></th>\n",
              "    </tr>\n",
              "  </thead>\n",
              "  <tbody>\n",
              "    <tr>\n",
              "      <th>DASA - DELBONI AURIEMO</th>\n",
              "      <td>434802</td>\n",
              "      <td>428842</td>\n",
              "      <td>946673</td>\n",
              "      <td>115405</td>\n",
              "      <td>5640644300870</td>\n",
              "      <td>22602665</td>\n",
              "    </tr>\n",
              "    <tr>\n",
              "      <th>DASA - SP</th>\n",
              "      <td>290933</td>\n",
              "      <td>289518</td>\n",
              "      <td>621145</td>\n",
              "      <td>50318</td>\n",
              "      <td>4175976442951</td>\n",
              "      <td>12555275</td>\n",
              "    </tr>\n",
              "  </tbody>\n",
              "</table>\n",
              "</div>\n",
              "      <button class=\"colab-df-convert\" onclick=\"convertToInteractive('df-be830cb8-c391-4a24-848d-1018d59ae587')\"\n",
              "              title=\"Convert this dataframe to an interactive table.\"\n",
              "              style=\"display:none;\">\n",
              "        \n",
              "  <svg xmlns=\"http://www.w3.org/2000/svg\" height=\"24px\"viewBox=\"0 0 24 24\"\n",
              "       width=\"24px\">\n",
              "    <path d=\"M0 0h24v24H0V0z\" fill=\"none\"/>\n",
              "    <path d=\"M18.56 5.44l.94 2.06.94-2.06 2.06-.94-2.06-.94-.94-2.06-.94 2.06-2.06.94zm-11 1L8.5 8.5l.94-2.06 2.06-.94-2.06-.94L8.5 2.5l-.94 2.06-2.06.94zm10 10l.94 2.06.94-2.06 2.06-.94-2.06-.94-.94-2.06-.94 2.06-2.06.94z\"/><path d=\"M17.41 7.96l-1.37-1.37c-.4-.4-.92-.59-1.43-.59-.52 0-1.04.2-1.43.59L10.3 9.45l-7.72 7.72c-.78.78-.78 2.05 0 2.83L4 21.41c.39.39.9.59 1.41.59.51 0 1.02-.2 1.41-.59l7.78-7.78 2.81-2.81c.8-.78.8-2.07 0-2.86zM5.41 20L4 18.59l7.72-7.72 1.47 1.35L5.41 20z\"/>\n",
              "  </svg>\n",
              "      </button>\n",
              "      \n",
              "  <style>\n",
              "    .colab-df-container {\n",
              "      display:flex;\n",
              "      flex-wrap:wrap;\n",
              "      gap: 12px;\n",
              "    }\n",
              "\n",
              "    .colab-df-convert {\n",
              "      background-color: #E8F0FE;\n",
              "      border: none;\n",
              "      border-radius: 50%;\n",
              "      cursor: pointer;\n",
              "      display: none;\n",
              "      fill: #1967D2;\n",
              "      height: 32px;\n",
              "      padding: 0 0 0 0;\n",
              "      width: 32px;\n",
              "    }\n",
              "\n",
              "    .colab-df-convert:hover {\n",
              "      background-color: #E2EBFA;\n",
              "      box-shadow: 0px 1px 2px rgba(60, 64, 67, 0.3), 0px 1px 3px 1px rgba(60, 64, 67, 0.15);\n",
              "      fill: #174EA6;\n",
              "    }\n",
              "\n",
              "    [theme=dark] .colab-df-convert {\n",
              "      background-color: #3B4455;\n",
              "      fill: #D2E3FC;\n",
              "    }\n",
              "\n",
              "    [theme=dark] .colab-df-convert:hover {\n",
              "      background-color: #434B5C;\n",
              "      box-shadow: 0px 1px 3px 1px rgba(0, 0, 0, 0.15);\n",
              "      filter: drop-shadow(0px 1px 2px rgba(0, 0, 0, 0.3));\n",
              "      fill: #FFFFFF;\n",
              "    }\n",
              "  </style>\n",
              "\n",
              "      <script>\n",
              "        const buttonEl =\n",
              "          document.querySelector('#df-be830cb8-c391-4a24-848d-1018d59ae587 button.colab-df-convert');\n",
              "        buttonEl.style.display =\n",
              "          google.colab.kernel.accessAllowed ? 'block' : 'none';\n",
              "\n",
              "        async function convertToInteractive(key) {\n",
              "          const element = document.querySelector('#df-be830cb8-c391-4a24-848d-1018d59ae587');\n",
              "          const dataTable =\n",
              "            await google.colab.kernel.invokeFunction('convertToInteractive',\n",
              "                                                     [key], {});\n",
              "          if (!dataTable) return;\n",
              "\n",
              "          const docLinkHtml = 'Like what you see? Visit the ' +\n",
              "            '<a target=\"_blank\" href=https://colab.research.google.com/notebooks/data_table.ipynb>data table notebook</a>'\n",
              "            + ' to learn more about interactive tables.';\n",
              "          element.innerHTML = '';\n",
              "          dataTable['output_type'] = 'display_data';\n",
              "          await google.colab.output.renderOutput(dataTable, element);\n",
              "          const docLink = document.createElement('div');\n",
              "          docLink.innerHTML = docLinkHtml;\n",
              "          element.appendChild(docLink);\n",
              "        }\n",
              "      </script>\n",
              "    </div>\n",
              "  </div>\n",
              "  "
            ]
          },
          "metadata": {},
          "execution_count": 12
        }
      ]
    },
    {
      "cell_type": "markdown",
      "source": [
        "#### Tratar esse campo:\n",
        "* Gerar classes\n",
        "* Corrigir acronimos"
      ],
      "metadata": {
        "id": "u9-0Ih27QP1w"
      }
    },
    {
      "cell_type": "code",
      "source": [
        "df.groupby(['origin_gender']).sum()"
      ],
      "metadata": {
        "colab": {
          "base_uri": "https://localhost:8080/",
          "height": 0
        },
        "id": "dxiRFE-MQF7J",
        "outputId": "db799b8f-0fde-428d-cab4-2a6bb27fbeba"
      },
      "execution_count": 13,
      "outputs": [
        {
          "output_type": "execute_result",
          "data": {
            "text/plain": [
              "               Envios  Entregas  Domain_class  Aberturas  mdm_people_id  \\\n",
              "origin_gender                                                             \n",
              "                    2         2             7          1       19617950   \n",
              "                    1         1             1          0        3893388   \n",
              "F              327409    323859        710174      77748  4750292001179   \n",
              "FEMALE            957       955          1895        255    12825190007   \n",
              "FEMININO       270857    267902        588186      64696  3283754289121   \n",
              "G                   1         1             3          0        6146087   \n",
              "I                 309       303           736         69     5194564693   \n",
              "INDETERMINADO       3         3             7          0       53992227   \n",
              "INTERSEXUAL       148       145           401         26     2002968799   \n",
              "M               66925     66512        141548      12066  1001291355208   \n",
              "MALE              170       168           361         34     2155971686   \n",
              "MASCULINO       55260     54866        116443      10043   712631553460   \n",
              "N                   2         0             9          0       66402864   \n",
              "N/D                 2         2             1          0       54855773   \n",
              "NAO_INFORMADO     419       404          1105         72     3394327771   \n",
              "NONE             2797      2767          5923        616    35317126836   \n",
              "\\N                473       470          1018         97     7556486772   \n",
              "\n",
              "               patient_age  \n",
              "origin_gender               \n",
              "                       138  \n",
              "                        68  \n",
              "F                 16076389  \n",
              "FEMALE               44055  \n",
              "FEMININO          13319070  \n",
              "G                       30  \n",
              "I                    14836  \n",
              "INDETERMINADO          197  \n",
              "INTERSEXUAL           6415  \n",
              "M                  3031364  \n",
              "MALE                  7258  \n",
              "MASCULINO          2483289  \n",
              "N                       94  \n",
              "N/D                     87  \n",
              "NAO_INFORMADO        20577  \n",
              "NONE                128532  \n",
              "\\N                   25541  "
            ],
            "text/html": [
              "\n",
              "  <div id=\"df-97a2168f-db80-4932-89eb-435b1ddd776a\">\n",
              "    <div class=\"colab-df-container\">\n",
              "      <div>\n",
              "<style scoped>\n",
              "    .dataframe tbody tr th:only-of-type {\n",
              "        vertical-align: middle;\n",
              "    }\n",
              "\n",
              "    .dataframe tbody tr th {\n",
              "        vertical-align: top;\n",
              "    }\n",
              "\n",
              "    .dataframe thead th {\n",
              "        text-align: right;\n",
              "    }\n",
              "</style>\n",
              "<table border=\"1\" class=\"dataframe\">\n",
              "  <thead>\n",
              "    <tr style=\"text-align: right;\">\n",
              "      <th></th>\n",
              "      <th>Envios</th>\n",
              "      <th>Entregas</th>\n",
              "      <th>Domain_class</th>\n",
              "      <th>Aberturas</th>\n",
              "      <th>mdm_people_id</th>\n",
              "      <th>patient_age</th>\n",
              "    </tr>\n",
              "    <tr>\n",
              "      <th>origin_gender</th>\n",
              "      <th></th>\n",
              "      <th></th>\n",
              "      <th></th>\n",
              "      <th></th>\n",
              "      <th></th>\n",
              "      <th></th>\n",
              "    </tr>\n",
              "  </thead>\n",
              "  <tbody>\n",
              "    <tr>\n",
              "      <th></th>\n",
              "      <td>2</td>\n",
              "      <td>2</td>\n",
              "      <td>7</td>\n",
              "      <td>1</td>\n",
              "      <td>19617950</td>\n",
              "      <td>138</td>\n",
              "    </tr>\n",
              "    <tr>\n",
              "      <th></th>\n",
              "      <td>1</td>\n",
              "      <td>1</td>\n",
              "      <td>1</td>\n",
              "      <td>0</td>\n",
              "      <td>3893388</td>\n",
              "      <td>68</td>\n",
              "    </tr>\n",
              "    <tr>\n",
              "      <th>F</th>\n",
              "      <td>327409</td>\n",
              "      <td>323859</td>\n",
              "      <td>710174</td>\n",
              "      <td>77748</td>\n",
              "      <td>4750292001179</td>\n",
              "      <td>16076389</td>\n",
              "    </tr>\n",
              "    <tr>\n",
              "      <th>FEMALE</th>\n",
              "      <td>957</td>\n",
              "      <td>955</td>\n",
              "      <td>1895</td>\n",
              "      <td>255</td>\n",
              "      <td>12825190007</td>\n",
              "      <td>44055</td>\n",
              "    </tr>\n",
              "    <tr>\n",
              "      <th>FEMININO</th>\n",
              "      <td>270857</td>\n",
              "      <td>267902</td>\n",
              "      <td>588186</td>\n",
              "      <td>64696</td>\n",
              "      <td>3283754289121</td>\n",
              "      <td>13319070</td>\n",
              "    </tr>\n",
              "    <tr>\n",
              "      <th>G</th>\n",
              "      <td>1</td>\n",
              "      <td>1</td>\n",
              "      <td>3</td>\n",
              "      <td>0</td>\n",
              "      <td>6146087</td>\n",
              "      <td>30</td>\n",
              "    </tr>\n",
              "    <tr>\n",
              "      <th>I</th>\n",
              "      <td>309</td>\n",
              "      <td>303</td>\n",
              "      <td>736</td>\n",
              "      <td>69</td>\n",
              "      <td>5194564693</td>\n",
              "      <td>14836</td>\n",
              "    </tr>\n",
              "    <tr>\n",
              "      <th>INDETERMINADO</th>\n",
              "      <td>3</td>\n",
              "      <td>3</td>\n",
              "      <td>7</td>\n",
              "      <td>0</td>\n",
              "      <td>53992227</td>\n",
              "      <td>197</td>\n",
              "    </tr>\n",
              "    <tr>\n",
              "      <th>INTERSEXUAL</th>\n",
              "      <td>148</td>\n",
              "      <td>145</td>\n",
              "      <td>401</td>\n",
              "      <td>26</td>\n",
              "      <td>2002968799</td>\n",
              "      <td>6415</td>\n",
              "    </tr>\n",
              "    <tr>\n",
              "      <th>M</th>\n",
              "      <td>66925</td>\n",
              "      <td>66512</td>\n",
              "      <td>141548</td>\n",
              "      <td>12066</td>\n",
              "      <td>1001291355208</td>\n",
              "      <td>3031364</td>\n",
              "    </tr>\n",
              "    <tr>\n",
              "      <th>MALE</th>\n",
              "      <td>170</td>\n",
              "      <td>168</td>\n",
              "      <td>361</td>\n",
              "      <td>34</td>\n",
              "      <td>2155971686</td>\n",
              "      <td>7258</td>\n",
              "    </tr>\n",
              "    <tr>\n",
              "      <th>MASCULINO</th>\n",
              "      <td>55260</td>\n",
              "      <td>54866</td>\n",
              "      <td>116443</td>\n",
              "      <td>10043</td>\n",
              "      <td>712631553460</td>\n",
              "      <td>2483289</td>\n",
              "    </tr>\n",
              "    <tr>\n",
              "      <th>N</th>\n",
              "      <td>2</td>\n",
              "      <td>0</td>\n",
              "      <td>9</td>\n",
              "      <td>0</td>\n",
              "      <td>66402864</td>\n",
              "      <td>94</td>\n",
              "    </tr>\n",
              "    <tr>\n",
              "      <th>N/D</th>\n",
              "      <td>2</td>\n",
              "      <td>2</td>\n",
              "      <td>1</td>\n",
              "      <td>0</td>\n",
              "      <td>54855773</td>\n",
              "      <td>87</td>\n",
              "    </tr>\n",
              "    <tr>\n",
              "      <th>NAO_INFORMADO</th>\n",
              "      <td>419</td>\n",
              "      <td>404</td>\n",
              "      <td>1105</td>\n",
              "      <td>72</td>\n",
              "      <td>3394327771</td>\n",
              "      <td>20577</td>\n",
              "    </tr>\n",
              "    <tr>\n",
              "      <th>NONE</th>\n",
              "      <td>2797</td>\n",
              "      <td>2767</td>\n",
              "      <td>5923</td>\n",
              "      <td>616</td>\n",
              "      <td>35317126836</td>\n",
              "      <td>128532</td>\n",
              "    </tr>\n",
              "    <tr>\n",
              "      <th>\\N</th>\n",
              "      <td>473</td>\n",
              "      <td>470</td>\n",
              "      <td>1018</td>\n",
              "      <td>97</td>\n",
              "      <td>7556486772</td>\n",
              "      <td>25541</td>\n",
              "    </tr>\n",
              "  </tbody>\n",
              "</table>\n",
              "</div>\n",
              "      <button class=\"colab-df-convert\" onclick=\"convertToInteractive('df-97a2168f-db80-4932-89eb-435b1ddd776a')\"\n",
              "              title=\"Convert this dataframe to an interactive table.\"\n",
              "              style=\"display:none;\">\n",
              "        \n",
              "  <svg xmlns=\"http://www.w3.org/2000/svg\" height=\"24px\"viewBox=\"0 0 24 24\"\n",
              "       width=\"24px\">\n",
              "    <path d=\"M0 0h24v24H0V0z\" fill=\"none\"/>\n",
              "    <path d=\"M18.56 5.44l.94 2.06.94-2.06 2.06-.94-2.06-.94-.94-2.06-.94 2.06-2.06.94zm-11 1L8.5 8.5l.94-2.06 2.06-.94-2.06-.94L8.5 2.5l-.94 2.06-2.06.94zm10 10l.94 2.06.94-2.06 2.06-.94-2.06-.94-.94-2.06-.94 2.06-2.06.94z\"/><path d=\"M17.41 7.96l-1.37-1.37c-.4-.4-.92-.59-1.43-.59-.52 0-1.04.2-1.43.59L10.3 9.45l-7.72 7.72c-.78.78-.78 2.05 0 2.83L4 21.41c.39.39.9.59 1.41.59.51 0 1.02-.2 1.41-.59l7.78-7.78 2.81-2.81c.8-.78.8-2.07 0-2.86zM5.41 20L4 18.59l7.72-7.72 1.47 1.35L5.41 20z\"/>\n",
              "  </svg>\n",
              "      </button>\n",
              "      \n",
              "  <style>\n",
              "    .colab-df-container {\n",
              "      display:flex;\n",
              "      flex-wrap:wrap;\n",
              "      gap: 12px;\n",
              "    }\n",
              "\n",
              "    .colab-df-convert {\n",
              "      background-color: #E8F0FE;\n",
              "      border: none;\n",
              "      border-radius: 50%;\n",
              "      cursor: pointer;\n",
              "      display: none;\n",
              "      fill: #1967D2;\n",
              "      height: 32px;\n",
              "      padding: 0 0 0 0;\n",
              "      width: 32px;\n",
              "    }\n",
              "\n",
              "    .colab-df-convert:hover {\n",
              "      background-color: #E2EBFA;\n",
              "      box-shadow: 0px 1px 2px rgba(60, 64, 67, 0.3), 0px 1px 3px 1px rgba(60, 64, 67, 0.15);\n",
              "      fill: #174EA6;\n",
              "    }\n",
              "\n",
              "    [theme=dark] .colab-df-convert {\n",
              "      background-color: #3B4455;\n",
              "      fill: #D2E3FC;\n",
              "    }\n",
              "\n",
              "    [theme=dark] .colab-df-convert:hover {\n",
              "      background-color: #434B5C;\n",
              "      box-shadow: 0px 1px 3px 1px rgba(0, 0, 0, 0.15);\n",
              "      filter: drop-shadow(0px 1px 2px rgba(0, 0, 0, 0.3));\n",
              "      fill: #FFFFFF;\n",
              "    }\n",
              "  </style>\n",
              "\n",
              "      <script>\n",
              "        const buttonEl =\n",
              "          document.querySelector('#df-97a2168f-db80-4932-89eb-435b1ddd776a button.colab-df-convert');\n",
              "        buttonEl.style.display =\n",
              "          google.colab.kernel.accessAllowed ? 'block' : 'none';\n",
              "\n",
              "        async function convertToInteractive(key) {\n",
              "          const element = document.querySelector('#df-97a2168f-db80-4932-89eb-435b1ddd776a');\n",
              "          const dataTable =\n",
              "            await google.colab.kernel.invokeFunction('convertToInteractive',\n",
              "                                                     [key], {});\n",
              "          if (!dataTable) return;\n",
              "\n",
              "          const docLinkHtml = 'Like what you see? Visit the ' +\n",
              "            '<a target=\"_blank\" href=https://colab.research.google.com/notebooks/data_table.ipynb>data table notebook</a>'\n",
              "            + ' to learn more about interactive tables.';\n",
              "          element.innerHTML = '';\n",
              "          dataTable['output_type'] = 'display_data';\n",
              "          await google.colab.output.renderOutput(dataTable, element);\n",
              "          const docLink = document.createElement('div');\n",
              "          docLink.innerHTML = docLinkHtml;\n",
              "          element.appendChild(docLink);\n",
              "        }\n",
              "      </script>\n",
              "    </div>\n",
              "  </div>\n",
              "  "
            ]
          },
          "metadata": {},
          "execution_count": 13
        }
      ]
    },
    {
      "cell_type": "markdown",
      "source": [
        "### Classes de dominio:\n",
        "Não vamos precisar tratar o campo `Domain_class` pois já o fizemos na extração do banco:\n",
        "\n",
        "- 0 - Outros;\n",
        "- 1 - Gmail;\n",
        "- 2 - Outlook;\n",
        "- 3 - Hotmail;\n",
        "- 4 - Yahoo;\n",
        "- 5 - Uol;\n",
        "- 6 - Icloud;\n",
        "- 7 - BOl;\n",
        "- 8 - Ig;\n",
        "- 9 - Terra;\n",
        "- 10 - Live;\n",
        "- 11 - Msn;\n",
        "- 12 - Me;"
      ],
      "metadata": {
        "id": "GTBCzb2vGYUY"
      }
    },
    {
      "cell_type": "code",
      "source": [
        "df.groupby(['Domain_class']).sum()"
      ],
      "metadata": {
        "colab": {
          "base_uri": "https://localhost:8080/",
          "height": 0
        },
        "id": "DCZx3K_GOGnI",
        "outputId": "d5cfe307-4542-4850-8c22-724442f48bc8"
      },
      "execution_count": 14,
      "outputs": [
        {
          "output_type": "execute_result",
          "data": {
            "text/plain": [
              "              Envios  Entregas  Aberturas  mdm_people_id  patient_age\n",
              "Domain_class                                                         \n",
              "0              47418     45041       8079   597082228324      2418036\n",
              "1             348698    348321     115712  4822445669181     16794482\n",
              "2              11534     11524        917   173337380173       479988\n",
              "3             205851    205201      13039  2778792045241      9718025\n",
              "4              61385     60491      16245   802680143454      3032651\n",
              "5              25388     24837       6206   313694593032      1452128\n",
              "6               4265      4261       3021    61002424914       184110\n",
              "7               6546      6179        638    85785709033       337913\n",
              "8               6327      5286        366    75205874377       335220\n",
              "9               3040      1955        387    34067470015       167510\n",
              "10              2575      2572        216    37330874400       107564\n",
              "11              1615      1609        120    20484012895        77533\n",
              "12              1093      1083        777    14712318782        52780"
            ],
            "text/html": [
              "\n",
              "  <div id=\"df-2b586012-3ab5-4d68-afe7-fa179aa59536\">\n",
              "    <div class=\"colab-df-container\">\n",
              "      <div>\n",
              "<style scoped>\n",
              "    .dataframe tbody tr th:only-of-type {\n",
              "        vertical-align: middle;\n",
              "    }\n",
              "\n",
              "    .dataframe tbody tr th {\n",
              "        vertical-align: top;\n",
              "    }\n",
              "\n",
              "    .dataframe thead th {\n",
              "        text-align: right;\n",
              "    }\n",
              "</style>\n",
              "<table border=\"1\" class=\"dataframe\">\n",
              "  <thead>\n",
              "    <tr style=\"text-align: right;\">\n",
              "      <th></th>\n",
              "      <th>Envios</th>\n",
              "      <th>Entregas</th>\n",
              "      <th>Aberturas</th>\n",
              "      <th>mdm_people_id</th>\n",
              "      <th>patient_age</th>\n",
              "    </tr>\n",
              "    <tr>\n",
              "      <th>Domain_class</th>\n",
              "      <th></th>\n",
              "      <th></th>\n",
              "      <th></th>\n",
              "      <th></th>\n",
              "      <th></th>\n",
              "    </tr>\n",
              "  </thead>\n",
              "  <tbody>\n",
              "    <tr>\n",
              "      <th>0</th>\n",
              "      <td>47418</td>\n",
              "      <td>45041</td>\n",
              "      <td>8079</td>\n",
              "      <td>597082228324</td>\n",
              "      <td>2418036</td>\n",
              "    </tr>\n",
              "    <tr>\n",
              "      <th>1</th>\n",
              "      <td>348698</td>\n",
              "      <td>348321</td>\n",
              "      <td>115712</td>\n",
              "      <td>4822445669181</td>\n",
              "      <td>16794482</td>\n",
              "    </tr>\n",
              "    <tr>\n",
              "      <th>2</th>\n",
              "      <td>11534</td>\n",
              "      <td>11524</td>\n",
              "      <td>917</td>\n",
              "      <td>173337380173</td>\n",
              "      <td>479988</td>\n",
              "    </tr>\n",
              "    <tr>\n",
              "      <th>3</th>\n",
              "      <td>205851</td>\n",
              "      <td>205201</td>\n",
              "      <td>13039</td>\n",
              "      <td>2778792045241</td>\n",
              "      <td>9718025</td>\n",
              "    </tr>\n",
              "    <tr>\n",
              "      <th>4</th>\n",
              "      <td>61385</td>\n",
              "      <td>60491</td>\n",
              "      <td>16245</td>\n",
              "      <td>802680143454</td>\n",
              "      <td>3032651</td>\n",
              "    </tr>\n",
              "    <tr>\n",
              "      <th>5</th>\n",
              "      <td>25388</td>\n",
              "      <td>24837</td>\n",
              "      <td>6206</td>\n",
              "      <td>313694593032</td>\n",
              "      <td>1452128</td>\n",
              "    </tr>\n",
              "    <tr>\n",
              "      <th>6</th>\n",
              "      <td>4265</td>\n",
              "      <td>4261</td>\n",
              "      <td>3021</td>\n",
              "      <td>61002424914</td>\n",
              "      <td>184110</td>\n",
              "    </tr>\n",
              "    <tr>\n",
              "      <th>7</th>\n",
              "      <td>6546</td>\n",
              "      <td>6179</td>\n",
              "      <td>638</td>\n",
              "      <td>85785709033</td>\n",
              "      <td>337913</td>\n",
              "    </tr>\n",
              "    <tr>\n",
              "      <th>8</th>\n",
              "      <td>6327</td>\n",
              "      <td>5286</td>\n",
              "      <td>366</td>\n",
              "      <td>75205874377</td>\n",
              "      <td>335220</td>\n",
              "    </tr>\n",
              "    <tr>\n",
              "      <th>9</th>\n",
              "      <td>3040</td>\n",
              "      <td>1955</td>\n",
              "      <td>387</td>\n",
              "      <td>34067470015</td>\n",
              "      <td>167510</td>\n",
              "    </tr>\n",
              "    <tr>\n",
              "      <th>10</th>\n",
              "      <td>2575</td>\n",
              "      <td>2572</td>\n",
              "      <td>216</td>\n",
              "      <td>37330874400</td>\n",
              "      <td>107564</td>\n",
              "    </tr>\n",
              "    <tr>\n",
              "      <th>11</th>\n",
              "      <td>1615</td>\n",
              "      <td>1609</td>\n",
              "      <td>120</td>\n",
              "      <td>20484012895</td>\n",
              "      <td>77533</td>\n",
              "    </tr>\n",
              "    <tr>\n",
              "      <th>12</th>\n",
              "      <td>1093</td>\n",
              "      <td>1083</td>\n",
              "      <td>777</td>\n",
              "      <td>14712318782</td>\n",
              "      <td>52780</td>\n",
              "    </tr>\n",
              "  </tbody>\n",
              "</table>\n",
              "</div>\n",
              "      <button class=\"colab-df-convert\" onclick=\"convertToInteractive('df-2b586012-3ab5-4d68-afe7-fa179aa59536')\"\n",
              "              title=\"Convert this dataframe to an interactive table.\"\n",
              "              style=\"display:none;\">\n",
              "        \n",
              "  <svg xmlns=\"http://www.w3.org/2000/svg\" height=\"24px\"viewBox=\"0 0 24 24\"\n",
              "       width=\"24px\">\n",
              "    <path d=\"M0 0h24v24H0V0z\" fill=\"none\"/>\n",
              "    <path d=\"M18.56 5.44l.94 2.06.94-2.06 2.06-.94-2.06-.94-.94-2.06-.94 2.06-2.06.94zm-11 1L8.5 8.5l.94-2.06 2.06-.94-2.06-.94L8.5 2.5l-.94 2.06-2.06.94zm10 10l.94 2.06.94-2.06 2.06-.94-2.06-.94-.94-2.06-.94 2.06-2.06.94z\"/><path d=\"M17.41 7.96l-1.37-1.37c-.4-.4-.92-.59-1.43-.59-.52 0-1.04.2-1.43.59L10.3 9.45l-7.72 7.72c-.78.78-.78 2.05 0 2.83L4 21.41c.39.39.9.59 1.41.59.51 0 1.02-.2 1.41-.59l7.78-7.78 2.81-2.81c.8-.78.8-2.07 0-2.86zM5.41 20L4 18.59l7.72-7.72 1.47 1.35L5.41 20z\"/>\n",
              "  </svg>\n",
              "      </button>\n",
              "      \n",
              "  <style>\n",
              "    .colab-df-container {\n",
              "      display:flex;\n",
              "      flex-wrap:wrap;\n",
              "      gap: 12px;\n",
              "    }\n",
              "\n",
              "    .colab-df-convert {\n",
              "      background-color: #E8F0FE;\n",
              "      border: none;\n",
              "      border-radius: 50%;\n",
              "      cursor: pointer;\n",
              "      display: none;\n",
              "      fill: #1967D2;\n",
              "      height: 32px;\n",
              "      padding: 0 0 0 0;\n",
              "      width: 32px;\n",
              "    }\n",
              "\n",
              "    .colab-df-convert:hover {\n",
              "      background-color: #E2EBFA;\n",
              "      box-shadow: 0px 1px 2px rgba(60, 64, 67, 0.3), 0px 1px 3px 1px rgba(60, 64, 67, 0.15);\n",
              "      fill: #174EA6;\n",
              "    }\n",
              "\n",
              "    [theme=dark] .colab-df-convert {\n",
              "      background-color: #3B4455;\n",
              "      fill: #D2E3FC;\n",
              "    }\n",
              "\n",
              "    [theme=dark] .colab-df-convert:hover {\n",
              "      background-color: #434B5C;\n",
              "      box-shadow: 0px 1px 3px 1px rgba(0, 0, 0, 0.15);\n",
              "      filter: drop-shadow(0px 1px 2px rgba(0, 0, 0, 0.3));\n",
              "      fill: #FFFFFF;\n",
              "    }\n",
              "  </style>\n",
              "\n",
              "      <script>\n",
              "        const buttonEl =\n",
              "          document.querySelector('#df-2b586012-3ab5-4d68-afe7-fa179aa59536 button.colab-df-convert');\n",
              "        buttonEl.style.display =\n",
              "          google.colab.kernel.accessAllowed ? 'block' : 'none';\n",
              "\n",
              "        async function convertToInteractive(key) {\n",
              "          const element = document.querySelector('#df-2b586012-3ab5-4d68-afe7-fa179aa59536');\n",
              "          const dataTable =\n",
              "            await google.colab.kernel.invokeFunction('convertToInteractive',\n",
              "                                                     [key], {});\n",
              "          if (!dataTable) return;\n",
              "\n",
              "          const docLinkHtml = 'Like what you see? Visit the ' +\n",
              "            '<a target=\"_blank\" href=https://colab.research.google.com/notebooks/data_table.ipynb>data table notebook</a>'\n",
              "            + ' to learn more about interactive tables.';\n",
              "          element.innerHTML = '';\n",
              "          dataTable['output_type'] = 'display_data';\n",
              "          await google.colab.output.renderOutput(dataTable, element);\n",
              "          const docLink = document.createElement('div');\n",
              "          docLink.innerHTML = docLinkHtml;\n",
              "          element.appendChild(docLink);\n",
              "        }\n",
              "      </script>\n",
              "    </div>\n",
              "  </div>\n",
              "  "
            ]
          },
          "metadata": {},
          "execution_count": 14
        }
      ]
    },
    {
      "cell_type": "code",
      "source": [
        "df.value_counts('Domain_class')"
      ],
      "metadata": {
        "colab": {
          "base_uri": "https://localhost:8080/"
        },
        "id": "CNIi54Ru0BGQ",
        "outputId": "547c2201-6c88-442a-e1b7-09a5c2da8022"
      },
      "execution_count": 15,
      "outputs": [
        {
          "output_type": "execute_result",
          "data": {
            "text/plain": [
              "Domain_class\n",
              "1     348698\n",
              "3     205851\n",
              "4      61385\n",
              "0      47418\n",
              "5      25388\n",
              "2      11534\n",
              "7       6546\n",
              "8       6327\n",
              "6       4265\n",
              "9       3040\n",
              "10      2575\n",
              "11      1615\n",
              "12      1093\n",
              "dtype: int64"
            ]
          },
          "metadata": {},
          "execution_count": 15
        }
      ]
    },
    {
      "cell_type": "markdown",
      "source": [
        "## Aplicar Tratamentos básicos"
      ],
      "metadata": {
        "id": "GqDsDh4N-vLG"
      }
    },
    {
      "cell_type": "markdown",
      "source": [
        "### Criar classes de BU:\n",
        "* Dasa - SP - 0\n",
        "* Dasa - Delboni - 1"
      ],
      "metadata": {
        "id": "obbZWpdAfr8o"
      }
    },
    {
      "cell_type": "code",
      "source": [
        "troca_bu = {'DASA - SP':0,\n",
        "            'DASA - DELBONI AURIEMO':1}\n",
        "\n",
        "df['bu_tratado'] = df.BU.map(troca_bu)\n",
        "df.head()"
      ],
      "metadata": {
        "colab": {
          "base_uri": "https://localhost:8080/",
          "height": 0
        },
        "id": "TeBCzpbS-9Fs",
        "outputId": "d47f8179-a3b8-4921-e765-9cdb82200c7a"
      },
      "execution_count": 16,
      "outputs": [
        {
          "output_type": "execute_result",
          "data": {
            "text/plain": [
              "             SubscriberKey  Envios  Entregas            DomainSent  \\\n",
              "0  FERNANDOHENRIQU26121992       1         1        telefonica.com   \n",
              "1  RODRIGOLIMAMART01091986       1         1      dellacont.com.br   \n",
              "3  MILENARODRIGUES17011976       1         1          terra.com.br   \n",
              "5  PERCIVALARMANDO22011956       1         1  metaambiental.eng.br   \n",
              "7  THIAGODESOUZAME28101980       1         1                me.com   \n",
              "\n",
              "   Domain_class         BU  Aberturas  mdm_people_id  patient_age  \\\n",
              "0             0  DASA - SP          0        6070482           29   \n",
              "1             0  DASA - SP          1       17821409           35   \n",
              "3             9  DASA - SP          1        6772987           46   \n",
              "5             0  DASA - SP          1        7565607           66   \n",
              "7            12  DASA - SP          0        6706854           41   \n",
              "\n",
              "  origin_gender                    pacid  bu_tratado  \n",
              "0             M  FERNANDOHENRIQU26121992           0  \n",
              "1             M  RODRIGOLIMAMART01091986           0  \n",
              "3             F  MILENARODRIGUES17011976           0  \n",
              "5             M  PERCIVALARMANDO22011956           0  \n",
              "7             M  THIAGODESOUZAME28101980           0  "
            ],
            "text/html": [
              "\n",
              "  <div id=\"df-5897888d-5b76-4e0c-a363-4d2cea15b1ae\">\n",
              "    <div class=\"colab-df-container\">\n",
              "      <div>\n",
              "<style scoped>\n",
              "    .dataframe tbody tr th:only-of-type {\n",
              "        vertical-align: middle;\n",
              "    }\n",
              "\n",
              "    .dataframe tbody tr th {\n",
              "        vertical-align: top;\n",
              "    }\n",
              "\n",
              "    .dataframe thead th {\n",
              "        text-align: right;\n",
              "    }\n",
              "</style>\n",
              "<table border=\"1\" class=\"dataframe\">\n",
              "  <thead>\n",
              "    <tr style=\"text-align: right;\">\n",
              "      <th></th>\n",
              "      <th>SubscriberKey</th>\n",
              "      <th>Envios</th>\n",
              "      <th>Entregas</th>\n",
              "      <th>DomainSent</th>\n",
              "      <th>Domain_class</th>\n",
              "      <th>BU</th>\n",
              "      <th>Aberturas</th>\n",
              "      <th>mdm_people_id</th>\n",
              "      <th>patient_age</th>\n",
              "      <th>origin_gender</th>\n",
              "      <th>pacid</th>\n",
              "      <th>bu_tratado</th>\n",
              "    </tr>\n",
              "  </thead>\n",
              "  <tbody>\n",
              "    <tr>\n",
              "      <th>0</th>\n",
              "      <td>FERNANDOHENRIQU26121992</td>\n",
              "      <td>1</td>\n",
              "      <td>1</td>\n",
              "      <td>telefonica.com</td>\n",
              "      <td>0</td>\n",
              "      <td>DASA - SP</td>\n",
              "      <td>0</td>\n",
              "      <td>6070482</td>\n",
              "      <td>29</td>\n",
              "      <td>M</td>\n",
              "      <td>FERNANDOHENRIQU26121992</td>\n",
              "      <td>0</td>\n",
              "    </tr>\n",
              "    <tr>\n",
              "      <th>1</th>\n",
              "      <td>RODRIGOLIMAMART01091986</td>\n",
              "      <td>1</td>\n",
              "      <td>1</td>\n",
              "      <td>dellacont.com.br</td>\n",
              "      <td>0</td>\n",
              "      <td>DASA - SP</td>\n",
              "      <td>1</td>\n",
              "      <td>17821409</td>\n",
              "      <td>35</td>\n",
              "      <td>M</td>\n",
              "      <td>RODRIGOLIMAMART01091986</td>\n",
              "      <td>0</td>\n",
              "    </tr>\n",
              "    <tr>\n",
              "      <th>3</th>\n",
              "      <td>MILENARODRIGUES17011976</td>\n",
              "      <td>1</td>\n",
              "      <td>1</td>\n",
              "      <td>terra.com.br</td>\n",
              "      <td>9</td>\n",
              "      <td>DASA - SP</td>\n",
              "      <td>1</td>\n",
              "      <td>6772987</td>\n",
              "      <td>46</td>\n",
              "      <td>F</td>\n",
              "      <td>MILENARODRIGUES17011976</td>\n",
              "      <td>0</td>\n",
              "    </tr>\n",
              "    <tr>\n",
              "      <th>5</th>\n",
              "      <td>PERCIVALARMANDO22011956</td>\n",
              "      <td>1</td>\n",
              "      <td>1</td>\n",
              "      <td>metaambiental.eng.br</td>\n",
              "      <td>0</td>\n",
              "      <td>DASA - SP</td>\n",
              "      <td>1</td>\n",
              "      <td>7565607</td>\n",
              "      <td>66</td>\n",
              "      <td>M</td>\n",
              "      <td>PERCIVALARMANDO22011956</td>\n",
              "      <td>0</td>\n",
              "    </tr>\n",
              "    <tr>\n",
              "      <th>7</th>\n",
              "      <td>THIAGODESOUZAME28101980</td>\n",
              "      <td>1</td>\n",
              "      <td>1</td>\n",
              "      <td>me.com</td>\n",
              "      <td>12</td>\n",
              "      <td>DASA - SP</td>\n",
              "      <td>0</td>\n",
              "      <td>6706854</td>\n",
              "      <td>41</td>\n",
              "      <td>M</td>\n",
              "      <td>THIAGODESOUZAME28101980</td>\n",
              "      <td>0</td>\n",
              "    </tr>\n",
              "  </tbody>\n",
              "</table>\n",
              "</div>\n",
              "      <button class=\"colab-df-convert\" onclick=\"convertToInteractive('df-5897888d-5b76-4e0c-a363-4d2cea15b1ae')\"\n",
              "              title=\"Convert this dataframe to an interactive table.\"\n",
              "              style=\"display:none;\">\n",
              "        \n",
              "  <svg xmlns=\"http://www.w3.org/2000/svg\" height=\"24px\"viewBox=\"0 0 24 24\"\n",
              "       width=\"24px\">\n",
              "    <path d=\"M0 0h24v24H0V0z\" fill=\"none\"/>\n",
              "    <path d=\"M18.56 5.44l.94 2.06.94-2.06 2.06-.94-2.06-.94-.94-2.06-.94 2.06-2.06.94zm-11 1L8.5 8.5l.94-2.06 2.06-.94-2.06-.94L8.5 2.5l-.94 2.06-2.06.94zm10 10l.94 2.06.94-2.06 2.06-.94-2.06-.94-.94-2.06-.94 2.06-2.06.94z\"/><path d=\"M17.41 7.96l-1.37-1.37c-.4-.4-.92-.59-1.43-.59-.52 0-1.04.2-1.43.59L10.3 9.45l-7.72 7.72c-.78.78-.78 2.05 0 2.83L4 21.41c.39.39.9.59 1.41.59.51 0 1.02-.2 1.41-.59l7.78-7.78 2.81-2.81c.8-.78.8-2.07 0-2.86zM5.41 20L4 18.59l7.72-7.72 1.47 1.35L5.41 20z\"/>\n",
              "  </svg>\n",
              "      </button>\n",
              "      \n",
              "  <style>\n",
              "    .colab-df-container {\n",
              "      display:flex;\n",
              "      flex-wrap:wrap;\n",
              "      gap: 12px;\n",
              "    }\n",
              "\n",
              "    .colab-df-convert {\n",
              "      background-color: #E8F0FE;\n",
              "      border: none;\n",
              "      border-radius: 50%;\n",
              "      cursor: pointer;\n",
              "      display: none;\n",
              "      fill: #1967D2;\n",
              "      height: 32px;\n",
              "      padding: 0 0 0 0;\n",
              "      width: 32px;\n",
              "    }\n",
              "\n",
              "    .colab-df-convert:hover {\n",
              "      background-color: #E2EBFA;\n",
              "      box-shadow: 0px 1px 2px rgba(60, 64, 67, 0.3), 0px 1px 3px 1px rgba(60, 64, 67, 0.15);\n",
              "      fill: #174EA6;\n",
              "    }\n",
              "\n",
              "    [theme=dark] .colab-df-convert {\n",
              "      background-color: #3B4455;\n",
              "      fill: #D2E3FC;\n",
              "    }\n",
              "\n",
              "    [theme=dark] .colab-df-convert:hover {\n",
              "      background-color: #434B5C;\n",
              "      box-shadow: 0px 1px 3px 1px rgba(0, 0, 0, 0.15);\n",
              "      filter: drop-shadow(0px 1px 2px rgba(0, 0, 0, 0.3));\n",
              "      fill: #FFFFFF;\n",
              "    }\n",
              "  </style>\n",
              "\n",
              "      <script>\n",
              "        const buttonEl =\n",
              "          document.querySelector('#df-5897888d-5b76-4e0c-a363-4d2cea15b1ae button.colab-df-convert');\n",
              "        buttonEl.style.display =\n",
              "          google.colab.kernel.accessAllowed ? 'block' : 'none';\n",
              "\n",
              "        async function convertToInteractive(key) {\n",
              "          const element = document.querySelector('#df-5897888d-5b76-4e0c-a363-4d2cea15b1ae');\n",
              "          const dataTable =\n",
              "            await google.colab.kernel.invokeFunction('convertToInteractive',\n",
              "                                                     [key], {});\n",
              "          if (!dataTable) return;\n",
              "\n",
              "          const docLinkHtml = 'Like what you see? Visit the ' +\n",
              "            '<a target=\"_blank\" href=https://colab.research.google.com/notebooks/data_table.ipynb>data table notebook</a>'\n",
              "            + ' to learn more about interactive tables.';\n",
              "          element.innerHTML = '';\n",
              "          dataTable['output_type'] = 'display_data';\n",
              "          await google.colab.output.renderOutput(dataTable, element);\n",
              "          const docLink = document.createElement('div');\n",
              "          docLink.innerHTML = docLinkHtml;\n",
              "          element.appendChild(docLink);\n",
              "        }\n",
              "      </script>\n",
              "    </div>\n",
              "  </div>\n",
              "  "
            ]
          },
          "metadata": {},
          "execution_count": 16
        }
      ]
    },
    {
      "cell_type": "markdown",
      "source": [
        "### Criar classes de Abertura:\n",
        "* 1 - Sim\n",
        "* 1 - Não"
      ],
      "metadata": {
        "id": "AVCohiHhfzyQ"
      }
    },
    {
      "cell_type": "code",
      "source": [
        "troca_abertura = {1:\"Sim\",\n",
        "            0:\"Não\"}\n",
        "\n",
        "df['abriu?'] = df.Aberturas.map(troca_abertura)\n",
        "df.head()"
      ],
      "metadata": {
        "id": "_085U-eH-9BL",
        "colab": {
          "base_uri": "https://localhost:8080/",
          "height": 0
        },
        "outputId": "7a82dac6-5f89-4b91-9801-4ee183417df9"
      },
      "execution_count": 17,
      "outputs": [
        {
          "output_type": "execute_result",
          "data": {
            "text/plain": [
              "             SubscriberKey  Envios  Entregas            DomainSent  \\\n",
              "0  FERNANDOHENRIQU26121992       1         1        telefonica.com   \n",
              "1  RODRIGOLIMAMART01091986       1         1      dellacont.com.br   \n",
              "3  MILENARODRIGUES17011976       1         1          terra.com.br   \n",
              "5  PERCIVALARMANDO22011956       1         1  metaambiental.eng.br   \n",
              "7  THIAGODESOUZAME28101980       1         1                me.com   \n",
              "\n",
              "   Domain_class         BU  Aberturas  mdm_people_id  patient_age  \\\n",
              "0             0  DASA - SP          0        6070482           29   \n",
              "1             0  DASA - SP          1       17821409           35   \n",
              "3             9  DASA - SP          1        6772987           46   \n",
              "5             0  DASA - SP          1        7565607           66   \n",
              "7            12  DASA - SP          0        6706854           41   \n",
              "\n",
              "  origin_gender                    pacid  bu_tratado abriu?  \n",
              "0             M  FERNANDOHENRIQU26121992           0    Não  \n",
              "1             M  RODRIGOLIMAMART01091986           0    Sim  \n",
              "3             F  MILENARODRIGUES17011976           0    Sim  \n",
              "5             M  PERCIVALARMANDO22011956           0    Sim  \n",
              "7             M  THIAGODESOUZAME28101980           0    Não  "
            ],
            "text/html": [
              "\n",
              "  <div id=\"df-1a28859e-2aa9-4413-a1a9-aa0d6697d270\">\n",
              "    <div class=\"colab-df-container\">\n",
              "      <div>\n",
              "<style scoped>\n",
              "    .dataframe tbody tr th:only-of-type {\n",
              "        vertical-align: middle;\n",
              "    }\n",
              "\n",
              "    .dataframe tbody tr th {\n",
              "        vertical-align: top;\n",
              "    }\n",
              "\n",
              "    .dataframe thead th {\n",
              "        text-align: right;\n",
              "    }\n",
              "</style>\n",
              "<table border=\"1\" class=\"dataframe\">\n",
              "  <thead>\n",
              "    <tr style=\"text-align: right;\">\n",
              "      <th></th>\n",
              "      <th>SubscriberKey</th>\n",
              "      <th>Envios</th>\n",
              "      <th>Entregas</th>\n",
              "      <th>DomainSent</th>\n",
              "      <th>Domain_class</th>\n",
              "      <th>BU</th>\n",
              "      <th>Aberturas</th>\n",
              "      <th>mdm_people_id</th>\n",
              "      <th>patient_age</th>\n",
              "      <th>origin_gender</th>\n",
              "      <th>pacid</th>\n",
              "      <th>bu_tratado</th>\n",
              "      <th>abriu?</th>\n",
              "    </tr>\n",
              "  </thead>\n",
              "  <tbody>\n",
              "    <tr>\n",
              "      <th>0</th>\n",
              "      <td>FERNANDOHENRIQU26121992</td>\n",
              "      <td>1</td>\n",
              "      <td>1</td>\n",
              "      <td>telefonica.com</td>\n",
              "      <td>0</td>\n",
              "      <td>DASA - SP</td>\n",
              "      <td>0</td>\n",
              "      <td>6070482</td>\n",
              "      <td>29</td>\n",
              "      <td>M</td>\n",
              "      <td>FERNANDOHENRIQU26121992</td>\n",
              "      <td>0</td>\n",
              "      <td>Não</td>\n",
              "    </tr>\n",
              "    <tr>\n",
              "      <th>1</th>\n",
              "      <td>RODRIGOLIMAMART01091986</td>\n",
              "      <td>1</td>\n",
              "      <td>1</td>\n",
              "      <td>dellacont.com.br</td>\n",
              "      <td>0</td>\n",
              "      <td>DASA - SP</td>\n",
              "      <td>1</td>\n",
              "      <td>17821409</td>\n",
              "      <td>35</td>\n",
              "      <td>M</td>\n",
              "      <td>RODRIGOLIMAMART01091986</td>\n",
              "      <td>0</td>\n",
              "      <td>Sim</td>\n",
              "    </tr>\n",
              "    <tr>\n",
              "      <th>3</th>\n",
              "      <td>MILENARODRIGUES17011976</td>\n",
              "      <td>1</td>\n",
              "      <td>1</td>\n",
              "      <td>terra.com.br</td>\n",
              "      <td>9</td>\n",
              "      <td>DASA - SP</td>\n",
              "      <td>1</td>\n",
              "      <td>6772987</td>\n",
              "      <td>46</td>\n",
              "      <td>F</td>\n",
              "      <td>MILENARODRIGUES17011976</td>\n",
              "      <td>0</td>\n",
              "      <td>Sim</td>\n",
              "    </tr>\n",
              "    <tr>\n",
              "      <th>5</th>\n",
              "      <td>PERCIVALARMANDO22011956</td>\n",
              "      <td>1</td>\n",
              "      <td>1</td>\n",
              "      <td>metaambiental.eng.br</td>\n",
              "      <td>0</td>\n",
              "      <td>DASA - SP</td>\n",
              "      <td>1</td>\n",
              "      <td>7565607</td>\n",
              "      <td>66</td>\n",
              "      <td>M</td>\n",
              "      <td>PERCIVALARMANDO22011956</td>\n",
              "      <td>0</td>\n",
              "      <td>Sim</td>\n",
              "    </tr>\n",
              "    <tr>\n",
              "      <th>7</th>\n",
              "      <td>THIAGODESOUZAME28101980</td>\n",
              "      <td>1</td>\n",
              "      <td>1</td>\n",
              "      <td>me.com</td>\n",
              "      <td>12</td>\n",
              "      <td>DASA - SP</td>\n",
              "      <td>0</td>\n",
              "      <td>6706854</td>\n",
              "      <td>41</td>\n",
              "      <td>M</td>\n",
              "      <td>THIAGODESOUZAME28101980</td>\n",
              "      <td>0</td>\n",
              "      <td>Não</td>\n",
              "    </tr>\n",
              "  </tbody>\n",
              "</table>\n",
              "</div>\n",
              "      <button class=\"colab-df-convert\" onclick=\"convertToInteractive('df-1a28859e-2aa9-4413-a1a9-aa0d6697d270')\"\n",
              "              title=\"Convert this dataframe to an interactive table.\"\n",
              "              style=\"display:none;\">\n",
              "        \n",
              "  <svg xmlns=\"http://www.w3.org/2000/svg\" height=\"24px\"viewBox=\"0 0 24 24\"\n",
              "       width=\"24px\">\n",
              "    <path d=\"M0 0h24v24H0V0z\" fill=\"none\"/>\n",
              "    <path d=\"M18.56 5.44l.94 2.06.94-2.06 2.06-.94-2.06-.94-.94-2.06-.94 2.06-2.06.94zm-11 1L8.5 8.5l.94-2.06 2.06-.94-2.06-.94L8.5 2.5l-.94 2.06-2.06.94zm10 10l.94 2.06.94-2.06 2.06-.94-2.06-.94-.94-2.06-.94 2.06-2.06.94z\"/><path d=\"M17.41 7.96l-1.37-1.37c-.4-.4-.92-.59-1.43-.59-.52 0-1.04.2-1.43.59L10.3 9.45l-7.72 7.72c-.78.78-.78 2.05 0 2.83L4 21.41c.39.39.9.59 1.41.59.51 0 1.02-.2 1.41-.59l7.78-7.78 2.81-2.81c.8-.78.8-2.07 0-2.86zM5.41 20L4 18.59l7.72-7.72 1.47 1.35L5.41 20z\"/>\n",
              "  </svg>\n",
              "      </button>\n",
              "      \n",
              "  <style>\n",
              "    .colab-df-container {\n",
              "      display:flex;\n",
              "      flex-wrap:wrap;\n",
              "      gap: 12px;\n",
              "    }\n",
              "\n",
              "    .colab-df-convert {\n",
              "      background-color: #E8F0FE;\n",
              "      border: none;\n",
              "      border-radius: 50%;\n",
              "      cursor: pointer;\n",
              "      display: none;\n",
              "      fill: #1967D2;\n",
              "      height: 32px;\n",
              "      padding: 0 0 0 0;\n",
              "      width: 32px;\n",
              "    }\n",
              "\n",
              "    .colab-df-convert:hover {\n",
              "      background-color: #E2EBFA;\n",
              "      box-shadow: 0px 1px 2px rgba(60, 64, 67, 0.3), 0px 1px 3px 1px rgba(60, 64, 67, 0.15);\n",
              "      fill: #174EA6;\n",
              "    }\n",
              "\n",
              "    [theme=dark] .colab-df-convert {\n",
              "      background-color: #3B4455;\n",
              "      fill: #D2E3FC;\n",
              "    }\n",
              "\n",
              "    [theme=dark] .colab-df-convert:hover {\n",
              "      background-color: #434B5C;\n",
              "      box-shadow: 0px 1px 3px 1px rgba(0, 0, 0, 0.15);\n",
              "      filter: drop-shadow(0px 1px 2px rgba(0, 0, 0, 0.3));\n",
              "      fill: #FFFFFF;\n",
              "    }\n",
              "  </style>\n",
              "\n",
              "      <script>\n",
              "        const buttonEl =\n",
              "          document.querySelector('#df-1a28859e-2aa9-4413-a1a9-aa0d6697d270 button.colab-df-convert');\n",
              "        buttonEl.style.display =\n",
              "          google.colab.kernel.accessAllowed ? 'block' : 'none';\n",
              "\n",
              "        async function convertToInteractive(key) {\n",
              "          const element = document.querySelector('#df-1a28859e-2aa9-4413-a1a9-aa0d6697d270');\n",
              "          const dataTable =\n",
              "            await google.colab.kernel.invokeFunction('convertToInteractive',\n",
              "                                                     [key], {});\n",
              "          if (!dataTable) return;\n",
              "\n",
              "          const docLinkHtml = 'Like what you see? Visit the ' +\n",
              "            '<a target=\"_blank\" href=https://colab.research.google.com/notebooks/data_table.ipynb>data table notebook</a>'\n",
              "            + ' to learn more about interactive tables.';\n",
              "          element.innerHTML = '';\n",
              "          dataTable['output_type'] = 'display_data';\n",
              "          await google.colab.output.renderOutput(dataTable, element);\n",
              "          const docLink = document.createElement('div');\n",
              "          docLink.innerHTML = docLinkHtml;\n",
              "          element.appendChild(docLink);\n",
              "        }\n",
              "      </script>\n",
              "    </div>\n",
              "  </div>\n",
              "  "
            ]
          },
          "metadata": {},
          "execution_count": 17
        }
      ]
    },
    {
      "cell_type": "markdown",
      "source": [
        "### Tratamento do genero:\n",
        "Tudo o que for diferente de Masculino e Feminido entra como I.\n",
        "\n",
        "Então temos:\n",
        "* 2 - F - Feminino\n",
        "* 1 - M - Masculino\n",
        "* 0 - I - Indeterminado"
      ],
      "metadata": {
        "id": "UWvJY_6wZ0-t"
      }
    },
    {
      "cell_type": "code",
      "source": [
        "df.groupby(['origin_gender']).sum()"
      ],
      "metadata": {
        "colab": {
          "base_uri": "https://localhost:8080/",
          "height": 0
        },
        "id": "KbJmK92WYZUP",
        "outputId": "8857db62-27e0-4032-dfce-59f0649ff229"
      },
      "execution_count": 18,
      "outputs": [
        {
          "output_type": "execute_result",
          "data": {
            "text/plain": [
              "               Envios  Entregas  Domain_class  Aberturas  mdm_people_id  \\\n",
              "origin_gender                                                             \n",
              "                    2         2             7          1       19617950   \n",
              "                    1         1             1          0        3893388   \n",
              "F              327409    323859        710174      77748  4750292001179   \n",
              "FEMALE            957       955          1895        255    12825190007   \n",
              "FEMININO       270857    267902        588186      64696  3283754289121   \n",
              "G                   1         1             3          0        6146087   \n",
              "I                 309       303           736         69     5194564693   \n",
              "INDETERMINADO       3         3             7          0       53992227   \n",
              "INTERSEXUAL       148       145           401         26     2002968799   \n",
              "M               66925     66512        141548      12066  1001291355208   \n",
              "MALE              170       168           361         34     2155971686   \n",
              "MASCULINO       55260     54866        116443      10043   712631553460   \n",
              "N                   2         0             9          0       66402864   \n",
              "N/D                 2         2             1          0       54855773   \n",
              "NAO_INFORMADO     419       404          1105         72     3394327771   \n",
              "NONE             2797      2767          5923        616    35317126836   \n",
              "\\N                473       470          1018         97     7556486772   \n",
              "\n",
              "               patient_age  bu_tratado  \n",
              "origin_gender                           \n",
              "                       138           2  \n",
              "                        68           0  \n",
              "F                 16076389      232580  \n",
              "FEMALE               44055         629  \n",
              "FEMININO          13319070      196090  \n",
              "G                       30           0  \n",
              "I                    14836         217  \n",
              "INDETERMINADO          197           2  \n",
              "INTERSEXUAL           6415          82  \n",
              "M                  3031364        2155  \n",
              "MALE                  7258           3  \n",
              "MASCULINO          2483289         544  \n",
              "N                       94           2  \n",
              "N/D                     87           2  \n",
              "NAO_INFORMADO        20577         298  \n",
              "NONE                128532        1789  \n",
              "\\N                   25541         407  "
            ],
            "text/html": [
              "\n",
              "  <div id=\"df-d0d1fc10-9c39-43cb-84fd-ba1edbbbde99\">\n",
              "    <div class=\"colab-df-container\">\n",
              "      <div>\n",
              "<style scoped>\n",
              "    .dataframe tbody tr th:only-of-type {\n",
              "        vertical-align: middle;\n",
              "    }\n",
              "\n",
              "    .dataframe tbody tr th {\n",
              "        vertical-align: top;\n",
              "    }\n",
              "\n",
              "    .dataframe thead th {\n",
              "        text-align: right;\n",
              "    }\n",
              "</style>\n",
              "<table border=\"1\" class=\"dataframe\">\n",
              "  <thead>\n",
              "    <tr style=\"text-align: right;\">\n",
              "      <th></th>\n",
              "      <th>Envios</th>\n",
              "      <th>Entregas</th>\n",
              "      <th>Domain_class</th>\n",
              "      <th>Aberturas</th>\n",
              "      <th>mdm_people_id</th>\n",
              "      <th>patient_age</th>\n",
              "      <th>bu_tratado</th>\n",
              "    </tr>\n",
              "    <tr>\n",
              "      <th>origin_gender</th>\n",
              "      <th></th>\n",
              "      <th></th>\n",
              "      <th></th>\n",
              "      <th></th>\n",
              "      <th></th>\n",
              "      <th></th>\n",
              "      <th></th>\n",
              "    </tr>\n",
              "  </thead>\n",
              "  <tbody>\n",
              "    <tr>\n",
              "      <th></th>\n",
              "      <td>2</td>\n",
              "      <td>2</td>\n",
              "      <td>7</td>\n",
              "      <td>1</td>\n",
              "      <td>19617950</td>\n",
              "      <td>138</td>\n",
              "      <td>2</td>\n",
              "    </tr>\n",
              "    <tr>\n",
              "      <th></th>\n",
              "      <td>1</td>\n",
              "      <td>1</td>\n",
              "      <td>1</td>\n",
              "      <td>0</td>\n",
              "      <td>3893388</td>\n",
              "      <td>68</td>\n",
              "      <td>0</td>\n",
              "    </tr>\n",
              "    <tr>\n",
              "      <th>F</th>\n",
              "      <td>327409</td>\n",
              "      <td>323859</td>\n",
              "      <td>710174</td>\n",
              "      <td>77748</td>\n",
              "      <td>4750292001179</td>\n",
              "      <td>16076389</td>\n",
              "      <td>232580</td>\n",
              "    </tr>\n",
              "    <tr>\n",
              "      <th>FEMALE</th>\n",
              "      <td>957</td>\n",
              "      <td>955</td>\n",
              "      <td>1895</td>\n",
              "      <td>255</td>\n",
              "      <td>12825190007</td>\n",
              "      <td>44055</td>\n",
              "      <td>629</td>\n",
              "    </tr>\n",
              "    <tr>\n",
              "      <th>FEMININO</th>\n",
              "      <td>270857</td>\n",
              "      <td>267902</td>\n",
              "      <td>588186</td>\n",
              "      <td>64696</td>\n",
              "      <td>3283754289121</td>\n",
              "      <td>13319070</td>\n",
              "      <td>196090</td>\n",
              "    </tr>\n",
              "    <tr>\n",
              "      <th>G</th>\n",
              "      <td>1</td>\n",
              "      <td>1</td>\n",
              "      <td>3</td>\n",
              "      <td>0</td>\n",
              "      <td>6146087</td>\n",
              "      <td>30</td>\n",
              "      <td>0</td>\n",
              "    </tr>\n",
              "    <tr>\n",
              "      <th>I</th>\n",
              "      <td>309</td>\n",
              "      <td>303</td>\n",
              "      <td>736</td>\n",
              "      <td>69</td>\n",
              "      <td>5194564693</td>\n",
              "      <td>14836</td>\n",
              "      <td>217</td>\n",
              "    </tr>\n",
              "    <tr>\n",
              "      <th>INDETERMINADO</th>\n",
              "      <td>3</td>\n",
              "      <td>3</td>\n",
              "      <td>7</td>\n",
              "      <td>0</td>\n",
              "      <td>53992227</td>\n",
              "      <td>197</td>\n",
              "      <td>2</td>\n",
              "    </tr>\n",
              "    <tr>\n",
              "      <th>INTERSEXUAL</th>\n",
              "      <td>148</td>\n",
              "      <td>145</td>\n",
              "      <td>401</td>\n",
              "      <td>26</td>\n",
              "      <td>2002968799</td>\n",
              "      <td>6415</td>\n",
              "      <td>82</td>\n",
              "    </tr>\n",
              "    <tr>\n",
              "      <th>M</th>\n",
              "      <td>66925</td>\n",
              "      <td>66512</td>\n",
              "      <td>141548</td>\n",
              "      <td>12066</td>\n",
              "      <td>1001291355208</td>\n",
              "      <td>3031364</td>\n",
              "      <td>2155</td>\n",
              "    </tr>\n",
              "    <tr>\n",
              "      <th>MALE</th>\n",
              "      <td>170</td>\n",
              "      <td>168</td>\n",
              "      <td>361</td>\n",
              "      <td>34</td>\n",
              "      <td>2155971686</td>\n",
              "      <td>7258</td>\n",
              "      <td>3</td>\n",
              "    </tr>\n",
              "    <tr>\n",
              "      <th>MASCULINO</th>\n",
              "      <td>55260</td>\n",
              "      <td>54866</td>\n",
              "      <td>116443</td>\n",
              "      <td>10043</td>\n",
              "      <td>712631553460</td>\n",
              "      <td>2483289</td>\n",
              "      <td>544</td>\n",
              "    </tr>\n",
              "    <tr>\n",
              "      <th>N</th>\n",
              "      <td>2</td>\n",
              "      <td>0</td>\n",
              "      <td>9</td>\n",
              "      <td>0</td>\n",
              "      <td>66402864</td>\n",
              "      <td>94</td>\n",
              "      <td>2</td>\n",
              "    </tr>\n",
              "    <tr>\n",
              "      <th>N/D</th>\n",
              "      <td>2</td>\n",
              "      <td>2</td>\n",
              "      <td>1</td>\n",
              "      <td>0</td>\n",
              "      <td>54855773</td>\n",
              "      <td>87</td>\n",
              "      <td>2</td>\n",
              "    </tr>\n",
              "    <tr>\n",
              "      <th>NAO_INFORMADO</th>\n",
              "      <td>419</td>\n",
              "      <td>404</td>\n",
              "      <td>1105</td>\n",
              "      <td>72</td>\n",
              "      <td>3394327771</td>\n",
              "      <td>20577</td>\n",
              "      <td>298</td>\n",
              "    </tr>\n",
              "    <tr>\n",
              "      <th>NONE</th>\n",
              "      <td>2797</td>\n",
              "      <td>2767</td>\n",
              "      <td>5923</td>\n",
              "      <td>616</td>\n",
              "      <td>35317126836</td>\n",
              "      <td>128532</td>\n",
              "      <td>1789</td>\n",
              "    </tr>\n",
              "    <tr>\n",
              "      <th>\\N</th>\n",
              "      <td>473</td>\n",
              "      <td>470</td>\n",
              "      <td>1018</td>\n",
              "      <td>97</td>\n",
              "      <td>7556486772</td>\n",
              "      <td>25541</td>\n",
              "      <td>407</td>\n",
              "    </tr>\n",
              "  </tbody>\n",
              "</table>\n",
              "</div>\n",
              "      <button class=\"colab-df-convert\" onclick=\"convertToInteractive('df-d0d1fc10-9c39-43cb-84fd-ba1edbbbde99')\"\n",
              "              title=\"Convert this dataframe to an interactive table.\"\n",
              "              style=\"display:none;\">\n",
              "        \n",
              "  <svg xmlns=\"http://www.w3.org/2000/svg\" height=\"24px\"viewBox=\"0 0 24 24\"\n",
              "       width=\"24px\">\n",
              "    <path d=\"M0 0h24v24H0V0z\" fill=\"none\"/>\n",
              "    <path d=\"M18.56 5.44l.94 2.06.94-2.06 2.06-.94-2.06-.94-.94-2.06-.94 2.06-2.06.94zm-11 1L8.5 8.5l.94-2.06 2.06-.94-2.06-.94L8.5 2.5l-.94 2.06-2.06.94zm10 10l.94 2.06.94-2.06 2.06-.94-2.06-.94-.94-2.06-.94 2.06-2.06.94z\"/><path d=\"M17.41 7.96l-1.37-1.37c-.4-.4-.92-.59-1.43-.59-.52 0-1.04.2-1.43.59L10.3 9.45l-7.72 7.72c-.78.78-.78 2.05 0 2.83L4 21.41c.39.39.9.59 1.41.59.51 0 1.02-.2 1.41-.59l7.78-7.78 2.81-2.81c.8-.78.8-2.07 0-2.86zM5.41 20L4 18.59l7.72-7.72 1.47 1.35L5.41 20z\"/>\n",
              "  </svg>\n",
              "      </button>\n",
              "      \n",
              "  <style>\n",
              "    .colab-df-container {\n",
              "      display:flex;\n",
              "      flex-wrap:wrap;\n",
              "      gap: 12px;\n",
              "    }\n",
              "\n",
              "    .colab-df-convert {\n",
              "      background-color: #E8F0FE;\n",
              "      border: none;\n",
              "      border-radius: 50%;\n",
              "      cursor: pointer;\n",
              "      display: none;\n",
              "      fill: #1967D2;\n",
              "      height: 32px;\n",
              "      padding: 0 0 0 0;\n",
              "      width: 32px;\n",
              "    }\n",
              "\n",
              "    .colab-df-convert:hover {\n",
              "      background-color: #E2EBFA;\n",
              "      box-shadow: 0px 1px 2px rgba(60, 64, 67, 0.3), 0px 1px 3px 1px rgba(60, 64, 67, 0.15);\n",
              "      fill: #174EA6;\n",
              "    }\n",
              "\n",
              "    [theme=dark] .colab-df-convert {\n",
              "      background-color: #3B4455;\n",
              "      fill: #D2E3FC;\n",
              "    }\n",
              "\n",
              "    [theme=dark] .colab-df-convert:hover {\n",
              "      background-color: #434B5C;\n",
              "      box-shadow: 0px 1px 3px 1px rgba(0, 0, 0, 0.15);\n",
              "      filter: drop-shadow(0px 1px 2px rgba(0, 0, 0, 0.3));\n",
              "      fill: #FFFFFF;\n",
              "    }\n",
              "  </style>\n",
              "\n",
              "      <script>\n",
              "        const buttonEl =\n",
              "          document.querySelector('#df-d0d1fc10-9c39-43cb-84fd-ba1edbbbde99 button.colab-df-convert');\n",
              "        buttonEl.style.display =\n",
              "          google.colab.kernel.accessAllowed ? 'block' : 'none';\n",
              "\n",
              "        async function convertToInteractive(key) {\n",
              "          const element = document.querySelector('#df-d0d1fc10-9c39-43cb-84fd-ba1edbbbde99');\n",
              "          const dataTable =\n",
              "            await google.colab.kernel.invokeFunction('convertToInteractive',\n",
              "                                                     [key], {});\n",
              "          if (!dataTable) return;\n",
              "\n",
              "          const docLinkHtml = 'Like what you see? Visit the ' +\n",
              "            '<a target=\"_blank\" href=https://colab.research.google.com/notebooks/data_table.ipynb>data table notebook</a>'\n",
              "            + ' to learn more about interactive tables.';\n",
              "          element.innerHTML = '';\n",
              "          dataTable['output_type'] = 'display_data';\n",
              "          await google.colab.output.renderOutput(dataTable, element);\n",
              "          const docLink = document.createElement('div');\n",
              "          docLink.innerHTML = docLinkHtml;\n",
              "          element.appendChild(docLink);\n",
              "        }\n",
              "      </script>\n",
              "    </div>\n",
              "  </div>\n",
              "  "
            ]
          },
          "metadata": {},
          "execution_count": 18
        }
      ]
    },
    {
      "cell_type": "code",
      "source": [
        "# df.groupby(['origin_gender']).count()\n",
        "troca_genero = {  \"FEMALE\":\"F\",\n",
        "                  \"FEMININO\":\"F\",\n",
        "                  \"M\":\"M\",\n",
        "                  \"F\":\"F\",\n",
        "                  \"MALE\":\"M\",\n",
        "                  \"MASCULINO\":\"M\",\n",
        "                  \"G\":\"I\",\n",
        "                  \"INDETERMINADO\":\"I\",\n",
        "                  \"NAO_INFORMADO\":\"I\",\n",
        "                  \"NONE\":\"I\",\n",
        "                  \"OTHER\":\"I\",\n",
        "                  \"N/D\":\"I\",\n",
        "                  \"N\":\"I\",\n",
        "                  \"INTERSEXUAL\":\"I\",\n",
        "                  \"\":\"I\",\n",
        "                  \"\\\\N\":\"I\"\n",
        "                  }\n",
        "\n",
        "df['genero_tratado'] = df.origin_gender.map(troca_genero)\n",
        "df[['origin_gender','genero_tratado']].head(3)"
      ],
      "metadata": {
        "colab": {
          "base_uri": "https://localhost:8080/",
          "height": 0
        },
        "id": "3KRoNEElU_OV",
        "outputId": "192015de-495c-47bf-a739-3d7739b0268c"
      },
      "execution_count": 19,
      "outputs": [
        {
          "output_type": "execute_result",
          "data": {
            "text/plain": [
              "  origin_gender genero_tratado\n",
              "0             M              M\n",
              "1             M              M\n",
              "3             F              F"
            ],
            "text/html": [
              "\n",
              "  <div id=\"df-0e9bb9be-039b-4301-859e-830be4206d05\">\n",
              "    <div class=\"colab-df-container\">\n",
              "      <div>\n",
              "<style scoped>\n",
              "    .dataframe tbody tr th:only-of-type {\n",
              "        vertical-align: middle;\n",
              "    }\n",
              "\n",
              "    .dataframe tbody tr th {\n",
              "        vertical-align: top;\n",
              "    }\n",
              "\n",
              "    .dataframe thead th {\n",
              "        text-align: right;\n",
              "    }\n",
              "</style>\n",
              "<table border=\"1\" class=\"dataframe\">\n",
              "  <thead>\n",
              "    <tr style=\"text-align: right;\">\n",
              "      <th></th>\n",
              "      <th>origin_gender</th>\n",
              "      <th>genero_tratado</th>\n",
              "    </tr>\n",
              "  </thead>\n",
              "  <tbody>\n",
              "    <tr>\n",
              "      <th>0</th>\n",
              "      <td>M</td>\n",
              "      <td>M</td>\n",
              "    </tr>\n",
              "    <tr>\n",
              "      <th>1</th>\n",
              "      <td>M</td>\n",
              "      <td>M</td>\n",
              "    </tr>\n",
              "    <tr>\n",
              "      <th>3</th>\n",
              "      <td>F</td>\n",
              "      <td>F</td>\n",
              "    </tr>\n",
              "  </tbody>\n",
              "</table>\n",
              "</div>\n",
              "      <button class=\"colab-df-convert\" onclick=\"convertToInteractive('df-0e9bb9be-039b-4301-859e-830be4206d05')\"\n",
              "              title=\"Convert this dataframe to an interactive table.\"\n",
              "              style=\"display:none;\">\n",
              "        \n",
              "  <svg xmlns=\"http://www.w3.org/2000/svg\" height=\"24px\"viewBox=\"0 0 24 24\"\n",
              "       width=\"24px\">\n",
              "    <path d=\"M0 0h24v24H0V0z\" fill=\"none\"/>\n",
              "    <path d=\"M18.56 5.44l.94 2.06.94-2.06 2.06-.94-2.06-.94-.94-2.06-.94 2.06-2.06.94zm-11 1L8.5 8.5l.94-2.06 2.06-.94-2.06-.94L8.5 2.5l-.94 2.06-2.06.94zm10 10l.94 2.06.94-2.06 2.06-.94-2.06-.94-.94-2.06-.94 2.06-2.06.94z\"/><path d=\"M17.41 7.96l-1.37-1.37c-.4-.4-.92-.59-1.43-.59-.52 0-1.04.2-1.43.59L10.3 9.45l-7.72 7.72c-.78.78-.78 2.05 0 2.83L4 21.41c.39.39.9.59 1.41.59.51 0 1.02-.2 1.41-.59l7.78-7.78 2.81-2.81c.8-.78.8-2.07 0-2.86zM5.41 20L4 18.59l7.72-7.72 1.47 1.35L5.41 20z\"/>\n",
              "  </svg>\n",
              "      </button>\n",
              "      \n",
              "  <style>\n",
              "    .colab-df-container {\n",
              "      display:flex;\n",
              "      flex-wrap:wrap;\n",
              "      gap: 12px;\n",
              "    }\n",
              "\n",
              "    .colab-df-convert {\n",
              "      background-color: #E8F0FE;\n",
              "      border: none;\n",
              "      border-radius: 50%;\n",
              "      cursor: pointer;\n",
              "      display: none;\n",
              "      fill: #1967D2;\n",
              "      height: 32px;\n",
              "      padding: 0 0 0 0;\n",
              "      width: 32px;\n",
              "    }\n",
              "\n",
              "    .colab-df-convert:hover {\n",
              "      background-color: #E2EBFA;\n",
              "      box-shadow: 0px 1px 2px rgba(60, 64, 67, 0.3), 0px 1px 3px 1px rgba(60, 64, 67, 0.15);\n",
              "      fill: #174EA6;\n",
              "    }\n",
              "\n",
              "    [theme=dark] .colab-df-convert {\n",
              "      background-color: #3B4455;\n",
              "      fill: #D2E3FC;\n",
              "    }\n",
              "\n",
              "    [theme=dark] .colab-df-convert:hover {\n",
              "      background-color: #434B5C;\n",
              "      box-shadow: 0px 1px 3px 1px rgba(0, 0, 0, 0.15);\n",
              "      filter: drop-shadow(0px 1px 2px rgba(0, 0, 0, 0.3));\n",
              "      fill: #FFFFFF;\n",
              "    }\n",
              "  </style>\n",
              "\n",
              "      <script>\n",
              "        const buttonEl =\n",
              "          document.querySelector('#df-0e9bb9be-039b-4301-859e-830be4206d05 button.colab-df-convert');\n",
              "        buttonEl.style.display =\n",
              "          google.colab.kernel.accessAllowed ? 'block' : 'none';\n",
              "\n",
              "        async function convertToInteractive(key) {\n",
              "          const element = document.querySelector('#df-0e9bb9be-039b-4301-859e-830be4206d05');\n",
              "          const dataTable =\n",
              "            await google.colab.kernel.invokeFunction('convertToInteractive',\n",
              "                                                     [key], {});\n",
              "          if (!dataTable) return;\n",
              "\n",
              "          const docLinkHtml = 'Like what you see? Visit the ' +\n",
              "            '<a target=\"_blank\" href=https://colab.research.google.com/notebooks/data_table.ipynb>data table notebook</a>'\n",
              "            + ' to learn more about interactive tables.';\n",
              "          element.innerHTML = '';\n",
              "          dataTable['output_type'] = 'display_data';\n",
              "          await google.colab.output.renderOutput(dataTable, element);\n",
              "          const docLink = document.createElement('div');\n",
              "          docLink.innerHTML = docLinkHtml;\n",
              "          element.appendChild(docLink);\n",
              "        }\n",
              "      </script>\n",
              "    </div>\n",
              "  </div>\n",
              "  "
            ]
          },
          "metadata": {},
          "execution_count": 19
        }
      ]
    },
    {
      "cell_type": "code",
      "source": [
        "troca_genero = {  \"I\":0,\n",
        "                  \"M\":1,\n",
        "                  \"F\":2,\n",
        "                  }\n",
        "\n",
        "df['class_gender'] = df.genero_tratado.map(troca_genero)\n",
        "df = df.dropna()\n",
        "df['class_gender'].astype('int64') #, errors='ignore'\n",
        "df[['genero_tratado','class_gender']].value_counts()"
      ],
      "metadata": {
        "colab": {
          "base_uri": "https://localhost:8080/"
        },
        "id": "grI7RCnXb4Z_",
        "outputId": "804bb6c3-8b98-43fd-bd76-b3255470361a"
      },
      "execution_count": 20,
      "outputs": [
        {
          "output_type": "execute_result",
          "data": {
            "text/plain": [
              "genero_tratado  class_gender\n",
              "F               2.0             599223\n",
              "M               1.0             122355\n",
              "I               0.0               3847\n",
              "dtype: int64"
            ]
          },
          "metadata": {},
          "execution_count": 20
        }
      ]
    },
    {
      "cell_type": "code",
      "source": [
        "df.info()"
      ],
      "metadata": {
        "colab": {
          "base_uri": "https://localhost:8080/"
        },
        "id": "OW66Ec6uoLhD",
        "outputId": "db65145d-0d54-4eab-9fb9-051b4e961188"
      },
      "execution_count": 21,
      "outputs": [
        {
          "output_type": "stream",
          "name": "stdout",
          "text": [
            "<class 'pandas.core.frame.DataFrame'>\n",
            "Int64Index: 725425 entries, 0 to 1617266\n",
            "Data columns (total 15 columns):\n",
            " #   Column          Non-Null Count   Dtype  \n",
            "---  ------          --------------   -----  \n",
            " 0   SubscriberKey   725425 non-null  object \n",
            " 1   Envios          725425 non-null  int64  \n",
            " 2   Entregas        725425 non-null  int64  \n",
            " 3   DomainSent      725425 non-null  object \n",
            " 4   Domain_class    725425 non-null  int64  \n",
            " 5   BU              725425 non-null  object \n",
            " 6   Aberturas       725425 non-null  int64  \n",
            " 7   mdm_people_id   725425 non-null  int64  \n",
            " 8   patient_age     725425 non-null  int64  \n",
            " 9   origin_gender   725425 non-null  object \n",
            " 10  pacid           725425 non-null  object \n",
            " 11  bu_tratado      725425 non-null  int64  \n",
            " 12  abriu?          725425 non-null  object \n",
            " 13  genero_tratado  725425 non-null  object \n",
            " 14  class_gender    725425 non-null  float64\n",
            "dtypes: float64(1), int64(7), object(7)\n",
            "memory usage: 88.6+ MB\n"
          ]
        }
      ]
    },
    {
      "cell_type": "code",
      "source": [
        "df.groupby(['genero_tratado']).count()"
      ],
      "metadata": {
        "colab": {
          "base_uri": "https://localhost:8080/",
          "height": 0
        },
        "id": "XnQW5j0LZsdL",
        "outputId": "c6051e9c-a644-411f-d412-ef0c689541e2"
      },
      "execution_count": 22,
      "outputs": [
        {
          "output_type": "execute_result",
          "data": {
            "text/plain": [
              "                SubscriberKey  Envios  Entregas  DomainSent  Domain_class  \\\n",
              "genero_tratado                                                              \n",
              "F                      599223  599223    599223      599223        599223   \n",
              "I                        3847    3847      3847        3847          3847   \n",
              "M                      122355  122355    122355      122355        122355   \n",
              "\n",
              "                    BU  Aberturas  mdm_people_id  patient_age  origin_gender  \\\n",
              "genero_tratado                                                                 \n",
              "F               599223     599223         599223       599223         599223   \n",
              "I                 3847       3847           3847         3847           3847   \n",
              "M               122355     122355         122355       122355         122355   \n",
              "\n",
              "                 pacid  bu_tratado  abriu?  class_gender  \n",
              "genero_tratado                                            \n",
              "F               599223      599223  599223        599223  \n",
              "I                 3847        3847    3847          3847  \n",
              "M               122355      122355  122355        122355  "
            ],
            "text/html": [
              "\n",
              "  <div id=\"df-203b1233-0500-461f-925c-1b551d1235ae\">\n",
              "    <div class=\"colab-df-container\">\n",
              "      <div>\n",
              "<style scoped>\n",
              "    .dataframe tbody tr th:only-of-type {\n",
              "        vertical-align: middle;\n",
              "    }\n",
              "\n",
              "    .dataframe tbody tr th {\n",
              "        vertical-align: top;\n",
              "    }\n",
              "\n",
              "    .dataframe thead th {\n",
              "        text-align: right;\n",
              "    }\n",
              "</style>\n",
              "<table border=\"1\" class=\"dataframe\">\n",
              "  <thead>\n",
              "    <tr style=\"text-align: right;\">\n",
              "      <th></th>\n",
              "      <th>SubscriberKey</th>\n",
              "      <th>Envios</th>\n",
              "      <th>Entregas</th>\n",
              "      <th>DomainSent</th>\n",
              "      <th>Domain_class</th>\n",
              "      <th>BU</th>\n",
              "      <th>Aberturas</th>\n",
              "      <th>mdm_people_id</th>\n",
              "      <th>patient_age</th>\n",
              "      <th>origin_gender</th>\n",
              "      <th>pacid</th>\n",
              "      <th>bu_tratado</th>\n",
              "      <th>abriu?</th>\n",
              "      <th>class_gender</th>\n",
              "    </tr>\n",
              "    <tr>\n",
              "      <th>genero_tratado</th>\n",
              "      <th></th>\n",
              "      <th></th>\n",
              "      <th></th>\n",
              "      <th></th>\n",
              "      <th></th>\n",
              "      <th></th>\n",
              "      <th></th>\n",
              "      <th></th>\n",
              "      <th></th>\n",
              "      <th></th>\n",
              "      <th></th>\n",
              "      <th></th>\n",
              "      <th></th>\n",
              "      <th></th>\n",
              "    </tr>\n",
              "  </thead>\n",
              "  <tbody>\n",
              "    <tr>\n",
              "      <th>F</th>\n",
              "      <td>599223</td>\n",
              "      <td>599223</td>\n",
              "      <td>599223</td>\n",
              "      <td>599223</td>\n",
              "      <td>599223</td>\n",
              "      <td>599223</td>\n",
              "      <td>599223</td>\n",
              "      <td>599223</td>\n",
              "      <td>599223</td>\n",
              "      <td>599223</td>\n",
              "      <td>599223</td>\n",
              "      <td>599223</td>\n",
              "      <td>599223</td>\n",
              "      <td>599223</td>\n",
              "    </tr>\n",
              "    <tr>\n",
              "      <th>I</th>\n",
              "      <td>3847</td>\n",
              "      <td>3847</td>\n",
              "      <td>3847</td>\n",
              "      <td>3847</td>\n",
              "      <td>3847</td>\n",
              "      <td>3847</td>\n",
              "      <td>3847</td>\n",
              "      <td>3847</td>\n",
              "      <td>3847</td>\n",
              "      <td>3847</td>\n",
              "      <td>3847</td>\n",
              "      <td>3847</td>\n",
              "      <td>3847</td>\n",
              "      <td>3847</td>\n",
              "    </tr>\n",
              "    <tr>\n",
              "      <th>M</th>\n",
              "      <td>122355</td>\n",
              "      <td>122355</td>\n",
              "      <td>122355</td>\n",
              "      <td>122355</td>\n",
              "      <td>122355</td>\n",
              "      <td>122355</td>\n",
              "      <td>122355</td>\n",
              "      <td>122355</td>\n",
              "      <td>122355</td>\n",
              "      <td>122355</td>\n",
              "      <td>122355</td>\n",
              "      <td>122355</td>\n",
              "      <td>122355</td>\n",
              "      <td>122355</td>\n",
              "    </tr>\n",
              "  </tbody>\n",
              "</table>\n",
              "</div>\n",
              "      <button class=\"colab-df-convert\" onclick=\"convertToInteractive('df-203b1233-0500-461f-925c-1b551d1235ae')\"\n",
              "              title=\"Convert this dataframe to an interactive table.\"\n",
              "              style=\"display:none;\">\n",
              "        \n",
              "  <svg xmlns=\"http://www.w3.org/2000/svg\" height=\"24px\"viewBox=\"0 0 24 24\"\n",
              "       width=\"24px\">\n",
              "    <path d=\"M0 0h24v24H0V0z\" fill=\"none\"/>\n",
              "    <path d=\"M18.56 5.44l.94 2.06.94-2.06 2.06-.94-2.06-.94-.94-2.06-.94 2.06-2.06.94zm-11 1L8.5 8.5l.94-2.06 2.06-.94-2.06-.94L8.5 2.5l-.94 2.06-2.06.94zm10 10l.94 2.06.94-2.06 2.06-.94-2.06-.94-.94-2.06-.94 2.06-2.06.94z\"/><path d=\"M17.41 7.96l-1.37-1.37c-.4-.4-.92-.59-1.43-.59-.52 0-1.04.2-1.43.59L10.3 9.45l-7.72 7.72c-.78.78-.78 2.05 0 2.83L4 21.41c.39.39.9.59 1.41.59.51 0 1.02-.2 1.41-.59l7.78-7.78 2.81-2.81c.8-.78.8-2.07 0-2.86zM5.41 20L4 18.59l7.72-7.72 1.47 1.35L5.41 20z\"/>\n",
              "  </svg>\n",
              "      </button>\n",
              "      \n",
              "  <style>\n",
              "    .colab-df-container {\n",
              "      display:flex;\n",
              "      flex-wrap:wrap;\n",
              "      gap: 12px;\n",
              "    }\n",
              "\n",
              "    .colab-df-convert {\n",
              "      background-color: #E8F0FE;\n",
              "      border: none;\n",
              "      border-radius: 50%;\n",
              "      cursor: pointer;\n",
              "      display: none;\n",
              "      fill: #1967D2;\n",
              "      height: 32px;\n",
              "      padding: 0 0 0 0;\n",
              "      width: 32px;\n",
              "    }\n",
              "\n",
              "    .colab-df-convert:hover {\n",
              "      background-color: #E2EBFA;\n",
              "      box-shadow: 0px 1px 2px rgba(60, 64, 67, 0.3), 0px 1px 3px 1px rgba(60, 64, 67, 0.15);\n",
              "      fill: #174EA6;\n",
              "    }\n",
              "\n",
              "    [theme=dark] .colab-df-convert {\n",
              "      background-color: #3B4455;\n",
              "      fill: #D2E3FC;\n",
              "    }\n",
              "\n",
              "    [theme=dark] .colab-df-convert:hover {\n",
              "      background-color: #434B5C;\n",
              "      box-shadow: 0px 1px 3px 1px rgba(0, 0, 0, 0.15);\n",
              "      filter: drop-shadow(0px 1px 2px rgba(0, 0, 0, 0.3));\n",
              "      fill: #FFFFFF;\n",
              "    }\n",
              "  </style>\n",
              "\n",
              "      <script>\n",
              "        const buttonEl =\n",
              "          document.querySelector('#df-203b1233-0500-461f-925c-1b551d1235ae button.colab-df-convert');\n",
              "        buttonEl.style.display =\n",
              "          google.colab.kernel.accessAllowed ? 'block' : 'none';\n",
              "\n",
              "        async function convertToInteractive(key) {\n",
              "          const element = document.querySelector('#df-203b1233-0500-461f-925c-1b551d1235ae');\n",
              "          const dataTable =\n",
              "            await google.colab.kernel.invokeFunction('convertToInteractive',\n",
              "                                                     [key], {});\n",
              "          if (!dataTable) return;\n",
              "\n",
              "          const docLinkHtml = 'Like what you see? Visit the ' +\n",
              "            '<a target=\"_blank\" href=https://colab.research.google.com/notebooks/data_table.ipynb>data table notebook</a>'\n",
              "            + ' to learn more about interactive tables.';\n",
              "          element.innerHTML = '';\n",
              "          dataTable['output_type'] = 'display_data';\n",
              "          await google.colab.output.renderOutput(dataTable, element);\n",
              "          const docLink = document.createElement('div');\n",
              "          docLink.innerHTML = docLinkHtml;\n",
              "          element.appendChild(docLink);\n",
              "        }\n",
              "      </script>\n",
              "    </div>\n",
              "  </div>\n",
              "  "
            ]
          },
          "metadata": {},
          "execution_count": 22
        }
      ]
    },
    {
      "cell_type": "code",
      "source": [
        "df.genero_tratado.shape"
      ],
      "metadata": {
        "colab": {
          "base_uri": "https://localhost:8080/"
        },
        "id": "MNviNjbceUx6",
        "outputId": "a4832d06-31ae-4ce0-af5b-a22d13d6b84d"
      },
      "execution_count": 23,
      "outputs": [
        {
          "output_type": "execute_result",
          "data": {
            "text/plain": [
              "(725425,)"
            ]
          },
          "metadata": {},
          "execution_count": 23
        }
      ]
    },
    {
      "cell_type": "code",
      "source": [
        "df.groupby(['class_gender']).count()"
      ],
      "metadata": {
        "colab": {
          "base_uri": "https://localhost:8080/",
          "height": 0
        },
        "id": "XL1PHO98cOeH",
        "outputId": "cffa1c11-e74c-4cce-dd95-eed3bcbbd6c8"
      },
      "execution_count": 24,
      "outputs": [
        {
          "output_type": "execute_result",
          "data": {
            "text/plain": [
              "              SubscriberKey  Envios  Entregas  DomainSent  Domain_class  \\\n",
              "class_gender                                                              \n",
              "0.0                    3847    3847      3847        3847          3847   \n",
              "1.0                  122355  122355    122355      122355        122355   \n",
              "2.0                  599223  599223    599223      599223        599223   \n",
              "\n",
              "                  BU  Aberturas  mdm_people_id  patient_age  origin_gender  \\\n",
              "class_gender                                                                 \n",
              "0.0             3847       3847           3847         3847           3847   \n",
              "1.0           122355     122355         122355       122355         122355   \n",
              "2.0           599223     599223         599223       599223         599223   \n",
              "\n",
              "               pacid  bu_tratado  abriu?  genero_tratado  \n",
              "class_gender                                              \n",
              "0.0             3847        3847    3847            3847  \n",
              "1.0           122355      122355  122355          122355  \n",
              "2.0           599223      599223  599223          599223  "
            ],
            "text/html": [
              "\n",
              "  <div id=\"df-3948139e-3370-4928-b044-1f67fbc56935\">\n",
              "    <div class=\"colab-df-container\">\n",
              "      <div>\n",
              "<style scoped>\n",
              "    .dataframe tbody tr th:only-of-type {\n",
              "        vertical-align: middle;\n",
              "    }\n",
              "\n",
              "    .dataframe tbody tr th {\n",
              "        vertical-align: top;\n",
              "    }\n",
              "\n",
              "    .dataframe thead th {\n",
              "        text-align: right;\n",
              "    }\n",
              "</style>\n",
              "<table border=\"1\" class=\"dataframe\">\n",
              "  <thead>\n",
              "    <tr style=\"text-align: right;\">\n",
              "      <th></th>\n",
              "      <th>SubscriberKey</th>\n",
              "      <th>Envios</th>\n",
              "      <th>Entregas</th>\n",
              "      <th>DomainSent</th>\n",
              "      <th>Domain_class</th>\n",
              "      <th>BU</th>\n",
              "      <th>Aberturas</th>\n",
              "      <th>mdm_people_id</th>\n",
              "      <th>patient_age</th>\n",
              "      <th>origin_gender</th>\n",
              "      <th>pacid</th>\n",
              "      <th>bu_tratado</th>\n",
              "      <th>abriu?</th>\n",
              "      <th>genero_tratado</th>\n",
              "    </tr>\n",
              "    <tr>\n",
              "      <th>class_gender</th>\n",
              "      <th></th>\n",
              "      <th></th>\n",
              "      <th></th>\n",
              "      <th></th>\n",
              "      <th></th>\n",
              "      <th></th>\n",
              "      <th></th>\n",
              "      <th></th>\n",
              "      <th></th>\n",
              "      <th></th>\n",
              "      <th></th>\n",
              "      <th></th>\n",
              "      <th></th>\n",
              "      <th></th>\n",
              "    </tr>\n",
              "  </thead>\n",
              "  <tbody>\n",
              "    <tr>\n",
              "      <th>0.0</th>\n",
              "      <td>3847</td>\n",
              "      <td>3847</td>\n",
              "      <td>3847</td>\n",
              "      <td>3847</td>\n",
              "      <td>3847</td>\n",
              "      <td>3847</td>\n",
              "      <td>3847</td>\n",
              "      <td>3847</td>\n",
              "      <td>3847</td>\n",
              "      <td>3847</td>\n",
              "      <td>3847</td>\n",
              "      <td>3847</td>\n",
              "      <td>3847</td>\n",
              "      <td>3847</td>\n",
              "    </tr>\n",
              "    <tr>\n",
              "      <th>1.0</th>\n",
              "      <td>122355</td>\n",
              "      <td>122355</td>\n",
              "      <td>122355</td>\n",
              "      <td>122355</td>\n",
              "      <td>122355</td>\n",
              "      <td>122355</td>\n",
              "      <td>122355</td>\n",
              "      <td>122355</td>\n",
              "      <td>122355</td>\n",
              "      <td>122355</td>\n",
              "      <td>122355</td>\n",
              "      <td>122355</td>\n",
              "      <td>122355</td>\n",
              "      <td>122355</td>\n",
              "    </tr>\n",
              "    <tr>\n",
              "      <th>2.0</th>\n",
              "      <td>599223</td>\n",
              "      <td>599223</td>\n",
              "      <td>599223</td>\n",
              "      <td>599223</td>\n",
              "      <td>599223</td>\n",
              "      <td>599223</td>\n",
              "      <td>599223</td>\n",
              "      <td>599223</td>\n",
              "      <td>599223</td>\n",
              "      <td>599223</td>\n",
              "      <td>599223</td>\n",
              "      <td>599223</td>\n",
              "      <td>599223</td>\n",
              "      <td>599223</td>\n",
              "    </tr>\n",
              "  </tbody>\n",
              "</table>\n",
              "</div>\n",
              "      <button class=\"colab-df-convert\" onclick=\"convertToInteractive('df-3948139e-3370-4928-b044-1f67fbc56935')\"\n",
              "              title=\"Convert this dataframe to an interactive table.\"\n",
              "              style=\"display:none;\">\n",
              "        \n",
              "  <svg xmlns=\"http://www.w3.org/2000/svg\" height=\"24px\"viewBox=\"0 0 24 24\"\n",
              "       width=\"24px\">\n",
              "    <path d=\"M0 0h24v24H0V0z\" fill=\"none\"/>\n",
              "    <path d=\"M18.56 5.44l.94 2.06.94-2.06 2.06-.94-2.06-.94-.94-2.06-.94 2.06-2.06.94zm-11 1L8.5 8.5l.94-2.06 2.06-.94-2.06-.94L8.5 2.5l-.94 2.06-2.06.94zm10 10l.94 2.06.94-2.06 2.06-.94-2.06-.94-.94-2.06-.94 2.06-2.06.94z\"/><path d=\"M17.41 7.96l-1.37-1.37c-.4-.4-.92-.59-1.43-.59-.52 0-1.04.2-1.43.59L10.3 9.45l-7.72 7.72c-.78.78-.78 2.05 0 2.83L4 21.41c.39.39.9.59 1.41.59.51 0 1.02-.2 1.41-.59l7.78-7.78 2.81-2.81c.8-.78.8-2.07 0-2.86zM5.41 20L4 18.59l7.72-7.72 1.47 1.35L5.41 20z\"/>\n",
              "  </svg>\n",
              "      </button>\n",
              "      \n",
              "  <style>\n",
              "    .colab-df-container {\n",
              "      display:flex;\n",
              "      flex-wrap:wrap;\n",
              "      gap: 12px;\n",
              "    }\n",
              "\n",
              "    .colab-df-convert {\n",
              "      background-color: #E8F0FE;\n",
              "      border: none;\n",
              "      border-radius: 50%;\n",
              "      cursor: pointer;\n",
              "      display: none;\n",
              "      fill: #1967D2;\n",
              "      height: 32px;\n",
              "      padding: 0 0 0 0;\n",
              "      width: 32px;\n",
              "    }\n",
              "\n",
              "    .colab-df-convert:hover {\n",
              "      background-color: #E2EBFA;\n",
              "      box-shadow: 0px 1px 2px rgba(60, 64, 67, 0.3), 0px 1px 3px 1px rgba(60, 64, 67, 0.15);\n",
              "      fill: #174EA6;\n",
              "    }\n",
              "\n",
              "    [theme=dark] .colab-df-convert {\n",
              "      background-color: #3B4455;\n",
              "      fill: #D2E3FC;\n",
              "    }\n",
              "\n",
              "    [theme=dark] .colab-df-convert:hover {\n",
              "      background-color: #434B5C;\n",
              "      box-shadow: 0px 1px 3px 1px rgba(0, 0, 0, 0.15);\n",
              "      filter: drop-shadow(0px 1px 2px rgba(0, 0, 0, 0.3));\n",
              "      fill: #FFFFFF;\n",
              "    }\n",
              "  </style>\n",
              "\n",
              "      <script>\n",
              "        const buttonEl =\n",
              "          document.querySelector('#df-3948139e-3370-4928-b044-1f67fbc56935 button.colab-df-convert');\n",
              "        buttonEl.style.display =\n",
              "          google.colab.kernel.accessAllowed ? 'block' : 'none';\n",
              "\n",
              "        async function convertToInteractive(key) {\n",
              "          const element = document.querySelector('#df-3948139e-3370-4928-b044-1f67fbc56935');\n",
              "          const dataTable =\n",
              "            await google.colab.kernel.invokeFunction('convertToInteractive',\n",
              "                                                     [key], {});\n",
              "          if (!dataTable) return;\n",
              "\n",
              "          const docLinkHtml = 'Like what you see? Visit the ' +\n",
              "            '<a target=\"_blank\" href=https://colab.research.google.com/notebooks/data_table.ipynb>data table notebook</a>'\n",
              "            + ' to learn more about interactive tables.';\n",
              "          element.innerHTML = '';\n",
              "          dataTable['output_type'] = 'display_data';\n",
              "          await google.colab.output.renderOutput(dataTable, element);\n",
              "          const docLink = document.createElement('div');\n",
              "          docLink.innerHTML = docLinkHtml;\n",
              "          element.appendChild(docLink);\n",
              "        }\n",
              "      </script>\n",
              "    </div>\n",
              "  </div>\n",
              "  "
            ]
          },
          "metadata": {},
          "execution_count": 24
        }
      ]
    },
    {
      "cell_type": "markdown",
      "source": [
        "# Montando Algumas Vizualizações para entender as distribuições"
      ],
      "metadata": {
        "id": "aAFXvhSxhDx6"
      }
    },
    {
      "cell_type": "markdown",
      "source": [
        "### Percentual de gêneros do dataset"
      ],
      "metadata": {
        "id": "2729fCm1jhMW"
      }
    },
    {
      "cell_type": "code",
      "source": [
        "agrupamento_por_genero = df['genero_tratado'].groupby([df['genero_tratado']]).count() \n",
        "labels = ['F', 'I', 'M']\n",
        "fig1, ax1 = plt.subplots(figsize=(8,7))\n",
        "fig1.subplots_adjust(0.3,0,1,1)\n",
        "ax1.pie(agrupamento_por_genero, autopct='%0.1f%%',frame=False,shadow=True, startangle=90) #radius=180000,autopct='%0.01f%%'\n",
        "\n",
        "total = sum(agrupamento_por_genero)\n",
        "ax1.legend(  \n",
        "           title='Generos',\n",
        "           loc = 'upper left',\n",
        "           labels=['%s, %1.1f%%' % (l, (float(s) / total) * 100) for l, s in zip(labels, agrupamento_por_genero)],\n",
        "           bbox_to_anchor=(0.0, 1),\n",
        "           prop={'size': 13},\n",
        "           bbox_transform=fig1.transFigure)\n",
        "ax1.axis('equal')\n",
        "plt.xticks(fontsize=1)\n",
        "ax1.set_title('Percentual de genero:')\n",
        "plt.show()"
      ],
      "metadata": {
        "colab": {
          "base_uri": "https://localhost:8080/",
          "height": 0
        },
        "id": "c2QS9EF_i_q2",
        "outputId": "1fba26a2-410a-40b4-c538-fce2e0e4a9c5"
      },
      "execution_count": 25,
      "outputs": [
        {
          "output_type": "display_data",
          "data": {
            "text/plain": [
              "<Figure size 576x504 with 1 Axes>"
            ],
            "image/png": "[encoded data removed]"
          },
          "metadata": {}
        }
      ]
    },
    {
      "cell_type": "markdown",
      "source": [
        "### Quantidade de aberturas e não aberturas por genero."
      ],
      "metadata": {
        "id": "j1BmyfULiSIX"
      }
    },
    {
      "cell_type": "code",
      "source": [
        "pessoas = sns.countplot(data = df, x ='abriu?', hue ='genero_tratado',palette='dark')\n",
        "for p in pessoas.patches:\n",
        "  b =p.get_bbox()\n",
        "  pessoas.annotate(\"{:.0f}\".format(b.y1+b.y0),((b.x0 + b.x1)/2 -0.03,b.y1+15))\n",
        "\n",
        "plt.title('Quantidade de aberturas e não aberturas por genero:\\n Total:%s Pessoas' %(df.shape[0]))\n",
        "plt.xlabel('Abriu?')\n",
        "plt.ylabel('Número de Aberturas')\n",
        "plt.show()"
      ],
      "metadata": {
        "colab": {
          "base_uri": "https://localhost:8080/",
          "height": 0
        },
        "id": "8vi3k96jhlvE",
        "outputId": "ff6e5a82-504a-4788-fbda-4b3c7e6855b9"
      },
      "execution_count": 26,
      "outputs": [
        {
          "output_type": "display_data",
          "data": {
            "text/plain": [
              "<Figure size 432x288 with 1 Axes>"
            ],
            "image/png": "[encoded data removed]"
          },
          "metadata": {
            "needs_background": "light"
          }
        }
      ]
    },
    {
      "cell_type": "markdown",
      "source": [
        "### Quantidade de envios por genero"
      ],
      "metadata": {
        "id": "vh16ZzMIisj-"
      }
    },
    {
      "cell_type": "code",
      "source": [
        "pessoas = sns.countplot(data = df, x ='Envios', hue ='genero_tratado',palette='dark')\n",
        "for p in pessoas.patches:\n",
        "  b =p.get_bbox()\n",
        "  pessoas.annotate(\"{:.0f}\".format(b.y1+b.y0),((b.x0 + b.x1)/2 -0.03,b.y1+15))\n",
        "\n",
        "plt.title('Quantidade de envios por genero:\\n Total:%s Pessoas' %(df.shape[0]))\n",
        "plt.xlabel('Enviados')\n",
        "plt.ylabel('Número de Envios')\n",
        "plt.show()"
      ],
      "metadata": {
        "colab": {
          "base_uri": "https://localhost:8080/",
          "height": 0
        },
        "id": "ZpEjIzpxiZT6",
        "outputId": "bdc37031-31f7-443b-93f8-67f7873868ad"
      },
      "execution_count": 27,
      "outputs": [
        {
          "output_type": "display_data",
          "data": {
            "text/plain": [
              "<Figure size 432x288 with 1 Axes>"
            ],
            "image/png": "[encoded data removed]"
          },
          "metadata": {
            "needs_background": "light"
          }
        }
      ]
    },
    {
      "cell_type": "markdown",
      "source": [
        "### Proporção de abertura por genero (masculino, feminino e indefinido) com mais facilidade."
      ],
      "metadata": {
        "id": "EdQ4H_4gdiTy"
      }
    },
    {
      "cell_type": "code",
      "source": [
        "abertura_classe = df.copy()\n",
        "abertura_classe['abriu?'] = df['abriu?'] == 'Sim'\n",
        "\n",
        "sns.barplot(data=abertura_classe, y='abriu?', x='genero_tratado')\n",
        "plt.title('Proporção de genero por abertura:')\n",
        "plt.ylabel('PROPORÇÃO')\n",
        "plt.xlabel('Genero')\n",
        "plt.show()"
      ],
      "metadata": {
        "colab": {
          "base_uri": "https://localhost:8080/",
          "height": 0
        },
        "id": "A3reRJAba9CO",
        "outputId": "84162bc3-26b7-4d62-d4b7-2c6dbd015745"
      },
      "execution_count": 28,
      "outputs": [
        {
          "output_type": "display_data",
          "data": {
            "text/plain": [
              "<Figure size 432x288 with 1 Axes>"
            ],
            "image/png": "[encoded data removed]"
          },
          "metadata": {
            "needs_background": "light"
          }
        }
      ]
    },
    {
      "cell_type": "code",
      "source": [
        "df[df['abriu?'] == 'Sim']['genero_tratado'].value_counts().sort_values(ascending=True)"
      ],
      "metadata": {
        "colab": {
          "base_uri": "https://localhost:8080/"
        },
        "id": "Bo8Ur8zjgK1i",
        "outputId": "2fc7b9ba-30be-414b-bcd8-189cae418dfb"
      },
      "execution_count": 29,
      "outputs": [
        {
          "output_type": "execute_result",
          "data": {
            "text/plain": [
              "I       812\n",
              "M     22143\n",
              "F    142699\n",
              "Name: genero_tratado, dtype: int64"
            ]
          },
          "metadata": {},
          "execution_count": 29
        }
      ]
    },
    {
      "cell_type": "code",
      "source": [
        "genero_por_abertura = df[df['abriu?'] == 'Sim']['genero_tratado'].value_counts().sort_values(ascending=True)\n",
        "\n",
        "genero_por_abertura\n",
        "genero_por_abertura.plot(kind='barh',figsize=(11,5),rot=0,grid=True)\n",
        "\n",
        "plt.title('Quantidade de aberturas por genero:')\n",
        "plt.xlabel('Quantidade de aberturas')\n",
        "plt.ylabel('Genero')\n",
        "plt.show()  "
      ],
      "metadata": {
        "colab": {
          "base_uri": "https://localhost:8080/",
          "height": 0
        },
        "id": "_VABOt4Qbly0",
        "outputId": "327f1f21-1e86-4a22-b523-a207ff944a7a"
      },
      "execution_count": 30,
      "outputs": [
        {
          "output_type": "display_data",
          "data": {
            "text/plain": [
              "<Figure size 792x360 with 1 Axes>"
            ],
            "image/png": "[encoded data removed]"
          },
          "metadata": {
            "needs_background": "light"
          }
        }
      ]
    },
    {
      "cell_type": "markdown",
      "source": [
        "### Gerar matriz de correlação"
      ],
      "metadata": {
        "id": "h0n6t7t7kLTs"
      }
    },
    {
      "cell_type": "code",
      "source": [
        "corrMatrix = df.corr()\n",
        "sns.heatmap(corrMatrix, annot=True)\n",
        "plt.show()"
      ],
      "metadata": {
        "colab": {
          "base_uri": "https://localhost:8080/",
          "height": 0
        },
        "id": "6ZR1QpygdMom",
        "outputId": "6ad3f90d-b4bb-45d8-ee1e-3a6eed5bd09d"
      },
      "execution_count": 31,
      "outputs": [
        {
          "output_type": "display_data",
          "data": {
            "text/plain": [
              "<Figure size 432x288 with 2 Axes>"
            ],
            "image/png": "[encoded data removed]"
          },
          "metadata": {
            "needs_background": "light"
          }
        }
      ]
    },
    {
      "cell_type": "markdown",
      "source": [
        "# Modelos "
      ],
      "metadata": {
        "id": "AweC7IFog5E7"
      }
    },
    {
      "cell_type": "markdown",
      "source": [
        "## Preparando a Base para os modelos."
      ],
      "metadata": {
        "id": "oIAHRdeYk0cB"
      }
    },
    {
      "cell_type": "code",
      "source": [
        "df[:1].values"
      ],
      "metadata": {
        "colab": {
          "base_uri": "https://localhost:8080/"
        },
        "id": "cqCwaD_KlJw0",
        "outputId": "56d5dbac-bc9e-4bec-9429-0c1addda4db8"
      },
      "execution_count": 32,
      "outputs": [
        {
          "output_type": "execute_result",
          "data": {
            "text/plain": [
              "array([['FERNANDOHENRIQU26121992', 1, 1, 'telefonica.com', 0,\n",
              "        'DASA - SP', 0, 6070482, 29, 'M', 'FERNANDOHENRIQU26121992', 0,\n",
              "        'Não', 'M', 1.0]], dtype=object)"
            ]
          },
          "metadata": {},
          "execution_count": 32
        }
      ]
    },
    {
      "cell_type": "code",
      "source": [
        "df.columns"
      ],
      "metadata": {
        "colab": {
          "base_uri": "https://localhost:8080/"
        },
        "id": "SFXFXjux0MoA",
        "outputId": "b14348c1-a8fa-4888-ee13-f7dff21e0ae9"
      },
      "execution_count": 33,
      "outputs": [
        {
          "output_type": "execute_result",
          "data": {
            "text/plain": [
              "Index(['SubscriberKey', 'Envios', 'Entregas', 'DomainSent', 'Domain_class',\n",
              "       'BU', 'Aberturas', 'mdm_people_id', 'patient_age', 'origin_gender',\n",
              "       'pacid', 'bu_tratado', 'abriu?', 'genero_tratado', 'class_gender'],\n",
              "      dtype='object')"
            ]
          },
          "metadata": {},
          "execution_count": 33
        }
      ]
    },
    {
      "cell_type": "markdown",
      "source": [
        "Separação de:\n",
        "* x = Features (variaveis)\n",
        "* y = Valor previsto"
      ],
      "metadata": {
        "id": "azL0Q4HkmJRI"
      }
    },
    {
      "cell_type": "code",
      "source": [
        "X = df[['Entregas', 'Domain_class', 'bu_tratado','class_gender','patient_age']]\n",
        "y = df[['Aberturas']]"
      ],
      "metadata": {
        "id": "Oijpvi1DeVnD"
      },
      "execution_count": 34,
      "outputs": []
    },
    {
      "cell_type": "markdown",
      "source": [
        "Separação de bases para treino e teste:"
      ],
      "metadata": {
        "id": "pmBaI4gpmSLB"
      }
    },
    {
      "cell_type": "code",
      "source": [
        "X_train, X_test, y_train, y_test = train_test_split(X, y, test_size=0.3, random_state=42)"
      ],
      "metadata": {
        "id": "_PwqyzyPmVxj"
      },
      "execution_count": 35,
      "outputs": []
    },
    {
      "cell_type": "code",
      "source": [
        "X_train.head()\n",
        "# X_train.info()"
      ],
      "metadata": {
        "colab": {
          "base_uri": "https://localhost:8080/",
          "height": 206
        },
        "id": "gNbqTzvAPAt1",
        "outputId": "cb871c38-3951-4469-addf-4d7d0a363f91"
      },
      "execution_count": 36,
      "outputs": [
        {
          "output_type": "execute_result",
          "data": {
            "text/plain": [
              "         Entregas  Domain_class  bu_tratado  class_gender  patient_age\n",
              "688260          1             1           1           2.0           71\n",
              "81496           1             0           0           2.0           34\n",
              "284572          1             1           1           2.0           45\n",
              "324846          1             1           0           1.0           55\n",
              "1524080         1             4           1           2.0           40"
            ],
            "text/html": [
              "\n",
              "  <div id=\"df-701e89f6-90fb-4b40-a1b7-eaaf6d2cd036\">\n",
              "    <div class=\"colab-df-container\">\n",
              "      <div>\n",
              "<style scoped>\n",
              "    .dataframe tbody tr th:only-of-type {\n",
              "        vertical-align: middle;\n",
              "    }\n",
              "\n",
              "    .dataframe tbody tr th {\n",
              "        vertical-align: top;\n",
              "    }\n",
              "\n",
              "    .dataframe thead th {\n",
              "        text-align: right;\n",
              "    }\n",
              "</style>\n",
              "<table border=\"1\" class=\"dataframe\">\n",
              "  <thead>\n",
              "    <tr style=\"text-align: right;\">\n",
              "      <th></th>\n",
              "      <th>Entregas</th>\n",
              "      <th>Domain_class</th>\n",
              "      <th>bu_tratado</th>\n",
              "      <th>class_gender</th>\n",
              "      <th>patient_age</th>\n",
              "    </tr>\n",
              "  </thead>\n",
              "  <tbody>\n",
              "    <tr>\n",
              "      <th>688260</th>\n",
              "      <td>1</td>\n",
              "      <td>1</td>\n",
              "      <td>1</td>\n",
              "      <td>2.0</td>\n",
              "      <td>71</td>\n",
              "    </tr>\n",
              "    <tr>\n",
              "      <th>81496</th>\n",
              "      <td>1</td>\n",
              "      <td>0</td>\n",
              "      <td>0</td>\n",
              "      <td>2.0</td>\n",
              "      <td>34</td>\n",
              "    </tr>\n",
              "    <tr>\n",
              "      <th>284572</th>\n",
              "      <td>1</td>\n",
              "      <td>1</td>\n",
              "      <td>1</td>\n",
              "      <td>2.0</td>\n",
              "      <td>45</td>\n",
              "    </tr>\n",
              "    <tr>\n",
              "      <th>324846</th>\n",
              "      <td>1</td>\n",
              "      <td>1</td>\n",
              "      <td>0</td>\n",
              "      <td>1.0</td>\n",
              "      <td>55</td>\n",
              "    </tr>\n",
              "    <tr>\n",
              "      <th>1524080</th>\n",
              "      <td>1</td>\n",
              "      <td>4</td>\n",
              "      <td>1</td>\n",
              "      <td>2.0</td>\n",
              "      <td>40</td>\n",
              "    </tr>\n",
              "  </tbody>\n",
              "</table>\n",
              "</div>\n",
              "      <button class=\"colab-df-convert\" onclick=\"convertToInteractive('df-701e89f6-90fb-4b40-a1b7-eaaf6d2cd036')\"\n",
              "              title=\"Convert this dataframe to an interactive table.\"\n",
              "              style=\"display:none;\">\n",
              "        \n",
              "  <svg xmlns=\"http://www.w3.org/2000/svg\" height=\"24px\"viewBox=\"0 0 24 24\"\n",
              "       width=\"24px\">\n",
              "    <path d=\"M0 0h24v24H0V0z\" fill=\"none\"/>\n",
              "    <path d=\"M18.56 5.44l.94 2.06.94-2.06 2.06-.94-2.06-.94-.94-2.06-.94 2.06-2.06.94zm-11 1L8.5 8.5l.94-2.06 2.06-.94-2.06-.94L8.5 2.5l-.94 2.06-2.06.94zm10 10l.94 2.06.94-2.06 2.06-.94-2.06-.94-.94-2.06-.94 2.06-2.06.94z\"/><path d=\"M17.41 7.96l-1.37-1.37c-.4-.4-.92-.59-1.43-.59-.52 0-1.04.2-1.43.59L10.3 9.45l-7.72 7.72c-.78.78-.78 2.05 0 2.83L4 21.41c.39.39.9.59 1.41.59.51 0 1.02-.2 1.41-.59l7.78-7.78 2.81-2.81c.8-.78.8-2.07 0-2.86zM5.41 20L4 18.59l7.72-7.72 1.47 1.35L5.41 20z\"/>\n",
              "  </svg>\n",
              "      </button>\n",
              "      \n",
              "  <style>\n",
              "    .colab-df-container {\n",
              "      display:flex;\n",
              "      flex-wrap:wrap;\n",
              "      gap: 12px;\n",
              "    }\n",
              "\n",
              "    .colab-df-convert {\n",
              "      background-color: #E8F0FE;\n",
              "      border: none;\n",
              "      border-radius: 50%;\n",
              "      cursor: pointer;\n",
              "      display: none;\n",
              "      fill: #1967D2;\n",
              "      height: 32px;\n",
              "      padding: 0 0 0 0;\n",
              "      width: 32px;\n",
              "    }\n",
              "\n",
              "    .colab-df-convert:hover {\n",
              "      background-color: #E2EBFA;\n",
              "      box-shadow: 0px 1px 2px rgba(60, 64, 67, 0.3), 0px 1px 3px 1px rgba(60, 64, 67, 0.15);\n",
              "      fill: #174EA6;\n",
              "    }\n",
              "\n",
              "    [theme=dark] .colab-df-convert {\n",
              "      background-color: #3B4455;\n",
              "      fill: #D2E3FC;\n",
              "    }\n",
              "\n",
              "    [theme=dark] .colab-df-convert:hover {\n",
              "      background-color: #434B5C;\n",
              "      box-shadow: 0px 1px 3px 1px rgba(0, 0, 0, 0.15);\n",
              "      filter: drop-shadow(0px 1px 2px rgba(0, 0, 0, 0.3));\n",
              "      fill: #FFFFFF;\n",
              "    }\n",
              "  </style>\n",
              "\n",
              "      <script>\n",
              "        const buttonEl =\n",
              "          document.querySelector('#df-701e89f6-90fb-4b40-a1b7-eaaf6d2cd036 button.colab-df-convert');\n",
              "        buttonEl.style.display =\n",
              "          google.colab.kernel.accessAllowed ? 'block' : 'none';\n",
              "\n",
              "        async function convertToInteractive(key) {\n",
              "          const element = document.querySelector('#df-701e89f6-90fb-4b40-a1b7-eaaf6d2cd036');\n",
              "          const dataTable =\n",
              "            await google.colab.kernel.invokeFunction('convertToInteractive',\n",
              "                                                     [key], {});\n",
              "          if (!dataTable) return;\n",
              "\n",
              "          const docLinkHtml = 'Like what you see? Visit the ' +\n",
              "            '<a target=\"_blank\" href=https://colab.research.google.com/notebooks/data_table.ipynb>data table notebook</a>'\n",
              "            + ' to learn more about interactive tables.';\n",
              "          element.innerHTML = '';\n",
              "          dataTable['output_type'] = 'display_data';\n",
              "          await google.colab.output.renderOutput(dataTable, element);\n",
              "          const docLink = document.createElement('div');\n",
              "          docLink.innerHTML = docLinkHtml;\n",
              "          element.appendChild(docLink);\n",
              "        }\n",
              "      </script>\n",
              "    </div>\n",
              "  </div>\n",
              "  "
            ]
          },
          "metadata": {},
          "execution_count": 36
        }
      ]
    },
    {
      "cell_type": "code",
      "source": [
        "y_train.head()"
      ],
      "metadata": {
        "colab": {
          "base_uri": "https://localhost:8080/",
          "height": 206
        },
        "id": "VG3fzLR2PEuT",
        "outputId": "bdd5a35d-ad22-4355-8731-6405372bdcdf"
      },
      "execution_count": 37,
      "outputs": [
        {
          "output_type": "execute_result",
          "data": {
            "text/plain": [
              "         Aberturas\n",
              "688260           0\n",
              "81496            1\n",
              "284572           1\n",
              "324846           1\n",
              "1524080          0"
            ],
            "text/html": [
              "\n",
              "  <div id=\"df-d0ae2543-0a87-49ee-9448-4cf513a01348\">\n",
              "    <div class=\"colab-df-container\">\n",
              "      <div>\n",
              "<style scoped>\n",
              "    .dataframe tbody tr th:only-of-type {\n",
              "        vertical-align: middle;\n",
              "    }\n",
              "\n",
              "    .dataframe tbody tr th {\n",
              "        vertical-align: top;\n",
              "    }\n",
              "\n",
              "    .dataframe thead th {\n",
              "        text-align: right;\n",
              "    }\n",
              "</style>\n",
              "<table border=\"1\" class=\"dataframe\">\n",
              "  <thead>\n",
              "    <tr style=\"text-align: right;\">\n",
              "      <th></th>\n",
              "      <th>Aberturas</th>\n",
              "    </tr>\n",
              "  </thead>\n",
              "  <tbody>\n",
              "    <tr>\n",
              "      <th>688260</th>\n",
              "      <td>0</td>\n",
              "    </tr>\n",
              "    <tr>\n",
              "      <th>81496</th>\n",
              "      <td>1</td>\n",
              "    </tr>\n",
              "    <tr>\n",
              "      <th>284572</th>\n",
              "      <td>1</td>\n",
              "    </tr>\n",
              "    <tr>\n",
              "      <th>324846</th>\n",
              "      <td>1</td>\n",
              "    </tr>\n",
              "    <tr>\n",
              "      <th>1524080</th>\n",
              "      <td>0</td>\n",
              "    </tr>\n",
              "  </tbody>\n",
              "</table>\n",
              "</div>\n",
              "      <button class=\"colab-df-convert\" onclick=\"convertToInteractive('df-d0ae2543-0a87-49ee-9448-4cf513a01348')\"\n",
              "              title=\"Convert this dataframe to an interactive table.\"\n",
              "              style=\"display:none;\">\n",
              "        \n",
              "  <svg xmlns=\"http://www.w3.org/2000/svg\" height=\"24px\"viewBox=\"0 0 24 24\"\n",
              "       width=\"24px\">\n",
              "    <path d=\"M0 0h24v24H0V0z\" fill=\"none\"/>\n",
              "    <path d=\"M18.56 5.44l.94 2.06.94-2.06 2.06-.94-2.06-.94-.94-2.06-.94 2.06-2.06.94zm-11 1L8.5 8.5l.94-2.06 2.06-.94-2.06-.94L8.5 2.5l-.94 2.06-2.06.94zm10 10l.94 2.06.94-2.06 2.06-.94-2.06-.94-.94-2.06-.94 2.06-2.06.94z\"/><path d=\"M17.41 7.96l-1.37-1.37c-.4-.4-.92-.59-1.43-.59-.52 0-1.04.2-1.43.59L10.3 9.45l-7.72 7.72c-.78.78-.78 2.05 0 2.83L4 21.41c.39.39.9.59 1.41.59.51 0 1.02-.2 1.41-.59l7.78-7.78 2.81-2.81c.8-.78.8-2.07 0-2.86zM5.41 20L4 18.59l7.72-7.72 1.47 1.35L5.41 20z\"/>\n",
              "  </svg>\n",
              "      </button>\n",
              "      \n",
              "  <style>\n",
              "    .colab-df-container {\n",
              "      display:flex;\n",
              "      flex-wrap:wrap;\n",
              "      gap: 12px;\n",
              "    }\n",
              "\n",
              "    .colab-df-convert {\n",
              "      background-color: #E8F0FE;\n",
              "      border: none;\n",
              "      border-radius: 50%;\n",
              "      cursor: pointer;\n",
              "      display: none;\n",
              "      fill: #1967D2;\n",
              "      height: 32px;\n",
              "      padding: 0 0 0 0;\n",
              "      width: 32px;\n",
              "    }\n",
              "\n",
              "    .colab-df-convert:hover {\n",
              "      background-color: #E2EBFA;\n",
              "      box-shadow: 0px 1px 2px rgba(60, 64, 67, 0.3), 0px 1px 3px 1px rgba(60, 64, 67, 0.15);\n",
              "      fill: #174EA6;\n",
              "    }\n",
              "\n",
              "    [theme=dark] .colab-df-convert {\n",
              "      background-color: #3B4455;\n",
              "      fill: #D2E3FC;\n",
              "    }\n",
              "\n",
              "    [theme=dark] .colab-df-convert:hover {\n",
              "      background-color: #434B5C;\n",
              "      box-shadow: 0px 1px 3px 1px rgba(0, 0, 0, 0.15);\n",
              "      filter: drop-shadow(0px 1px 2px rgba(0, 0, 0, 0.3));\n",
              "      fill: #FFFFFF;\n",
              "    }\n",
              "  </style>\n",
              "\n",
              "      <script>\n",
              "        const buttonEl =\n",
              "          document.querySelector('#df-d0ae2543-0a87-49ee-9448-4cf513a01348 button.colab-df-convert');\n",
              "        buttonEl.style.display =\n",
              "          google.colab.kernel.accessAllowed ? 'block' : 'none';\n",
              "\n",
              "        async function convertToInteractive(key) {\n",
              "          const element = document.querySelector('#df-d0ae2543-0a87-49ee-9448-4cf513a01348');\n",
              "          const dataTable =\n",
              "            await google.colab.kernel.invokeFunction('convertToInteractive',\n",
              "                                                     [key], {});\n",
              "          if (!dataTable) return;\n",
              "\n",
              "          const docLinkHtml = 'Like what you see? Visit the ' +\n",
              "            '<a target=\"_blank\" href=https://colab.research.google.com/notebooks/data_table.ipynb>data table notebook</a>'\n",
              "            + ' to learn more about interactive tables.';\n",
              "          element.innerHTML = '';\n",
              "          dataTable['output_type'] = 'display_data';\n",
              "          await google.colab.output.renderOutput(dataTable, element);\n",
              "          const docLink = document.createElement('div');\n",
              "          docLink.innerHTML = docLinkHtml;\n",
              "          element.appendChild(docLink);\n",
              "        }\n",
              "      </script>\n",
              "    </div>\n",
              "  </div>\n",
              "  "
            ]
          },
          "metadata": {},
          "execution_count": 37
        }
      ]
    },
    {
      "cell_type": "markdown",
      "source": [
        "## Aplicando Modelo de Vetor de Suporte:"
      ],
      "metadata": {
        "id": "ms8Kl5-enquX"
      }
    },
    {
      "cell_type": "code",
      "source": [
        "svc_model = LinearSVC()\n",
        "svc_model.fit(X_train,y_train)"
      ],
      "metadata": {
        "id": "tUH7JRVItGos",
        "colab": {
          "base_uri": "https://localhost:8080/"
        },
        "outputId": "e8fa8bb5-d311-4676-a1c1-4385e58aa82d"
      },
      "execution_count": 38,
      "outputs": [
        {
          "output_type": "execute_result",
          "data": {
            "text/plain": [
              "LinearSVC()"
            ]
          },
          "metadata": {},
          "execution_count": 38
        }
      ]
    },
    {
      "cell_type": "code",
      "source": [
        "predito_svc = svc_model.predict(X_test)\n",
        "predito_svc"
      ],
      "metadata": {
        "id": "Sr72VggDgeTp",
        "colab": {
          "base_uri": "https://localhost:8080/"
        },
        "outputId": "aa44904c-b6a2-4172-bb60-f47dd28d777e"
      },
      "execution_count": 39,
      "outputs": [
        {
          "output_type": "execute_result",
          "data": {
            "text/plain": [
              "array([0, 0, 0, ..., 0, 0, 0])"
            ]
          },
          "metadata": {},
          "execution_count": 39
        }
      ]
    },
    {
      "cell_type": "markdown",
      "source": [
        "## Método baseado na proximidade\n",
        "Modelo K-nearest neighbors (KNN)"
      ],
      "metadata": {
        "id": "K45cu5MIrg35"
      }
    },
    {
      "cell_type": "code",
      "source": [
        "norm = StandardScaler()\n",
        "X_normalizado = norm.fit_transform(X)\n",
        "X_normalizado"
      ],
      "metadata": {
        "colab": {
          "base_uri": "https://localhost:8080/"
        },
        "id": "2B-Uyitbrtyh",
        "outputId": "b84b4b50-8102-4851-9878-b13fb6b11df3"
      },
      "execution_count": 40,
      "outputs": [
        {
          "output_type": "execute_result",
          "data": {
            "text/plain": [
              "array([[ 0.10130366, -1.23708374, -1.22239143, -2.06646234, -1.44125536],\n",
              "       [ 0.10130366, -1.23708374, -1.22239143, -2.06646234, -0.99653222],\n",
              "       [ 0.10130366,  3.91689569, -1.22239143,  0.45138091, -0.18120648],\n",
              "       ...,\n",
              "       [ 0.10130366,  1.05357379,  0.81806856,  0.45138091,  0.48587822],\n",
              "       [ 0.10130366,  1.05357379, -1.22239143, -2.06646234,  1.89416815],\n",
              "       [ 0.10130366,  1.05357379, -1.22239143,  0.45138091,  0.85648084]])"
            ]
          },
          "metadata": {},
          "execution_count": 40
        }
      ]
    },
    {
      "cell_type": "code",
      "source": [
        "X_treino, X_teste, y_treino, y_teste = train_test_split(X_normalizado, y, test_size=0.3, random_state=42)"
      ],
      "metadata": {
        "id": "cSIUJ87wr7Ms"
      },
      "execution_count": 41,
      "outputs": []
    },
    {
      "cell_type": "code",
      "source": [
        "knn_model = KNeighborsClassifier(metric='euclidean')"
      ],
      "metadata": {
        "id": "cu0akxJtsfWe"
      },
      "execution_count": 42,
      "outputs": []
    },
    {
      "cell_type": "code",
      "source": [
        "knn_model.fit(X_treino, y_treino)"
      ],
      "metadata": {
        "colab": {
          "base_uri": "https://localhost:8080/"
        },
        "id": "j_xvoSagsjII",
        "outputId": "8c3a77dc-787c-4506-dd63-ebeab2d24a59"
      },
      "execution_count": 43,
      "outputs": [
        {
          "output_type": "execute_result",
          "data": {
            "text/plain": [
              "KNeighborsClassifier(metric='euclidean')"
            ]
          },
          "metadata": {},
          "execution_count": 43
        }
      ]
    },
    {
      "cell_type": "code",
      "source": [
        "predito_knn = knn_model.predict(X_teste)\n",
        "predito_knn"
      ],
      "metadata": {
        "colab": {
          "base_uri": "https://localhost:8080/"
        },
        "id": "3aceKheVtCD1",
        "outputId": "e04c27de-4a51-4800-87b7-6c2c84e62004"
      },
      "execution_count": 44,
      "outputs": [
        {
          "output_type": "execute_result",
          "data": {
            "text/plain": [
              "array([0, 0, 0, ..., 0, 1, 0])"
            ]
          },
          "metadata": {},
          "execution_count": 44
        }
      ]
    },
    {
      "cell_type": "markdown",
      "source": [
        ""
      ],
      "metadata": {
        "id": "D-781PKM9SQP"
      }
    },
    {
      "cell_type": "markdown",
      "source": [
        "## Método Probabilístico"
      ],
      "metadata": {
        "id": "zaAj1Ork9Uo1"
      }
    },
    {
      "cell_type": "markdown",
      "source": [
        "### Aplicando Modelo de Regressão Logistica:"
      ],
      "metadata": {
        "id": "IjtWdcfepg5q"
      }
    },
    {
      "cell_type": "code",
      "source": [
        "logReg_model = LogisticRegression(penalty='none', solver='newton-cg')"
      ],
      "metadata": {
        "id": "tBjqsnmMgvy6"
      },
      "execution_count": 45,
      "outputs": []
    },
    {
      "cell_type": "code",
      "source": [
        "logReg_model.fit(X_train, y_train)"
      ],
      "metadata": {
        "colab": {
          "base_uri": "https://localhost:8080/"
        },
        "id": "ENyLa5uIlt_M",
        "outputId": "6bc5c112-b492-4742-8490-ed47f4e9f0cd"
      },
      "execution_count": 46,
      "outputs": [
        {
          "output_type": "execute_result",
          "data": {
            "text/plain": [
              "LogisticRegression(penalty='none', solver='newton-cg')"
            ]
          },
          "metadata": {},
          "execution_count": 46
        }
      ]
    },
    {
      "cell_type": "code",
      "source": [
        "predito_regLog = logReg_model.predict(X_test)"
      ],
      "metadata": {
        "id": "QzE4Oj8yEVkW"
      },
      "execution_count": 80,
      "outputs": []
    },
    {
      "cell_type": "code",
      "source": [
        "# Predizendo as probabilidades\n",
        "predito_proba_regLog = logReg_model.predict_proba(X_test)\n",
        "print(predito_proba_regLog)"
      ],
      "metadata": {
        "id": "8AjfxO6InmPm",
        "colab": {
          "base_uri": "https://localhost:8080/"
        },
        "outputId": "721a19a9-71b3-4cd3-8d11-6d312f465318"
      },
      "execution_count": 78,
      "outputs": [
        {
          "output_type": "stream",
          "name": "stdout",
          "text": [
            "[[0.70180987 0.29819013]\n",
            " [0.81894178 0.18105822]\n",
            " [0.8136878  0.1863122 ]\n",
            " ...\n",
            " [0.67424461 0.32575539]\n",
            " [0.69935973 0.30064027]\n",
            " [0.64997344 0.35002656]]\n"
          ]
        }
      ]
    },
    {
      "cell_type": "code",
      "source": [
        "# predito_regLog = predito_regLog[:, 1] # manter somente para a classe positiva"
      ],
      "metadata": {
        "id": "j9lf1GhmqaVm"
      },
      "execution_count": 48,
      "outputs": []
    },
    {
      "cell_type": "code",
      "source": [
        "# confusion_matrix(y, model.predict(X)) # usando a função do sklearn"
      ],
      "metadata": {
        "id": "3tFUfWlXryJz"
      },
      "execution_count": 49,
      "outputs": []
    },
    {
      "cell_type": "code",
      "source": [
        "print(classification_report(y_test,predito_regLog))"
      ],
      "metadata": {
        "colab": {
          "base_uri": "https://localhost:8080/"
        },
        "id": "EiiJjz0Ys-Lg",
        "outputId": "3db9f48c-d091-4266-96bf-ea1d27112e52"
      },
      "execution_count": 90,
      "outputs": [
        {
          "output_type": "stream",
          "name": "stdout",
          "text": [
            "              precision    recall  f1-score   support\n",
            "\n",
            "           0       0.77      1.00      0.87    167848\n",
            "           1       0.00      0.00      0.00     49780\n",
            "\n",
            "    accuracy                           0.77    217628\n",
            "   macro avg       0.39      0.50      0.44    217628\n",
            "weighted avg       0.59      0.77      0.67    217628\n",
            "\n"
          ]
        }
      ]
    },
    {
      "cell_type": "code",
      "source": [
        "# teste = pd.DataFrame({'Envios':10, 'Entregas':6, 'Domain_class':3, 'bu_tratado':1}, index=[0])"
      ],
      "metadata": {
        "id": "NcHrMCkkqU2L"
      },
      "execution_count": 51,
      "outputs": []
    },
    {
      "cell_type": "code",
      "source": [
        "# teste = pd.DataFrame({'Envios':10, 'Entregas':6, 'Domain_class':3, 'bu_tratado':1}, index=[0])\n",
        "# minha_prob = logReg_model.predict_proba(teste)\n",
        "# print(round(minha_prob[:,1][0]*100, 2))"
      ],
      "metadata": {
        "id": "JquadKmStP5R"
      },
      "execution_count": 52,
      "outputs": []
    },
    {
      "cell_type": "markdown",
      "source": [
        "###  Modelo Bernoulli Naive Bayes\n"
      ],
      "metadata": {
        "id": "ibCH70fw8R_s"
      }
    },
    {
      "cell_type": "code",
      "source": [
        "bnb_model = BernoulliNB(binarize=-0.44)"
      ],
      "metadata": {
        "id": "cgZ3AhPB8d74"
      },
      "execution_count": 53,
      "outputs": []
    },
    {
      "cell_type": "code",
      "source": [
        "#escolho utilizar mediana, porque é o valor central dos nossos dados ordenados\n",
        "np.median(X_train)"
      ],
      "metadata": {
        "colab": {
          "base_uri": "https://localhost:8080/"
        },
        "id": "46PwFGB78llv",
        "outputId": "d3ca30dc-4db3-4f82-ae2c-537eb43f495d"
      },
      "execution_count": 54,
      "outputs": [
        {
          "output_type": "execute_result",
          "data": {
            "text/plain": [
              "1.0"
            ]
          },
          "metadata": {},
          "execution_count": 54
        }
      ]
    },
    {
      "cell_type": "code",
      "source": [
        "#treinar o modelo\n",
        "bnb_model.fit(X_train, y_train)"
      ],
      "metadata": {
        "colab": {
          "base_uri": "https://localhost:8080/"
        },
        "id": "8DDJUw6h8w7s",
        "outputId": "59acfe0c-904f-4eed-8c95-49893dcd0f7e"
      },
      "execution_count": 55,
      "outputs": [
        {
          "output_type": "execute_result",
          "data": {
            "text/plain": [
              "BernoulliNB(binarize=-0.44)"
            ]
          },
          "metadata": {},
          "execution_count": 55
        }
      ]
    },
    {
      "cell_type": "code",
      "source": [
        "#testar o modelo\n",
        "predito_BNb = bnb_model.predict(X_test)\n",
        "predito_BNb"
      ],
      "metadata": {
        "colab": {
          "base_uri": "https://localhost:8080/"
        },
        "id": "_305oNWz9AhV",
        "outputId": "0d65f62c-cc4b-4414-a4fc-111dccc23d64"
      },
      "execution_count": 56,
      "outputs": [
        {
          "output_type": "execute_result",
          "data": {
            "text/plain": [
              "array([0, 0, 0, ..., 0, 0, 0])"
            ]
          },
          "metadata": {},
          "execution_count": 56
        }
      ]
    },
    {
      "cell_type": "code",
      "source": [
        "print(classification_report(y_test, predito_BNb))"
      ],
      "metadata": {
        "colab": {
          "base_uri": "https://localhost:8080/"
        },
        "id": "-YwHwIiNFC4M",
        "outputId": "099b97b3-1274-4e96-950c-0654546e4bf1"
      },
      "execution_count": 89,
      "outputs": [
        {
          "output_type": "stream",
          "name": "stdout",
          "text": [
            "              precision    recall  f1-score   support\n",
            "\n",
            "           0       0.77      1.00      0.87    167848\n",
            "           1       0.00      0.00      0.00     49780\n",
            "\n",
            "    accuracy                           0.77    217628\n",
            "   macro avg       0.39      0.50      0.44    217628\n",
            "weighted avg       0.59      0.77      0.67    217628\n",
            "\n"
          ]
        }
      ]
    },
    {
      "cell_type": "markdown",
      "source": [
        "## Método Simbólico"
      ],
      "metadata": {
        "id": "ICVyBhAY9fcH"
      }
    },
    {
      "cell_type": "markdown",
      "source": [
        "### Árvore de decisão"
      ],
      "metadata": {
        "id": "pOjij5wf9g0A"
      }
    },
    {
      "cell_type": "code",
      "source": [
        "#instanciando o modelo\n",
        "dtc_model = DecisionTreeClassifier(criterion='entropy', random_state=42)"
      ],
      "metadata": {
        "id": "tB87qBGb9j2s"
      },
      "execution_count": 57,
      "outputs": []
    },
    {
      "cell_type": "code",
      "source": [
        "#treinar o modelo\n",
        "dtc_model.fit(X_train, y_train)"
      ],
      "metadata": {
        "colab": {
          "base_uri": "https://localhost:8080/"
        },
        "id": "Ua_bVZjf9j0P",
        "outputId": "b5cbf1db-7f42-4f51-d6e4-08c5858843a6"
      },
      "execution_count": 58,
      "outputs": [
        {
          "output_type": "execute_result",
          "data": {
            "text/plain": [
              "DecisionTreeClassifier(criterion='entropy', random_state=42)"
            ]
          },
          "metadata": {},
          "execution_count": 58
        }
      ]
    },
    {
      "cell_type": "code",
      "source": [
        "predito_ArvoreDecisao = dtc_model.predict(X_test)\n",
        "predito_ArvoreDecisao"
      ],
      "metadata": {
        "colab": {
          "base_uri": "https://localhost:8080/"
        },
        "id": "6Y9Dr6fj9vLm",
        "outputId": "5488bc4e-3663-4588-e68c-25ccc4ef7c8b"
      },
      "execution_count": 59,
      "outputs": [
        {
          "output_type": "execute_result",
          "data": {
            "text/plain": [
              "array([0, 0, 0, ..., 0, 0, 0])"
            ]
          },
          "metadata": {},
          "execution_count": 59
        }
      ]
    },
    {
      "cell_type": "code",
      "source": [
        "# export_graphviz(modelo)\n",
        "# dot_data = export_graphviz(modelo, out_file=None)\n",
        "# grafico = graphviz.Source(dot_data)\n",
        "# grafico"
      ],
      "metadata": {
        "id": "lIZp8ZMn9jsx"
      },
      "execution_count": 59,
      "outputs": []
    },
    {
      "cell_type": "code",
      "source": [
        ""
      ],
      "metadata": {
        "id": "CoK5fDM4fzps"
      },
      "execution_count": 171,
      "outputs": []
    },
    {
      "cell_type": "code",
      "source": [
        "#instanciando o modelo\n",
        "dtc_model_v2 = DecisionTreeClassifier(criterion='entropy', random_state=42,max_depth=2)\n",
        "#treinar o modelo\n",
        "dtc_model_v2.fit(X_train, y_train)\n",
        "features = X.columns\n",
        "dot_data = export_graphviz(dtc_model_v2, out_file=None,\n",
        "                           filled = True, rounded = True,\n",
        "                           feature_names = features,\n",
        "                          class_names = [\"não\", \"sim\"])\n",
        "grafico = graphviz.Source(dot_data)\n",
        "grafico"
      ],
      "metadata": {
        "colab": {
          "base_uri": "https://localhost:8080/",
          "height": 440
        },
        "id": "ORoXF9kYfk33",
        "outputId": "fcde033d-9640-4130-9572-1fe8daec85ec"
      },
      "execution_count": 174,
      "outputs": [
        {
          "output_type": "execute_result",
          "data": {
            "text/plain": [
              "<graphviz.files.Source at 0x7fa2a3dab2d0>"
            ],
            "image/svg+xml": "<?xml version=\"1.0\" encoding=\"UTF-8\" standalone=\"no\"?>\n<!DOCTYPE svg PUBLIC \"-//W3C//DTD SVG 1.1//EN\"\n \"http://www.w3.org/Graphics/SVG/1.1/DTD/svg11.dtd\">\n<!-- Generated by graphviz version 2.40.1 (20161225.0304)\n -->\n<!-- Title: Tree Pages: 1 -->\n<svg width=\"732pt\" height=\"314pt\"\n viewBox=\"0.00 0.00 732.00 314.00\" xmlns=\"http://www.w3.org/2000/svg\" xmlns:xlink=\"http://www.w3.org/1999/xlink\">\n<g id=\"graph0\" class=\"graph\" transform=\"scale(1 1) rotate(0) translate(4 310)\">\n<title>Tree</title>\n<polygon fill=\"#ffffff\" stroke=\"transparent\" points=\"-4,4 -4,-310 728,-310 728,4 -4,4\"/>\n<!-- 0 -->\n<g id=\"node1\" class=\"node\">\n<title>0</title>\n<path fill=\"#eda674\" stroke=\"#000000\" d=\"M442.5,-306C442.5,-306 284.5,-306 284.5,-306 278.5,-306 272.5,-300 272.5,-294 272.5,-294 272.5,-235 272.5,-235 272.5,-229 278.5,-223 284.5,-223 284.5,-223 442.5,-223 442.5,-223 448.5,-223 454.5,-229 454.5,-235 454.5,-235 454.5,-294 454.5,-294 454.5,-300 448.5,-306 442.5,-306\"/>\n<text text-anchor=\"middle\" x=\"363.5\" y=\"-290.8\" font-family=\"Helvetica,sans-Serif\" font-size=\"14.00\" fill=\"#000000\">Domain_class &lt;= 1.5</text>\n<text text-anchor=\"middle\" x=\"363.5\" y=\"-275.8\" font-family=\"Helvetica,sans-Serif\" font-size=\"14.00\" fill=\"#000000\">entropy = 0.775</text>\n<text text-anchor=\"middle\" x=\"363.5\" y=\"-260.8\" font-family=\"Helvetica,sans-Serif\" font-size=\"14.00\" fill=\"#000000\">samples = 507797</text>\n<text text-anchor=\"middle\" x=\"363.5\" y=\"-245.8\" font-family=\"Helvetica,sans-Serif\" font-size=\"14.00\" fill=\"#000000\">value = [391923, 115874]</text>\n<text text-anchor=\"middle\" x=\"363.5\" y=\"-230.8\" font-family=\"Helvetica,sans-Serif\" font-size=\"14.00\" fill=\"#000000\">class = não</text>\n</g>\n<!-- 1 -->\n<g id=\"node2\" class=\"node\">\n<title>1</title>\n<path fill=\"#f1ba93\" stroke=\"#000000\" d=\"M343,-187C343,-187 194,-187 194,-187 188,-187 182,-181 182,-175 182,-175 182,-116 182,-116 182,-110 188,-104 194,-104 194,-104 343,-104 343,-104 349,-104 355,-110 355,-116 355,-116 355,-175 355,-175 355,-181 349,-187 343,-187\"/>\n<text text-anchor=\"middle\" x=\"268.5\" y=\"-171.8\" font-family=\"Helvetica,sans-Serif\" font-size=\"14.00\" fill=\"#000000\">bu_tratado &lt;= 0.5</text>\n<text text-anchor=\"middle\" x=\"268.5\" y=\"-156.8\" font-family=\"Helvetica,sans-Serif\" font-size=\"14.00\" fill=\"#000000\">entropy = 0.896</text>\n<text text-anchor=\"middle\" x=\"268.5\" y=\"-141.8\" font-family=\"Helvetica,sans-Serif\" font-size=\"14.00\" fill=\"#000000\">samples = 277295</text>\n<text text-anchor=\"middle\" x=\"268.5\" y=\"-126.8\" font-family=\"Helvetica,sans-Serif\" font-size=\"14.00\" fill=\"#000000\">value = [190676, 86619]</text>\n<text text-anchor=\"middle\" x=\"268.5\" y=\"-111.8\" font-family=\"Helvetica,sans-Serif\" font-size=\"14.00\" fill=\"#000000\">class = não</text>\n</g>\n<!-- 0&#45;&gt;1 -->\n<g id=\"edge1\" class=\"edge\">\n<title>0&#45;&gt;1</title>\n<path fill=\"none\" stroke=\"#000000\" d=\"M330.2736,-222.8796C323.1556,-213.9633 315.5661,-204.4565 308.2308,-195.268\"/>\n<polygon fill=\"#000000\" stroke=\"#000000\" points=\"310.8425,-192.9295 301.8682,-187.2981 305.3719,-197.2968 310.8425,-192.9295\"/>\n<text text-anchor=\"middle\" x=\"299.0819\" y=\"-208.4423\" font-family=\"Helvetica,sans-Serif\" font-size=\"14.00\" fill=\"#000000\">True</text>\n</g>\n<!-- 4 -->\n<g id=\"node5\" class=\"node\">\n<title>4</title>\n<path fill=\"#e99356\" stroke=\"#000000\" d=\"M534,-187C534,-187 385,-187 385,-187 379,-187 373,-181 373,-175 373,-175 373,-116 373,-116 373,-110 379,-104 385,-104 385,-104 534,-104 534,-104 540,-104 546,-110 546,-116 546,-116 546,-175 546,-175 546,-181 540,-187 534,-187\"/>\n<text text-anchor=\"middle\" x=\"459.5\" y=\"-171.8\" font-family=\"Helvetica,sans-Serif\" font-size=\"14.00\" fill=\"#000000\">Domain_class &lt;= 3.5</text>\n<text text-anchor=\"middle\" x=\"459.5\" y=\"-156.8\" font-family=\"Helvetica,sans-Serif\" font-size=\"14.00\" fill=\"#000000\">entropy = 0.549</text>\n<text text-anchor=\"middle\" x=\"459.5\" y=\"-141.8\" font-family=\"Helvetica,sans-Serif\" font-size=\"14.00\" fill=\"#000000\">samples = 230502</text>\n<text text-anchor=\"middle\" x=\"459.5\" y=\"-126.8\" font-family=\"Helvetica,sans-Serif\" font-size=\"14.00\" fill=\"#000000\">value = [201247, 29255]</text>\n<text text-anchor=\"middle\" x=\"459.5\" y=\"-111.8\" font-family=\"Helvetica,sans-Serif\" font-size=\"14.00\" fill=\"#000000\">class = não</text>\n</g>\n<!-- 0&#45;&gt;4 -->\n<g id=\"edge4\" class=\"edge\">\n<title>0&#45;&gt;4</title>\n<path fill=\"none\" stroke=\"#000000\" d=\"M397.0761,-222.8796C404.2691,-213.9633 411.9384,-204.4565 419.351,-195.268\"/>\n<polygon fill=\"#000000\" stroke=\"#000000\" points=\"422.2258,-197.2788 425.7805,-187.2981 416.7776,-192.8836 422.2258,-197.2788\"/>\n<text text-anchor=\"middle\" x=\"428.4398\" y=\"-208.4562\" font-family=\"Helvetica,sans-Serif\" font-size=\"14.00\" fill=\"#000000\">False</text>\n</g>\n<!-- 2 -->\n<g id=\"node3\" class=\"node\">\n<title>2</title>\n<path fill=\"#eca36e\" stroke=\"#000000\" d=\"M153,-68C153,-68 12,-68 12,-68 6,-68 0,-62 0,-56 0,-56 0,-12 0,-12 0,-6 6,0 12,0 12,0 153,0 153,0 159,0 165,-6 165,-12 165,-12 165,-56 165,-56 165,-62 159,-68 153,-68\"/>\n<text text-anchor=\"middle\" x=\"82.5\" y=\"-52.8\" font-family=\"Helvetica,sans-Serif\" font-size=\"14.00\" fill=\"#000000\">entropy = 0.745</text>\n<text text-anchor=\"middle\" x=\"82.5\" y=\"-37.8\" font-family=\"Helvetica,sans-Serif\" font-size=\"14.00\" fill=\"#000000\">samples = 111270</text>\n<text text-anchor=\"middle\" x=\"82.5\" y=\"-22.8\" font-family=\"Helvetica,sans-Serif\" font-size=\"14.00\" fill=\"#000000\">value = [87676, 23594]</text>\n<text text-anchor=\"middle\" x=\"82.5\" y=\"-7.8\" font-family=\"Helvetica,sans-Serif\" font-size=\"14.00\" fill=\"#000000\">class = não</text>\n</g>\n<!-- 1&#45;&gt;2 -->\n<g id=\"edge2\" class=\"edge\">\n<title>1&#45;&gt;2</title>\n<path fill=\"none\" stroke=\"#000000\" d=\"M199.2405,-103.9815C182.5953,-94.0034 164.8627,-83.3733 148.3764,-73.4904\"/>\n<polygon fill=\"#000000\" stroke=\"#000000\" points=\"149.7369,-70.2253 139.3603,-68.0856 146.1377,-76.2292 149.7369,-70.2253\"/>\n</g>\n<!-- 3 -->\n<g id=\"node4\" class=\"node\">\n<title>3</title>\n<path fill=\"#f5ceb2\" stroke=\"#000000\" d=\"M344,-68C344,-68 195,-68 195,-68 189,-68 183,-62 183,-56 183,-56 183,-12 183,-12 183,-6 189,0 195,0 195,0 344,0 344,0 350,0 356,-6 356,-12 356,-12 356,-56 356,-56 356,-62 350,-68 344,-68\"/>\n<text text-anchor=\"middle\" x=\"269.5\" y=\"-52.8\" font-family=\"Helvetica,sans-Serif\" font-size=\"14.00\" fill=\"#000000\">entropy = 0.958</text>\n<text text-anchor=\"middle\" x=\"269.5\" y=\"-37.8\" font-family=\"Helvetica,sans-Serif\" font-size=\"14.00\" fill=\"#000000\">samples = 166025</text>\n<text text-anchor=\"middle\" x=\"269.5\" y=\"-22.8\" font-family=\"Helvetica,sans-Serif\" font-size=\"14.00\" fill=\"#000000\">value = [103000, 63025]</text>\n<text text-anchor=\"middle\" x=\"269.5\" y=\"-7.8\" font-family=\"Helvetica,sans-Serif\" font-size=\"14.00\" fill=\"#000000\">class = não</text>\n</g>\n<!-- 1&#45;&gt;3 -->\n<g id=\"edge3\" class=\"edge\">\n<title>1&#45;&gt;3</title>\n<path fill=\"none\" stroke=\"#000000\" d=\"M268.8724,-103.9815C268.9474,-95.618 269.0265,-86.7965 269.1023,-78.3409\"/>\n<polygon fill=\"#000000\" stroke=\"#000000\" points=\"272.6028,-78.2947 269.1927,-68.2637 265.6031,-78.2318 272.6028,-78.2947\"/>\n</g>\n<!-- 5 -->\n<g id=\"node6\" class=\"node\">\n<title>5</title>\n<path fill=\"#e78a46\" stroke=\"#000000\" d=\"M529,-68C529,-68 388,-68 388,-68 382,-68 376,-62 376,-56 376,-56 376,-12 376,-12 376,-6 382,0 388,0 388,0 529,0 529,0 535,0 541,-6 541,-12 541,-12 541,-56 541,-56 541,-62 535,-68 529,-68\"/>\n<text text-anchor=\"middle\" x=\"458.5\" y=\"-52.8\" font-family=\"Helvetica,sans-Serif\" font-size=\"14.00\" fill=\"#000000\">entropy = 0.342</text>\n<text text-anchor=\"middle\" x=\"458.5\" y=\"-37.8\" font-family=\"Helvetica,sans-Serif\" font-size=\"14.00\" fill=\"#000000\">samples = 151907</text>\n<text text-anchor=\"middle\" x=\"458.5\" y=\"-22.8\" font-family=\"Helvetica,sans-Serif\" font-size=\"14.00\" fill=\"#000000\">value = [142233, 9674]</text>\n<text text-anchor=\"middle\" x=\"458.5\" y=\"-7.8\" font-family=\"Helvetica,sans-Serif\" font-size=\"14.00\" fill=\"#000000\">class = não</text>\n</g>\n<!-- 4&#45;&gt;5 -->\n<g id=\"edge5\" class=\"edge\">\n<title>4&#45;&gt;5</title>\n<path fill=\"none\" stroke=\"#000000\" d=\"M459.1276,-103.9815C459.0526,-95.618 458.9735,-86.7965 458.8977,-78.3409\"/>\n<polygon fill=\"#000000\" stroke=\"#000000\" points=\"462.3969,-78.2318 458.8073,-68.2637 455.3972,-78.2947 462.3969,-78.2318\"/>\n</g>\n<!-- 6 -->\n<g id=\"node7\" class=\"node\">\n<title>6</title>\n<path fill=\"#eeab7b\" stroke=\"#000000\" d=\"M712,-68C712,-68 571,-68 571,-68 565,-68 559,-62 559,-56 559,-56 559,-12 559,-12 559,-6 565,0 571,0 571,0 712,0 712,0 718,0 724,-6 724,-12 724,-12 724,-56 724,-56 724,-62 718,-68 712,-68\"/>\n<text text-anchor=\"middle\" x=\"641.5\" y=\"-52.8\" font-family=\"Helvetica,sans-Serif\" font-size=\"14.00\" fill=\"#000000\">entropy = 0.81</text>\n<text text-anchor=\"middle\" x=\"641.5\" y=\"-37.8\" font-family=\"Helvetica,sans-Serif\" font-size=\"14.00\" fill=\"#000000\">samples = 78595</text>\n<text text-anchor=\"middle\" x=\"641.5\" y=\"-22.8\" font-family=\"Helvetica,sans-Serif\" font-size=\"14.00\" fill=\"#000000\">value = [59014, 19581]</text>\n<text text-anchor=\"middle\" x=\"641.5\" y=\"-7.8\" font-family=\"Helvetica,sans-Serif\" font-size=\"14.00\" fill=\"#000000\">class = não</text>\n</g>\n<!-- 4&#45;&gt;6 -->\n<g id=\"edge6\" class=\"edge\">\n<title>4&#45;&gt;6</title>\n<path fill=\"none\" stroke=\"#000000\" d=\"M527.2701,-103.9815C543.5573,-94.0034 560.9085,-83.3733 577.0403,-73.4904\"/>\n<polygon fill=\"#000000\" stroke=\"#000000\" points=\"579.1638,-76.2941 585.8625,-68.0856 575.507,-70.3252 579.1638,-76.2941\"/>\n</g>\n</g>\n</svg>\n"
          },
          "metadata": {},
          "execution_count": 174
        }
      ]
    },
    {
      "cell_type": "markdown",
      "source": [
        "# Validação dos modelos:"
      ],
      "metadata": {
        "id": "bE9mp1fEqjEX"
      }
    },
    {
      "cell_type": "markdown",
      "source": [
        "## Matriz de confusão: \n",
        "![image.png](data:image/png;base64,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)"
      ],
      "metadata": {
        "id": "pY4huAZYqHc4"
      }
    },
    {
      "cell_type": "code",
      "source": [
        "print(f'''\n",
        "> Matriz SVC: \\n {confusion_matrix(y_test, predito_svc)}\n",
        "\n",
        "> Matriz KNN: \\n {confusion_matrix(y_test, predito_knn)}\n",
        "\n",
        "> Matriz BNB: \\n {confusion_matrix(y_test,predito_BNb)}\n",
        "\n",
        "> Matriz Reg.Log: \\n {confusion_matrix(y_test, predito_regLog)}\n",
        "\n",
        "> Matriz DTC: \\n {confusion_matrix(y_test, predito_ArvoreDecisao)}\n",
        "''')"
      ],
      "metadata": {
        "colab": {
          "base_uri": "https://localhost:8080/"
        },
        "id": "lnLceuLQpxWS",
        "outputId": "1c296324-85df-4ce2-d887-8bebb134aae8"
      },
      "execution_count": 81,
      "outputs": [
        {
          "output_type": "stream",
          "name": "stdout",
          "text": [
            "\n",
            "> Matriz SVC: \n",
            " [[167848      0]\n",
            " [ 49780      0]]\n",
            "\n",
            "> Matriz KNN: \n",
            " [[146241  21607]\n",
            " [ 36451  13329]]\n",
            "\n",
            "> Matriz BNB: \n",
            " [[167848      0]\n",
            " [ 49780      0]]\n",
            "\n",
            "> Matriz Reg.Log: \n",
            " [[167848      0]\n",
            " [ 49780      0]]\n",
            "\n",
            "> Matriz DTC: \n",
            " [[167279    569]\n",
            " [ 48675   1105]]\n",
            "\n"
          ]
        }
      ]
    },
    {
      "cell_type": "markdown",
      "source": [
        "## Acurácia\n",
        "acurária - Quanto o modelo está acertando"
      ],
      "metadata": {
        "id": "tFCxDGoOqLtQ"
      }
    },
    {
      "cell_type": "code",
      "source": [
        "acerto_svc = accuracy_score(y_test, predito_svc)\n",
        "acerto_knn = accuracy_score(y_test, predito_knn)\n",
        "acerto_bnb = accuracy_score(y_test, predito_BNb)\n",
        "acerto_regLog = accuracy_score(y_test, predito_regLog)\n",
        "acerto_ArvoreDecisao = accuracy_score(y_test, predito_ArvoreDecisao)\n",
        "print(f'''\n",
        "Acurácia do SVC: {acerto_svc}\n",
        "Acurácia do KNN: {acerto_knn}\n",
        "Acurácia do BNb: {acerto_bnb}\n",
        "Acurácia da Reg.log: {acerto_regLog}\n",
        "Acurácia da DTC: {acerto_ArvoreDecisao}\n",
        "''')"
      ],
      "metadata": {
        "id": "xE0xgTAHfyaY",
        "colab": {
          "base_uri": "https://localhost:8080/"
        },
        "outputId": "57551045-f9db-47a4-bbaa-39c07f74d955"
      },
      "execution_count": 83,
      "outputs": [
        {
          "output_type": "stream",
          "name": "stdout",
          "text": [
            "\n",
            "Acurácia do SVC: 0.7712610509677064\n",
            "Acurácia do KNN: 0.7332236660723804\n",
            "Acurácia do BNb: 0.7712610509677064\n",
            "Acurácia da Reg.log: 0.7712610509677064\n",
            "Acurácia da DTC: 0.7737239693421802\n",
            "\n"
          ]
        }
      ]
    },
    {
      "cell_type": "markdown",
      "source": [
        "## Precisão:\n",
        "precisão - Quantos foram classificados corretamento como positivos ($TP$)."
      ],
      "metadata": {
        "id": "WySZvKqoqxb8"
      }
    },
    {
      "cell_type": "code",
      "source": [
        "print(f'''\n",
        "    > Precisão SVC: {precision_score(y_test, predito_svc)}\n",
        "    > Precisão KNN: {precision_score(y_teste, predito_knn)}\n",
        "    > Precisão BNB: {precision_score(y_test, predito_BNb)}\n",
        "    > Precisão da RegLog: {precision_score(y_test, predito_regLog)}\n",
        "    > Precisão da ArvoreDecisao = {precision_score(y_test, predito_ArvoreDecisao)}\n",
        "    ''')"
      ],
      "metadata": {
        "colab": {
          "base_uri": "https://localhost:8080/"
        },
        "id": "Qnp04pDIBkyY",
        "outputId": "a1106fa8-4d22-4165-8b0d-3e2cbace8198"
      },
      "execution_count": 86,
      "outputs": [
        {
          "output_type": "stream",
          "name": "stdout",
          "text": [
            "\n",
            "    > Precisão SVC: 0.0\n",
            "    > Precisão KNN: 0.381526219372567\n",
            "    > Precisão BNB: 0.0\n",
            "    > Precisão da RegLog: 0.0\n",
            "    > Precisão da ArvoreDecisao = 0.6600955794504182\n",
            "    \n"
          ]
        }
      ]
    },
    {
      "cell_type": "markdown",
      "source": [
        "## Recall:\n",
        "sensibilidade: Quão bom o modelo está para classificar corretamente um resultado positivo ($TP$)."
      ],
      "metadata": {
        "id": "lcfNU6-Lq0Hn"
      }
    },
    {
      "cell_type": "code",
      "source": [
        "print(f'''\n",
        "    > Sensibilidade SVC: {recall_score(y_test, predito_svc)}\n",
        "    > Sensibilidade KNN: {recall_score(y_teste, predito_knn)}\n",
        "    > Sensibilidade BNB: {recall_score(y_test, predito_BNb)}\n",
        "    > Sensibilidade da RegLog: {recall_score(y_test, predito_regLog)}\n",
        "    > Sensibilidade da ArvoreDecisao = {recall_score(y_test, predito_ArvoreDecisao)}\n",
        "    ''')"
      ],
      "metadata": {
        "id": "CafGWk4vnt_t",
        "colab": {
          "base_uri": "https://localhost:8080/"
        },
        "outputId": "e20d4de2-3627-47c1-8f5d-f0213ee8709f"
      },
      "execution_count": 87,
      "outputs": [
        {
          "output_type": "stream",
          "name": "stdout",
          "text": [
            "\n",
            "    > Sensibilidade SVC: 0.0\n",
            "    > Sensibilidade KNN: 0.26775813579750907\n",
            "    > Sensibilidade BNB: 0.0\n",
            "    > Sensibilidade da RegLog: 0.0\n",
            "    > Sensibilidade da ArvoreDecisao = 0.0221976697468863\n",
            "    \n"
          ]
        }
      ]
    },
    {
      "cell_type": "markdown",
      "source": [
        "## Outros Métodos"
      ],
      "metadata": {
        "id": "9wxaK8I4F8y4"
      }
    },
    {
      "cell_type": "code",
      "source": [
        "print(classification_report(y_test, predito_BNb))"
      ],
      "metadata": {
        "colab": {
          "base_uri": "https://localhost:8080/"
        },
        "id": "97_5OrghD3Re",
        "outputId": "1772b7e9-3f11-4535-cc4c-cd6fe8853dbc"
      },
      "execution_count": 91,
      "outputs": [
        {
          "output_type": "stream",
          "name": "stdout",
          "text": [
            "              precision    recall  f1-score   support\n",
            "\n",
            "           0       0.77      1.00      0.87    167848\n",
            "           1       0.00      0.00      0.00     49780\n",
            "\n",
            "    accuracy                           0.77    217628\n",
            "   macro avg       0.39      0.50      0.44    217628\n",
            "weighted avg       0.59      0.77      0.67    217628\n",
            "\n"
          ]
        }
      ]
    },
    {
      "cell_type": "code",
      "source": [
        "print(classification_report(y_test, predito_svc))"
      ],
      "metadata": {
        "colab": {
          "base_uri": "https://localhost:8080/"
        },
        "id": "chR1gtkhFjl7",
        "outputId": "224b10d7-50a4-4bfd-b7d7-44f669fde646"
      },
      "execution_count": 92,
      "outputs": [
        {
          "output_type": "stream",
          "name": "stdout",
          "text": [
            "              precision    recall  f1-score   support\n",
            "\n",
            "           0       0.77      1.00      0.87    167848\n",
            "           1       0.00      0.00      0.00     49780\n",
            "\n",
            "    accuracy                           0.77    217628\n",
            "   macro avg       0.39      0.50      0.44    217628\n",
            "weighted avg       0.59      0.77      0.67    217628\n",
            "\n"
          ]
        }
      ]
    },
    {
      "cell_type": "code",
      "source": [
        "print(classification_report(y_teste, predito_knn))"
      ],
      "metadata": {
        "colab": {
          "base_uri": "https://localhost:8080/"
        },
        "id": "fR_wskIwFmVa",
        "outputId": "5e7e088d-9afd-4c0b-a9ae-82be28d23a62"
      },
      "execution_count": 94,
      "outputs": [
        {
          "output_type": "stream",
          "name": "stdout",
          "text": [
            "              precision    recall  f1-score   support\n",
            "\n",
            "           0       0.80      0.87      0.83    167848\n",
            "           1       0.38      0.27      0.31     49780\n",
            "\n",
            "    accuracy                           0.73    217628\n",
            "   macro avg       0.59      0.57      0.57    217628\n",
            "weighted avg       0.70      0.73      0.72    217628\n",
            "\n"
          ]
        }
      ]
    },
    {
      "cell_type": "code",
      "source": [
        "print(classification_report(y_teste, predito_regLog))"
      ],
      "metadata": {
        "colab": {
          "base_uri": "https://localhost:8080/"
        },
        "id": "XUCkPY6uFsIc",
        "outputId": "5197ed34-48cf-4be4-8b02-ad414f7062b5"
      },
      "execution_count": 95,
      "outputs": [
        {
          "output_type": "stream",
          "name": "stdout",
          "text": [
            "              precision    recall  f1-score   support\n",
            "\n",
            "           0       0.77      1.00      0.87    167848\n",
            "           1       0.00      0.00      0.00     49780\n",
            "\n",
            "    accuracy                           0.77    217628\n",
            "   macro avg       0.39      0.50      0.44    217628\n",
            "weighted avg       0.59      0.77      0.67    217628\n",
            "\n"
          ]
        }
      ]
    },
    {
      "cell_type": "code",
      "source": [
        "print(classification_report(y_teste, predito_ArvoreDecisao))"
      ],
      "metadata": {
        "colab": {
          "base_uri": "https://localhost:8080/"
        },
        "id": "a9lpZXscFwgY",
        "outputId": "ed257974-a890-4833-985e-ba0f4891ecb4"
      },
      "execution_count": 96,
      "outputs": [
        {
          "output_type": "stream",
          "name": "stdout",
          "text": [
            "              precision    recall  f1-score   support\n",
            "\n",
            "           0       0.77      1.00      0.87    167848\n",
            "           1       0.66      0.02      0.04     49780\n",
            "\n",
            "    accuracy                           0.77    217628\n",
            "   macro avg       0.72      0.51      0.46    217628\n",
            "weighted avg       0.75      0.77      0.68    217628\n",
            "\n"
          ]
        }
      ]
    },
    {
      "cell_type": "markdown",
      "source": [
        "# Testes Específicos de probabilidade"
      ],
      "metadata": {
        "id": "9tIuPiLfGbBb"
      }
    },
    {
      "cell_type": "code",
      "source": [
        "X_train.head()"
      ],
      "metadata": {
        "colab": {
          "base_uri": "https://localhost:8080/",
          "height": 206
        },
        "id": "dmoDrHydG1a0",
        "outputId": "1e510327-63b4-4724-be9f-3ea81f10e16e"
      },
      "execution_count": 97,
      "outputs": [
        {
          "output_type": "execute_result",
          "data": {
            "text/plain": [
              "         Entregas  Domain_class  bu_tratado  class_gender  patient_age\n",
              "688260          1             1           1           2.0           71\n",
              "81496           1             0           0           2.0           34\n",
              "284572          1             1           1           2.0           45\n",
              "324846          1             1           0           1.0           55\n",
              "1524080         1             4           1           2.0           40"
            ],
            "text/html": [
              "\n",
              "  <div id=\"df-68ad5949-d8c1-46af-a8ff-562500dfe086\">\n",
              "    <div class=\"colab-df-container\">\n",
              "      <div>\n",
              "<style scoped>\n",
              "    .dataframe tbody tr th:only-of-type {\n",
              "        vertical-align: middle;\n",
              "    }\n",
              "\n",
              "    .dataframe tbody tr th {\n",
              "        vertical-align: top;\n",
              "    }\n",
              "\n",
              "    .dataframe thead th {\n",
              "        text-align: right;\n",
              "    }\n",
              "</style>\n",
              "<table border=\"1\" class=\"dataframe\">\n",
              "  <thead>\n",
              "    <tr style=\"text-align: right;\">\n",
              "      <th></th>\n",
              "      <th>Entregas</th>\n",
              "      <th>Domain_class</th>\n",
              "      <th>bu_tratado</th>\n",
              "      <th>class_gender</th>\n",
              "      <th>patient_age</th>\n",
              "    </tr>\n",
              "  </thead>\n",
              "  <tbody>\n",
              "    <tr>\n",
              "      <th>688260</th>\n",
              "      <td>1</td>\n",
              "      <td>1</td>\n",
              "      <td>1</td>\n",
              "      <td>2.0</td>\n",
              "      <td>71</td>\n",
              "    </tr>\n",
              "    <tr>\n",
              "      <th>81496</th>\n",
              "      <td>1</td>\n",
              "      <td>0</td>\n",
              "      <td>0</td>\n",
              "      <td>2.0</td>\n",
              "      <td>34</td>\n",
              "    </tr>\n",
              "    <tr>\n",
              "      <th>284572</th>\n",
              "      <td>1</td>\n",
              "      <td>1</td>\n",
              "      <td>1</td>\n",
              "      <td>2.0</td>\n",
              "      <td>45</td>\n",
              "    </tr>\n",
              "    <tr>\n",
              "      <th>324846</th>\n",
              "      <td>1</td>\n",
              "      <td>1</td>\n",
              "      <td>0</td>\n",
              "      <td>1.0</td>\n",
              "      <td>55</td>\n",
              "    </tr>\n",
              "    <tr>\n",
              "      <th>1524080</th>\n",
              "      <td>1</td>\n",
              "      <td>4</td>\n",
              "      <td>1</td>\n",
              "      <td>2.0</td>\n",
              "      <td>40</td>\n",
              "    </tr>\n",
              "  </tbody>\n",
              "</table>\n",
              "</div>\n",
              "      <button class=\"colab-df-convert\" onclick=\"convertToInteractive('df-68ad5949-d8c1-46af-a8ff-562500dfe086')\"\n",
              "              title=\"Convert this dataframe to an interactive table.\"\n",
              "              style=\"display:none;\">\n",
              "        \n",
              "  <svg xmlns=\"http://www.w3.org/2000/svg\" height=\"24px\"viewBox=\"0 0 24 24\"\n",
              "       width=\"24px\">\n",
              "    <path d=\"M0 0h24v24H0V0z\" fill=\"none\"/>\n",
              "    <path d=\"M18.56 5.44l.94 2.06.94-2.06 2.06-.94-2.06-.94-.94-2.06-.94 2.06-2.06.94zm-11 1L8.5 8.5l.94-2.06 2.06-.94-2.06-.94L8.5 2.5l-.94 2.06-2.06.94zm10 10l.94 2.06.94-2.06 2.06-.94-2.06-.94-.94-2.06-.94 2.06-2.06.94z\"/><path d=\"M17.41 7.96l-1.37-1.37c-.4-.4-.92-.59-1.43-.59-.52 0-1.04.2-1.43.59L10.3 9.45l-7.72 7.72c-.78.78-.78 2.05 0 2.83L4 21.41c.39.39.9.59 1.41.59.51 0 1.02-.2 1.41-.59l7.78-7.78 2.81-2.81c.8-.78.8-2.07 0-2.86zM5.41 20L4 18.59l7.72-7.72 1.47 1.35L5.41 20z\"/>\n",
              "  </svg>\n",
              "      </button>\n",
              "      \n",
              "  <style>\n",
              "    .colab-df-container {\n",
              "      display:flex;\n",
              "      flex-wrap:wrap;\n",
              "      gap: 12px;\n",
              "    }\n",
              "\n",
              "    .colab-df-convert {\n",
              "      background-color: #E8F0FE;\n",
              "      border: none;\n",
              "      border-radius: 50%;\n",
              "      cursor: pointer;\n",
              "      display: none;\n",
              "      fill: #1967D2;\n",
              "      height: 32px;\n",
              "      padding: 0 0 0 0;\n",
              "      width: 32px;\n",
              "    }\n",
              "\n",
              "    .colab-df-convert:hover {\n",
              "      background-color: #E2EBFA;\n",
              "      box-shadow: 0px 1px 2px rgba(60, 64, 67, 0.3), 0px 1px 3px 1px rgba(60, 64, 67, 0.15);\n",
              "      fill: #174EA6;\n",
              "    }\n",
              "\n",
              "    [theme=dark] .colab-df-convert {\n",
              "      background-color: #3B4455;\n",
              "      fill: #D2E3FC;\n",
              "    }\n",
              "\n",
              "    [theme=dark] .colab-df-convert:hover {\n",
              "      background-color: #434B5C;\n",
              "      box-shadow: 0px 1px 3px 1px rgba(0, 0, 0, 0.15);\n",
              "      filter: drop-shadow(0px 1px 2px rgba(0, 0, 0, 0.3));\n",
              "      fill: #FFFFFF;\n",
              "    }\n",
              "  </style>\n",
              "\n",
              "      <script>\n",
              "        const buttonEl =\n",
              "          document.querySelector('#df-68ad5949-d8c1-46af-a8ff-562500dfe086 button.colab-df-convert');\n",
              "        buttonEl.style.display =\n",
              "          google.colab.kernel.accessAllowed ? 'block' : 'none';\n",
              "\n",
              "        async function convertToInteractive(key) {\n",
              "          const element = document.querySelector('#df-68ad5949-d8c1-46af-a8ff-562500dfe086');\n",
              "          const dataTable =\n",
              "            await google.colab.kernel.invokeFunction('convertToInteractive',\n",
              "                                                     [key], {});\n",
              "          if (!dataTable) return;\n",
              "\n",
              "          const docLinkHtml = 'Like what you see? Visit the ' +\n",
              "            '<a target=\"_blank\" href=https://colab.research.google.com/notebooks/data_table.ipynb>data table notebook</a>'\n",
              "            + ' to learn more about interactive tables.';\n",
              "          element.innerHTML = '';\n",
              "          dataTable['output_type'] = 'display_data';\n",
              "          await google.colab.output.renderOutput(dataTable, element);\n",
              "          const docLink = document.createElement('div');\n",
              "          docLink.innerHTML = docLinkHtml;\n",
              "          element.appendChild(docLink);\n",
              "        }\n",
              "      </script>\n",
              "    </div>\n",
              "  </div>\n",
              "  "
            ]
          },
          "metadata": {},
          "execution_count": 97
        }
      ]
    },
    {
      "cell_type": "code",
      "source": [
        "persona_x = pd.DataFrame({\n",
        "    'Entregas':1, \n",
        "    'Domain_class':2, \n",
        "    'bu_tratado':1,\n",
        "    'class_gender':2,\n",
        "    'patient_age':40\n",
        "    }, index=[0])"
      ],
      "metadata": {
        "id": "rTCNdkOSGfgn"
      },
      "execution_count": 163,
      "outputs": []
    },
    {
      "cell_type": "code",
      "source": [
        "prob_persona_x_logReg = logReg_model.predict_proba(persona_x)\n",
        "prob_persona_x_BNb = bnb_model.predict_proba(persona_x)\n",
        "prob_persona_x_knn = knn_model.predict_proba(persona_x)\n",
        "\n",
        "print(\n",
        "    f'''\n",
        "    ->Percentual de abertura com regressão logística: {round(prob_persona_x_logReg[:,1][0]*100, 2)}\n",
        "\n",
        "    ->Percentual de abertura com Naive Bayes: {round(prob_persona_x_BNb[:,1][0]*100, 2)}\n",
        "\n",
        "    ->Percentual de abertura com KNN: {round(prob_persona_x_knn[:,1][0]*100, 2)}\n",
        "    ''')"
      ],
      "metadata": {
        "colab": {
          "base_uri": "https://localhost:8080/"
        },
        "id": "fPzMpplpHGg3",
        "outputId": "a0ecaf6d-8c30-4198-d1f0-c09c5d1ec53b"
      },
      "execution_count": 164,
      "outputs": [
        {
          "output_type": "stream",
          "name": "stdout",
          "text": [
            "\n",
            "    ->Percentual de abertura com regressão logística: 25.66\n",
            "\n",
            "    ->Percentual de abertura com Naive Bayes: 22.82\n",
            "\n",
            "    ->Percentual de abertura com KNN: 20.0\n",
            "    \n"
          ]
        }
      ]
    },
    {
      "cell_type": "code",
      "source": [
        ""
      ],
      "metadata": {
        "colab": {
          "base_uri": "https://localhost:8080/"
        },
        "id": "CwAIdlCWbCWl",
        "outputId": "fa680ebf-dcd5-439d-b99c-48c45b3580ab"
      },
      "execution_count": 165,
      "outputs": [
        {
          "output_type": "execute_result",
          "data": {
            "text/plain": [
              "array([[0.8, 0.2]])"
            ]
          },
          "metadata": {},
          "execution_count": 165
        }
      ]
    },
    {
      "cell_type": "code",
      "source": [
        "df_simulation = df.copy()\n",
        "df_simulation['chance_abertura_logReg'] = 0\n",
        "df_simulation['chance_abertura_BnB'] = 0"
      ],
      "metadata": {
        "id": "J3B8LfYZMuxe"
      },
      "execution_count": 157,
      "outputs": []
    },
    {
      "cell_type": "code",
      "source": [
        "for index in df_simulation.index:\n",
        "  persona_sim = pd.DataFrame({\n",
        "    'Entregas': df_simulation['Entregas'][index], \n",
        "    'Domain_class': df_simulation['Domain_class'][index], \n",
        "    'bu_tratado': df_simulation['bu_tratado'][index],\n",
        "    'class_gender': df_simulation['class_gender'][index],\n",
        "    'patient_age': df_simulation['patient_age'][index]\n",
        "    }, index=[0])\n",
        "  persona_x_logReg = logReg_model.predict_proba(persona_sim)\n",
        "  prob_persona_x_BNb = bnb_model.predict_proba(persona_sim)\n",
        "  df_simulation['chance_abertura_logReg'][index] = round(persona_x_logReg[:,1][0]*100, 2)\n",
        "  df_simulation['chance_abertura_BnB'][index] = round(prob_persona_x_BNb[:,1][0]*100, 2)\n",
        "  "
      ],
      "metadata": {
        "id": "ZM-sPeQnMh7D"
      },
      "execution_count": 158,
      "outputs": []
    },
    {
      "cell_type": "code",
      "source": [
        "df_simulation.shape"
      ],
      "metadata": {
        "colab": {
          "base_uri": "https://localhost:8080/"
        },
        "id": "dFRlhPYQanlV",
        "outputId": "b71968fe-092f-4cf0-9c87-48a0424c7de5"
      },
      "execution_count": 160,
      "outputs": [
        {
          "output_type": "execute_result",
          "data": {
            "text/plain": [
              "(725425, 17)"
            ]
          },
          "metadata": {},
          "execution_count": 160
        }
      ]
    },
    {
      "cell_type": "code",
      "source": [
        "df_simulation.to_csv('dataset_with_open_percent.csv',sep=';',encoding='utf-8')"
      ],
      "metadata": {
        "id": "8pLuaz-taqqX"
      },
      "execution_count": 161,
      "outputs": []
    },
    {
      "cell_type": "code",
      "source": [
        "df_simulation.head()"
      ],
      "metadata": {
        "colab": {
          "base_uri": "https://localhost:8080/",
          "height": 357
        },
        "id": "lYuBtXKDa6XV",
        "outputId": "fa519a1b-c1f9-430f-a613-a1f6e737ed8b"
      },
      "execution_count": 162,
      "outputs": [
        {
          "output_type": "execute_result",
          "data": {
            "text/plain": [
              "             SubscriberKey  Envios  Entregas            DomainSent  \\\n",
              "0  FERNANDOHENRIQU26121992       1         1        telefonica.com   \n",
              "1  RODRIGOLIMAMART01091986       1         1      dellacont.com.br   \n",
              "3  MILENARODRIGUES17011976       1         1          terra.com.br   \n",
              "5  PERCIVALARMANDO22011956       1         1  metaambiental.eng.br   \n",
              "7  THIAGODESOUZAME28101980       1         1                me.com   \n",
              "\n",
              "   Domain_class         BU  Aberturas  mdm_people_id  patient_age  \\\n",
              "0             0  DASA - SP          0        6070482           29   \n",
              "1             0  DASA - SP          1       17821409           35   \n",
              "3             9  DASA - SP          1        6772987           46   \n",
              "5             0  DASA - SP          1        7565607           66   \n",
              "7            12  DASA - SP          0        6706854           41   \n",
              "\n",
              "  origin_gender                    pacid  bu_tratado abriu? genero_tratado  \\\n",
              "0             M  FERNANDOHENRIQU26121992           0    Não              M   \n",
              "1             M  RODRIGOLIMAMART01091986           0    Sim              M   \n",
              "3             F  MILENARODRIGUES17011976           0    Sim              F   \n",
              "5             M  PERCIVALARMANDO22011956           0    Sim              M   \n",
              "7             M  THIAGODESOUZAME28101980           0    Não              M   \n",
              "\n",
              "   class_gender  chance_abertura_logReg  chance_abertura_BnB  \n",
              "0           1.0                      22                   22  \n",
              "1           1.0                      22                   22  \n",
              "3           2.0                       5                   22  \n",
              "5           1.0                      26                   22  \n",
              "7           1.0                       2                   22  "
            ],
            "text/html": [
              "\n",
              "  <div id=\"df-6fec455d-797a-46c2-8cad-316f8e7b4bd5\">\n",
              "    <div class=\"colab-df-container\">\n",
              "      <div>\n",
              "<style scoped>\n",
              "    .dataframe tbody tr th:only-of-type {\n",
              "        vertical-align: middle;\n",
              "    }\n",
              "\n",
              "    .dataframe tbody tr th {\n",
              "        vertical-align: top;\n",
              "    }\n",
              "\n",
              "    .dataframe thead th {\n",
              "        text-align: right;\n",
              "    }\n",
              "</style>\n",
              "<table border=\"1\" class=\"dataframe\">\n",
              "  <thead>\n",
              "    <tr style=\"text-align: right;\">\n",
              "      <th></th>\n",
              "      <th>SubscriberKey</th>\n",
              "      <th>Envios</th>\n",
              "      <th>Entregas</th>\n",
              "      <th>DomainSent</th>\n",
              "      <th>Domain_class</th>\n",
              "      <th>BU</th>\n",
              "      <th>Aberturas</th>\n",
              "      <th>mdm_people_id</th>\n",
              "      <th>patient_age</th>\n",
              "      <th>origin_gender</th>\n",
              "      <th>pacid</th>\n",
              "      <th>bu_tratado</th>\n",
              "      <th>abriu?</th>\n",
              "      <th>genero_tratado</th>\n",
              "      <th>class_gender</th>\n",
              "      <th>chance_abertura_logReg</th>\n",
              "      <th>chance_abertura_BnB</th>\n",
              "    </tr>\n",
              "  </thead>\n",
              "  <tbody>\n",
              "    <tr>\n",
              "      <th>0</th>\n",
              "      <td>FERNANDOHENRIQU26121992</td>\n",
              "      <td>1</td>\n",
              "      <td>1</td>\n",
              "      <td>telefonica.com</td>\n",
              "      <td>0</td>\n",
              "      <td>DASA - SP</td>\n",
              "      <td>0</td>\n",
              "      <td>6070482</td>\n",
              "      <td>29</td>\n",
              "      <td>M</td>\n",
              "      <td>FERNANDOHENRIQU26121992</td>\n",
              "      <td>0</td>\n",
              "      <td>Não</td>\n",
              "      <td>M</td>\n",
              "      <td>1.0</td>\n",
              "      <td>22</td>\n",
              "      <td>22</td>\n",
              "    </tr>\n",
              "    <tr>\n",
              "      <th>1</th>\n",
              "      <td>RODRIGOLIMAMART01091986</td>\n",
              "      <td>1</td>\n",
              "      <td>1</td>\n",
              "      <td>dellacont.com.br</td>\n",
              "      <td>0</td>\n",
              "      <td>DASA - SP</td>\n",
              "      <td>1</td>\n",
              "      <td>17821409</td>\n",
              "      <td>35</td>\n",
              "      <td>M</td>\n",
              "      <td>RODRIGOLIMAMART01091986</td>\n",
              "      <td>0</td>\n",
              "      <td>Sim</td>\n",
              "      <td>M</td>\n",
              "      <td>1.0</td>\n",
              "      <td>22</td>\n",
              "      <td>22</td>\n",
              "    </tr>\n",
              "    <tr>\n",
              "      <th>3</th>\n",
              "      <td>MILENARODRIGUES17011976</td>\n",
              "      <td>1</td>\n",
              "      <td>1</td>\n",
              "      <td>terra.com.br</td>\n",
              "      <td>9</td>\n",
              "      <td>DASA - SP</td>\n",
              "      <td>1</td>\n",
              "      <td>6772987</td>\n",
              "      <td>46</td>\n",
              "      <td>F</td>\n",
              "      <td>MILENARODRIGUES17011976</td>\n",
              "      <td>0</td>\n",
              "      <td>Sim</td>\n",
              "      <td>F</td>\n",
              "      <td>2.0</td>\n",
              "      <td>5</td>\n",
              "      <td>22</td>\n",
              "    </tr>\n",
              "    <tr>\n",
              "      <th>5</th>\n",
              "      <td>PERCIVALARMANDO22011956</td>\n",
              "      <td>1</td>\n",
              "      <td>1</td>\n",
              "      <td>metaambiental.eng.br</td>\n",
              "      <td>0</td>\n",
              "      <td>DASA - SP</td>\n",
              "      <td>1</td>\n",
              "      <td>7565607</td>\n",
              "      <td>66</td>\n",
              "      <td>M</td>\n",
              "      <td>PERCIVALARMANDO22011956</td>\n",
              "      <td>0</td>\n",
              "      <td>Sim</td>\n",
              "      <td>M</td>\n",
              "      <td>1.0</td>\n",
              "      <td>26</td>\n",
              "      <td>22</td>\n",
              "    </tr>\n",
              "    <tr>\n",
              "      <th>7</th>\n",
              "      <td>THIAGODESOUZAME28101980</td>\n",
              "      <td>1</td>\n",
              "      <td>1</td>\n",
              "      <td>me.com</td>\n",
              "      <td>12</td>\n",
              "      <td>DASA - SP</td>\n",
              "      <td>0</td>\n",
              "      <td>6706854</td>\n",
              "      <td>41</td>\n",
              "      <td>M</td>\n",
              "      <td>THIAGODESOUZAME28101980</td>\n",
              "      <td>0</td>\n",
              "      <td>Não</td>\n",
              "      <td>M</td>\n",
              "      <td>1.0</td>\n",
              "      <td>2</td>\n",
              "      <td>22</td>\n",
              "    </tr>\n",
              "  </tbody>\n",
              "</table>\n",
              "</div>\n",
              "      <button class=\"colab-df-convert\" onclick=\"convertToInteractive('df-6fec455d-797a-46c2-8cad-316f8e7b4bd5')\"\n",
              "              title=\"Convert this dataframe to an interactive table.\"\n",
              "              style=\"display:none;\">\n",
              "        \n",
              "  <svg xmlns=\"http://www.w3.org/2000/svg\" height=\"24px\"viewBox=\"0 0 24 24\"\n",
              "       width=\"24px\">\n",
              "    <path d=\"M0 0h24v24H0V0z\" fill=\"none\"/>\n",
              "    <path d=\"M18.56 5.44l.94 2.06.94-2.06 2.06-.94-2.06-.94-.94-2.06-.94 2.06-2.06.94zm-11 1L8.5 8.5l.94-2.06 2.06-.94-2.06-.94L8.5 2.5l-.94 2.06-2.06.94zm10 10l.94 2.06.94-2.06 2.06-.94-2.06-.94-.94-2.06-.94 2.06-2.06.94z\"/><path d=\"M17.41 7.96l-1.37-1.37c-.4-.4-.92-.59-1.43-.59-.52 0-1.04.2-1.43.59L10.3 9.45l-7.72 7.72c-.78.78-.78 2.05 0 2.83L4 21.41c.39.39.9.59 1.41.59.51 0 1.02-.2 1.41-.59l7.78-7.78 2.81-2.81c.8-.78.8-2.07 0-2.86zM5.41 20L4 18.59l7.72-7.72 1.47 1.35L5.41 20z\"/>\n",
              "  </svg>\n",
              "      </button>\n",
              "      \n",
              "  <style>\n",
              "    .colab-df-container {\n",
              "      display:flex;\n",
              "      flex-wrap:wrap;\n",
              "      gap: 12px;\n",
              "    }\n",
              "\n",
              "    .colab-df-convert {\n",
              "      background-color: #E8F0FE;\n",
              "      border: none;\n",
              "      border-radius: 50%;\n",
              "      cursor: pointer;\n",
              "      display: none;\n",
              "      fill: #1967D2;\n",
              "      height: 32px;\n",
              "      padding: 0 0 0 0;\n",
              "      width: 32px;\n",
              "    }\n",
              "\n",
              "    .colab-df-convert:hover {\n",
              "      background-color: #E2EBFA;\n",
              "      box-shadow: 0px 1px 2px rgba(60, 64, 67, 0.3), 0px 1px 3px 1px rgba(60, 64, 67, 0.15);\n",
              "      fill: #174EA6;\n",
              "    }\n",
              "\n",
              "    [theme=dark] .colab-df-convert {\n",
              "      background-color: #3B4455;\n",
              "      fill: #D2E3FC;\n",
              "    }\n",
              "\n",
              "    [theme=dark] .colab-df-convert:hover {\n",
              "      background-color: #434B5C;\n",
              "      box-shadow: 0px 1px 3px 1px rgba(0, 0, 0, 0.15);\n",
              "      filter: drop-shadow(0px 1px 2px rgba(0, 0, 0, 0.3));\n",
              "      fill: #FFFFFF;\n",
              "    }\n",
              "  </style>\n",
              "\n",
              "      <script>\n",
              "        const buttonEl =\n",
              "          document.querySelector('#df-6fec455d-797a-46c2-8cad-316f8e7b4bd5 button.colab-df-convert');\n",
              "        buttonEl.style.display =\n",
              "          google.colab.kernel.accessAllowed ? 'block' : 'none';\n",
              "\n",
              "        async function convertToInteractive(key) {\n",
              "          const element = document.querySelector('#df-6fec455d-797a-46c2-8cad-316f8e7b4bd5');\n",
              "          const dataTable =\n",
              "            await google.colab.kernel.invokeFunction('convertToInteractive',\n",
              "                                                     [key], {});\n",
              "          if (!dataTable) return;\n",
              "\n",
              "          const docLinkHtml = 'Like what you see? Visit the ' +\n",
              "            '<a target=\"_blank\" href=https://colab.research.google.com/notebooks/data_table.ipynb>data table notebook</a>'\n",
              "            + ' to learn more about interactive tables.';\n",
              "          element.innerHTML = '';\n",
              "          dataTable['output_type'] = 'display_data';\n",
              "          await google.colab.output.renderOutput(dataTable, element);\n",
              "          const docLink = document.createElement('div');\n",
              "          docLink.innerHTML = docLinkHtml;\n",
              "          element.appendChild(docLink);\n",
              "        }\n",
              "      </script>\n",
              "    </div>\n",
              "  </div>\n",
              "  "
            ]
          },
          "metadata": {},
          "execution_count": 162
        }
      ]
    },
    {
      "cell_type": "code",
      "source": [
        "df_simulation.columns"
      ],
      "metadata": {
        "colab": {
          "base_uri": "https://localhost:8080/"
        },
        "id": "iy1LrQVIbbFm",
        "outputId": "e69a4209-5aec-4414-d822-1296ba82ac2a"
      },
      "execution_count": 166,
      "outputs": [
        {
          "output_type": "execute_result",
          "data": {
            "text/plain": [
              "Index(['SubscriberKey', 'Envios', 'Entregas', 'DomainSent', 'Domain_class',\n",
              "       'BU', 'Aberturas', 'mdm_people_id', 'patient_age', 'origin_gender',\n",
              "       'pacid', 'bu_tratado', 'abriu?', 'genero_tratado', 'class_gender',\n",
              "       'chance_abertura_logReg', 'chance_abertura_BnB'],\n",
              "      dtype='object')"
            ]
          },
          "metadata": {},
          "execution_count": 166
        }
      ]
    },
    {
      "cell_type": "code",
      "source": [
        "df_simulation[['SubscriberKey','abriu?','chance_abertura_logReg', 'chance_abertura_BnB']].head(20)"
      ],
      "metadata": {
        "colab": {
          "base_uri": "https://localhost:8080/",
          "height": 676
        },
        "id": "k0uFr7N6bdHl",
        "outputId": "c7d6e254-5eeb-4a7f-96db-b1f6c7f0a11d"
      },
      "execution_count": 167,
      "outputs": [
        {
          "output_type": "execute_result",
          "data": {
            "text/plain": [
              "              SubscriberKey abriu?  chance_abertura_logReg  \\\n",
              "0   FERNANDOHENRIQU26121992    Não                      22   \n",
              "1   RODRIGOLIMAMART01091986    Sim                      22   \n",
              "3   MILENARODRIGUES17011976    Sim                       5   \n",
              "5   PERCIVALARMANDO22011956    Sim                      26   \n",
              "7   THIAGODESOUZAME28101980    Não                       2   \n",
              "8   CARMENFERNANDAV25041976    Sim                      19   \n",
              "9   REGINACELIADASI05051960    Não                      36   \n",
              "10  VERADAPENHAMART01121953    Sim                      37   \n",
              "11  JOSELMASILVAGON28121975    Sim                      34   \n",
              "12  RAQUELGUADAGNOL27071974    Não                      19   \n",
              "13  ARNALDONUNESMAR17101956    Sim                      26   \n",
              "15  FABIOANTONIOALV15021974    Não                      24   \n",
              "16       ALANAZENHA20041982    Não                      23   \n",
              "17  VIVIANEBELOSILV21091981    Sim                      33   \n",
              "18  RICARDOSANCHEZH05071973    Não                      24   \n",
              "19  ELIANAAPARECIDA07021960    Não                      36   \n",
              "20  MARCOSANTONIORI15101968    Não                      24   \n",
              "21  LUIZRODRIGUESTR16111958    Não                      16   \n",
              "22  HELENAMARIADEMA07011958    Sim                      37   \n",
              "23  DULCINEIAAMAROS11091969    Não                      35   \n",
              "\n",
              "    chance_abertura_BnB  \n",
              "0                    22  \n",
              "1                    22  \n",
              "3                    22  \n",
              "5                    22  \n",
              "7                    22  \n",
              "8                    22  \n",
              "9                    22  \n",
              "10                   22  \n",
              "11                   22  \n",
              "12                   22  \n",
              "13                   22  \n",
              "15                   22  \n",
              "16                   22  \n",
              "17                   22  \n",
              "18                   22  \n",
              "19                   22  \n",
              "20                   22  \n",
              "21                   22  \n",
              "22                   22  \n",
              "23                   22  "
            ],
            "text/html": [
              "\n",
              "  <div id=\"df-b34b2ac2-60c3-4827-a49f-c23719b5addc\">\n",
              "    <div class=\"colab-df-container\">\n",
              "      <div>\n",
              "<style scoped>\n",
              "    .dataframe tbody tr th:only-of-type {\n",
              "        vertical-align: middle;\n",
              "    }\n",
              "\n",
              "    .dataframe tbody tr th {\n",
              "        vertical-align: top;\n",
              "    }\n",
              "\n",
              "    .dataframe thead th {\n",
              "        text-align: right;\n",
              "    }\n",
              "</style>\n",
              "<table border=\"1\" class=\"dataframe\">\n",
              "  <thead>\n",
              "    <tr style=\"text-align: right;\">\n",
              "      <th></th>\n",
              "      <th>SubscriberKey</th>\n",
              "      <th>abriu?</th>\n",
              "      <th>chance_abertura_logReg</th>\n",
              "      <th>chance_abertura_BnB</th>\n",
              "    </tr>\n",
              "  </thead>\n",
              "  <tbody>\n",
              "    <tr>\n",
              "      <th>0</th>\n",
              "      <td>FERNANDOHENRIQU26121992</td>\n",
              "      <td>Não</td>\n",
              "      <td>22</td>\n",
              "      <td>22</td>\n",
              "    </tr>\n",
              "    <tr>\n",
              "      <th>1</th>\n",
              "      <td>RODRIGOLIMAMART01091986</td>\n",
              "      <td>Sim</td>\n",
              "      <td>22</td>\n",
              "      <td>22</td>\n",
              "    </tr>\n",
              "    <tr>\n",
              "      <th>3</th>\n",
              "      <td>MILENARODRIGUES17011976</td>\n",
              "      <td>Sim</td>\n",
              "      <td>5</td>\n",
              "      <td>22</td>\n",
              "    </tr>\n",
              "    <tr>\n",
              "      <th>5</th>\n",
              "      <td>PERCIVALARMANDO22011956</td>\n",
              "      <td>Sim</td>\n",
              "      <td>26</td>\n",
              "      <td>22</td>\n",
              "    </tr>\n",
              "    <tr>\n",
              "      <th>7</th>\n",
              "      <td>THIAGODESOUZAME28101980</td>\n",
              "      <td>Não</td>\n",
              "      <td>2</td>\n",
              "      <td>22</td>\n",
              "    </tr>\n",
              "    <tr>\n",
              "      <th>8</th>\n",
              "      <td>CARMENFERNANDAV25041976</td>\n",
              "      <td>Sim</td>\n",
              "      <td>19</td>\n",
              "      <td>22</td>\n",
              "    </tr>\n",
              "    <tr>\n",
              "      <th>9</th>\n",
              "      <td>REGINACELIADASI05051960</td>\n",
              "      <td>Não</td>\n",
              "      <td>36</td>\n",
              "      <td>22</td>\n",
              "    </tr>\n",
              "    <tr>\n",
              "      <th>10</th>\n",
              "      <td>VERADAPENHAMART01121953</td>\n",
              "      <td>Sim</td>\n",
              "      <td>37</td>\n",
              "      <td>22</td>\n",
              "    </tr>\n",
              "    <tr>\n",
              "      <th>11</th>\n",
              "      <td>JOSELMASILVAGON28121975</td>\n",
              "      <td>Sim</td>\n",
              "      <td>34</td>\n",
              "      <td>22</td>\n",
              "    </tr>\n",
              "    <tr>\n",
              "      <th>12</th>\n",
              "      <td>RAQUELGUADAGNOL27071974</td>\n",
              "      <td>Não</td>\n",
              "      <td>19</td>\n",
              "      <td>22</td>\n",
              "    </tr>\n",
              "    <tr>\n",
              "      <th>13</th>\n",
              "      <td>ARNALDONUNESMAR17101956</td>\n",
              "      <td>Sim</td>\n",
              "      <td>26</td>\n",
              "      <td>22</td>\n",
              "    </tr>\n",
              "    <tr>\n",
              "      <th>15</th>\n",
              "      <td>FABIOANTONIOALV15021974</td>\n",
              "      <td>Não</td>\n",
              "      <td>24</td>\n",
              "      <td>22</td>\n",
              "    </tr>\n",
              "    <tr>\n",
              "      <th>16</th>\n",
              "      <td>ALANAZENHA20041982</td>\n",
              "      <td>Não</td>\n",
              "      <td>23</td>\n",
              "      <td>22</td>\n",
              "    </tr>\n",
              "    <tr>\n",
              "      <th>17</th>\n",
              "      <td>VIVIANEBELOSILV21091981</td>\n",
              "      <td>Sim</td>\n",
              "      <td>33</td>\n",
              "      <td>22</td>\n",
              "    </tr>\n",
              "    <tr>\n",
              "      <th>18</th>\n",
              "      <td>RICARDOSANCHEZH05071973</td>\n",
              "      <td>Não</td>\n",
              "      <td>24</td>\n",
              "      <td>22</td>\n",
              "    </tr>\n",
              "    <tr>\n",
              "      <th>19</th>\n",
              "      <td>ELIANAAPARECIDA07021960</td>\n",
              "      <td>Não</td>\n",
              "      <td>36</td>\n",
              "      <td>22</td>\n",
              "    </tr>\n",
              "    <tr>\n",
              "      <th>20</th>\n",
              "      <td>MARCOSANTONIORI15101968</td>\n",
              "      <td>Não</td>\n",
              "      <td>24</td>\n",
              "      <td>22</td>\n",
              "    </tr>\n",
              "    <tr>\n",
              "      <th>21</th>\n",
              "      <td>LUIZRODRIGUESTR16111958</td>\n",
              "      <td>Não</td>\n",
              "      <td>16</td>\n",
              "      <td>22</td>\n",
              "    </tr>\n",
              "    <tr>\n",
              "      <th>22</th>\n",
              "      <td>HELENAMARIADEMA07011958</td>\n",
              "      <td>Sim</td>\n",
              "      <td>37</td>\n",
              "      <td>22</td>\n",
              "    </tr>\n",
              "    <tr>\n",
              "      <th>23</th>\n",
              "      <td>DULCINEIAAMAROS11091969</td>\n",
              "      <td>Não</td>\n",
              "      <td>35</td>\n",
              "      <td>22</td>\n",
              "    </tr>\n",
              "  </tbody>\n",
              "</table>\n",
              "</div>\n",
              "      <button class=\"colab-df-convert\" onclick=\"convertToInteractive('df-b34b2ac2-60c3-4827-a49f-c23719b5addc')\"\n",
              "              title=\"Convert this dataframe to an interactive table.\"\n",
              "              style=\"display:none;\">\n",
              "        \n",
              "  <svg xmlns=\"http://www.w3.org/2000/svg\" height=\"24px\"viewBox=\"0 0 24 24\"\n",
              "       width=\"24px\">\n",
              "    <path d=\"M0 0h24v24H0V0z\" fill=\"none\"/>\n",
              "    <path d=\"M18.56 5.44l.94 2.06.94-2.06 2.06-.94-2.06-.94-.94-2.06-.94 2.06-2.06.94zm-11 1L8.5 8.5l.94-2.06 2.06-.94-2.06-.94L8.5 2.5l-.94 2.06-2.06.94zm10 10l.94 2.06.94-2.06 2.06-.94-2.06-.94-.94-2.06-.94 2.06-2.06.94z\"/><path d=\"M17.41 7.96l-1.37-1.37c-.4-.4-.92-.59-1.43-.59-.52 0-1.04.2-1.43.59L10.3 9.45l-7.72 7.72c-.78.78-.78 2.05 0 2.83L4 21.41c.39.39.9.59 1.41.59.51 0 1.02-.2 1.41-.59l7.78-7.78 2.81-2.81c.8-.78.8-2.07 0-2.86zM5.41 20L4 18.59l7.72-7.72 1.47 1.35L5.41 20z\"/>\n",
              "  </svg>\n",
              "      </button>\n",
              "      \n",
              "  <style>\n",
              "    .colab-df-container {\n",
              "      display:flex;\n",
              "      flex-wrap:wrap;\n",
              "      gap: 12px;\n",
              "    }\n",
              "\n",
              "    .colab-df-convert {\n",
              "      background-color: #E8F0FE;\n",
              "      border: none;\n",
              "      border-radius: 50%;\n",
              "      cursor: pointer;\n",
              "      display: none;\n",
              "      fill: #1967D2;\n",
              "      height: 32px;\n",
              "      padding: 0 0 0 0;\n",
              "      width: 32px;\n",
              "    }\n",
              "\n",
              "    .colab-df-convert:hover {\n",
              "      background-color: #E2EBFA;\n",
              "      box-shadow: 0px 1px 2px rgba(60, 64, 67, 0.3), 0px 1px 3px 1px rgba(60, 64, 67, 0.15);\n",
              "      fill: #174EA6;\n",
              "    }\n",
              "\n",
              "    [theme=dark] .colab-df-convert {\n",
              "      background-color: #3B4455;\n",
              "      fill: #D2E3FC;\n",
              "    }\n",
              "\n",
              "    [theme=dark] .colab-df-convert:hover {\n",
              "      background-color: #434B5C;\n",
              "      box-shadow: 0px 1px 3px 1px rgba(0, 0, 0, 0.15);\n",
              "      filter: drop-shadow(0px 1px 2px rgba(0, 0, 0, 0.3));\n",
              "      fill: #FFFFFF;\n",
              "    }\n",
              "  </style>\n",
              "\n",
              "      <script>\n",
              "        const buttonEl =\n",
              "          document.querySelector('#df-b34b2ac2-60c3-4827-a49f-c23719b5addc button.colab-df-convert');\n",
              "        buttonEl.style.display =\n",
              "          google.colab.kernel.accessAllowed ? 'block' : 'none';\n",
              "\n",
              "        async function convertToInteractive(key) {\n",
              "          const element = document.querySelector('#df-b34b2ac2-60c3-4827-a49f-c23719b5addc');\n",
              "          const dataTable =\n",
              "            await google.colab.kernel.invokeFunction('convertToInteractive',\n",
              "                                                     [key], {});\n",
              "          if (!dataTable) return;\n",
              "\n",
              "          const docLinkHtml = 'Like what you see? Visit the ' +\n",
              "            '<a target=\"_blank\" href=https://colab.research.google.com/notebooks/data_table.ipynb>data table notebook</a>'\n",
              "            + ' to learn more about interactive tables.';\n",
              "          element.innerHTML = '';\n",
              "          dataTable['output_type'] = 'display_data';\n",
              "          await google.colab.output.renderOutput(dataTable, element);\n",
              "          const docLink = document.createElement('div');\n",
              "          docLink.innerHTML = docLinkHtml;\n",
              "          element.appendChild(docLink);\n",
              "        }\n",
              "      </script>\n",
              "    </div>\n",
              "  </div>\n",
              "  "
            ]
          },
          "metadata": {},
          "execution_count": 167
        }
      ]
    },
    {
      "cell_type": "code",
      "source": [
        "# persona_x_logRed = logReg_model.predict(persona_x)\n",
        "# persona_x_BNb = bnb_model.predict(persona_x)\n",
        "\n",
        "# print(persona_x_logRed,persona_x_BNb)"
      ],
      "metadata": {
        "colab": {
          "base_uri": "https://localhost:8080/"
        },
        "id": "pROLnNoJMD_m",
        "outputId": "0dbf7704-3d24-474c-e19c-87020943dfdb"
      },
      "execution_count": 143,
      "outputs": [
        {
          "output_type": "stream",
          "name": "stdout",
          "text": [
            "[0] [0]\n"
          ]
        }
      ]
    },
    {
      "cell_type": "code",
      "source": [
        "# prob_persona_x_BNb\n",
        "# 0.77\n"
      ],
      "metadata": {
        "colab": {
          "base_uri": "https://localhost:8080/"
        },
        "id": "FtDyBEVyHbNI",
        "outputId": "b2c82d5a-8e4d-4418-bc26-ff4ab1e885e1"
      },
      "execution_count": 129,
      "outputs": [
        {
          "output_type": "execute_result",
          "data": {
            "text/plain": [
              "array([[0.77181574, 0.22818426]])"
            ]
          },
          "metadata": {},
          "execution_count": 129
        }
      ]
    },
    {
      "cell_type": "code",
      "source": [
        ""
      ],
      "metadata": {
        "colab": {
          "base_uri": "https://localhost:8080/"
        },
        "id": "3Ijp2tHhLCN8",
        "outputId": "fd646243-074c-4df6-c027-55e4e3bcca63"
      },
      "execution_count": 130,
      "outputs": [
        {
          "output_type": "stream",
          "name": "stdout",
          "text": [
            "[0] [0]\n"
          ]
        }
      ]
    },
    {
      "cell_type": "code",
      "source": [
        ""
      ],
      "metadata": {
        "id": "JjveezABL3QJ"
      },
      "execution_count": null,
      "outputs": []
    }
  ]
}