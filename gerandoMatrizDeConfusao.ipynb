{
  "cells": [
    {
      "cell_type": "markdown",
      "metadata": {
        "id": "view-in-github",
        "colab_type": "text"
      },
      "source": [
        "<a href=\"https://colab.research.google.com/github/OseiasBeu/Data-Science/blob/master/gerandoMatrizDeConfusao.ipynb\" target=\"_parent\"><img src=\"https://colab.research.google.com/assets/colab-badge.svg\" alt=\"Open In Colab\"/></a>"
      ]
    },
    {
      "cell_type": "code",
      "execution_count": 1,
      "metadata": {
        "id": "PsDVoDnhIGvx"
      },
      "outputs": [],
      "source": [
        "# Definindo os valores verdadeiros e preditos:\n",
        "\n",
        "valores_preditos = [0, 1, 1, 1, 0, 0, 1, 0, 0, 1]\n",
        "valores_verdadeiros= valores_verdadeiros= [0, 1, 0, 1, 0, 0, 1, 0, 1, 0]"
      ]
    },
    {
      "cell_type": "code",
      "execution_count": 2,
      "metadata": {
        "colab": {
          "base_uri": "https://localhost:8080/"
        },
        "id": "tfrk1m6fIGv1",
        "outputId": "db843a99-0b69-4935-8d93-3a7f7a564ceb"
      },
      "outputs": [
        {
          "output_type": "execute_result",
          "data": {
            "text/plain": [
              "array([[4, 2],\n",
              "       [1, 3]])"
            ]
          },
          "metadata": {},
          "execution_count": 2
        }
      ],
      "source": [
        "# Importando o método da matriz de confusão\n",
        "\n",
        "from sklearn.metrics import confusion_matrix\n",
        "\n",
        "mc = confusion_matrix(valores_verdadeiros, valores_preditos)  # Matriz de confusão\n",
        "mc\n"
      ]
    },
    {
      "cell_type": "code",
      "execution_count": 3,
      "metadata": {
        "id": "s-D3Myy_IGv4"
      },
      "outputs": [],
      "source": [
        "# Função para gerar a matriz de confusão como está no para saber mais.\n",
        "\n",
        "import seaborn as sns\n",
        "import matplotlib.pyplot as plt\n",
        "import numpy as np\n",
        "\n",
        "def gerando_matriz(matriz_confusao, labels, categorias, cmap=\"viridis\"):\n",
        "    group_counts = [f\"{value}\" for value in matriz_confusao.flatten()]\n",
        "    labels = [f\"{v1}\" for v1 in labels]\n",
        "    lb = [f\"{v1}\\n{v2}\" for v1, v2 in zip(labels, group_counts)]\n",
        "    lb = np.asarray(lb).reshape(matriz_confusao.shape)\n",
        "    \n",
        "    ax = plt.subplot()\n",
        "    sns.set(font_scale=1.1) \n",
        "    sns.heatmap(matriz_confusao, annot=lb, ax=ax, cmap=cmap, fmt=\"\", xticklabels=categorias,yticklabels=categorias)\n",
        "    \n",
        "    label_font = {'size':'12'}  \n",
        "    ax.set_xlabel('Valores preditos', fontdict=label_font);\n",
        "    ax.set_ylabel('Valores verdadeiros', fontdict=label_font);\n",
        "    \n",
        "    ax.tick_params(axis='both', which='major', labelsize=10)  \n",
        "    "
      ]
    },
    {
      "cell_type": "code",
      "execution_count": 4,
      "metadata": {
        "colab": {
          "base_uri": "https://localhost:8080/",
          "height": 287
        },
        "id": "zWt2AIZ-IGv5",
        "outputId": "b6788750-c0ed-404d-8791-45331132e33c"
      },
      "outputs": [
        {
          "output_type": "display_data",
          "data": {
            "text/plain": [
              "<Figure size 432x288 with 2 Axes>"
            ],
            "image/png": "[encoded data removed]"
          },
          "metadata": {
            "needs_background": "light"
          }
        }
      ],
      "source": [
        "categorias = [\"0\", \"1\"]\n",
        "labels = ['Verdadeiro Negativo','Falso Positivo',\n",
        "          'Falso Negativo','Verdadeiro Positivo']\n",
        "\n",
        "gerando_matriz(mc, labels, categorias, cmap=\"magma_r\")"
      ]
    }
  ],
  "metadata": {
    "interpreter": {
      "hash": "5920b5758d452ea2be3c84d3b52789bc04ee682949a6b0870d7691434146c726"
    },
    "kernelspec": {
      "display_name": "Python 3.8.12 ('machine_learning')",
      "language": "python",
      "name": "python3"
    },
    "language_info": {
      "codemirror_mode": {
        "name": "ipython",
        "version": 3
      },
      "file_extension": ".py",
      "mimetype": "text/x-python",
      "name": "python",
      "nbconvert_exporter": "python",
      "pygments_lexer": "ipython3",
      "version": "3.8.12"
    },
    "orig_nbformat": 4,
    "colab": {
      "name": "gerandoMatrizDeConfusao.ipynb",
      "provenance": [],
      "include_colab_link": true
    }
  },
  "nbformat": 4,
  "nbformat_minor": 0
}