{
  "cells": [
    {
      "cell_type": "markdown",
      "metadata": {
        "id": "view-in-github",
        "colab_type": "text"
      },
      "source": [
        "<a href=\"https://colab.research.google.com/github/OseiasBeu/Data-Science/blob/master/Reg_NoneLinearRegression.ipynb\" target=\"_parent\"><img src=\"https://colab.research.google.com/assets/colab-badge.svg\" alt=\"Open In Colab\"/></a>"
      ]
    },
    {
      "cell_type": "markdown",
      "metadata": {
        "id": "mu1phPJDdA_m"
      },
      "source": [
        "<p style=\"text-align:center\">\n",
        "    <a href=\"https://skills.network/?utm_medium=Exinfluencer&utm_source=Exinfluencer&utm_content=000026UJ&utm_term=10006555&utm_id=NA-SkillsNetwork-Channel-SkillsNetworkCoursesIBMDeveloperSkillsNetworkML0101ENSkillsNetwork20718538-2022-01-01\" target=\"_blank\">\n",
        "    <img src=\"https://cf-courses-data.s3.us.cloud-object-storage.appdomain.cloud/assets/logos/SN_web_lightmode.png\" width=\"200\" alt=\"Skills Network Logo\"  />\n",
        "    </a>\n",
        "</p>\n",
        "\n",
        "# Non Linear Regression Analysis\n",
        "\n",
        "Estimated time needed: **20** minutes\n",
        "\n",
        "## Objectives\n",
        "\n",
        "After completing this lab you will be able to:\n",
        "\n",
        "*   Differentiate between linear and non-linear regression\n",
        "*   Use non-linear regression model in Python\n"
      ]
    },
    {
      "cell_type": "markdown",
      "metadata": {
        "id": "50NceYr-dA_o"
      },
      "source": [
        "If the data shows a curvy trend, then linear regression will not produce very accurate results when compared to a non-linear regression since linear regression presumes that the data is linear.\n",
        "Let's learn about non linear regressions and apply an example in python. In this notebook, we fit a non-linear model to the datapoints corrensponding to China's GDP from 1960 to 2014.\n"
      ]
    },
    {
      "cell_type": "markdown",
      "metadata": {
        "id": "PeUgqFKDdA_p"
      },
      "source": [
        "<h2 id=\"importing_libraries\">Importing required libraries</h2>\n"
      ]
    },
    {
      "cell_type": "code",
      "execution_count": 1,
      "metadata": {
        "id": "04TH9_vTdA_q"
      },
      "outputs": [],
      "source": [
        "import numpy as np\n",
        "import matplotlib.pyplot as plt\n",
        "%matplotlib inline"
      ]
    },
    {
      "cell_type": "markdown",
      "metadata": {
        "id": "oDosnG-UdA_r"
      },
      "source": [
        "Although linear regression can do a great job at modeling some datasets, it cannot be used for all datasets. First recall how linear regression, models a dataset. It models the linear relationship between a dependent variable y and the independent variables x. It has a simple equation, of degree 1, for example y = $2x$ + 3.\n"
      ]
    },
    {
      "cell_type": "code",
      "execution_count": 2,
      "metadata": {
        "id": "9LW0Mi--dA_r",
        "outputId": "9001f873-652f-4c74-da22-f599c24f451e",
        "colab": {
          "base_uri": "https://localhost:8080/",
          "height": 279
        }
      },
      "outputs": [
        {
          "output_type": "display_data",
          "data": {
            "text/plain": [
              "<Figure size 432x288 with 1 Axes>"
            ],
            "image/png": "[encoded data removed]"
          },
          "metadata": {
            "needs_background": "light"
          }
        }
      ],
      "source": [
        "x = np.arange(-5.0, 5.0, 0.1)\n",
        "\n",
        "##You can adjust the slope and intercept to verify the changes in the graph\n",
        "y = 2*(x) + 3\n",
        "y_noise = 2 * np.random.normal(size=x.size)\n",
        "ydata = y + y_noise\n",
        "#plt.figure(figsize=(8,6))\n",
        "plt.plot(x, ydata,  'bo')\n",
        "plt.plot(x,y, 'r') \n",
        "plt.ylabel('Dependent Variable')\n",
        "plt.xlabel('Independent Variable')\n",
        "plt.show()"
      ]
    },
    {
      "cell_type": "markdown",
      "metadata": {
        "id": "sbg9MjkCdA_s"
      },
      "source": [
        "Non-linear regression is a method to model the non-linear relationship between the independent variables $x$ and the dependent variable $y$. Essentially any relationship that is not linear can be termed as non-linear, and is usually represented by the polynomial of $k$ degrees (maximum power of $x$).  For example:\n",
        "\n",
        "$$ \\ y = a x^3 + b x^2 + c x + d \\ $$\n",
        "\n",
        "Non-linear functions can have elements like exponentials, logarithms, fractions, and so on. For example: $$ y = \\log(x)$$\n",
        "\n",
        "We can have a function that's even more complicated such as :\n",
        "$$ y = \\log(a x^3 + b x^2 + c x + d)$$\n"
      ]
    },
    {
      "cell_type": "markdown",
      "metadata": {
        "id": "_rjw4XijdA_t"
      },
      "source": [
        "Let's take a look at a cubic function's graph.\n"
      ]
    },
    {
      "cell_type": "code",
      "execution_count": 3,
      "metadata": {
        "id": "i-Icem_odA_t",
        "outputId": "4675db18-4f7f-46ae-c7a4-cce5b4c01a89",
        "colab": {
          "base_uri": "https://localhost:8080/",
          "height": 279
        }
      },
      "outputs": [
        {
          "output_type": "display_data",
          "data": {
            "text/plain": [
              "<Figure size 432x288 with 1 Axes>"
            ],
            "image/png": "[encoded data removed]"
          },
          "metadata": {
            "needs_background": "light"
          }
        }
      ],
      "source": [
        "x = np.arange(-5.0, 5.0, 0.1)\n",
        "\n",
        "##You can adjust the slope and intercept to verify the changes in the graph\n",
        "y = 1*(x**3) + 1*(x**2) + 1*x + 3\n",
        "y_noise = 20 * np.random.normal(size=x.size)\n",
        "ydata = y + y_noise\n",
        "plt.plot(x, ydata,  'bo')\n",
        "plt.plot(x,y, 'r') \n",
        "plt.ylabel('Dependent Variable')\n",
        "plt.xlabel('Independent Variable')\n",
        "plt.show()"
      ]
    },
    {
      "cell_type": "markdown",
      "metadata": {
        "id": "ngxx9wwzdA_u"
      },
      "source": [
        "As you can see, this function has $x^3$ and $x^2$ as independent variables. Also, the graphic of this function is not a straight line over the 2D plane. So this is a non-linear function.\n"
      ]
    },
    {
      "cell_type": "markdown",
      "metadata": {
        "id": "glORULcmdA_u"
      },
      "source": [
        "Some other types of non-linear functions are:\n"
      ]
    },
    {
      "cell_type": "markdown",
      "metadata": {
        "id": "LL34-oyhdA_v"
      },
      "source": [
        "### Quadratic\n"
      ]
    },
    {
      "cell_type": "markdown",
      "metadata": {
        "id": "d4CQjDHedA_v"
      },
      "source": [
        "$$ Y = X^2 $$\n"
      ]
    },
    {
      "cell_type": "code",
      "execution_count": 4,
      "metadata": {
        "id": "RXnRBeJXdA_v",
        "outputId": "8e25c6cf-51f0-403c-fa06-aa5e9fc5f9cd",
        "colab": {
          "base_uri": "https://localhost:8080/",
          "height": 279
        }
      },
      "outputs": [
        {
          "output_type": "display_data",
          "data": {
            "text/plain": [
              "<Figure size 432x288 with 1 Axes>"
            ],
            "image/png": "[encoded data removed]"
          },
          "metadata": {
            "needs_background": "light"
          }
        }
      ],
      "source": [
        "x = np.arange(-5.0, 5.0, 0.1)\n",
        "\n",
        "##You can adjust the slope and intercept to verify the changes in the graph\n",
        "\n",
        "y = np.power(x,2)\n",
        "y_noise = 2 * np.random.normal(size=x.size)\n",
        "ydata = y + y_noise\n",
        "plt.plot(x, ydata,  'bo')\n",
        "plt.plot(x,y, 'r') \n",
        "plt.ylabel('Dependent Variable')\n",
        "plt.xlabel('Independent Variable')\n",
        "plt.show()"
      ]
    },
    {
      "cell_type": "markdown",
      "metadata": {
        "id": "ycSZHwK-dA_w"
      },
      "source": [
        "### Exponential\n"
      ]
    },
    {
      "cell_type": "markdown",
      "metadata": {
        "id": "1UHwwd-gdA_w"
      },
      "source": [
        "An exponential function with base c is defined by $$ Y = a + b c^X$$ where b ≠0, c > 0 , c ≠1, and x is any real number. The base, c, is constant and the exponent, x, is a variable.\n"
      ]
    },
    {
      "cell_type": "code",
      "execution_count": 5,
      "metadata": {
        "id": "dHgH7XIHdA_w",
        "outputId": "5a942f3e-b03f-4ba2-a6aa-e46aa276f5ac",
        "colab": {
          "base_uri": "https://localhost:8080/",
          "height": 282
        }
      },
      "outputs": [
        {
          "output_type": "display_data",
          "data": {
            "text/plain": [
              "<Figure size 432x288 with 1 Axes>"
            ],
            "image/png": "[encoded data removed]"
          },
          "metadata": {
            "needs_background": "light"
          }
        }
      ],
      "source": [
        "X = np.arange(-5.0, 5.0, 0.1)\n",
        "\n",
        "##You can adjust the slope and intercept to verify the changes in the graph\n",
        "\n",
        "Y= np.exp(X)\n",
        "\n",
        "plt.plot(X,Y) \n",
        "plt.ylabel('Dependent Variable')\n",
        "plt.xlabel('Independent Variable')\n",
        "plt.show()"
      ]
    },
    {
      "cell_type": "markdown",
      "metadata": {
        "id": "krTn-Yo-dA_x"
      },
      "source": [
        "### Logarithmic\n",
        "\n",
        "The response $y$ is a results of applying the logarithmic map from the input $x$ to the output $y$. It is one of the simplest form of **log()**: i.e. $$ y = \\log(x)$$\n",
        "\n",
        "Please consider that instead of $x$, we can use $X$, which can be a polynomial representation of the $x$ values. In general form it would be written as\\\n",
        "\\begin{equation}\n",
        "y = \\log(X)\n",
        "\\end{equation}\n"
      ]
    },
    {
      "cell_type": "code",
      "execution_count": 6,
      "metadata": {
        "id": "LrO-rcLJdA_x",
        "outputId": "31184bfa-4ce8-4f4e-effa-5a8cd3e07690",
        "colab": {
          "base_uri": "https://localhost:8080/",
          "height": 314
        }
      },
      "outputs": [
        {
          "output_type": "stream",
          "name": "stderr",
          "text": [
            "/usr/local/lib/python3.7/dist-packages/ipykernel_launcher.py:3: RuntimeWarning: invalid value encountered in log\n",
            "  This is separate from the ipykernel package so we can avoid doing imports until\n"
          ]
        },
        {
          "output_type": "display_data",
          "data": {
            "text/plain": [
              "<Figure size 432x288 with 1 Axes>"
            ],
            "image/png": "[encoded data removed]"
          },
          "metadata": {
            "needs_background": "light"
          }
        }
      ],
      "source": [
        "X = np.arange(-5.0, 5.0, 0.1)\n",
        "\n",
        "Y = np.log(X)\n",
        "\n",
        "plt.plot(X,Y) \n",
        "plt.ylabel('Dependent Variable')\n",
        "plt.xlabel('Independent Variable')\n",
        "plt.show()"
      ]
    },
    {
      "cell_type": "markdown",
      "metadata": {
        "id": "KwRk64PedA_x"
      },
      "source": [
        "### Sigmoidal/Logistic\n"
      ]
    },
    {
      "cell_type": "markdown",
      "metadata": {
        "id": "cPT75c4PdA_x"
      },
      "source": [
        "$$ Y = a + \\frac{b}{1+ c^{(X-d)}}$$\n"
      ]
    },
    {
      "cell_type": "code",
      "execution_count": 7,
      "metadata": {
        "id": "yCq8llkldA_x",
        "outputId": "00ea424e-a38e-4028-81e8-875f5b5d372f",
        "colab": {
          "base_uri": "https://localhost:8080/",
          "height": 282
        }
      },
      "outputs": [
        {
          "output_type": "display_data",
          "data": {
            "text/plain": [
              "<Figure size 432x288 with 1 Axes>"
            ],
            "image/png": "[encoded data removed]"
          },
          "metadata": {
            "needs_background": "light"
          }
        }
      ],
      "source": [
        "X = np.arange(-5.0, 5.0, 0.1)\n",
        "\n",
        "\n",
        "Y = 1-4/(1+np.power(3, X-2))\n",
        "\n",
        "plt.plot(X,Y) \n",
        "plt.ylabel('Dependent Variable')\n",
        "plt.xlabel('Independent Variable')\n",
        "plt.show()"
      ]
    },
    {
      "cell_type": "markdown",
      "metadata": {
        "id": "-kEl1p_BdA_y"
      },
      "source": [
        "<a id=\"ref2\"></a>\n",
        "\n",
        "# Non-Linear Regression example\n"
      ]
    },
    {
      "cell_type": "markdown",
      "metadata": {
        "id": "h0vKtiGIdA_y"
      },
      "source": [
        "For an example, we're going to try and fit a non-linear model to the datapoints corresponding to China's GDP from 1960 to 2014. We download a dataset with two columns, the first, a year between 1960 and 2014, the second, China's corresponding annual gross domestic income in US dollars for that year.\n"
      ]
    },
    {
      "cell_type": "code",
      "execution_count": 8,
      "metadata": {
        "id": "2oi31RPadA_y",
        "outputId": "3b220eb9-97bb-46df-8a3a-765f51801a6f",
        "colab": {
          "base_uri": "https://localhost:8080/",
          "height": 400
        }
      },
      "outputs": [
        {
          "output_type": "stream",
          "name": "stdout",
          "text": [
            "2022-08-12 00:29:01 URL:https://cf-courses-data.s3.us.cloud-object-storage.appdomain.cloud/IBMDeveloperSkillsNetwork-ML0101EN-SkillsNetwork/labs/Module%202/data/china_gdp.csv [1218/1218] -> \"china_gdp.csv\" [1]\n"
          ]
        },
        {
          "output_type": "execute_result",
          "data": {
            "text/plain": [
              "   Year         Value\n",
              "0  1960  5.918412e+10\n",
              "1  1961  4.955705e+10\n",
              "2  1962  4.668518e+10\n",
              "3  1963  5.009730e+10\n",
              "4  1964  5.906225e+10\n",
              "5  1965  6.970915e+10\n",
              "6  1966  7.587943e+10\n",
              "7  1967  7.205703e+10\n",
              "8  1968  6.999350e+10\n",
              "9  1969  7.871882e+10"
            ],
            "text/html": [
              "\n",
              "  <div id=\"df-7f8d55d1-3d9e-4a7a-ad6a-83f60f05c939\">\n",
              "    <div class=\"colab-df-container\">\n",
              "      <div>\n",
              "<style scoped>\n",
              "    .dataframe tbody tr th:only-of-type {\n",
              "        vertical-align: middle;\n",
              "    }\n",
              "\n",
              "    .dataframe tbody tr th {\n",
              "        vertical-align: top;\n",
              "    }\n",
              "\n",
              "    .dataframe thead th {\n",
              "        text-align: right;\n",
              "    }\n",
              "</style>\n",
              "<table border=\"1\" class=\"dataframe\">\n",
              "  <thead>\n",
              "    <tr style=\"text-align: right;\">\n",
              "      <th></th>\n",
              "      <th>Year</th>\n",
              "      <th>Value</th>\n",
              "    </tr>\n",
              "  </thead>\n",
              "  <tbody>\n",
              "    <tr>\n",
              "      <th>0</th>\n",
              "      <td>1960</td>\n",
              "      <td>5.918412e+10</td>\n",
              "    </tr>\n",
              "    <tr>\n",
              "      <th>1</th>\n",
              "      <td>1961</td>\n",
              "      <td>4.955705e+10</td>\n",
              "    </tr>\n",
              "    <tr>\n",
              "      <th>2</th>\n",
              "      <td>1962</td>\n",
              "      <td>4.668518e+10</td>\n",
              "    </tr>\n",
              "    <tr>\n",
              "      <th>3</th>\n",
              "      <td>1963</td>\n",
              "      <td>5.009730e+10</td>\n",
              "    </tr>\n",
              "    <tr>\n",
              "      <th>4</th>\n",
              "      <td>1964</td>\n",
              "      <td>5.906225e+10</td>\n",
              "    </tr>\n",
              "    <tr>\n",
              "      <th>5</th>\n",
              "      <td>1965</td>\n",
              "      <td>6.970915e+10</td>\n",
              "    </tr>\n",
              "    <tr>\n",
              "      <th>6</th>\n",
              "      <td>1966</td>\n",
              "      <td>7.587943e+10</td>\n",
              "    </tr>\n",
              "    <tr>\n",
              "      <th>7</th>\n",
              "      <td>1967</td>\n",
              "      <td>7.205703e+10</td>\n",
              "    </tr>\n",
              "    <tr>\n",
              "      <th>8</th>\n",
              "      <td>1968</td>\n",
              "      <td>6.999350e+10</td>\n",
              "    </tr>\n",
              "    <tr>\n",
              "      <th>9</th>\n",
              "      <td>1969</td>\n",
              "      <td>7.871882e+10</td>\n",
              "    </tr>\n",
              "  </tbody>\n",
              "</table>\n",
              "</div>\n",
              "      <button class=\"colab-df-convert\" onclick=\"convertToInteractive('df-7f8d55d1-3d9e-4a7a-ad6a-83f60f05c939')\"\n",
              "              title=\"Convert this dataframe to an interactive table.\"\n",
              "              style=\"display:none;\">\n",
              "        \n",
              "  <svg xmlns=\"http://www.w3.org/2000/svg\" height=\"24px\"viewBox=\"0 0 24 24\"\n",
              "       width=\"24px\">\n",
              "    <path d=\"M0 0h24v24H0V0z\" fill=\"none\"/>\n",
              "    <path d=\"M18.56 5.44l.94 2.06.94-2.06 2.06-.94-2.06-.94-.94-2.06-.94 2.06-2.06.94zm-11 1L8.5 8.5l.94-2.06 2.06-.94-2.06-.94L8.5 2.5l-.94 2.06-2.06.94zm10 10l.94 2.06.94-2.06 2.06-.94-2.06-.94-.94-2.06-.94 2.06-2.06.94z\"/><path d=\"M17.41 7.96l-1.37-1.37c-.4-.4-.92-.59-1.43-.59-.52 0-1.04.2-1.43.59L10.3 9.45l-7.72 7.72c-.78.78-.78 2.05 0 2.83L4 21.41c.39.39.9.59 1.41.59.51 0 1.02-.2 1.41-.59l7.78-7.78 2.81-2.81c.8-.78.8-2.07 0-2.86zM5.41 20L4 18.59l7.72-7.72 1.47 1.35L5.41 20z\"/>\n",
              "  </svg>\n",
              "      </button>\n",
              "      \n",
              "  <style>\n",
              "    .colab-df-container {\n",
              "      display:flex;\n",
              "      flex-wrap:wrap;\n",
              "      gap: 12px;\n",
              "    }\n",
              "\n",
              "    .colab-df-convert {\n",
              "      background-color: #E8F0FE;\n",
              "      border: none;\n",
              "      border-radius: 50%;\n",
              "      cursor: pointer;\n",
              "      display: none;\n",
              "      fill: #1967D2;\n",
              "      height: 32px;\n",
              "      padding: 0 0 0 0;\n",
              "      width: 32px;\n",
              "    }\n",
              "\n",
              "    .colab-df-convert:hover {\n",
              "      background-color: #E2EBFA;\n",
              "      box-shadow: 0px 1px 2px rgba(60, 64, 67, 0.3), 0px 1px 3px 1px rgba(60, 64, 67, 0.15);\n",
              "      fill: #174EA6;\n",
              "    }\n",
              "\n",
              "    [theme=dark] .colab-df-convert {\n",
              "      background-color: #3B4455;\n",
              "      fill: #D2E3FC;\n",
              "    }\n",
              "\n",
              "    [theme=dark] .colab-df-convert:hover {\n",
              "      background-color: #434B5C;\n",
              "      box-shadow: 0px 1px 3px 1px rgba(0, 0, 0, 0.15);\n",
              "      filter: drop-shadow(0px 1px 2px rgba(0, 0, 0, 0.3));\n",
              "      fill: #FFFFFF;\n",
              "    }\n",
              "  </style>\n",
              "\n",
              "      <script>\n",
              "        const buttonEl =\n",
              "          document.querySelector('#df-7f8d55d1-3d9e-4a7a-ad6a-83f60f05c939 button.colab-df-convert');\n",
              "        buttonEl.style.display =\n",
              "          google.colab.kernel.accessAllowed ? 'block' : 'none';\n",
              "\n",
              "        async function convertToInteractive(key) {\n",
              "          const element = document.querySelector('#df-7f8d55d1-3d9e-4a7a-ad6a-83f60f05c939');\n",
              "          const dataTable =\n",
              "            await google.colab.kernel.invokeFunction('convertToInteractive',\n",
              "                                                     [key], {});\n",
              "          if (!dataTable) return;\n",
              "\n",
              "          const docLinkHtml = 'Like what you see? Visit the ' +\n",
              "            '<a target=\"_blank\" href=https://colab.research.google.com/notebooks/data_table.ipynb>data table notebook</a>'\n",
              "            + ' to learn more about interactive tables.';\n",
              "          element.innerHTML = '';\n",
              "          dataTable['output_type'] = 'display_data';\n",
              "          await google.colab.output.renderOutput(dataTable, element);\n",
              "          const docLink = document.createElement('div');\n",
              "          docLink.innerHTML = docLinkHtml;\n",
              "          element.appendChild(docLink);\n",
              "        }\n",
              "      </script>\n",
              "    </div>\n",
              "  </div>\n",
              "  "
            ]
          },
          "metadata": {},
          "execution_count": 8
        }
      ],
      "source": [
        "import numpy as np\n",
        "import pandas as pd\n",
        "\n",
        "#downloading dataset\n",
        "!wget -nv -O china_gdp.csv https://cf-courses-data.s3.us.cloud-object-storage.appdomain.cloud/IBMDeveloperSkillsNetwork-ML0101EN-SkillsNetwork/labs/Module%202/data/china_gdp.csv\n",
        "    \n",
        "df = pd.read_csv(\"china_gdp.csv\")\n",
        "df.head(10)"
      ]
    },
    {
      "cell_type": "markdown",
      "metadata": {
        "id": "wy4MCd1SdA_y"
      },
      "source": [
        "**Did you know?** When it comes to Machine Learning, you will likely be working with large datasets. As a business, where can you host your data? IBM is offering a unique opportunity for businesses, with 10 Tb of IBM Cloud Object Storage: [Sign up now for free](http://cocl.us/ML0101EN-IBM-Offer-CC)\n"
      ]
    },
    {
      "cell_type": "markdown",
      "metadata": {
        "id": "W-Sf8lkqdA_z"
      },
      "source": [
        "### Plotting the Dataset\n",
        "\n",
        "This is what the datapoints look like. It kind of looks like an either logistic or exponential function. The growth starts off slow, then from 2005 on forward, the growth is very significant. And finally, it decelerates slightly in the 2010s.\n"
      ]
    },
    {
      "cell_type": "code",
      "execution_count": 9,
      "metadata": {
        "id": "JQv2suZxdA_z",
        "outputId": "418a8752-80c2-451c-ecf2-1d3c98939c22",
        "colab": {
          "base_uri": "https://localhost:8080/",
          "height": 345
        }
      },
      "outputs": [
        {
          "output_type": "display_data",
          "data": {
            "text/plain": [
              "<Figure size 576x360 with 1 Axes>"
            ],
            "image/png": "[encoded data removed]"
          },
          "metadata": {
            "needs_background": "light"
          }
        }
      ],
      "source": [
        "plt.figure(figsize=(8,5))\n",
        "x_data, y_data = (df[\"Year\"].values, df[\"Value\"].values)\n",
        "plt.plot(x_data, y_data, 'ro')\n",
        "plt.ylabel('GDP')\n",
        "plt.xlabel('Year')\n",
        "plt.show()"
      ]
    },
    {
      "cell_type": "markdown",
      "metadata": {
        "id": "W-W5E8gMdA_z"
      },
      "source": [
        "### Choosing a model\n",
        "\n",
        "From an initial look at the plot, we determine that the logistic function could be a good approximation,\n",
        "since it has the property of starting with a slow growth, increasing growth in the middle, and then decreasing again at the end; as illustrated below:\n"
      ]
    },
    {
      "cell_type": "code",
      "execution_count": 10,
      "metadata": {
        "id": "95q1Ii8hdA_z",
        "outputId": "bd59f451-0643-4061-cd7f-fe2259e9ead7",
        "colab": {
          "base_uri": "https://localhost:8080/",
          "height": 279
        }
      },
      "outputs": [
        {
          "output_type": "display_data",
          "data": {
            "text/plain": [
              "<Figure size 432x288 with 1 Axes>"
            ],
            "image/png": "[encoded data removed]"
          },
          "metadata": {
            "needs_background": "light"
          }
        }
      ],
      "source": [
        "X = np.arange(-5.0, 5.0, 0.1)\n",
        "Y = 1.0 / (1.0 + np.exp(-X))\n",
        "\n",
        "plt.plot(X,Y) \n",
        "plt.ylabel('Dependent Variable')\n",
        "plt.xlabel('Independent Variable')\n",
        "plt.show()"
      ]
    },
    {
      "cell_type": "markdown",
      "metadata": {
        "id": "0119wVgOdA_z"
      },
      "source": [
        "The formula for the logistic function is the following:\n",
        "\n",
        "$$ \\hat{Y} = \\frac1{1+e^{-\\beta\\_1(X-\\beta\\_2)}}$$\n",
        "\n",
        "$\\beta\\_1$: Controls the curve's steepness,\n",
        "\n",
        "$\\beta\\_2$: Slides the curve on the x-axis.\n"
      ]
    },
    {
      "cell_type": "markdown",
      "metadata": {
        "id": "8H2SenAPdA_z"
      },
      "source": [
        "### Building The Model\n",
        "\n",
        "Now, let's build our regression model and initialize its parameters.\n"
      ]
    },
    {
      "cell_type": "code",
      "execution_count": 11,
      "metadata": {
        "id": "1RLOFy-jdA_0"
      },
      "outputs": [],
      "source": [
        "def sigmoid(x, Beta_1, Beta_2):\n",
        "     y = 1 / (1 + np.exp(-Beta_1*(x-Beta_2)))\n",
        "     return y"
      ]
    },
    {
      "cell_type": "markdown",
      "metadata": {
        "id": "FM8djNBidA_0"
      },
      "source": [
        "Lets look at a sample sigmoid line that might fit with the data:\n"
      ]
    },
    {
      "cell_type": "code",
      "execution_count": 12,
      "metadata": {
        "id": "XTF9p20NdA_0",
        "outputId": "5c201e24-95ca-47cb-9bf0-84ac9996ce3e",
        "colab": {
          "base_uri": "https://localhost:8080/",
          "height": 293
        }
      },
      "outputs": [
        {
          "output_type": "execute_result",
          "data": {
            "text/plain": [
              "[<matplotlib.lines.Line2D at 0x7f0476e37750>]"
            ]
          },
          "metadata": {},
          "execution_count": 12
        },
        {
          "output_type": "display_data",
          "data": {
            "text/plain": [
              "<Figure size 432x288 with 1 Axes>"
            ],
            "image/png": "[encoded data removed]"
          },
          "metadata": {
            "needs_background": "light"
          }
        }
      ],
      "source": [
        "beta_1 = 0.10\n",
        "beta_2 = 1990.0\n",
        "\n",
        "#logistic function\n",
        "Y_pred = sigmoid(x_data, beta_1 , beta_2)\n",
        "\n",
        "#plot initial prediction against datapoints\n",
        "plt.plot(x_data, Y_pred*15000000000000.)\n",
        "plt.plot(x_data, y_data, 'ro')"
      ]
    },
    {
      "cell_type": "markdown",
      "metadata": {
        "id": "zOlNTQe9dA_0"
      },
      "source": [
        "Our task here is to find the best parameters for our model. Lets first normalize our x and y:\n"
      ]
    },
    {
      "cell_type": "code",
      "execution_count": 13,
      "metadata": {
        "id": "ZKiWm27CdA_0"
      },
      "outputs": [],
      "source": [
        "# Lets normalize our data\n",
        "xdata =x_data/max(x_data)\n",
        "ydata =y_data/max(y_data)"
      ]
    },
    {
      "cell_type": "markdown",
      "metadata": {
        "id": "Kkhb9UVBdA_1"
      },
      "source": [
        "#### How we find the best parameters for our fit line?\n",
        "\n",
        "we can use **curve_fit** which uses non-linear least squares to fit our sigmoid function, to data. Optimize values for the parameters so that the sum of the squared residuals of sigmoid(xdata, \\*popt) - ydata is minimized.\n",
        "\n",
        "popt are our optimized parameters.\n"
      ]
    },
    {
      "cell_type": "code",
      "execution_count": 14,
      "metadata": {
        "id": "cmik_hEHdA_1",
        "outputId": "5b943762-2971-4190-be49-692ea0a16604",
        "colab": {
          "base_uri": "https://localhost:8080/"
        }
      },
      "outputs": [
        {
          "output_type": "stream",
          "name": "stdout",
          "text": [
            " beta_1 = 690.453019, beta_2 = 0.997207\n"
          ]
        }
      ],
      "source": [
        "from scipy.optimize import curve_fit\n",
        "popt, pcov = curve_fit(sigmoid, xdata, ydata)\n",
        "#print the final parameters\n",
        "print(\" beta_1 = %f, beta_2 = %f\" % (popt[0], popt[1]))"
      ]
    },
    {
      "cell_type": "markdown",
      "metadata": {
        "id": "TZdd5PXcdA_1"
      },
      "source": [
        "Now we plot our resulting regression model.\n"
      ]
    },
    {
      "cell_type": "code",
      "execution_count": 15,
      "metadata": {
        "id": "F5n5sBmxdA_1",
        "outputId": "816b1583-4d86-4165-d269-f9aa65be64e5",
        "colab": {
          "base_uri": "https://localhost:8080/",
          "height": 334
        }
      },
      "outputs": [
        {
          "output_type": "display_data",
          "data": {
            "text/plain": [
              "<Figure size 576x360 with 1 Axes>"
            ],
            "image/png": "[encoded data removed]"
          },
          "metadata": {
            "needs_background": "light"
          }
        }
      ],
      "source": [
        "x = np.linspace(1960, 2015, 55)\n",
        "x = x/max(x)\n",
        "plt.figure(figsize=(8,5))\n",
        "y = sigmoid(x, *popt)\n",
        "plt.plot(xdata, ydata, 'ro', label='data')\n",
        "plt.plot(x,y, linewidth=3.0, label='fit')\n",
        "plt.legend(loc='best')\n",
        "plt.ylabel('GDP')\n",
        "plt.xlabel('Year')\n",
        "plt.show()"
      ]
    },
    {
      "cell_type": "markdown",
      "metadata": {
        "id": "ZkWlEPqQdA_1"
      },
      "source": [
        "## Practice\n",
        "\n",
        "Can you calculate what is the accuracy of our model?\n"
      ]
    },
    {
      "cell_type": "code",
      "execution_count": 16,
      "metadata": {
        "id": "1T8EwFQQdA_1"
      },
      "outputs": [],
      "source": [
        "# write your code here\n",
        "\n",
        "\n"
      ]
    },
    {
      "cell_type": "markdown",
      "metadata": {
        "id": "bK9RtJjcdA_2"
      },
      "source": [
        "<details><summary>Click here for the solution</summary>\n",
        "\n",
        "```python\n",
        "# split data into train/test\n",
        "msk = np.random.rand(len(df)) < 0.8\n",
        "train_x = xdata[msk]\n",
        "test_x = xdata[~msk]\n",
        "train_y = ydata[msk]\n",
        "test_y = ydata[~msk]\n",
        "\n",
        "# build the model using train set\n",
        "popt, pcov = curve_fit(sigmoid, train_x, train_y)\n",
        "\n",
        "# predict using test set\n",
        "y_hat = sigmoid(test_x, *popt)\n",
        "\n",
        "# evaluation\n",
        "print(\"Mean absolute error: %.2f\" % np.mean(np.absolute(y_hat - test_y)))\n",
        "print(\"Residual sum of squares (MSE): %.2f\" % np.mean((y_hat - test_y) ** 2))\n",
        "from sklearn.metrics import r2_score\n",
        "print(\"R2-score: %.2f\" % r2_score(test_y,y_hat) )\n",
        "\n",
        "```\n",
        "\n",
        "</details>\n"
      ]
    },
    {
      "cell_type": "markdown",
      "metadata": {
        "id": "TY_XAsFFdA_2"
      },
      "source": [
        "<h2>Want to learn more?</h2>\n",
        "\n",
        "IBM SPSS Modeler is a comprehensive analytics platform that has many machine learning algorithms. It has been designed to bring predictive intelligence to decisions made by individuals, by groups, by systems – by your enterprise as a whole. A free trial is available through this course, available here: <a href=\"https://www.ibm.com/analytics/spss-statistics-software?utm_medium=Exinfluencer&utm_source=Exinfluencer&utm_content=000026UJ&utm_term=10006555&utm_id=NA-SkillsNetwork-Channel-SkillsNetworkCoursesIBMDeveloperSkillsNetworkML0101ENSkillsNetwork20718538-2022-01-01\">SPSS Modeler</a>\n",
        "\n",
        "Also, you can use Watson Studio to run these notebooks faster with bigger datasets. Watson Studio is IBM's leading cloud solution for data scientists, built by data scientists. With Jupyter notebooks, RStudio, Apache Spark and popular libraries pre-packaged in the cloud, Watson Studio enables data scientists to collaborate on their projects without having to install anything. Join the fast-growing community of Watson Studio users today with a free account at <a href=\"https://www.ibm.com/cloud/watson-studio?utm_medium=Exinfluencer&utm_source=Exinfluencer&utm_content=000026UJ&utm_term=10006555&utm_id=NA-SkillsNetwork-Channel-SkillsNetworkCoursesIBMDeveloperSkillsNetworkML0101ENSkillsNetwork20718538-2022-01-01\">Watson Studio</a>\n"
      ]
    },
    {
      "cell_type": "markdown",
      "metadata": {
        "id": "51bbWbz3dA_2"
      },
      "source": [
        "### Thank you for completing this lab!\n",
        "\n",
        "## Author\n",
        "\n",
        "Saeed Aghabozorgi\n",
        "\n",
        "### Other Contributors\n",
        "\n",
        "<a href=\"https://www.linkedin.com/in/joseph-s-50398b136/?utm_medium=Exinfluencer&utm_source=Exinfluencer&utm_content=000026UJ&utm_term=10006555&utm_id=NA-SkillsNetwork-Channel-SkillsNetworkCoursesIBMDeveloperSkillsNetworkML0101ENSkillsNetwork20718538-2022-01-01\" target=\"_blank\">Joseph Santarcangelo</a>\n",
        "\n",
        "## Change Log\n",
        "\n",
        "| Date (YYYY-MM-DD) | Version | Changed By | Change Description                 |\n",
        "| ----------------- | ------- | ---------- | ---------------------------------- |\n",
        "| 2020-11-03        | 2.1     | Lakshmi    | Made changes in URL                |\n",
        "| 2020-08-27        | 2.0     | Lavanya    | Moved lab to course repo in GitLab |\n",
        "|                   |         |            |                                    |\n",
        "|                   |         |            |                                    |\n",
        "\n",
        "## <h3 align=\"center\"> © IBM Corporation 2020. All rights reserved. <h3/>\n"
      ]
    }
  ],
  "metadata": {
    "kernelspec": {
      "display_name": "Python 3 (ipykernel)",
      "language": "python",
      "name": "python3"
    },
    "language_info": {
      "codemirror_mode": {
        "name": "ipython",
        "version": 3
      },
      "file_extension": ".py",
      "mimetype": "text/x-python",
      "name": "python",
      "nbconvert_exporter": "python",
      "pygments_lexer": "ipython3",
      "version": "3.9.7"
    },
    "colab": {
      "name": "Reg-NoneLinearRegression.ipynb",
      "provenance": [],
      "include_colab_link": true
    }
  },
  "nbformat": 4,
  "nbformat_minor": 0
}