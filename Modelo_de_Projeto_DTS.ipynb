{
  "nbformat": 4,
  "nbformat_minor": 0,
  "metadata": {
    "colab": {
      "name": "Modelo de Projeto DTS.ipynb",
      "provenance": [],
      "authorship_tag": "ABX9TyNXY7GO+h6LCjwOLAuICfFv",
      "include_colab_link": true
    },
    "kernelspec": {
      "name": "python3",
      "display_name": "Python 3"
    },
    "language_info": {
      "name": "python"
    }
  },
  "cells": [
    {
      "cell_type": "markdown",
      "metadata": {
        "id": "view-in-github",
        "colab_type": "text"
      },
      "source": [
        "<a href=\"https://colab.research.google.com/github/OseiasBeu/Data-Science/blob/master/Modelo_de_Projeto_DTS.ipynb\" target=\"_parent\"><img src=\"https://colab.research.google.com/assets/colab-badge.svg\" alt=\"Open In Colab\"/></a>"
      ]
    },
    {
      "cell_type": "markdown",
      "source": [
        "# 5 Passos para implementação de um projeto de Data Science"
      ],
      "metadata": {
        "id": "0ZDN1Rkqim3Z"
      }
    },
    {
      "cell_type": "markdown",
      "source": [
        "## 1º Entendendo o problema e pensar em sugestões de possíveis soluções"
      ],
      "metadata": {
        "id": "9nvCDeOwi2g5"
      }
    },
    {
      "cell_type": "markdown",
      "source": [
        "* Olhar o todo e delimitar o escopo do projeto\n",
        "* Como a solução vai ser usada?\n",
        "* Quais são as soluções já existentes?\n",
        "* Qual abordagem usar?\n",
        "    * Aprendizado Supervisionado\n",
        "    * Aprendizado Não Supervisionado\n",
        "    * Aprendizado Por Reforço\n",
        "* Qual é a métrica de performance?\n",
        "* Qual a performance mínima esperada para atingir o objetivo?\n",
        "* Liste as premissas básicas do projeto"
      ],
      "metadata": {
        "id": "QLl5pgebkSAi"
      }
    },
    {
      "cell_type": "markdown",
      "source": [
        "## 2º ETL"
      ],
      "metadata": {
        "id": "y59gKh0bjC2_"
      }
    },
    {
      "cell_type": "markdown",
      "source": [
        "* Criar uma cópia dos dados para a exploração\n",
        "* Criar um Jupyter Notebook para documentar a exploração\n",
        "* Estudar cada atributo e suas características:\n",
        "    * Nome\n",
        "    * Tipo\n",
        "        * Categórica\n",
        "        * Numérica\n",
        "            * int\n",
        "            * float\n",
        "        * Estruturada\n",
        "        * Não Estruturada\n",
        "        * etc\n",
        "    * % de valores ausentes\n",
        "    * Ruído nos dados e tipo de ruído (outliers, estocásticos, erros de arredondamento)\n",
        "    * Tipo de distribuição\n",
        "        * Gaussiana\n",
        "        * Uniforme\n",
        "        * Logarítmica\n",
        "        * etc\n",
        "* Identificar a variável alvo (target)\n",
        "* Visualizar os dados\n",
        "* Estudar a correlação entre os dados\n",
        "* Identificar as transformações que podem ser aplicadas\n",
        "* Identificar os dados extras que podem ser úteis"
      ],
      "metadata": {
        "id": "BUrEYgvtkV1u"
      }
    },
    {
      "cell_type": "markdown",
      "source": [
        "## 3º Analise e interpretação dos dados"
      ],
      "metadata": {
        "id": "D_BNe1wCjHl2"
      }
    },
    {
      "cell_type": "markdown",
      "source": [
        "* Trabalhar em cópias dos dados\n",
        "* Escrever funções para todas as transformações\n",
        "\n",
        "\n",
        "### 1. Limpeza dos Dados\n",
        "    - Consertar ou remover outliers\n",
        "    - Preencher os valores faltantes ou eliminar as linhas/colunas\n",
        "        * Zero\n",
        "        * Média\n",
        "        * Mediana\n",
        "        * etc\n",
        "### 2. Seleção de atributos\n",
        "    - Eliminar os atributos (*features*) que não contêm informações úteis\n",
        "\n",
        "### 3. *Feature Engineering*\n",
        "    - Discretizar variáveis contínuas\n",
        "    - Decompor *features* (categóricas, data, tempo)\n",
        "    - Aplicar transformações às variáveis\n",
        "    - Agregar *features* para gerar novas\n",
        "    \n",
        "### 4. *Feature Scaling*\n",
        "    - Normalizar ou padronizar *features*"
      ],
      "metadata": {
        "id": "wIrWXmu8kmlt"
      }
    },
    {
      "cell_type": "markdown",
      "source": [
        "## 4º Exposição dos resultados "
      ],
      "metadata": {
        "id": "ATwxMOjYjNFf"
      }
    },
    {
      "cell_type": "markdown",
      "source": [
        "* Documentar todos as etapas\n",
        "* Tornar todos os passos replicáveis (download de arquivos, uso da API do Kaggle)\n",
        "* Escrever o Storytelling (Decisores e Diretores provavelmente desconhecem a parte técnica)\n",
        "* Ver qual o melhor gráfico para contar cada *insight* descoberto\n",
        "* Escrever testes unitários\n",
        "* Criar rotinas de monitoramento e alertas\n",
        "* Determinar quando atualizar o modelo"
      ],
      "metadata": {
        "id": "VNhKDPWilDJi"
      }
    },
    {
      "cell_type": "markdown",
      "source": [
        "## 5º Implementação"
      ],
      "metadata": {
        "id": "QPVxsOb2jUSP"
      }
    },
    {
      "cell_type": "markdown",
      "source": [
        "* Automatizar o maior número de passos possíveis\n",
        "* Treinar mais de um modelo e comparar as performances\n",
        "* Analisar as variáveis mais significativas para cada algoritmo\n",
        "* *Fine-Tune* dos *hyperparameters*\n",
        "* Uso de *cross-validation*\n",
        "* Verificar o desempenho dos métodos *Ensemble*, combinando os modelos que tiveram os melhores desempenhos individuais\n",
        "* Testar o desempenho do mesmo com o *dataset* de teste."
      ],
      "metadata": {
        "id": "eXrLTSLWlROR"
      }
    },
    {
      "cell_type": "markdown",
      "source": [
        ""
      ],
      "metadata": {
        "id": "cuVNx3Llm5nX"
      }
    },
    {
      "cell_type": "markdown",
      "source": [
        "# 3 Camadas de desenvolvimento "
      ],
      "metadata": {
        "id": "TBGcdAHPnGe7"
      }
    },
    {
      "cell_type": "markdown",
      "source": [
        "## 1 º EDA"
      ],
      "metadata": {
        "id": "GJeV2WUPnJs3"
      }
    },
    {
      "cell_type": "markdown",
      "source": [
        "**Exploratory Data Analysis** é a fase em que estamos tratando de entender o problema apresentado. De forma bem resumida, definimos fontes de dados, avaliamos todos os dados que temos e sua relação com a tarefa, construímos features e definimos um pipeline de dados. \n",
        "\n",
        "objetivo: 1 - identificar o problema;\n",
        "\n",
        "objetivo: 2 — montar o pipeline de dados para preparar a base de dados para treino, teste, validação e payload de predição do sistema final."
      ],
      "metadata": {
        "id": "weQI1NiSnQUL"
      }
    },
    {
      "cell_type": "markdown",
      "source": [
        "## 2º PoC"
      ],
      "metadata": {
        "id": "IH_xmpIan8wS"
      }
    },
    {
      "cell_type": "markdown",
      "source": [
        "**Proof of Concept** é tentar demonstrar que conseguimos de alguma forma fornecer a modelagem requerida para sanar o problema, com um erro aceitável. Esta tarefa, por ser muito exploratória, testa diversos modelos, diversas formas de pré-processamento e inúmeras variabilidades.\n",
        "\n",
        "Nesse fluxo de trabalho nem todos os projetos podem/devem chegar na etapa de desenvolvimento. O projeto pode chegar ao final da PoC e concluirmos que, por exemplo, não conseguimos resolver o problema de forma aceitável. Nesse caso, o projeto seria cancelado, tentaremos extrair insights/aprendizados e formalizar uma retrospectiva do projeto para entender se podemos refatorar o projeto de alguma forma ou seguir adiante."
      ],
      "metadata": {
        "id": "BCO1hUOYn_hV"
      }
    },
    {
      "cell_type": "markdown",
      "source": [
        "## 3º Dev"
      ],
      "metadata": {
        "id": "RWVeiH6eoccp"
      }
    },
    {
      "cell_type": "markdown",
      "source": [
        "No caso de obtermos sucesso na etapa de PoC entraremos na etapa de **desenvolvimento** e integração do modelo de aprendizado de máquina com a equipe stakeholder ou algum sistema. É aqui onde recriamos toda a estrutura de diretórios do nosso projeto."
      ],
      "metadata": {
        "id": "7KGSDXdEofgR"
      }
    },
    {
      "cell_type": "code",
      "source": [
        ""
      ],
      "metadata": {
        "id": "74a3M4CTnI8D"
      },
      "execution_count": null,
      "outputs": []
    },
    {
      "cell_type": "markdown",
      "source": [
        "# Boas práticas de desenvolvimento:"
      ],
      "metadata": {
        "id": "LIrSmYFkuGpL"
      }
    },
    {
      "cell_type": "markdown",
      "source": [
        "## A. Criando um notebook limpo Nomenclatura e localização do documento"
      ],
      "metadata": {
        "id": "R_9P_hF6uLGU"
      }
    },
    {
      "cell_type": "markdown",
      "source": [
        "Sempre crie um diretório para trabalhar em um projeto com um nome que deixe claro sobre o que será aquele projeto, bem como os arquivos dentro do projeto, como por exemplo:\n",
        "\n",
        "\n",
        "```\n",
        "diretorio_com_projeto/\n",
        "  datasets/\n",
        "    dataset.csv\n",
        "    ...\n",
        "  tests/\n",
        "    tests.py\n",
        "    ..\n",
        "  logs/\n",
        "    file.log\n",
        "  secrets/\n",
        "    tokens.json\n",
        "    credencials.json\n",
        "    ..\n",
        "  \n",
        "  main_app/\n",
        "    EDA_NOME_DO_PROJETO.ipynb\n",
        "    POC_NOME_DO_PROJETO.ipynb\n",
        "    DEV_NOME_DO_PROJETO.ipynb\n",
        "    train.ipynb\n",
        "    serve.ipynb\n",
        "    ...\n",
        "    services/\n",
        "      ...\n",
        "  ml/\n",
        "    querys.sql\n",
        "\n",
        "  \n",
        "  setup.py\n",
        "  README.md\n",
        "  checklist_dev.md\n",
        "  requirements.txt\n",
        "  .gitignore\n",
        "```\n",
        "\n",
        "\n",
        "\n"
      ],
      "metadata": {
        "id": "IfqfZaWjua_k"
      }
    },
    {
      "cell_type": "markdown",
      "source": [
        "## B. Contextualização"
      ],
      "metadata": {
        "id": "_H4bjNqKyN4g"
      }
    },
    {
      "cell_type": "markdown",
      "source": [
        "Nesse passo é descrevemos nossos objetivos, ou melhor, aqui busco resolver perguntas com base no projeto, algo como:\n",
        "\n",
        "* Do que se trata o dataset que será utilizado?\n",
        "* Qual é o significado de cada coluna deste dataset?\n",
        "* Quais tipos de problemas que tentaremos resolver? Classificação, regressão ou  ranqueamento, etc ?\n",
        "* Quais modelos vamos testar?\n",
        "* Como serão testados?\n",
        "* Quais métricas usaremos para escolher o melhor modelo?\n",
        "\n",
        "OBS.: Quanto mais perguntas forem feitas, melhor será o entendimento do problema e mais preciso serão nossos insights sobre o modelo a ser criado e seus resultados. Com as perguntas organizadas, podemos respondê-las no início do notebook."
      ],
      "metadata": {
        "id": "flNCCwhrw_8I"
      }
    },
    {
      "cell_type": "markdown",
      "source": [
        "## C. Configuração de ambiente"
      ],
      "metadata": {
        "id": "ZLKDnROpzDxu"
      }
    },
    {
      "cell_type": "markdown",
      "source": [
        "Após a contextualização do problema (descritiva do propósito do notebook), podemos colocar os principais imports de bibliotecas e configurações na primeira célula de código, pois fica claro como o ambiente foi configurado. Por exemplo, nesta célula podemos colocar a semente dos valores aleatórios ou também desabilitar warnings (se eles forem realmente desnecessários)."
      ],
      "metadata": {
        "id": "TtniUf4qzCVn"
      }
    },
    {
      "cell_type": "markdown",
      "source": [
        "## D. Modelagem e testes"
      ],
      "metadata": {
        "id": "L7apXji5zh7j"
      }
    },
    {
      "cell_type": "markdown",
      "source": [
        "Depois de deixar claro o propósito deste notebook e também configurar o ambiente, iniciamos a modelagem e também os testes.\n",
        "\n",
        "OBS.:Durante esse processo é onde surgirão insights sobre os resultados, outros modelos e métricas. Não deixe de registrar cada uma dessas coisas,no próprio notebook! Além disso, coloque todas as métricas que utilizou de forma padronizada. Assim você, sua equipe e/ou o cliente já saberá por onde começar a comparar."
      ],
      "metadata": {
        "id": "xWByARthza_o"
      }
    },
    {
      "cell_type": "markdown",
      "source": [
        "Caso esteja utilizando Python, utilizar as seguintes bibliotecas para logging, test e Documentation:\n",
        "logging\n",
        "pydoc\n",
        "pytest\n",
        "unittest\n"
      ],
      "metadata": {
        "id": "jjWP2jLs03jS"
      }
    },
    {
      "cell_type": "markdown",
      "source": [
        "## E. Conclusões"
      ],
      "metadata": {
        "id": "5HWDcZyd0RKO"
      }
    },
    {
      "cell_type": "markdown",
      "source": [
        "Para finalizar a documentação, coloque uma sessão como “Considerações finais” ou “Conclusões”, trazendo os resultados finais do estudo -qual foi o melhor modelo e o porquê dele ser o melhor. Busque a clareza e a objetividade!\n",
        "Com isso, revise os seus feitos (como se estivesse finalizando uma prova ou uma redação) para não deixar nada passar."
      ],
      "metadata": {
        "id": "QyEgbKE_0PNz"
      }
    }
  ]
}