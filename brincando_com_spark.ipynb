{
  "nbformat": 4,
  "nbformat_minor": 0,
  "metadata": {
    "colab": {
      "name": "brincando com spark.ipynb",
      "provenance": [],
      "include_colab_link": true
    },
    "kernelspec": {
      "name": "python3",
      "display_name": "Python 3"
    }
  },
  "cells": [
    {
      "cell_type": "markdown",
      "metadata": {
        "id": "view-in-github",
        "colab_type": "text"
      },
      "source": [
        "<a href=\"https://colab.research.google.com/github/OseiasBeu/Data-Science/blob/master/brincando_com_spark.ipynb\" target=\"_parent\"><img src=\"https://colab.research.google.com/assets/colab-badge.svg\" alt=\"Open In Colab\"/></a>"
      ]
    },
    {
      "cell_type": "code",
      "metadata": {
        "id": "Oz_8sWI7PKEl"
      },
      "source": [
        "# instalar as dependências\n",
        "!apt-get install openjdk-8-jdk-headless -qq > /dev/null\n",
        "!wget -q https://archive.apache.org/dist/spark/spark-2.4.4/spark-2.4.4-bin-hadoop2.7.tgz\n",
        "!tar xf spark-2.4.4-bin-hadoop2.7.tgz\n",
        "!pip install -q findspark"
      ],
      "execution_count": 1,
      "outputs": []
    },
    {
      "cell_type": "code",
      "metadata": {
        "id": "RkpG11RQPbRf"
      },
      "source": [
        "# configurar as variáveis de ambiente\n",
        "import os\n",
        "os.environ[\"JAVA_HOME\"] = \"/usr/lib/jvm/java-8-openjdk-amd64\"\n",
        "os.environ[\"SPARK_HOME\"] = \"/content/spark-2.4.4-bin-hadoop2.7\"\n",
        "\n",
        "# tornar o pyspark \"importável\"\n",
        "import findspark\n",
        "findspark.init('spark-2.4.4-bin-hadoop2.7')"
      ],
      "execution_count": 2,
      "outputs": []
    },
    {
      "cell_type": "code",
      "metadata": {
        "colab": {
          "base_uri": "https://localhost:8080/"
        },
        "id": "5n7ztXiwUuJL",
        "outputId": "07805ad0-c5d8-4bc0-af8d-39dfb1e57c42"
      },
      "source": [
        "# Efetuando o dowload da base\n",
        "!wget --show-progress https://raw.githubusercontent.com/OseiasBeu/Data-Science/master/DataSets/gamesSales.csv\n",
        "!wget --show-progress https://raw.githubusercontent.com/OseiasBeu/Data-Science/master/DataSets/suicide_rates.csv"
      ],
      "execution_count": 39,
      "outputs": [
        {
          "output_type": "stream",
          "name": "stdout",
          "text": [
            "--2021-11-15 21:21:08--  https://raw.githubusercontent.com/OseiasBeu/Data-Science/master/DataSets/gamesSales.csv\n",
            "Resolving raw.githubusercontent.com (raw.githubusercontent.com)... 185.199.108.133, 185.199.109.133, 185.199.110.133, ...\n",
            "Connecting to raw.githubusercontent.com (raw.githubusercontent.com)|185.199.108.133|:443... connected.\n",
            "HTTP request sent, awaiting response... 200 OK\n",
            "Length: 1355781 (1.3M) [text/plain]\n",
            "Saving to: ‘gamesSales.csv’\n",
            "\n",
            "gamesSales.csv      100%[===================>]   1.29M  --.-KB/s    in 0.03s   \n",
            "\n",
            "2021-11-15 21:21:09 (40.6 MB/s) - ‘gamesSales.csv’ saved [1355781/1355781]\n",
            "\n",
            "--2021-11-15 21:21:09--  https://raw.githubusercontent.com/OseiasBeu/Data-Science/master/DataSets/suicide_rates.csv\n",
            "Resolving raw.githubusercontent.com (raw.githubusercontent.com)... 185.199.108.133, 185.199.109.133, 185.199.110.133, ...\n",
            "Connecting to raw.githubusercontent.com (raw.githubusercontent.com)|185.199.108.133|:443... connected.\n",
            "HTTP request sent, awaiting response... 200 OK\n",
            "Length: 2706377 (2.6M) [text/plain]\n",
            "Saving to: ‘suicide_rates.csv.2’\n",
            "\n",
            "suicide_rates.csv.2 100%[===================>]   2.58M  --.-KB/s    in 0.04s   \n",
            "\n",
            "2021-11-15 21:21:09 (59.6 MB/s) - ‘suicide_rates.csv.2’ saved [2706377/2706377]\n",
            "\n"
          ]
        }
      ]
    },
    {
      "cell_type": "code",
      "metadata": {
        "id": "gpJqWggpPKXO",
        "colab": {
          "base_uri": "https://localhost:8080/"
        },
        "outputId": "7f8837b3-9b8b-43fd-e640-f8ddb41ab347"
      },
      "source": [
        "# iniciar uma sessão local e importar dados do Airbnb\n",
        "from pyspark.sql import SparkSession\n",
        "spark = SparkSession.builder.master('local[*]').getOrCreate()\n",
        "gameSales = spark.read.load('/content/gamesSales.csv',format='csv',inferSchema=True,header=True, sep=',')\n",
        "gameSales.show()"
      ],
      "execution_count": 42,
      "outputs": [
        {
          "output_type": "stream",
          "name": "stdout",
          "text": [
            "+----+--------------------+--------+----+------------+--------------------+--------+--------+--------+-----------+------------+\n",
            "|Rank|                Name|Platform|Year|       Genre|           Publisher|NA_Sales|EU_Sales|JP_Sales|Other_Sales|Global_Sales|\n",
            "+----+--------------------+--------+----+------------+--------------------+--------+--------+--------+-----------+------------+\n",
            "|   1|          Wii Sports|     Wii|2006|      Sports|            Nintendo|   41.49|   29.02|    3.77|       8.46|       82.74|\n",
            "|   2|   Super Mario Bros.|     NES|1985|    Platform|            Nintendo|   29.08|    3.58|    6.81|       0.77|       40.24|\n",
            "|   3|      Mario Kart Wii|     Wii|2008|      Racing|            Nintendo|   15.85|   12.88|    3.79|       3.31|       35.82|\n",
            "|   4|   Wii Sports Resort|     Wii|2009|      Sports|            Nintendo|   15.75|   11.01|    3.28|       2.96|        33.0|\n",
            "|   5|Pokemon Red/Pokem...|      GB|1996|Role-Playing|            Nintendo|   11.27|    8.89|   10.22|        1.0|       31.37|\n",
            "|   6|              Tetris|      GB|1989|      Puzzle|            Nintendo|    23.2|    2.26|    4.22|       0.58|       30.26|\n",
            "|   7|New Super Mario B...|      DS|2006|    Platform|            Nintendo|   11.38|    9.23|     6.5|        2.9|       30.01|\n",
            "|   8|            Wii Play|     Wii|2006|        Misc|            Nintendo|   14.03|     9.2|    2.93|       2.85|       29.02|\n",
            "|   9|New Super Mario B...|     Wii|2009|    Platform|            Nintendo|   14.59|    7.06|     4.7|       2.26|       28.62|\n",
            "|  10|           Duck Hunt|     NES|1984|     Shooter|            Nintendo|   26.93|    0.63|    0.28|       0.47|       28.31|\n",
            "|  11|          Nintendogs|      DS|2005|  Simulation|            Nintendo|    9.07|    11.0|    1.93|       2.75|       24.76|\n",
            "|  12|       Mario Kart DS|      DS|2005|      Racing|            Nintendo|    9.81|    7.57|    4.13|       1.92|       23.42|\n",
            "|  13|Pokemon Gold/Poke...|      GB|1999|Role-Playing|            Nintendo|     9.0|    6.18|     7.2|       0.71|        23.1|\n",
            "|  14|             Wii Fit|     Wii|2007|      Sports|            Nintendo|    8.94|    8.03|     3.6|       2.15|       22.72|\n",
            "|  15|        Wii Fit Plus|     Wii|2009|      Sports|            Nintendo|    9.09|    8.59|    2.53|       1.79|        22.0|\n",
            "|  16|  Kinect Adventures!|    X360|2010|        Misc|Microsoft Game St...|   14.97|    4.94|    0.24|       1.67|       21.82|\n",
            "|  17|  Grand Theft Auto V|     PS3|2013|      Action|Take-Two Interactive|    7.01|    9.27|    0.97|       4.14|        21.4|\n",
            "|  18|Grand Theft Auto:...|     PS2|2004|      Action|Take-Two Interactive|    9.43|     0.4|    0.41|      10.57|       20.81|\n",
            "|  19|   Super Mario World|    SNES|1990|    Platform|            Nintendo|   12.78|    3.75|    3.54|       0.55|       20.61|\n",
            "|  20|Brain Age: Train ...|      DS|2005|        Misc|            Nintendo|    4.75|    9.26|    4.16|       2.05|       20.22|\n",
            "+----+--------------------+--------+----+------------+--------------------+--------+--------+--------+-----------+------------+\n",
            "only showing top 20 rows\n",
            "\n"
          ]
        }
      ]
    },
    {
      "cell_type": "markdown",
      "metadata": {
        "id": "hKz-WDB4VAZF"
      },
      "source": [
        "Verificando o schema inferido pelo spark"
      ]
    },
    {
      "cell_type": "code",
      "metadata": {
        "colab": {
          "base_uri": "https://localhost:8080/"
        },
        "id": "RSh-mjNzT9_q",
        "outputId": "8ae434cc-356d-4037-c672-842f97e32a85"
      },
      "source": [
        "gameSales.printSchema()"
      ],
      "execution_count": 43,
      "outputs": [
        {
          "output_type": "stream",
          "name": "stdout",
          "text": [
            "root\n",
            " |-- Rank: integer (nullable = true)\n",
            " |-- Name: string (nullable = true)\n",
            " |-- Platform: string (nullable = true)\n",
            " |-- Year: string (nullable = true)\n",
            " |-- Genre: string (nullable = true)\n",
            " |-- Publisher: string (nullable = true)\n",
            " |-- NA_Sales: double (nullable = true)\n",
            " |-- EU_Sales: double (nullable = true)\n",
            " |-- JP_Sales: double (nullable = true)\n",
            " |-- Other_Sales: double (nullable = true)\n",
            " |-- Global_Sales: double (nullable = true)\n",
            "\n"
          ]
        }
      ]
    },
    {
      "cell_type": "markdown",
      "metadata": {
        "id": "Rk2dAtu7jYvM"
      },
      "source": [
        "Convertendo coluna Year para integer"
      ]
    },
    {
      "cell_type": "code",
      "metadata": {
        "colab": {
          "base_uri": "https://localhost:8080/"
        },
        "id": "W80VIqeljm-7",
        "outputId": "a541a610-1385-46f8-b76b-92470a4786b1"
      },
      "source": [
        "from pyspark.sql.types import IntegerType\n",
        "gameSales = gameSales.withColumn('Year',gameSales['Year'].cast(IntegerType()))\n",
        "gameSales.printSchema()"
      ],
      "execution_count": 66,
      "outputs": [
        {
          "output_type": "stream",
          "name": "stdout",
          "text": [
            "root\n",
            " |-- Rank: integer (nullable = true)\n",
            " |-- Name: string (nullable = true)\n",
            " |-- Platform: string (nullable = true)\n",
            " |-- Year: integer (nullable = true)\n",
            " |-- Genre: string (nullable = true)\n",
            " |-- Publisher: string (nullable = true)\n",
            " |-- NA_Sales: double (nullable = true)\n",
            " |-- EU_Sales: double (nullable = true)\n",
            " |-- JP_Sales: double (nullable = true)\n",
            " |-- Other_Sales: double (nullable = true)\n",
            " |-- Global_Sales: double (nullable = true)\n",
            "\n"
          ]
        }
      ]
    },
    {
      "cell_type": "code",
      "metadata": {
        "colab": {
          "base_uri": "https://localhost:8080/"
        },
        "id": "k66q8ZsUVfzO",
        "outputId": "d85f1144-4204-4110-8215-f9a589ecf5fb"
      },
      "source": [
        "suicides = spark.read.load('/content/suicide_rates.csv',inferSchema=True, header=True,format='csv',sep=',')\n",
        "suicides.columns"
      ],
      "execution_count": 24,
      "outputs": [
        {
          "output_type": "execute_result",
          "data": {
            "text/plain": [
              "['country',\n",
              " 'year',\n",
              " 'sex',\n",
              " 'age',\n",
              " 'suicides_no',\n",
              " 'population',\n",
              " 'suicides/100k pop',\n",
              " 'country-year',\n",
              " 'HDI for year',\n",
              " ' gdp_for_year ($) ',\n",
              " 'gdp_per_capita ($)',\n",
              " 'generation']"
            ]
          },
          "metadata": {},
          "execution_count": 24
        }
      ]
    },
    {
      "cell_type": "code",
      "metadata": {
        "colab": {
          "base_uri": "https://localhost:8080/"
        },
        "id": "NrYH8SdzW4yT",
        "outputId": "7ecd2831-7b62-494a-f313-4244ea7267a1"
      },
      "source": [
        "suicides.printSchema()"
      ],
      "execution_count": 21,
      "outputs": [
        {
          "output_type": "stream",
          "name": "stdout",
          "text": [
            "root\n",
            " |-- country: string (nullable = true)\n",
            " |-- year: integer (nullable = true)\n",
            " |-- sex: string (nullable = true)\n",
            " |-- age: string (nullable = true)\n",
            " |-- suicides_no: integer (nullable = true)\n",
            " |-- population: integer (nullable = true)\n",
            " |-- suicides/100k pop: double (nullable = true)\n",
            " |-- country-year: string (nullable = true)\n",
            " |-- HDI for year: double (nullable = true)\n",
            " |--  gdp_for_year ($) : string (nullable = true)\n",
            " |-- gdp_per_capita ($): integer (nullable = true)\n",
            " |-- generation: string (nullable = true)\n",
            "\n"
          ]
        }
      ]
    },
    {
      "cell_type": "markdown",
      "metadata": {
        "id": "4M3Nk3uoZVeZ"
      },
      "source": [
        "Removendo a coluna country-year por ela não ter necessidade"
      ]
    },
    {
      "cell_type": "code",
      "metadata": {
        "colab": {
          "base_uri": "https://localhost:8080/"
        },
        "id": "0ugJxF1gXJfs",
        "outputId": "5be7e88d-c608-432e-f44d-733056d13e02"
      },
      "source": [
        "suicides_columns = suicides.select('country', 'year', 'sex', 'age', 'suicides_no', 'population', 'suicides/100k pop', 'HDI for year', ' gdp_for_year ($) ', 'gdp_per_capita ($)', 'generation')\n",
        "suicides_columns.show(5)"
      ],
      "execution_count": 25,
      "outputs": [
        {
          "output_type": "stream",
          "name": "stdout",
          "text": [
            "+-------+----+------+-----------+-----------+----------+-----------------+------------+------------------+------------------+---------------+\n",
            "|country|year|   sex|        age|suicides_no|population|suicides/100k pop|HDI for year| gdp_for_year ($) |gdp_per_capita ($)|     generation|\n",
            "+-------+----+------+-----------+-----------+----------+-----------------+------------+------------------+------------------+---------------+\n",
            "|Albania|1987|  male|15-24 years|         21|    312900|             6.71|        null|     2,156,624,900|               796|   Generation X|\n",
            "|Albania|1987|  male|35-54 years|         16|    308000|             5.19|        null|     2,156,624,900|               796|         Silent|\n",
            "|Albania|1987|female|15-24 years|         14|    289700|             4.83|        null|     2,156,624,900|               796|   Generation X|\n",
            "|Albania|1987|  male|  75+ years|          1|     21800|             4.59|        null|     2,156,624,900|               796|G.I. Generation|\n",
            "|Albania|1987|  male|25-34 years|          9|    274300|             3.28|        null|     2,156,624,900|               796|        Boomers|\n",
            "+-------+----+------+-----------+-----------+----------+-----------------+------------+------------------+------------------+---------------+\n",
            "only showing top 5 rows\n",
            "\n"
          ]
        }
      ]
    },
    {
      "cell_type": "code",
      "metadata": {
        "colab": {
          "base_uri": "https://localhost:8080/"
        },
        "id": "4RuOjM7jZAA2",
        "outputId": "6db2780c-ca7b-48f5-c7f2-533c8822bdd1"
      },
      "source": [
        "suicides2015 = suicides_columns.filter(suicides_columns['year']==2015)\n",
        "suicides2017.show(5) "
      ],
      "execution_count": 35,
      "outputs": [
        {
          "output_type": "stream",
          "name": "stdout",
          "text": [
            "+-------------------+----+------+-----------+-----------+----------+-----------------+------------+------------------+------------------+------------+\n",
            "|            country|year|   sex|        age|suicides_no|population|suicides/100k pop|HDI for year| gdp_for_year ($) |gdp_per_capita ($)|  generation|\n",
            "+-------------------+----+------+-----------+-----------+----------+-----------------+------------+------------------+------------------+------------+\n",
            "|Antigua and Barbuda|2015|female|55-74 years|          1|      6403|            15.62|        null|     1,364,863,037|             14853|     Boomers|\n",
            "|Antigua and Barbuda|2015|female|15-24 years|          0|      8561|              0.0|        null|     1,364,863,037|             14853|  Millenials|\n",
            "|Antigua and Barbuda|2015|female|25-34 years|          0|      7740|              0.0|        null|     1,364,863,037|             14853|  Millenials|\n",
            "|Antigua and Barbuda|2015|female|35-54 years|          0|     15323|              0.0|        null|     1,364,863,037|             14853|Generation X|\n",
            "|Antigua and Barbuda|2015|female| 5-14 years|          0|      8239|              0.0|        null|     1,364,863,037|             14853|Generation Z|\n",
            "+-------------------+----+------+-----------+-----------+----------+-----------------+------------+------------------+------------------+------------+\n",
            "only showing top 5 rows\n",
            "\n"
          ]
        }
      ]
    },
    {
      "cell_type": "markdown",
      "metadata": {
        "id": "Rmvgqp_ee4hV"
      },
      "source": [
        "Capturando os anos maximos e minimos dos datasets:"
      ]
    },
    {
      "cell_type": "code",
      "metadata": {
        "id": "Xq2Z9oPQaXjx"
      },
      "source": [
        "max_suicides = suicides.agg({\"year\":\"max\"}).collect()[0]\n",
        "min_suicides = suicides.agg({'year':'min'}).collect()[0]\n",
        "max_salesGames = gameSales.agg({'Year':'max'}).collect()[0]\n",
        "min_salesGames = gameSales.agg({'Year':'min'}).collect()[0]"
      ],
      "execution_count": 68,
      "outputs": []
    },
    {
      "cell_type": "code",
      "metadata": {
        "colab": {
          "base_uri": "https://localhost:8080/"
        },
        "id": "jiFCO66tfJE-",
        "outputId": "08800ccb-cd5c-4015-aa0c-d889a53a16e9"
      },
      "source": [
        "print(f'''\n",
        "    A data máxima de suicídios é de: {max_suicides[0]} \\n\n",
        "    A data minima de suicídios é de: {min_suicides[0]} \\n\n",
        "    A data maxima de vendas de videogames: {max_salesGames[0]} \\n\n",
        "    A data minima da venda de videogames: {min_salesGames[0]}\n",
        "''')"
      ],
      "execution_count": 69,
      "outputs": [
        {
          "output_type": "stream",
          "name": "stdout",
          "text": [
            "\n",
            "    A data máxima de suicídios é de: 2016 \n",
            "\n",
            "    A data minima de suicídios é de: 1985 \n",
            "\n",
            "    A data maxima de vendas de videogames: 2020 \n",
            "\n",
            "    A data minima da venda de videogames: 1980\n",
            "\n"
          ]
        }
      ]
    },
    {
      "cell_type": "code",
      "metadata": {
        "id": "BhL6oAOSh08H"
      },
      "source": [
        "gameSalesAjust = gameSales.filter((gameSales['Year']>=1985) & (gameSales['Year']<=2016))"
      ],
      "execution_count": 75,
      "outputs": []
    },
    {
      "cell_type": "markdown",
      "metadata": {
        "id": "ASBxJDoHlBrz"
      },
      "source": [
        "Periodo Ajustado:"
      ]
    },
    {
      "cell_type": "code",
      "metadata": {
        "colab": {
          "base_uri": "https://localhost:8080/"
        },
        "id": "ERzXFYbmkiLb",
        "outputId": "770ac6b3-73f8-4158-a5c9-23d2695ff3ea"
      },
      "source": [
        "print(gameSalesAjust.agg({'Year':'max'}).collect()[0])\n",
        "print(gameSalesAjust.agg({'Year':'min'}).collect()[0])\n"
      ],
      "execution_count": 80,
      "outputs": [
        {
          "output_type": "stream",
          "name": "stdout",
          "text": [
            "Row(max(Year)=2016)\n",
            "Row(min(Year)=1985)\n"
          ]
        }
      ]
    },
    {
      "cell_type": "code",
      "metadata": {
        "colab": {
          "base_uri": "https://localhost:8080/"
        },
        "id": "IUgDEQx8lDYo",
        "outputId": "7c893c9b-bbbc-49f6-c11f-c46e12d51380"
      },
      "source": [
        "suicides.groupBy(suicides['country']).agg({'suicides_no':'sum'}).show()"
      ],
      "execution_count": 79,
      "outputs": [
        {
          "output_type": "stream",
          "name": "stdout",
          "text": [
            "+-----------------+----------------+\n",
            "|          country|sum(suicides_no)|\n",
            "+-----------------+----------------+\n",
            "|         Paraguay|            4783|\n",
            "|       Cabo Verde|              42|\n",
            "|           Sweden|           37795|\n",
            "|         Kiribati|              53|\n",
            "|Republic of Korea|          261730|\n",
            "|           Guyana|            3426|\n",
            "|      Philippines|           21330|\n",
            "|        Singapore|           10089|\n",
            "|             Fiji|             304|\n",
            "|           Turkey|           10131|\n",
            "|          Germany|          291262|\n",
            "|         Maldives|              20|\n",
            "|           France|          329127|\n",
            "|           Greece|           12368|\n",
            "|        Sri Lanka|           55641|\n",
            "|         Dominica|               0|\n",
            "|         Slovakia|           13437|\n",
            "|            Macau|              27|\n",
            "|        Argentina|           82219|\n",
            "|          Belgium|           62761|\n",
            "+-----------------+----------------+\n",
            "only showing top 20 rows\n",
            "\n"
          ]
        }
      ]
    },
    {
      "cell_type": "code",
      "metadata": {
        "id": "xa0RQF3omX69"
      },
      "source": [
        ""
      ],
      "execution_count": null,
      "outputs": []
    }
  ]
}