{
  "nbformat": 4,
  "nbformat_minor": 0,
  "metadata": {
    "colab": {
      "name": "AnalisandoONaufragioTitanic.ipynb",
      "provenance": [],
      "collapsed_sections": [],
      "authorship_tag": "ABX9TyOcmJJhsCHC5Vnk/2sAuO4z",
      "include_colab_link": true
    },
    "kernelspec": {
      "name": "python3",
      "display_name": "Python 3"
    }
  },
  "cells": [
    {
      "cell_type": "markdown",
      "metadata": {
        "id": "view-in-github",
        "colab_type": "text"
      },
      "source": [
        "<a href=\"https://colab.research.google.com/github/OseiasBeu/Data-Science/blob/master/AnalisandoONaufragioTitanic.ipynb\" target=\"_parent\"><img src=\"https://colab.research.google.com/assets/colab-badge.svg\" alt=\"Open In Colab\"/></a>"
      ]
    },
    {
      "cell_type": "markdown",
      "metadata": {
        "id": "Ae4FZIE-8ttZ",
        "colab_type": "text"
      },
      "source": [
        "![alt text](https://cdn-istoedinheiro-ssl.akamaized.net/wp-content/uploads/sites/17/2019/01/titanic.jpg)\n",
        "\n",
        "O ***RMS Titanic*** foi um navio de passageiros britânico operado pela White Star Line e construído pelos estaleiros da Harland and Wolff em Belfast. Foi a segunda embarcação da Classe Olympic de transatlânticos depois do RMS Olympic e seguido pelo HMHS Britannic. Projetado pelos engenheiros navais Alexander Carlisle e Thomas Andrews, sua construção começou em março de 1909 e ele foi lançado ao mar em maio de 1911. O Titanic foi pensado para ser o navio mais luxuoso e mais seguro de sua época, gerando lendas que era supostamente \"inafundável\".\n",
        "\n",
        "A embarcação partiu em sua viagem inaugural de Southampton para Nova Iorque em 10 de abril de 1912, no caminho passando em Cherbourg-Octeville na França e por Queenstown na Irlanda. Ele colidiu com um iceberg às 23h40min do dia 14 de abril e afundou na madrugada do dia seguinte com mais de 1 500 pessoas a bordo, sendo um dos maiores desastres marítimos em tempos de paz de toda a história. Seu naufrágio destacou vários pontos fracos de seu projeto, deficiências nos procedimentos de evacuação de emergência e falhas nas regulamentações marítimas da época. Comissões de inquérito foram instauradas nos Estados Unidos e no Reino Unido, levando a mudanças nas leis internacionais de navegação que permanecem em vigor mais de um século depois.\n",
        "\n",
        "Os destroços do Titanic foram procurados por décadas até serem encontrados em 1985 por uma equipe liderada por Robert Ballard. Ele se encontra a 3843m de profundidade e a 650km ao sudeste de Terra Nova no Canadá. Sua história e naufrágio permaneceram no imaginário popular durante décadas, levando a produção de vários livros e filmes a seu respeito, mais notavelmente o filme Titanic de 1997. Até hoje o Titanic permanece como um dos navios mais famosos da história, com seus destroços atraindo várias expedições de exploração ao longo dos anos."
      ]
    },
    {
      "cell_type": "markdown",
      "metadata": {
        "id": "WkXw1AAD-dHm",
        "colab_type": "text"
      },
      "source": [
        "Esse pequeno projeto tem por finalidade analisar a base de dados de tripulantes do RMS Titanic.\n",
        "\n",
        "Fazendo a importação da base e dando uma olhada no cabeçalho:"
      ]
    },
    {
      "cell_type": "code",
      "metadata": {
        "id": "6qCxpQOpFy_C",
        "colab_type": "code",
        "colab": {
          "base_uri": "https://localhost:8080/",
          "height": 204
        },
        "outputId": "9df8fd36-41e9-491c-c0d7-b2e26637a9a2"
      },
      "source": [
        "import pandas as pd\n",
        "import matplotlib.pyplot as plt\n",
        "import math\n",
        "import seaborn as sns\n",
        "wb = pd.read_csv('https://raw.githubusercontent.com/OseiasBeu/Data-Science/master/DataSets/titanic.csv')\n",
        "df = pd.DataFrame(wb)\n",
        "df.head()"
      ],
      "execution_count": 36,
      "outputs": [
        {
          "output_type": "execute_result",
          "data": {
            "text/html": [
              "<div>\n",
              "<style scoped>\n",
              "    .dataframe tbody tr th:only-of-type {\n",
              "        vertical-align: middle;\n",
              "    }\n",
              "\n",
              "    .dataframe tbody tr th {\n",
              "        vertical-align: top;\n",
              "    }\n",
              "\n",
              "    .dataframe thead th {\n",
              "        text-align: right;\n",
              "    }\n",
              "</style>\n",
              "<table border=\"1\" class=\"dataframe\">\n",
              "  <thead>\n",
              "    <tr style=\"text-align: right;\">\n",
              "      <th></th>\n",
              "      <th>PassengerId</th>\n",
              "      <th>Survived</th>\n",
              "      <th>Pclass</th>\n",
              "      <th>Name</th>\n",
              "      <th>Sex</th>\n",
              "      <th>Age</th>\n",
              "      <th>SibSp</th>\n",
              "      <th>Parch</th>\n",
              "      <th>Ticket</th>\n",
              "      <th>Fare</th>\n",
              "      <th>Cabin</th>\n",
              "      <th>Embarked</th>\n",
              "    </tr>\n",
              "  </thead>\n",
              "  <tbody>\n",
              "    <tr>\n",
              "      <th>0</th>\n",
              "      <td>1</td>\n",
              "      <td>0</td>\n",
              "      <td>3</td>\n",
              "      <td>Braund, Mr. Owen Harris</td>\n",
              "      <td>male</td>\n",
              "      <td>22.0</td>\n",
              "      <td>1</td>\n",
              "      <td>0</td>\n",
              "      <td>A/5 21171</td>\n",
              "      <td>7.2500</td>\n",
              "      <td>NaN</td>\n",
              "      <td>S</td>\n",
              "    </tr>\n",
              "    <tr>\n",
              "      <th>1</th>\n",
              "      <td>2</td>\n",
              "      <td>1</td>\n",
              "      <td>1</td>\n",
              "      <td>Cumings, Mrs. John Bradley (Florence Briggs Th...</td>\n",
              "      <td>female</td>\n",
              "      <td>38.0</td>\n",
              "      <td>1</td>\n",
              "      <td>0</td>\n",
              "      <td>PC 17599</td>\n",
              "      <td>71.2833</td>\n",
              "      <td>C85</td>\n",
              "      <td>C</td>\n",
              "    </tr>\n",
              "    <tr>\n",
              "      <th>2</th>\n",
              "      <td>3</td>\n",
              "      <td>1</td>\n",
              "      <td>3</td>\n",
              "      <td>Heikkinen, Miss. Laina</td>\n",
              "      <td>female</td>\n",
              "      <td>26.0</td>\n",
              "      <td>0</td>\n",
              "      <td>0</td>\n",
              "      <td>STON/O2. 3101282</td>\n",
              "      <td>7.9250</td>\n",
              "      <td>NaN</td>\n",
              "      <td>S</td>\n",
              "    </tr>\n",
              "    <tr>\n",
              "      <th>3</th>\n",
              "      <td>4</td>\n",
              "      <td>1</td>\n",
              "      <td>1</td>\n",
              "      <td>Futrelle, Mrs. Jacques Heath (Lily May Peel)</td>\n",
              "      <td>female</td>\n",
              "      <td>35.0</td>\n",
              "      <td>1</td>\n",
              "      <td>0</td>\n",
              "      <td>113803</td>\n",
              "      <td>53.1000</td>\n",
              "      <td>C123</td>\n",
              "      <td>S</td>\n",
              "    </tr>\n",
              "    <tr>\n",
              "      <th>4</th>\n",
              "      <td>5</td>\n",
              "      <td>0</td>\n",
              "      <td>3</td>\n",
              "      <td>Allen, Mr. William Henry</td>\n",
              "      <td>male</td>\n",
              "      <td>35.0</td>\n",
              "      <td>0</td>\n",
              "      <td>0</td>\n",
              "      <td>373450</td>\n",
              "      <td>8.0500</td>\n",
              "      <td>NaN</td>\n",
              "      <td>S</td>\n",
              "    </tr>\n",
              "  </tbody>\n",
              "</table>\n",
              "</div>"
            ],
            "text/plain": [
              "   PassengerId  Survived  Pclass  ...     Fare Cabin  Embarked\n",
              "0            1         0       3  ...   7.2500   NaN         S\n",
              "1            2         1       1  ...  71.2833   C85         C\n",
              "2            3         1       3  ...   7.9250   NaN         S\n",
              "3            4         1       1  ...  53.1000  C123         S\n",
              "4            5         0       3  ...   8.0500   NaN         S\n",
              "\n",
              "[5 rows x 12 columns]"
            ]
          },
          "metadata": {
            "tags": []
          },
          "execution_count": 36
        }
      ]
    },
    {
      "cell_type": "markdown",
      "metadata": {
        "id": "30RGfyrnGoQz",
        "colab_type": "text"
      },
      "source": [
        "##Abaixo estão as descrições das colunas do nosso Dataset:\n",
        " - passengerid = ID do passageiro do navio (código primário).\n",
        " - survived = Se sobreviveu ao naufrágio estará como 1 e caso esteja com 0 (zero) não sobreviveu.\n",
        " - pclass = Tipo de classe de passagem (Do 1 ao 3), sendo 1 a melhor classe e 3 a pior classe.\n",
        " - name = Nome do passageiro\n",
        " - sex = Gênero do passageiro, sendo masculino e feminino.\n",
        " - age = Idade do passageiro na data da ocorrência do naufrágio.\n",
        " - sibsp = Número de irmãos / cônjuges a bordo.\n",
        " - parch = Número de pais / filhos a bordo.\n",
        " - ticket = Código do ticket.\n",
        " - fare = Valor da passagem.\n",
        " - cabin = Código de identificação da Cabine.\n",
        " - embarked = Local ondem o passageiro embarcou no navio.\n"
      ]
    },
    {
      "cell_type": "markdown",
      "metadata": {
        "id": "XVwLQwmHBDo0",
        "colab_type": "text"
      },
      "source": [
        "Agora que temos a definição de cada campo, vamos entender com quais tipos de dados estamos lidando:\n"
      ]
    },
    {
      "cell_type": "code",
      "metadata": {
        "id": "mFDnfjIfBP6I",
        "colab_type": "code",
        "colab": {
          "base_uri": "https://localhost:8080/",
          "height": 340
        },
        "outputId": "097cabcb-d248-4a73-a5e2-0f1176c55135"
      },
      "source": [
        "df.info()"
      ],
      "execution_count": 37,
      "outputs": [
        {
          "output_type": "stream",
          "text": [
            "<class 'pandas.core.frame.DataFrame'>\n",
            "RangeIndex: 891 entries, 0 to 890\n",
            "Data columns (total 12 columns):\n",
            " #   Column       Non-Null Count  Dtype  \n",
            "---  ------       --------------  -----  \n",
            " 0   PassengerId  891 non-null    int64  \n",
            " 1   Survived     891 non-null    int64  \n",
            " 2   Pclass       891 non-null    int64  \n",
            " 3   Name         891 non-null    object \n",
            " 4   Sex          891 non-null    object \n",
            " 5   Age          714 non-null    float64\n",
            " 6   SibSp        891 non-null    int64  \n",
            " 7   Parch        891 non-null    int64  \n",
            " 8   Ticket       891 non-null    object \n",
            " 9   Fare         891 non-null    float64\n",
            " 10  Cabin        204 non-null    object \n",
            " 11  Embarked     889 non-null    object \n",
            "dtypes: float64(2), int64(5), object(5)\n",
            "memory usage: 83.7+ KB\n"
          ],
          "name": "stdout"
        }
      ]
    },
    {
      "cell_type": "markdown",
      "metadata": {
        "id": "QJC106jUCRvY",
        "colab_type": "text"
      },
      "source": [
        "Desse modo podemos identificar com quais tipos de dados estamos trabalhando e além disso, verificar se existem dados nulos dentro do nosso dataset. Com essa visão já podemos dizer que temos sim. Agora, vamos fazer uma contagem e identificar exatamente quais são esses caras."
      ]
    },
    {
      "cell_type": "code",
      "metadata": {
        "id": "Bqd5p7sbBbHe",
        "colab_type": "code",
        "colab": {
          "base_uri": "https://localhost:8080/",
          "height": 238
        },
        "outputId": "d62c4e05-6fe4-4963-e2ae-3f4957fb7f8e"
      },
      "source": [
        "df.isnull().sum()"
      ],
      "execution_count": 38,
      "outputs": [
        {
          "output_type": "execute_result",
          "data": {
            "text/plain": [
              "PassengerId      0\n",
              "Survived         0\n",
              "Pclass           0\n",
              "Name             0\n",
              "Sex              0\n",
              "Age            177\n",
              "SibSp            0\n",
              "Parch            0\n",
              "Ticket           0\n",
              "Fare             0\n",
              "Cabin          687\n",
              "Embarked         2\n",
              "dtype: int64"
            ]
          },
          "metadata": {
            "tags": []
          },
          "execution_count": 38
        }
      ]
    },
    {
      "cell_type": "markdown",
      "metadata": {
        "id": "Uw0p6AYXCzuR",
        "colab_type": "text"
      },
      "source": [
        "Desse modo, podemos ver que a coluna Age possue 177 registros nulos, a coluna Cabin possuem 687 registros nulos e a coluna Embarked possui 2 registros nulos.\n",
        "Abaixo, vamos eliminar esses registros que são nulos para que isso não interfira em nossas conclusões."
      ]
    },
    {
      "cell_type": "code",
      "metadata": {
        "id": "6GyenKA_Gia2",
        "colab_type": "code",
        "colab": {
          "base_uri": "https://localhost:8080/",
          "height": 578
        },
        "outputId": "27472f7d-5d51-4f15-a1e5-c254fb25981b"
      },
      "source": [
        "df['Age'].fillna(0, inplace= True)\n",
        "df['Cabin'].fillna(0, inplace= True)\n",
        "df['Embarked'].fillna(0, inplace= True)\n",
        "print('Quantidade de registros em nosso datase: {0} \\nLinhas: {1} \\nColunas: {2}\\n'.format(df.shape,df.shape[0],df.shape[1]))\n",
        "print('Estatísca geral para analise exploratória: \\n{0}\\n'.format(df.describe()))\n",
        "print('Quantdade de dados nulos em nosso dataset: \\n{0} \\n'.format(df.isnull().sum()))"
      ],
      "execution_count": 70,
      "outputs": [
        {
          "output_type": "stream",
          "text": [
            "Quantidade de registros em nosso datase: (891, 13) \n",
            "Linhas: 891 \n",
            "Colunas: 13\n",
            "\n",
            "Estatísca geral para analise exploratória: \n",
            "       PassengerId    Survived      Pclass  ...       SibSp       Parch        Fare\n",
            "count   891.000000  891.000000  891.000000  ...  891.000000  891.000000  891.000000\n",
            "mean    446.000000    0.383838    2.308642  ...    0.523008    0.381594   32.204208\n",
            "std     257.353842    0.486592    0.836071  ...    1.102743    0.806057   49.693429\n",
            "min       1.000000    0.000000    1.000000  ...    0.000000    0.000000    0.000000\n",
            "25%     223.500000    0.000000    2.000000  ...    0.000000    0.000000    7.910400\n",
            "50%     446.000000    0.000000    3.000000  ...    0.000000    0.000000   14.454200\n",
            "75%     668.500000    1.000000    3.000000  ...    1.000000    0.000000   31.000000\n",
            "max     891.000000    1.000000    3.000000  ...    8.000000    6.000000  512.329200\n",
            "\n",
            "[8 rows x 7 columns]\n",
            "\n",
            "Quantdade de dados nulos em nosso dataset: \n",
            "PassengerId    0\n",
            "Survived       0\n",
            "Pclass         0\n",
            "Name           0\n",
            "Sex            0\n",
            "Age            0\n",
            "SibSp          0\n",
            "Parch          0\n",
            "Ticket         0\n",
            "Fare           0\n",
            "Cabin          0\n",
            "Embarked       0\n",
            "Sobreviveu?    0\n",
            "dtype: int64 \n",
            "\n"
          ],
          "name": "stdout"
        }
      ]
    },
    {
      "cell_type": "markdown",
      "metadata": {
        "id": "n4rNS-WIEJph",
        "colab_type": "text"
      },
      "source": [
        "Agora, para facilidar nas legendas de gráficos, vamos criar uma coluna para identificarmos de o passageiro sobreviveu ou se não sobreviveu."
      ]
    },
    {
      "cell_type": "code",
      "metadata": {
        "id": "92eaooErESCM",
        "colab_type": "code",
        "colab": {}
      },
      "source": [
        "df['Sobreviveu?'] = df['Survived'].replace([0,1],['Não','Sim'])"
      ],
      "execution_count": 59,
      "outputs": []
    },
    {
      "cell_type": "markdown",
      "metadata": {
        "id": "EcptxLHHHwN4",
        "colab_type": "text"
      },
      "source": [
        "Vamos identificar a quantidade de sobreviventes em nosso dataset: "
      ]
    },
    {
      "cell_type": "code",
      "metadata": {
        "id": "LYfp-phgHsZy",
        "colab_type": "code",
        "colab": {
          "base_uri": "https://localhost:8080/",
          "height": 68
        },
        "outputId": "63813c29-7aac-49e4-9f31-af61edaf2c5e"
      },
      "source": [
        "df['Sobreviveu?'].value_counts()"
      ],
      "execution_count": 71,
      "outputs": [
        {
          "output_type": "execute_result",
          "data": {
            "text/plain": [
              "Não    549\n",
              "Sim    342\n",
              "Name: Sobreviveu?, dtype: int64"
            ]
          },
          "metadata": {
            "tags": []
          },
          "execution_count": 71
        }
      ]
    },
    {
      "cell_type": "markdown",
      "metadata": {
        "id": "es77pSEkHFTr",
        "colab_type": "text"
      },
      "source": [
        "Identificando a quantidade de pessoas por classe:"
      ]
    },
    {
      "cell_type": "code",
      "metadata": {
        "id": "sdDoanl8rHtb",
        "colab_type": "code",
        "colab": {
          "base_uri": "https://localhost:8080/",
          "height": 102
        },
        "outputId": "a7337048-10d9-498d-88e3-d5c31a2a9be4"
      },
      "source": [
        "df['Pclass'].groupby([df['Pclass']]).count()"
      ],
      "execution_count": 75,
      "outputs": [
        {
          "output_type": "execute_result",
          "data": {
            "text/plain": [
              "Pclass\n",
              "1    216\n",
              "2    184\n",
              "3    491\n",
              "Name: Pclass, dtype: int64"
            ]
          },
          "metadata": {
            "tags": []
          },
          "execution_count": 75
        }
      ]
    },
    {
      "cell_type": "markdown",
      "metadata": {
        "id": "ffu1S_ovIf30",
        "colab_type": "text"
      },
      "source": [
        "Podemos colocar isso em um gráfico de pizza para identificar a quantidade de passageiros por classe e maneira vizual: "
      ]
    },
    {
      "cell_type": "code",
      "metadata": {
        "id": "vfMeXV_XsDPU",
        "colab_type": "code",
        "colab": {
          "base_uri": "https://localhost:8080/",
          "height": 551
        },
        "outputId": "ecada036-99a4-484b-a264-362d0500311e"
      },
      "source": [
        "agrupamento_por_classes = df['Pclass'].groupby([df['Pclass']]).count() \n",
        "labels = ['Classe 1', 'Classe 2', 'Classe 3']\n",
        "fig1, ax1 = plt.subplots(figsize=(8,7))\n",
        "fig1.subplots_adjust(0.3,0,1,1)\n",
        "ax1.pie(agrupamento_por_classes, autopct='%0.1f%%',frame=False,shadow=True, startangle=90) #radius=180000,autopct='%0.01f%%'\n",
        "\n",
        "total = sum(agrupamento_por_classes)\n",
        "ax1.legend(  \n",
        "           title='Classes do Titanic',\n",
        "           loc = 'upper left',\n",
        "           labels=['%s, %1.1f%%' % (l, (float(s) / total) * 100) for l, s in zip(labels, agrupamento_por_classes)],\n",
        "           bbox_to_anchor=(0.0, 1),\n",
        "           prop={'size': 13},\n",
        "           bbox_transform=fig1.transFigure)\n",
        "ax1.axis('equal')\n",
        "plt.xticks(fontsize=1)\n",
        "ax1.set_title('Percentual de classes:')\n",
        "plt.show()"
      ],
      "execution_count": 79,
      "outputs": [
        {
          "output_type": "display_data",
          "data": {
            "image/png": "[encoded data removed]",
            "text/plain": [
              "<Figure size 576x504 with 1 Axes>"
            ]
          },
          "metadata": {
            "tags": []
          }
        }
      ]
    },
    {
      "cell_type": "markdown",
      "metadata": {
        "id": "VwMat003IvWw",
        "colab_type": "text"
      },
      "source": [
        "Note que, mais de 55% dos passageiros estavam localizados na terceia classe do navio."
      ]
    },
    {
      "cell_type": "code",
      "metadata": {
        "id": "PgsY_7wE2QpJ",
        "colab_type": "code",
        "colab": {
          "base_uri": "https://localhost:8080/",
          "height": 170
        },
        "outputId": "bf970859-71b2-4586-9ec0-63dbdfce9ca5"
      },
      "source": [
        "df['Pclass'].describe()"
      ],
      "execution_count": 45,
      "outputs": [
        {
          "output_type": "execute_result",
          "data": {
            "text/plain": [
              "count    891.000000\n",
              "mean       2.308642\n",
              "std        0.836071\n",
              "min        1.000000\n",
              "25%        2.000000\n",
              "50%        3.000000\n",
              "75%        3.000000\n",
              "max        3.000000\n",
              "Name: Pclass, dtype: float64"
            ]
          },
          "metadata": {
            "tags": []
          },
          "execution_count": 45
        }
      ]
    },
    {
      "cell_type": "markdown",
      "metadata": {
        "id": "YBUxoLMTTWZ5",
        "colab_type": "text"
      },
      "source": [
        "Vamos analisar algumas médias e frequências de Idade, Classe é portão de Embarque."
      ]
    },
    {
      "cell_type": "code",
      "metadata": {
        "id": "jFzwD_Qx9IGK",
        "colab_type": "code",
        "colab": {
          "base_uri": "https://localhost:8080/",
          "height": 85
        },
        "outputId": "c8758de1-23c7-43b3-e072-260d62014123"
      },
      "source": [
        "print(\"A idade média dos tripulantes é de:{0}\".format(df['Age'].mean()))\n",
        "print(\"A classe média dos tripulantes é de:{0}\".format((df['Pclass']).mean()))\n",
        "print(\"Portão mais utilizado para embarque:{0}\".format(df['Embarked'].mode()))"
      ],
      "execution_count": 82,
      "outputs": [
        {
          "output_type": "stream",
          "text": [
            "A idade média dos tripulantes é de:23.79929292929293\n",
            "A classe média dos tripulantes é de:2.308641975308642\n",
            "Portão mais utilizado para embarque:0    S\n",
            "dtype: object\n"
          ],
          "name": "stdout"
        }
      ]
    },
    {
      "cell_type": "markdown",
      "metadata": {
        "id": "Y3DPaRK9EyPa",
        "colab_type": "text"
      },
      "source": [
        "##Quantidade de pessoas que sobreviveram e morreram ao naufrágio:\n",
        "\n",
        "Vamos identificar a quantidade de pessoas que sobreviveram ao naufrágio segregando por sexo:\n"
      ]
    },
    {
      "cell_type": "code",
      "metadata": {
        "id": "2RgRTM0YE8t3",
        "colab_type": "code",
        "colab": {
          "base_uri": "https://localhost:8080/",
          "height": 446
        },
        "outputId": "b885d2c6-89e8-44f0-e974-c221fafd78a5"
      },
      "source": [
        "passagers = sns.countplot(data = df, x ='Sobreviveu?', hue ='Sex',palette='Reds_d')\n",
        "for p in passagers.patches:\n",
        "  b =p.get_bbox()\n",
        "  passagers.annotate(\"{:.0f}\".format(b.y1+b.y0),((b.x0 + b.x1)/2 -0.03,b.y1+15))\n",
        "\n",
        "plt.title('Quantidade de mortes e sobreviventes por sexo:\\n Total:%s passageiros' %(df.shape[0]))\n",
        "plt.xlabel('Sobreviveu?')\n",
        "plt.ylabel('Número de sobreviventes')\n",
        "plt.show()"
      ],
      "execution_count": 86,
      "outputs": [
        {
          "output_type": "stream",
          "text": [
            "Pclass  Sobreviveu?\n",
            "1       Sim            136\n",
            "        Não             80\n",
            "2       Não             97\n",
            "        Sim             87\n",
            "3       Não            372\n",
            "        Sim            119\n",
            "Name: Sobreviveu?, dtype: int64\n"
          ],
          "name": "stdout"
        },
        {
          "output_type": "display_data",
          "data": {
            "image/png": "[encoded data removed]",
            "text/plain": [
              "<Figure size 432x288 with 1 Axes>"
            ]
          },
          "metadata": {
            "tags": [],
            "needs_background": "light"
          }
        }
      ]
    },
    {
      "cell_type": "code",
      "metadata": {
        "id": "eUKsq0weUluU",
        "colab_type": "code",
        "colab": {
          "base_uri": "https://localhost:8080/",
          "height": 446
        },
        "outputId": "4e25633d-4bfa-4251-dad5-6e5e40f30ff5"
      },
      "source": [
        "print(df.groupby('Pclass')['Sobreviveu?'].value_counts())\n",
        "passagers = sns.countplot(data = df, x ='Sobreviveu?', hue ='Pclass',palette='Reds_d')\n",
        "for p in passagers.patches:\n",
        "  b =p.get_bbox()\n",
        "  passagers.annotate(\"{:.0f}\".format(b.y1+b.y0),((b.x0 + b.x1)/2 -0.03,b.y1+15))\n",
        "\n",
        "plt.title('Quantidade de mortes e sobreviventes por sexo:\\n Total:%s passageiros' %(df.shape[0]))\n",
        "plt.xlabel('Sobreviveu?')\n",
        "plt.ylabel('Número de sobreviventes')\n",
        "plt.show()"
      ],
      "execution_count": 87,
      "outputs": [
        {
          "output_type": "stream",
          "text": [
            "Pclass  Sobreviveu?\n",
            "1       Sim            136\n",
            "        Não             80\n",
            "2       Não             97\n",
            "        Sim             87\n",
            "3       Não            372\n",
            "        Sim            119\n",
            "Name: Sobreviveu?, dtype: int64\n"
          ],
          "name": "stdout"
        },
        {
          "output_type": "display_data",
          "data": {
            "image/png": "[encoded data removed]",
            "text/plain": [
              "<Figure size 432x288 with 1 Axes>"
            ]
          },
          "metadata": {
            "tags": [],
            "needs_background": "light"
          }
        }
      ]
    },
    {
      "cell_type": "markdown",
      "metadata": {
        "id": "WOKQFtc-URhT",
        "colab_type": "text"
      },
      "source": [
        "Como podemos ver acima, mais mulheres do que homens sobreviveram ao naufrágio e além disso temos a maior concentração de sobreviventes na primeira classe enquanto que a maior concentração de mortes na terceira classe. Podemos especular que o fato do sexo feminino estar maior em nossa taxa de sobreviventes pelo fato de mulheres e crianças serem priorizadas na evacuação de acidentes. E sabemos que temos a maior taxa de sobreviventes concentrada na primeira classe porque foi a classe que afundou por último, então os tripulantes podiam sair com mais facilidade. \n",
        "\n",
        "![alt text](https://photos1.blogger.com/blogger/309/1494/1600/velho_novo.jpg)\n"
      ]
    },
    {
      "cell_type": "markdown",
      "metadata": {
        "id": "7d5Z-HiJZ64A",
        "colab_type": "text"
      },
      "source": [
        "Com a visualização abaixo, é possível ver a proporção de sobreviventes de sexo masculino e feminino com mais facilidade."
      ]
    },
    {
      "cell_type": "code",
      "metadata": {
        "id": "CTBzlxZLRXwP",
        "colab_type": "code",
        "colab": {
          "base_uri": "https://localhost:8080/",
          "height": 295
        },
        "outputId": "cfde6d5a-338f-4279-aa6f-76e73360c036"
      },
      "source": [
        "sobreviventes_sexo = df.copy()\n",
        "sobreviventes_sexo['Sobreviveu?'] = df['Sobreviveu?'] == 'Sim'\n",
        "sns.violinplot(data=sobreviventes_sexo, y='Sobreviveu?', x='Sex',size=15)\n",
        "plt.title('Proporção de soreviventes por sexo:')\n",
        "plt.show()"
      ],
      "execution_count": 49,
      "outputs": [
        {
          "output_type": "display_data",
          "data": {
            "image/png": "[encoded data removed]",
            "text/plain": [
              "<Figure size 432x288 with 1 Axes>"
            ]
          },
          "metadata": {
            "tags": [],
            "needs_background": "light"
          }
        }
      ]
    },
    {
      "cell_type": "markdown",
      "metadata": {
        "id": "jJTpsUvZaM5b",
        "colab_type": "text"
      },
      "source": [
        "Proporção de sobreviventes por classe:"
      ]
    },
    {
      "cell_type": "code",
      "metadata": {
        "id": "-7z5Yq9pSo-O",
        "colab_type": "code",
        "colab": {
          "base_uri": "https://localhost:8080/",
          "height": 295
        },
        "outputId": "e7dcecad-461b-4609-c85a-3508288a8e5d"
      },
      "source": [
        "sobreviventes_classe = df.copy()\n",
        "sobreviventes_classe['Sobreviveu?'] = df['Sobreviveu?'] == 'Sim'\n",
        "\n",
        "sns.barplot(data=sobreviventes_classe, y='Sobreviveu?', x='Pclass')\n",
        "plt.title('Proporção de sobreviventes por classe:')\n",
        "plt.ylabel('PROPORÇÃO')\n",
        "plt.xlabel('CLASSE')\n",
        "plt.show()"
      ],
      "execution_count": 50,
      "outputs": [
        {
          "output_type": "display_data",
          "data": {
            "image/png": "[encoded data removed]",
            "text/plain": [
              "<Figure size 432x288 with 1 Axes>"
            ]
          },
          "metadata": {
            "tags": [],
            "needs_background": "light"
          }
        }
      ]
    },
    {
      "cell_type": "code",
      "metadata": {
        "id": "Yk7AWmiwUNY5",
        "colab_type": "code",
        "colab": {
          "base_uri": "https://localhost:8080/",
          "height": 350
        },
        "outputId": "993a9140-cdd8-4c1d-fb69-f64ba7457270"
      },
      "source": [
        "sobreviventes_por_classe = df[df['Sobreviveu?'] == 'Sim']['Pclass'].value_counts().sort_values(ascending=True)\n",
        "\n",
        "sobreviventes_por_classe.plot(kind='barh',figsize=(11,5),rot=0,grid=True)\n",
        "\n",
        "plt.title('Quantidade de sobreviventes por classe:')\n",
        "plt.xlabel('QUANTIDADE DE SOBREVIVENTES')\n",
        "plt.ylabel('CLASSE')\n",
        "plt.show()  "
      ],
      "execution_count": 51,
      "outputs": [
        {
          "output_type": "display_data",
          "data": {
            "image/png": "[encoded data removed]",
            "text/plain": [
              "<Figure size 792x360 with 1 Axes>"
            ]
          },
          "metadata": {
            "tags": [],
            "needs_background": "light"
          }
        }
      ]
    },
    {
      "cell_type": "code",
      "metadata": {
        "id": "cu6LCwzVVoau",
        "colab_type": "code",
        "colab": {
          "base_uri": "https://localhost:8080/",
          "height": 320
        },
        "outputId": "433c9244-3335-4fbc-ba90-414bda25016f"
      },
      "source": [
        "# corrMatrix = df[df['Sobreviveu?'] == 'Sim'].corr()\n",
        "corrMatrix = df.corr()\n",
        "sns.heatmap(corrMatrix, annot=True)\n",
        "plt.show()"
      ],
      "execution_count": 52,
      "outputs": [
        {
          "output_type": "display_data",
          "data": {
            "image/png": "[encoded data removed]",
            "text/plain": [
              "<Figure size 432x288 with 2 Axes>"
            ]
          },
          "metadata": {
            "tags": [],
            "needs_background": "light"
          }
        }
      ]
    },
    {
      "cell_type": "code",
      "metadata": {
        "id": "TAuAuX5hZkfy",
        "colab_type": "code",
        "colab": {}
      },
      "source": [
        ""
      ],
      "execution_count": 52,
      "outputs": []
    },
    {
      "cell_type": "markdown",
      "metadata": {
        "id": "h9tRh-4oZlPm",
        "colab_type": "text"
      },
      "source": [
        "####CONCLUSÃO:\n",
        "\n",
        "Nossa análise exploratória teve como objetivo identificar atributos de alguns conjunto de pessoas para saber se tiveram maior chance de sobrevivência que outras.\n",
        "Sabe-se que o navio possuía um número de botes muito inferior ao número necessário para salvar a quantidade de pessoas abordo. Mesmo assim, era um número acima do exigido pelas legislações marítimas na época. Sendo assim, houve alguma priorização para a utilização dos botes?\n",
        "Identificamos que fatores como a Classe, Sexo e Idade realmente influenciaram para o aumento ou diminuição das chances de sobrevivência.\n",
        "As mulheres foram as que tiveram maiores chances de sobrevivência. Principalmente as da primeira e segunda classe. Os gráficos 3.5, 3.6 e 3.7 mostram uma visão bem clara da diferença. Em resumo as maiores chances de sobrevivência foram para as mulheres da primeira e segunda classe. E as menores chances de sobrevivência foram para os homens da terceira classe.\n",
        "Realizando pesquisas foi encontrado um relato que o segundo oficial Lightoller se dirigiu ao capitão e sugeriu que a evacuação fosse iniciada com as mulheres e crianças. O capitão Smith concordou. Isso com certeza fez com que os índices de sobrevivência aumentassem e bastante, tanto para mulheres quanto para crianças.\n",
        "\n",
        "Obs.: A preferência do embarque para mulheres e crianças ocorrida no Titanic é considerada uma exceção, ou seja, geralmente isso não ocorre em outros naufrágios. Muitos homens, em sua maioria da primeira classe, se recusaram a entrar nos botes. Tiveram que ser persuadidos.\n",
        "Em relação às crianças (menores que 12 anos — utilizado como referência o estatuto da criança e do adolescente), pudemos identificar que tiveram uma média de sobrevivência acima dos demais (0,57 contra 0,38) — Gráficos 4.2.1, 4.2.2, 4.3 e 4.4.\n",
        "\n",
        "Foi identificado também que a maioria das pessoas que não sobrevieram foram da terceira classe (Gráficos G2.4, 2.5, 2.6 , 3.6 e 3.7). Conforme podemos constatar no gráfico 4.5 e 4.6 das crianças da terceira classe 60% morreram, enquanto que na primeira classe foi de 15% e para a segunda classe nenhuma criança morreu. Podemos ver essa mesma tendência de maior taxa de sobrevivência das mulheres entre primeira / segunda classe e a terceira classe através do gráfico 3.7.\n",
        "\n",
        "Em pesquisas realizadas também foi informado que muito poucas pessoas da terceira classe tinham conseguido chegar ao convés superior, com a maioria se perdendo nos labirintos de corredores ou ficando presos atrás de grades que segregavam as acomodações da terceira classe daquelas da primeira e segunda. Aparentemente em pelo menos em alguns lugares, a tripulação do Titanic ativamente impediu que os passageiros da terceira classe escapassem, com barreiras trancadas e vigiadas por tripulantes a fim de impedir que as pessoas corressem para os botes.\n",
        "\n",
        "Este estudo pode ser continuado com a análise de outras variáveis, explorar e encontrar novos insights utilizando as informações desta base para gerar novas variáveis, como por exemplo saber se é possível identificar os tripulantes. Será que quem não tem informação de Tarifa (Fare) preenchida pode ser um tripulante? Seria possível identificá-los e encontrar sua taxa de sobrevivência e compará-la e ver se essa taxa foi maior que a taxa de sobrevivência dos passageiros? A própria idade como já comentado poderia ser explorada através de técnicas preditivas para identificarmos melhor como esta informação impactou na taxa de sobrevivência.\n",
        "\n",
        "Observações:\n",
        "\n",
        "É importante ressaltar que as conclusões identificadas não são definitivas, pois não estamos usando técnicas estatísticas para a realização deste estudo.\n",
        "Os gráficos foram criados com o objetivo de explorar e conhecer os dados. Em um segundo momento, caso queiramos apresentar os achados em forma de uma mensagem clara e eficaz, "
      ]
    }
  ]
}